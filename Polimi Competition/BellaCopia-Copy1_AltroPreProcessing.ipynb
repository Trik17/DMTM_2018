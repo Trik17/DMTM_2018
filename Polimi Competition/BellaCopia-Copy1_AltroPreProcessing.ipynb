{
 "cells": [
  {
   "cell_type": "code",
   "execution_count": 1,
   "metadata": {},
   "outputs": [
    {
     "data": {
      "text/html": [
       "\n",
       "    <div class=\"bk-root\">\n",
       "        <a href=\"https://bokeh.pydata.org\" target=\"_blank\" class=\"bk-logo bk-logo-small bk-logo-notebook\"></a>\n",
       "        <span id=\"a84cbcca-d8ae-47ca-a9e5-79b844e7ec82\">Loading BokehJS ...</span>\n",
       "    </div>"
      ]
     },
     "metadata": {},
     "output_type": "display_data"
    },
    {
     "data": {
      "application/javascript": [
       "\n",
       "(function(root) {\n",
       "  function now() {\n",
       "    return new Date();\n",
       "  }\n",
       "\n",
       "  var force = true;\n",
       "\n",
       "  if (typeof (root._bokeh_onload_callbacks) === \"undefined\" || force === true) {\n",
       "    root._bokeh_onload_callbacks = [];\n",
       "    root._bokeh_is_loading = undefined;\n",
       "  }\n",
       "\n",
       "  var JS_MIME_TYPE = 'application/javascript';\n",
       "  var HTML_MIME_TYPE = 'text/html';\n",
       "  var EXEC_MIME_TYPE = 'application/vnd.bokehjs_exec.v0+json';\n",
       "  var CLASS_NAME = 'output_bokeh rendered_html';\n",
       "\n",
       "  /**\n",
       "   * Render data to the DOM node\n",
       "   */\n",
       "  function render(props, node) {\n",
       "    var script = document.createElement(\"script\");\n",
       "    node.appendChild(script);\n",
       "  }\n",
       "\n",
       "  /**\n",
       "   * Handle when an output is cleared or removed\n",
       "   */\n",
       "  function handleClearOutput(event, handle) {\n",
       "    var cell = handle.cell;\n",
       "\n",
       "    var id = cell.output_area._bokeh_element_id;\n",
       "    var server_id = cell.output_area._bokeh_server_id;\n",
       "    // Clean up Bokeh references\n",
       "    if (id !== undefined) {\n",
       "      Bokeh.index[id].model.document.clear();\n",
       "      delete Bokeh.index[id];\n",
       "    }\n",
       "\n",
       "    if (server_id !== undefined) {\n",
       "      // Clean up Bokeh references\n",
       "      var cmd = \"from bokeh.io.state import curstate; print(curstate().uuid_to_server['\" + server_id + \"'].get_sessions()[0].document.roots[0]._id)\";\n",
       "      cell.notebook.kernel.execute(cmd, {\n",
       "        iopub: {\n",
       "          output: function(msg) {\n",
       "            var element_id = msg.content.text.trim();\n",
       "            Bokeh.index[element_id].model.document.clear();\n",
       "            delete Bokeh.index[element_id];\n",
       "          }\n",
       "        }\n",
       "      });\n",
       "      // Destroy server and session\n",
       "      var cmd = \"import bokeh.io.notebook as ion; ion.destroy_server('\" + server_id + \"')\";\n",
       "      cell.notebook.kernel.execute(cmd);\n",
       "    }\n",
       "  }\n",
       "\n",
       "  /**\n",
       "   * Handle when a new output is added\n",
       "   */\n",
       "  function handleAddOutput(event, handle) {\n",
       "    var output_area = handle.output_area;\n",
       "    var output = handle.output;\n",
       "\n",
       "    // limit handleAddOutput to display_data with EXEC_MIME_TYPE content only\n",
       "    if ((output.output_type != \"display_data\") || (!output.data.hasOwnProperty(EXEC_MIME_TYPE))) {\n",
       "      return\n",
       "    }\n",
       "\n",
       "    var toinsert = output_area.element.find(\".\" + CLASS_NAME.split(' ')[0]);\n",
       "\n",
       "    if (output.metadata[EXEC_MIME_TYPE][\"id\"] !== undefined) {\n",
       "      toinsert[0].firstChild.textContent = output.data[JS_MIME_TYPE];\n",
       "      // store reference to embed id on output_area\n",
       "      output_area._bokeh_element_id = output.metadata[EXEC_MIME_TYPE][\"id\"];\n",
       "    }\n",
       "    if (output.metadata[EXEC_MIME_TYPE][\"server_id\"] !== undefined) {\n",
       "      var bk_div = document.createElement(\"div\");\n",
       "      bk_div.innerHTML = output.data[HTML_MIME_TYPE];\n",
       "      var script_attrs = bk_div.children[0].attributes;\n",
       "      for (var i = 0; i < script_attrs.length; i++) {\n",
       "        toinsert[0].firstChild.setAttribute(script_attrs[i].name, script_attrs[i].value);\n",
       "      }\n",
       "      // store reference to server id on output_area\n",
       "      output_area._bokeh_server_id = output.metadata[EXEC_MIME_TYPE][\"server_id\"];\n",
       "    }\n",
       "  }\n",
       "\n",
       "  function register_renderer(events, OutputArea) {\n",
       "\n",
       "    function append_mime(data, metadata, element) {\n",
       "      // create a DOM node to render to\n",
       "      var toinsert = this.create_output_subarea(\n",
       "        metadata,\n",
       "        CLASS_NAME,\n",
       "        EXEC_MIME_TYPE\n",
       "      );\n",
       "      this.keyboard_manager.register_events(toinsert);\n",
       "      // Render to node\n",
       "      var props = {data: data, metadata: metadata[EXEC_MIME_TYPE]};\n",
       "      render(props, toinsert[0]);\n",
       "      element.append(toinsert);\n",
       "      return toinsert\n",
       "    }\n",
       "\n",
       "    /* Handle when an output is cleared or removed */\n",
       "    events.on('clear_output.CodeCell', handleClearOutput);\n",
       "    events.on('delete.Cell', handleClearOutput);\n",
       "\n",
       "    /* Handle when a new output is added */\n",
       "    events.on('output_added.OutputArea', handleAddOutput);\n",
       "\n",
       "    /**\n",
       "     * Register the mime type and append_mime function with output_area\n",
       "     */\n",
       "    OutputArea.prototype.register_mime_type(EXEC_MIME_TYPE, append_mime, {\n",
       "      /* Is output safe? */\n",
       "      safe: true,\n",
       "      /* Index of renderer in `output_area.display_order` */\n",
       "      index: 0\n",
       "    });\n",
       "  }\n",
       "\n",
       "  // register the mime type if in Jupyter Notebook environment and previously unregistered\n",
       "  if (root.Jupyter !== undefined) {\n",
       "    var events = require('base/js/events');\n",
       "    var OutputArea = require('notebook/js/outputarea').OutputArea;\n",
       "\n",
       "    if (OutputArea.prototype.mime_types().indexOf(EXEC_MIME_TYPE) == -1) {\n",
       "      register_renderer(events, OutputArea);\n",
       "    }\n",
       "  }\n",
       "\n",
       "  \n",
       "  if (typeof (root._bokeh_timeout) === \"undefined\" || force === true) {\n",
       "    root._bokeh_timeout = Date.now() + 5000;\n",
       "    root._bokeh_failed_load = false;\n",
       "  }\n",
       "\n",
       "  var NB_LOAD_WARNING = {'data': {'text/html':\n",
       "     \"<div style='background-color: #fdd'>\\n\"+\n",
       "     \"<p>\\n\"+\n",
       "     \"BokehJS does not appear to have successfully loaded. If loading BokehJS from CDN, this \\n\"+\n",
       "     \"may be due to a slow or bad network connection. Possible fixes:\\n\"+\n",
       "     \"</p>\\n\"+\n",
       "     \"<ul>\\n\"+\n",
       "     \"<li>re-rerun `output_notebook()` to attempt to load from CDN again, or</li>\\n\"+\n",
       "     \"<li>use INLINE resources instead, as so:</li>\\n\"+\n",
       "     \"</ul>\\n\"+\n",
       "     \"<code>\\n\"+\n",
       "     \"from bokeh.resources import INLINE\\n\"+\n",
       "     \"output_notebook(resources=INLINE)\\n\"+\n",
       "     \"</code>\\n\"+\n",
       "     \"</div>\"}};\n",
       "\n",
       "  function display_loaded() {\n",
       "    var el = document.getElementById(\"a84cbcca-d8ae-47ca-a9e5-79b844e7ec82\");\n",
       "    if (el != null) {\n",
       "      el.textContent = \"BokehJS is loading...\";\n",
       "    }\n",
       "    if (root.Bokeh !== undefined) {\n",
       "      if (el != null) {\n",
       "        el.textContent = \"BokehJS \" + root.Bokeh.version + \" successfully loaded.\";\n",
       "      }\n",
       "    } else if (Date.now() < root._bokeh_timeout) {\n",
       "      setTimeout(display_loaded, 100)\n",
       "    }\n",
       "  }\n",
       "\n",
       "\n",
       "  function run_callbacks() {\n",
       "    try {\n",
       "      root._bokeh_onload_callbacks.forEach(function(callback) { callback() });\n",
       "    }\n",
       "    finally {\n",
       "      delete root._bokeh_onload_callbacks\n",
       "    }\n",
       "    console.info(\"Bokeh: all callbacks have finished\");\n",
       "  }\n",
       "\n",
       "  function load_libs(js_urls, callback) {\n",
       "    root._bokeh_onload_callbacks.push(callback);\n",
       "    if (root._bokeh_is_loading > 0) {\n",
       "      console.log(\"Bokeh: BokehJS is being loaded, scheduling callback at\", now());\n",
       "      return null;\n",
       "    }\n",
       "    if (js_urls == null || js_urls.length === 0) {\n",
       "      run_callbacks();\n",
       "      return null;\n",
       "    }\n",
       "    console.log(\"Bokeh: BokehJS not loaded, scheduling load and callback at\", now());\n",
       "    root._bokeh_is_loading = js_urls.length;\n",
       "    for (var i = 0; i < js_urls.length; i++) {\n",
       "      var url = js_urls[i];\n",
       "      var s = document.createElement('script');\n",
       "      s.src = url;\n",
       "      s.async = false;\n",
       "      s.onreadystatechange = s.onload = function() {\n",
       "        root._bokeh_is_loading--;\n",
       "        if (root._bokeh_is_loading === 0) {\n",
       "          console.log(\"Bokeh: all BokehJS libraries loaded\");\n",
       "          run_callbacks()\n",
       "        }\n",
       "      };\n",
       "      s.onerror = function() {\n",
       "        console.warn(\"failed to load library \" + url);\n",
       "      };\n",
       "      console.log(\"Bokeh: injecting script tag for BokehJS library: \", url);\n",
       "      document.getElementsByTagName(\"head\")[0].appendChild(s);\n",
       "    }\n",
       "  };var element = document.getElementById(\"a84cbcca-d8ae-47ca-a9e5-79b844e7ec82\");\n",
       "  if (element == null) {\n",
       "    console.log(\"Bokeh: ERROR: autoload.js configured with elementid 'a84cbcca-d8ae-47ca-a9e5-79b844e7ec82' but no matching script tag was found. \")\n",
       "    return false;\n",
       "  }\n",
       "\n",
       "  var js_urls = [\"https://cdn.pydata.org/bokeh/release/bokeh-0.12.13.min.js\", \"https://cdn.pydata.org/bokeh/release/bokeh-widgets-0.12.13.min.js\", \"https://cdn.pydata.org/bokeh/release/bokeh-tables-0.12.13.min.js\", \"https://cdn.pydata.org/bokeh/release/bokeh-gl-0.12.13.min.js\"];\n",
       "\n",
       "  var inline_js = [\n",
       "    function(Bokeh) {\n",
       "      Bokeh.set_log_level(\"info\");\n",
       "    },\n",
       "    \n",
       "    function(Bokeh) {\n",
       "      \n",
       "    },\n",
       "    function(Bokeh) {\n",
       "      console.log(\"Bokeh: injecting CSS: https://cdn.pydata.org/bokeh/release/bokeh-0.12.13.min.css\");\n",
       "      Bokeh.embed.inject_css(\"https://cdn.pydata.org/bokeh/release/bokeh-0.12.13.min.css\");\n",
       "      console.log(\"Bokeh: injecting CSS: https://cdn.pydata.org/bokeh/release/bokeh-widgets-0.12.13.min.css\");\n",
       "      Bokeh.embed.inject_css(\"https://cdn.pydata.org/bokeh/release/bokeh-widgets-0.12.13.min.css\");\n",
       "      console.log(\"Bokeh: injecting CSS: https://cdn.pydata.org/bokeh/release/bokeh-tables-0.12.13.min.css\");\n",
       "      Bokeh.embed.inject_css(\"https://cdn.pydata.org/bokeh/release/bokeh-tables-0.12.13.min.css\");\n",
       "    }\n",
       "  ];\n",
       "\n",
       "  function run_inline_js() {\n",
       "    \n",
       "    if ((root.Bokeh !== undefined) || (force === true)) {\n",
       "      for (var i = 0; i < inline_js.length; i++) {\n",
       "        inline_js[i].call(root, root.Bokeh);\n",
       "      }if (force === true) {\n",
       "        display_loaded();\n",
       "      }} else if (Date.now() < root._bokeh_timeout) {\n",
       "      setTimeout(run_inline_js, 100);\n",
       "    } else if (!root._bokeh_failed_load) {\n",
       "      console.log(\"Bokeh: BokehJS failed to load within specified timeout.\");\n",
       "      root._bokeh_failed_load = true;\n",
       "    } else if (force !== true) {\n",
       "      var cell = $(document.getElementById(\"a84cbcca-d8ae-47ca-a9e5-79b844e7ec82\")).parents('.cell').data().cell;\n",
       "      cell.output_area.append_execute_result(NB_LOAD_WARNING)\n",
       "    }\n",
       "\n",
       "  }\n",
       "\n",
       "  if (root._bokeh_is_loading === 0) {\n",
       "    console.log(\"Bokeh: BokehJS loaded, going straight to plotting\");\n",
       "    run_inline_js();\n",
       "  } else {\n",
       "    load_libs(js_urls, function() {\n",
       "      console.log(\"Bokeh: BokehJS plotting callback run at\", now());\n",
       "      run_inline_js();\n",
       "    });\n",
       "  }\n",
       "}(window));"
      ],
      "application/vnd.bokehjs_load.v0+json": "\n(function(root) {\n  function now() {\n    return new Date();\n  }\n\n  var force = true;\n\n  if (typeof (root._bokeh_onload_callbacks) === \"undefined\" || force === true) {\n    root._bokeh_onload_callbacks = [];\n    root._bokeh_is_loading = undefined;\n  }\n\n  \n\n  \n  if (typeof (root._bokeh_timeout) === \"undefined\" || force === true) {\n    root._bokeh_timeout = Date.now() + 5000;\n    root._bokeh_failed_load = false;\n  }\n\n  var NB_LOAD_WARNING = {'data': {'text/html':\n     \"<div style='background-color: #fdd'>\\n\"+\n     \"<p>\\n\"+\n     \"BokehJS does not appear to have successfully loaded. If loading BokehJS from CDN, this \\n\"+\n     \"may be due to a slow or bad network connection. Possible fixes:\\n\"+\n     \"</p>\\n\"+\n     \"<ul>\\n\"+\n     \"<li>re-rerun `output_notebook()` to attempt to load from CDN again, or</li>\\n\"+\n     \"<li>use INLINE resources instead, as so:</li>\\n\"+\n     \"</ul>\\n\"+\n     \"<code>\\n\"+\n     \"from bokeh.resources import INLINE\\n\"+\n     \"output_notebook(resources=INLINE)\\n\"+\n     \"</code>\\n\"+\n     \"</div>\"}};\n\n  function display_loaded() {\n    var el = document.getElementById(\"a84cbcca-d8ae-47ca-a9e5-79b844e7ec82\");\n    if (el != null) {\n      el.textContent = \"BokehJS is loading...\";\n    }\n    if (root.Bokeh !== undefined) {\n      if (el != null) {\n        el.textContent = \"BokehJS \" + root.Bokeh.version + \" successfully loaded.\";\n      }\n    } else if (Date.now() < root._bokeh_timeout) {\n      setTimeout(display_loaded, 100)\n    }\n  }\n\n\n  function run_callbacks() {\n    try {\n      root._bokeh_onload_callbacks.forEach(function(callback) { callback() });\n    }\n    finally {\n      delete root._bokeh_onload_callbacks\n    }\n    console.info(\"Bokeh: all callbacks have finished\");\n  }\n\n  function load_libs(js_urls, callback) {\n    root._bokeh_onload_callbacks.push(callback);\n    if (root._bokeh_is_loading > 0) {\n      console.log(\"Bokeh: BokehJS is being loaded, scheduling callback at\", now());\n      return null;\n    }\n    if (js_urls == null || js_urls.length === 0) {\n      run_callbacks();\n      return null;\n    }\n    console.log(\"Bokeh: BokehJS not loaded, scheduling load and callback at\", now());\n    root._bokeh_is_loading = js_urls.length;\n    for (var i = 0; i < js_urls.length; i++) {\n      var url = js_urls[i];\n      var s = document.createElement('script');\n      s.src = url;\n      s.async = false;\n      s.onreadystatechange = s.onload = function() {\n        root._bokeh_is_loading--;\n        if (root._bokeh_is_loading === 0) {\n          console.log(\"Bokeh: all BokehJS libraries loaded\");\n          run_callbacks()\n        }\n      };\n      s.onerror = function() {\n        console.warn(\"failed to load library \" + url);\n      };\n      console.log(\"Bokeh: injecting script tag for BokehJS library: \", url);\n      document.getElementsByTagName(\"head\")[0].appendChild(s);\n    }\n  };var element = document.getElementById(\"a84cbcca-d8ae-47ca-a9e5-79b844e7ec82\");\n  if (element == null) {\n    console.log(\"Bokeh: ERROR: autoload.js configured with elementid 'a84cbcca-d8ae-47ca-a9e5-79b844e7ec82' but no matching script tag was found. \")\n    return false;\n  }\n\n  var js_urls = [\"https://cdn.pydata.org/bokeh/release/bokeh-0.12.13.min.js\", \"https://cdn.pydata.org/bokeh/release/bokeh-widgets-0.12.13.min.js\", \"https://cdn.pydata.org/bokeh/release/bokeh-tables-0.12.13.min.js\", \"https://cdn.pydata.org/bokeh/release/bokeh-gl-0.12.13.min.js\"];\n\n  var inline_js = [\n    function(Bokeh) {\n      Bokeh.set_log_level(\"info\");\n    },\n    \n    function(Bokeh) {\n      \n    },\n    function(Bokeh) {\n      console.log(\"Bokeh: injecting CSS: https://cdn.pydata.org/bokeh/release/bokeh-0.12.13.min.css\");\n      Bokeh.embed.inject_css(\"https://cdn.pydata.org/bokeh/release/bokeh-0.12.13.min.css\");\n      console.log(\"Bokeh: injecting CSS: https://cdn.pydata.org/bokeh/release/bokeh-widgets-0.12.13.min.css\");\n      Bokeh.embed.inject_css(\"https://cdn.pydata.org/bokeh/release/bokeh-widgets-0.12.13.min.css\");\n      console.log(\"Bokeh: injecting CSS: https://cdn.pydata.org/bokeh/release/bokeh-tables-0.12.13.min.css\");\n      Bokeh.embed.inject_css(\"https://cdn.pydata.org/bokeh/release/bokeh-tables-0.12.13.min.css\");\n    }\n  ];\n\n  function run_inline_js() {\n    \n    if ((root.Bokeh !== undefined) || (force === true)) {\n      for (var i = 0; i < inline_js.length; i++) {\n        inline_js[i].call(root, root.Bokeh);\n      }if (force === true) {\n        display_loaded();\n      }} else if (Date.now() < root._bokeh_timeout) {\n      setTimeout(run_inline_js, 100);\n    } else if (!root._bokeh_failed_load) {\n      console.log(\"Bokeh: BokehJS failed to load within specified timeout.\");\n      root._bokeh_failed_load = true;\n    } else if (force !== true) {\n      var cell = $(document.getElementById(\"a84cbcca-d8ae-47ca-a9e5-79b844e7ec82\")).parents('.cell').data().cell;\n      cell.output_area.append_execute_result(NB_LOAD_WARNING)\n    }\n\n  }\n\n  if (root._bokeh_is_loading === 0) {\n    console.log(\"Bokeh: BokehJS loaded, going straight to plotting\");\n    run_inline_js();\n  } else {\n    load_libs(js_urls, function() {\n      console.log(\"Bokeh: BokehJS plotting callback run at\", now());\n      run_inline_js();\n    });\n  }\n}(window));"
     },
     "metadata": {},
     "output_type": "display_data"
    }
   ],
   "source": [
    "# dataframe management\n",
    "import pandas as pd             \n",
    "\n",
    "# numerical computation\n",
    "import numpy as np\n",
    "\n",
    "# visualization library\n",
    "import seaborn as sns\n",
    "sns.set(style=\"white\", color_codes=True)\n",
    "sns.set_context(rc={\"font.family\":'sans',\"font.size\":24,\"axes.titlesize\":24,\"axes.labelsize\":24})   \n",
    "\n",
    "\n",
    "# import matplotlib and allow it to plot inline\n",
    "import matplotlib.pyplot as plt\n",
    "%matplotlib inline\n",
    "#----------------------------------------------------------------------------------------------------\n",
    "import pyspark\n",
    "from datetime import datetime\n",
    "from pyspark.sql.types import IntegerType, FloatType\n",
    "from pyspark.sql.functions import udf,lit\n",
    "\n",
    "from pyspark.sql import SQLContext\n",
    "from pyspark.sql.functions import mean\n",
    "\n",
    "sc = pyspark.SparkContext.getOrCreate()\n",
    "sqlContext = SQLContext(sc)\n",
    "#---------------------------------------------------------------------------------------------------------\n",
    "# seaborn can generate several warnings, we ignore them\n",
    "import warnings \n",
    "warnings.filterwarnings(\"ignore\")\n",
    "\n",
    "from bokeh.layouts import gridplot\n",
    "from bokeh.plotting import figure\n",
    "\n",
    "from bokeh.io import output_notebook, show\n",
    "from bokeh.models import ColumnDataSource\n",
    "output_notebook()"
   ]
  },
  {
   "cell_type": "code",
   "execution_count": 2,
   "metadata": {},
   "outputs": [],
   "source": [
    "#reading the notebook\n",
    "sales_string_date=pd.read_csv('train.csv')\n",
    "sales = sales_string_date"
   ]
  },
  {
   "cell_type": "code",
   "execution_count": 3,
   "metadata": {},
   "outputs": [
    {
     "data": {
      "text/html": [
       "<div>\n",
       "<style scoped>\n",
       "    .dataframe tbody tr th:only-of-type {\n",
       "        vertical-align: middle;\n",
       "    }\n",
       "\n",
       "    .dataframe tbody tr th {\n",
       "        vertical-align: top;\n",
       "    }\n",
       "\n",
       "    .dataframe thead th {\n",
       "        text-align: right;\n",
       "    }\n",
       "</style>\n",
       "<table border=\"1\" class=\"dataframe\">\n",
       "  <thead>\n",
       "    <tr style=\"text-align: right;\">\n",
       "      <th></th>\n",
       "      <th>StoreID</th>\n",
       "      <th>IsHoliday</th>\n",
       "      <th>IsOpen</th>\n",
       "      <th>HasPromotions</th>\n",
       "      <th>NearestCompetitor</th>\n",
       "      <th>Region</th>\n",
       "      <th>NumberOfCustomers</th>\n",
       "      <th>NumberOfSales</th>\n",
       "      <th>Region_AreaKM2</th>\n",
       "      <th>Region_GDP</th>\n",
       "      <th>...</th>\n",
       "      <th>Mean_TemperatureC</th>\n",
       "      <th>Mean_VisibilityKm</th>\n",
       "      <th>Mean_Wind_SpeedKm_h</th>\n",
       "      <th>Min_Dew_PointC</th>\n",
       "      <th>Min_Humidity</th>\n",
       "      <th>Min_Sea_Level_PressurehPa</th>\n",
       "      <th>Min_TemperatureC</th>\n",
       "      <th>Min_VisibilitykM</th>\n",
       "      <th>Precipitationmm</th>\n",
       "      <th>WindDirDegrees</th>\n",
       "    </tr>\n",
       "  </thead>\n",
       "  <tbody>\n",
       "    <tr>\n",
       "      <th>count</th>\n",
       "      <td>523021.000000</td>\n",
       "      <td>523021.000000</td>\n",
       "      <td>523021.000000</td>\n",
       "      <td>523021.000000</td>\n",
       "      <td>523021.00000</td>\n",
       "      <td>523021.000000</td>\n",
       "      <td>523021.000000</td>\n",
       "      <td>523021.000000</td>\n",
       "      <td>523021.000000</td>\n",
       "      <td>523021.000000</td>\n",
       "      <td>...</td>\n",
       "      <td>523021.000000</td>\n",
       "      <td>511683.000000</td>\n",
       "      <td>523021.000000</td>\n",
       "      <td>523021.000000</td>\n",
       "      <td>523021.000000</td>\n",
       "      <td>523021.000000</td>\n",
       "      <td>523021.000000</td>\n",
       "      <td>511683.000000</td>\n",
       "      <td>523021.000000</td>\n",
       "      <td>523021.000000</td>\n",
       "    </tr>\n",
       "    <tr>\n",
       "      <th>mean</th>\n",
       "      <td>1373.953914</td>\n",
       "      <td>0.029718</td>\n",
       "      <td>0.829714</td>\n",
       "      <td>0.383292</td>\n",
       "      <td>8002.71122</td>\n",
       "      <td>5.713151</td>\n",
       "      <td>259.325073</td>\n",
       "      <td>4057.377536</td>\n",
       "      <td>12381.265718</td>\n",
       "      <td>14050.547848</td>\n",
       "      <td>...</td>\n",
       "      <td>10.273205</td>\n",
       "      <td>12.151025</td>\n",
       "      <td>11.724961</td>\n",
       "      <td>3.737584</td>\n",
       "      <td>51.375624</td>\n",
       "      <td>1012.078435</td>\n",
       "      <td>6.202315</td>\n",
       "      <td>7.223408</td>\n",
       "      <td>0.808278</td>\n",
       "      <td>170.458096</td>\n",
       "    </tr>\n",
       "    <tr>\n",
       "      <th>std</th>\n",
       "      <td>216.395820</td>\n",
       "      <td>0.169808</td>\n",
       "      <td>0.375884</td>\n",
       "      <td>0.486189</td>\n",
       "      <td>11537.70753</td>\n",
       "      <td>3.357190</td>\n",
       "      <td>185.857102</td>\n",
       "      <td>2729.630381</td>\n",
       "      <td>9140.692427</td>\n",
       "      <td>2755.425404</td>\n",
       "      <td>...</td>\n",
       "      <td>7.041167</td>\n",
       "      <td>4.978385</td>\n",
       "      <td>5.791031</td>\n",
       "      <td>5.909098</td>\n",
       "      <td>19.284023</td>\n",
       "      <td>8.699236</td>\n",
       "      <td>6.312993</td>\n",
       "      <td>4.899575</td>\n",
       "      <td>2.631428</td>\n",
       "      <td>101.728193</td>\n",
       "    </tr>\n",
       "    <tr>\n",
       "      <th>min</th>\n",
       "      <td>1000.000000</td>\n",
       "      <td>0.000000</td>\n",
       "      <td>0.000000</td>\n",
       "      <td>0.000000</td>\n",
       "      <td>47.00000</td>\n",
       "      <td>0.000000</td>\n",
       "      <td>0.000000</td>\n",
       "      <td>0.000000</td>\n",
       "      <td>344.000000</td>\n",
       "      <td>9893.000000</td>\n",
       "      <td>...</td>\n",
       "      <td>-13.000000</td>\n",
       "      <td>0.000000</td>\n",
       "      <td>2.000000</td>\n",
       "      <td>-18.000000</td>\n",
       "      <td>10.000000</td>\n",
       "      <td>970.000000</td>\n",
       "      <td>-15.000000</td>\n",
       "      <td>0.000000</td>\n",
       "      <td>0.000000</td>\n",
       "      <td>-1.000000</td>\n",
       "    </tr>\n",
       "    <tr>\n",
       "      <th>25%</th>\n",
       "      <td>1187.000000</td>\n",
       "      <td>0.000000</td>\n",
       "      <td>1.000000</td>\n",
       "      <td>0.000000</td>\n",
       "      <td>1057.00000</td>\n",
       "      <td>3.000000</td>\n",
       "      <td>166.000000</td>\n",
       "      <td>2573.000000</td>\n",
       "      <td>7215.000000</td>\n",
       "      <td>11849.000000</td>\n",
       "      <td>...</td>\n",
       "      <td>4.000000</td>\n",
       "      <td>10.000000</td>\n",
       "      <td>8.000000</td>\n",
       "      <td>-1.000000</td>\n",
       "      <td>36.000000</td>\n",
       "      <td>1007.000000</td>\n",
       "      <td>1.000000</td>\n",
       "      <td>3.000000</td>\n",
       "      <td>0.000000</td>\n",
       "      <td>75.000000</td>\n",
       "    </tr>\n",
       "    <tr>\n",
       "      <th>50%</th>\n",
       "      <td>1373.000000</td>\n",
       "      <td>0.000000</td>\n",
       "      <td>1.000000</td>\n",
       "      <td>0.000000</td>\n",
       "      <td>3321.00000</td>\n",
       "      <td>6.000000</td>\n",
       "      <td>251.000000</td>\n",
       "      <td>4020.000000</td>\n",
       "      <td>9643.000000</td>\n",
       "      <td>15017.000000</td>\n",
       "      <td>...</td>\n",
       "      <td>11.000000</td>\n",
       "      <td>11.000000</td>\n",
       "      <td>11.000000</td>\n",
       "      <td>4.000000</td>\n",
       "      <td>51.000000</td>\n",
       "      <td>1013.000000</td>\n",
       "      <td>7.000000</td>\n",
       "      <td>8.000000</td>\n",
       "      <td>0.000000</td>\n",
       "      <td>191.000000</td>\n",
       "    </tr>\n",
       "    <tr>\n",
       "      <th>75%</th>\n",
       "      <td>1561.000000</td>\n",
       "      <td>0.000000</td>\n",
       "      <td>1.000000</td>\n",
       "      <td>1.000000</td>\n",
       "      <td>9673.00000</td>\n",
       "      <td>9.000000</td>\n",
       "      <td>345.000000</td>\n",
       "      <td>5538.000000</td>\n",
       "      <td>15566.000000</td>\n",
       "      <td>15931.000000</td>\n",
       "      <td>...</td>\n",
       "      <td>16.000000</td>\n",
       "      <td>14.000000</td>\n",
       "      <td>14.000000</td>\n",
       "      <td>8.000000</td>\n",
       "      <td>66.000000</td>\n",
       "      <td>1018.000000</td>\n",
       "      <td>11.000000</td>\n",
       "      <td>10.000000</td>\n",
       "      <td>0.250000</td>\n",
       "      <td>250.000000</td>\n",
       "    </tr>\n",
       "    <tr>\n",
       "      <th>max</th>\n",
       "      <td>1748.000000</td>\n",
       "      <td>1.000000</td>\n",
       "      <td>1.000000</td>\n",
       "      <td>1.000000</td>\n",
       "      <td>85070.00000</td>\n",
       "      <td>10.000000</td>\n",
       "      <td>2206.000000</td>\n",
       "      <td>26641.000000</td>\n",
       "      <td>32221.000000</td>\n",
       "      <td>23931.000000</td>\n",
       "      <td>...</td>\n",
       "      <td>30.000000</td>\n",
       "      <td>31.000000</td>\n",
       "      <td>53.000000</td>\n",
       "      <td>18.000000</td>\n",
       "      <td>100.000000</td>\n",
       "      <td>1038.000000</td>\n",
       "      <td>24.000000</td>\n",
       "      <td>31.000000</td>\n",
       "      <td>58.930000</td>\n",
       "      <td>360.000000</td>\n",
       "    </tr>\n",
       "  </tbody>\n",
       "</table>\n",
       "<p>8 rows × 32 columns</p>\n",
       "</div>"
      ],
      "text/plain": [
       "             StoreID      IsHoliday         IsOpen  HasPromotions  \\\n",
       "count  523021.000000  523021.000000  523021.000000  523021.000000   \n",
       "mean     1373.953914       0.029718       0.829714       0.383292   \n",
       "std       216.395820       0.169808       0.375884       0.486189   \n",
       "min      1000.000000       0.000000       0.000000       0.000000   \n",
       "25%      1187.000000       0.000000       1.000000       0.000000   \n",
       "50%      1373.000000       0.000000       1.000000       0.000000   \n",
       "75%      1561.000000       0.000000       1.000000       1.000000   \n",
       "max      1748.000000       1.000000       1.000000       1.000000   \n",
       "\n",
       "       NearestCompetitor         Region  NumberOfCustomers  NumberOfSales  \\\n",
       "count       523021.00000  523021.000000      523021.000000  523021.000000   \n",
       "mean          8002.71122       5.713151         259.325073    4057.377536   \n",
       "std          11537.70753       3.357190         185.857102    2729.630381   \n",
       "min             47.00000       0.000000           0.000000       0.000000   \n",
       "25%           1057.00000       3.000000         166.000000    2573.000000   \n",
       "50%           3321.00000       6.000000         251.000000    4020.000000   \n",
       "75%           9673.00000       9.000000         345.000000    5538.000000   \n",
       "max          85070.00000      10.000000        2206.000000   26641.000000   \n",
       "\n",
       "       Region_AreaKM2     Region_GDP       ...        Mean_TemperatureC  \\\n",
       "count   523021.000000  523021.000000       ...            523021.000000   \n",
       "mean     12381.265718   14050.547848       ...                10.273205   \n",
       "std       9140.692427    2755.425404       ...                 7.041167   \n",
       "min        344.000000    9893.000000       ...               -13.000000   \n",
       "25%       7215.000000   11849.000000       ...                 4.000000   \n",
       "50%       9643.000000   15017.000000       ...                11.000000   \n",
       "75%      15566.000000   15931.000000       ...                16.000000   \n",
       "max      32221.000000   23931.000000       ...                30.000000   \n",
       "\n",
       "       Mean_VisibilityKm  Mean_Wind_SpeedKm_h  Min_Dew_PointC   Min_Humidity  \\\n",
       "count      511683.000000        523021.000000   523021.000000  523021.000000   \n",
       "mean           12.151025            11.724961        3.737584      51.375624   \n",
       "std             4.978385             5.791031        5.909098      19.284023   \n",
       "min             0.000000             2.000000      -18.000000      10.000000   \n",
       "25%            10.000000             8.000000       -1.000000      36.000000   \n",
       "50%            11.000000            11.000000        4.000000      51.000000   \n",
       "75%            14.000000            14.000000        8.000000      66.000000   \n",
       "max            31.000000            53.000000       18.000000     100.000000   \n",
       "\n",
       "       Min_Sea_Level_PressurehPa  Min_TemperatureC  Min_VisibilitykM  \\\n",
       "count              523021.000000     523021.000000     511683.000000   \n",
       "mean                 1012.078435          6.202315          7.223408   \n",
       "std                     8.699236          6.312993          4.899575   \n",
       "min                   970.000000        -15.000000          0.000000   \n",
       "25%                  1007.000000          1.000000          3.000000   \n",
       "50%                  1013.000000          7.000000          8.000000   \n",
       "75%                  1018.000000         11.000000         10.000000   \n",
       "max                  1038.000000         24.000000         31.000000   \n",
       "\n",
       "       Precipitationmm  WindDirDegrees  \n",
       "count    523021.000000   523021.000000  \n",
       "mean          0.808278      170.458096  \n",
       "std           2.631428      101.728193  \n",
       "min           0.000000       -1.000000  \n",
       "25%           0.000000       75.000000  \n",
       "50%           0.000000      191.000000  \n",
       "75%           0.250000      250.000000  \n",
       "max          58.930000      360.000000  \n",
       "\n",
       "[8 rows x 32 columns]"
      ]
     },
     "execution_count": 3,
     "metadata": {},
     "output_type": "execute_result"
    }
   ],
   "source": [
    "sales.describe()"
   ]
  },
  {
   "cell_type": "markdown",
   "metadata": {},
   "source": [
    "# Imputation of Missing Values"
   ]
  },
  {
   "cell_type": "code",
   "execution_count": 4,
   "metadata": {},
   "outputs": [
    {
     "data": {
      "text/plain": [
       "StoreID                            0\n",
       "Date                               0\n",
       "IsHoliday                          0\n",
       "IsOpen                             0\n",
       "HasPromotions                      0\n",
       "StoreType                          0\n",
       "AssortmentType                     0\n",
       "NearestCompetitor                  0\n",
       "Region                             0\n",
       "NumberOfCustomers                  0\n",
       "NumberOfSales                      0\n",
       "Region_AreaKM2                     0\n",
       "Region_GDP                         0\n",
       "Region_PopulationK                 0\n",
       "CloudCover                     41181\n",
       "Events                        124098\n",
       "Max_Dew_PointC                     0\n",
       "Max_Gust_SpeedKm_h            409947\n",
       "Max_Humidity                       0\n",
       "Max_Sea_Level_PressurehPa          0\n",
       "Max_TemperatureC                   0\n",
       "Max_VisibilityKm               11338\n",
       "Max_Wind_SpeedKm_h                 0\n",
       "Mean_Dew_PointC                    0\n",
       "Mean_Humidity                      0\n",
       "Mean_Sea_Level_PressurehPa         0\n",
       "Mean_TemperatureC                  0\n",
       "Mean_VisibilityKm              11338\n",
       "Mean_Wind_SpeedKm_h                0\n",
       "Min_Dew_PointC                     0\n",
       "Min_Humidity                       0\n",
       "Min_Sea_Level_PressurehPa          0\n",
       "Min_TemperatureC                   0\n",
       "Min_VisibilitykM               11338\n",
       "Precipitationmm                    0\n",
       "WindDirDegrees                     0\n",
       "dtype: int64"
      ]
     },
     "execution_count": 4,
     "metadata": {},
     "output_type": "execute_result"
    }
   ],
   "source": [
    "unknown_per_columns = sales.isnull().sum()\n",
    "unknown_per_columns"
   ]
  },
  {
   "cell_type": "markdown",
   "metadata": {},
   "source": [
    "We see that Max_Gust_SpeedKm_h has 409947 missing values. We decided not to impute it.\n",
    "Let's start with imputation of \"Events\""
   ]
  },
  {
   "cell_type": "code",
   "execution_count": 5,
   "metadata": {},
   "outputs": [
    {
     "data": {
      "text/html": [
       "<div>\n",
       "<style scoped>\n",
       "    .dataframe tbody tr th:only-of-type {\n",
       "        vertical-align: middle;\n",
       "    }\n",
       "\n",
       "    .dataframe tbody tr th {\n",
       "        vertical-align: top;\n",
       "    }\n",
       "\n",
       "    .dataframe thead th {\n",
       "        text-align: right;\n",
       "    }\n",
       "</style>\n",
       "<table border=\"1\" class=\"dataframe\">\n",
       "  <thead>\n",
       "    <tr style=\"text-align: right;\">\n",
       "      <th></th>\n",
       "      <th>StoreID</th>\n",
       "      <th>IsHoliday</th>\n",
       "      <th>IsOpen</th>\n",
       "      <th>HasPromotions</th>\n",
       "      <th>NearestCompetitor</th>\n",
       "      <th>Region</th>\n",
       "      <th>NumberOfCustomers</th>\n",
       "      <th>NumberOfSales</th>\n",
       "      <th>Region_AreaKM2</th>\n",
       "      <th>Region_GDP</th>\n",
       "      <th>...</th>\n",
       "      <th>Mean_TemperatureC</th>\n",
       "      <th>Mean_VisibilityKm</th>\n",
       "      <th>Mean_Wind_SpeedKm_h</th>\n",
       "      <th>Min_Dew_PointC</th>\n",
       "      <th>Min_Humidity</th>\n",
       "      <th>Min_Sea_Level_PressurehPa</th>\n",
       "      <th>Min_TemperatureC</th>\n",
       "      <th>Min_VisibilitykM</th>\n",
       "      <th>Precipitationmm</th>\n",
       "      <th>WindDirDegrees</th>\n",
       "    </tr>\n",
       "  </thead>\n",
       "  <tbody>\n",
       "    <tr>\n",
       "      <th>count</th>\n",
       "      <td>124098.000000</td>\n",
       "      <td>124098.000000</td>\n",
       "      <td>124098.000000</td>\n",
       "      <td>124098.000000</td>\n",
       "      <td>124098.000000</td>\n",
       "      <td>124098.000000</td>\n",
       "      <td>124098.000000</td>\n",
       "      <td>124098.000000</td>\n",
       "      <td>124098.000000</td>\n",
       "      <td>124098.000000</td>\n",
       "      <td>...</td>\n",
       "      <td>124098.000000</td>\n",
       "      <td>113238.000000</td>\n",
       "      <td>124098.000000</td>\n",
       "      <td>124098.000000</td>\n",
       "      <td>124098.000000</td>\n",
       "      <td>124098.000000</td>\n",
       "      <td>124098.000000</td>\n",
       "      <td>113238.000000</td>\n",
       "      <td>124098.000000</td>\n",
       "      <td>124098.000000</td>\n",
       "    </tr>\n",
       "    <tr>\n",
       "      <th>mean</th>\n",
       "      <td>1370.938661</td>\n",
       "      <td>0.025343</td>\n",
       "      <td>0.835316</td>\n",
       "      <td>0.391352</td>\n",
       "      <td>8598.544852</td>\n",
       "      <td>5.708537</td>\n",
       "      <td>262.825307</td>\n",
       "      <td>4087.681623</td>\n",
       "      <td>11494.095529</td>\n",
       "      <td>13693.732615</td>\n",
       "      <td>...</td>\n",
       "      <td>11.397339</td>\n",
       "      <td>15.122741</td>\n",
       "      <td>11.231527</td>\n",
       "      <td>2.934141</td>\n",
       "      <td>40.231946</td>\n",
       "      <td>1015.213468</td>\n",
       "      <td>6.417211</td>\n",
       "      <td>10.525875</td>\n",
       "      <td>0.006096</td>\n",
       "      <td>136.669519</td>\n",
       "    </tr>\n",
       "    <tr>\n",
       "      <th>std</th>\n",
       "      <td>215.467924</td>\n",
       "      <td>0.157165</td>\n",
       "      <td>0.370897</td>\n",
       "      <td>0.488055</td>\n",
       "      <td>12179.726740</td>\n",
       "      <td>3.333467</td>\n",
       "      <td>186.579039</td>\n",
       "      <td>2734.958540</td>\n",
       "      <td>8355.170418</td>\n",
       "      <td>2738.751299</td>\n",
       "      <td>...</td>\n",
       "      <td>7.461739</td>\n",
       "      <td>6.641841</td>\n",
       "      <td>5.166388</td>\n",
       "      <td>6.112321</td>\n",
       "      <td>18.089280</td>\n",
       "      <td>7.166503</td>\n",
       "      <td>6.551161</td>\n",
       "      <td>6.132783</td>\n",
       "      <td>0.113929</td>\n",
       "      <td>105.369671</td>\n",
       "    </tr>\n",
       "    <tr>\n",
       "      <th>min</th>\n",
       "      <td>1000.000000</td>\n",
       "      <td>0.000000</td>\n",
       "      <td>0.000000</td>\n",
       "      <td>0.000000</td>\n",
       "      <td>47.000000</td>\n",
       "      <td>0.000000</td>\n",
       "      <td>0.000000</td>\n",
       "      <td>0.000000</td>\n",
       "      <td>344.000000</td>\n",
       "      <td>9893.000000</td>\n",
       "      <td>...</td>\n",
       "      <td>-11.000000</td>\n",
       "      <td>2.000000</td>\n",
       "      <td>3.000000</td>\n",
       "      <td>-17.000000</td>\n",
       "      <td>10.000000</td>\n",
       "      <td>986.000000</td>\n",
       "      <td>-12.000000</td>\n",
       "      <td>0.000000</td>\n",
       "      <td>0.000000</td>\n",
       "      <td>-1.000000</td>\n",
       "    </tr>\n",
       "    <tr>\n",
       "      <th>25%</th>\n",
       "      <td>1187.000000</td>\n",
       "      <td>0.000000</td>\n",
       "      <td>1.000000</td>\n",
       "      <td>0.000000</td>\n",
       "      <td>1130.000000</td>\n",
       "      <td>3.000000</td>\n",
       "      <td>169.000000</td>\n",
       "      <td>2607.000000</td>\n",
       "      <td>7215.000000</td>\n",
       "      <td>11849.000000</td>\n",
       "      <td>...</td>\n",
       "      <td>6.000000</td>\n",
       "      <td>10.000000</td>\n",
       "      <td>8.000000</td>\n",
       "      <td>-2.000000</td>\n",
       "      <td>25.000000</td>\n",
       "      <td>1011.000000</td>\n",
       "      <td>1.000000</td>\n",
       "      <td>8.000000</td>\n",
       "      <td>0.000000</td>\n",
       "      <td>47.000000</td>\n",
       "    </tr>\n",
       "    <tr>\n",
       "      <th>50%</th>\n",
       "      <td>1369.000000</td>\n",
       "      <td>0.000000</td>\n",
       "      <td>1.000000</td>\n",
       "      <td>0.000000</td>\n",
       "      <td>3628.000000</td>\n",
       "      <td>6.000000</td>\n",
       "      <td>254.000000</td>\n",
       "      <td>4027.000000</td>\n",
       "      <td>9337.000000</td>\n",
       "      <td>13155.000000</td>\n",
       "      <td>...</td>\n",
       "      <td>12.000000</td>\n",
       "      <td>13.000000</td>\n",
       "      <td>10.000000</td>\n",
       "      <td>3.000000</td>\n",
       "      <td>37.000000</td>\n",
       "      <td>1016.000000</td>\n",
       "      <td>7.000000</td>\n",
       "      <td>10.000000</td>\n",
       "      <td>0.000000</td>\n",
       "      <td>125.000000</td>\n",
       "    </tr>\n",
       "    <tr>\n",
       "      <th>75%</th>\n",
       "      <td>1553.000000</td>\n",
       "      <td>0.000000</td>\n",
       "      <td>1.000000</td>\n",
       "      <td>1.000000</td>\n",
       "      <td>10593.000000</td>\n",
       "      <td>9.000000</td>\n",
       "      <td>349.000000</td>\n",
       "      <td>5557.000000</td>\n",
       "      <td>15566.000000</td>\n",
       "      <td>15931.000000</td>\n",
       "      <td>...</td>\n",
       "      <td>17.000000</td>\n",
       "      <td>19.000000</td>\n",
       "      <td>14.000000</td>\n",
       "      <td>8.000000</td>\n",
       "      <td>53.000000</td>\n",
       "      <td>1020.000000</td>\n",
       "      <td>12.000000</td>\n",
       "      <td>10.000000</td>\n",
       "      <td>0.000000</td>\n",
       "      <td>219.000000</td>\n",
       "    </tr>\n",
       "    <tr>\n",
       "      <th>max</th>\n",
       "      <td>1748.000000</td>\n",
       "      <td>1.000000</td>\n",
       "      <td>1.000000</td>\n",
       "      <td>1.000000</td>\n",
       "      <td>85070.000000</td>\n",
       "      <td>10.000000</td>\n",
       "      <td>2206.000000</td>\n",
       "      <td>26641.000000</td>\n",
       "      <td>32221.000000</td>\n",
       "      <td>23931.000000</td>\n",
       "      <td>...</td>\n",
       "      <td>30.000000</td>\n",
       "      <td>31.000000</td>\n",
       "      <td>34.000000</td>\n",
       "      <td>18.000000</td>\n",
       "      <td>100.000000</td>\n",
       "      <td>1038.000000</td>\n",
       "      <td>23.000000</td>\n",
       "      <td>31.000000</td>\n",
       "      <td>4.060000</td>\n",
       "      <td>360.000000</td>\n",
       "    </tr>\n",
       "  </tbody>\n",
       "</table>\n",
       "<p>8 rows × 32 columns</p>\n",
       "</div>"
      ],
      "text/plain": [
       "             StoreID      IsHoliday         IsOpen  HasPromotions  \\\n",
       "count  124098.000000  124098.000000  124098.000000  124098.000000   \n",
       "mean     1370.938661       0.025343       0.835316       0.391352   \n",
       "std       215.467924       0.157165       0.370897       0.488055   \n",
       "min      1000.000000       0.000000       0.000000       0.000000   \n",
       "25%      1187.000000       0.000000       1.000000       0.000000   \n",
       "50%      1369.000000       0.000000       1.000000       0.000000   \n",
       "75%      1553.000000       0.000000       1.000000       1.000000   \n",
       "max      1748.000000       1.000000       1.000000       1.000000   \n",
       "\n",
       "       NearestCompetitor         Region  NumberOfCustomers  NumberOfSales  \\\n",
       "count      124098.000000  124098.000000      124098.000000  124098.000000   \n",
       "mean         8598.544852       5.708537         262.825307    4087.681623   \n",
       "std         12179.726740       3.333467         186.579039    2734.958540   \n",
       "min            47.000000       0.000000           0.000000       0.000000   \n",
       "25%          1130.000000       3.000000         169.000000    2607.000000   \n",
       "50%          3628.000000       6.000000         254.000000    4027.000000   \n",
       "75%         10593.000000       9.000000         349.000000    5557.000000   \n",
       "max         85070.000000      10.000000        2206.000000   26641.000000   \n",
       "\n",
       "       Region_AreaKM2     Region_GDP       ...        Mean_TemperatureC  \\\n",
       "count   124098.000000  124098.000000       ...            124098.000000   \n",
       "mean     11494.095529   13693.732615       ...                11.397339   \n",
       "std       8355.170418    2738.751299       ...                 7.461739   \n",
       "min        344.000000    9893.000000       ...               -11.000000   \n",
       "25%       7215.000000   11849.000000       ...                 6.000000   \n",
       "50%       9337.000000   13155.000000       ...                12.000000   \n",
       "75%      15566.000000   15931.000000       ...                17.000000   \n",
       "max      32221.000000   23931.000000       ...                30.000000   \n",
       "\n",
       "       Mean_VisibilityKm  Mean_Wind_SpeedKm_h  Min_Dew_PointC   Min_Humidity  \\\n",
       "count      113238.000000        124098.000000   124098.000000  124098.000000   \n",
       "mean           15.122741            11.231527        2.934141      40.231946   \n",
       "std             6.641841             5.166388        6.112321      18.089280   \n",
       "min             2.000000             3.000000      -17.000000      10.000000   \n",
       "25%            10.000000             8.000000       -2.000000      25.000000   \n",
       "50%            13.000000            10.000000        3.000000      37.000000   \n",
       "75%            19.000000            14.000000        8.000000      53.000000   \n",
       "max            31.000000            34.000000       18.000000     100.000000   \n",
       "\n",
       "       Min_Sea_Level_PressurehPa  Min_TemperatureC  Min_VisibilitykM  \\\n",
       "count              124098.000000     124098.000000     113238.000000   \n",
       "mean                 1015.213468          6.417211         10.525875   \n",
       "std                     7.166503          6.551161          6.132783   \n",
       "min                   986.000000        -12.000000          0.000000   \n",
       "25%                  1011.000000          1.000000          8.000000   \n",
       "50%                  1016.000000          7.000000         10.000000   \n",
       "75%                  1020.000000         12.000000         10.000000   \n",
       "max                  1038.000000         23.000000         31.000000   \n",
       "\n",
       "       Precipitationmm  WindDirDegrees  \n",
       "count    124098.000000   124098.000000  \n",
       "mean          0.006096      136.669519  \n",
       "std           0.113929      105.369671  \n",
       "min           0.000000       -1.000000  \n",
       "25%           0.000000       47.000000  \n",
       "50%           0.000000      125.000000  \n",
       "75%           0.000000      219.000000  \n",
       "max           4.060000      360.000000  \n",
       "\n",
       "[8 rows x 32 columns]"
      ]
     },
     "execution_count": 5,
     "metadata": {},
     "output_type": "execute_result"
    }
   ],
   "source": [
    "null_Events = sales['Events'].isnull()\n",
    "event_missing = sales[null_Events]\n",
    "event_missing.describe()\n"
   ]
  },
  {
   "cell_type": "code",
   "execution_count": 6,
   "metadata": {},
   "outputs": [
    {
     "data": {
      "text/plain": [
       "Rain                           204733\n",
       "Fog                             67797\n",
       "Fog-Rain                        50908\n",
       "Rain-Thunderstorm               21988\n",
       "Rain-Snow                       18176\n",
       "Snow                            15433\n",
       "Fog-Rain-Thunderstorm            8567\n",
       "Fog-Rain-Snow                    3225\n",
       "Fog-Snow                         2857\n",
       "Thunderstorm                     1485\n",
       "Rain-Hail                        1331\n",
       "Rain-Snow-Hail                    629\n",
       "Rain-Hail-Thunderstorm            283\n",
       "Fog-Rain-Snow-Hail                231\n",
       "Rain-Snow-Thunderstorm            220\n",
       "Snow-Hail                         194\n",
       "Rain-Snow-Hail-Thunderstorm       193\n",
       "Fog-Rain-Hail-Thunderstorm        178\n",
       "Fog-Rain-Hail                     169\n",
       "Fog-Snow-Hail                     169\n",
       "Fog-Thunderstorm                  157\n",
       "Name: Events, dtype: int64"
      ]
     },
     "execution_count": 6,
     "metadata": {},
     "output_type": "execute_result"
    }
   ],
   "source": [
    "sales['Events'].value_counts()"
   ]
  },
  {
   "cell_type": "markdown",
   "metadata": {},
   "source": [
    "By this, we discover that when Event is null the weather is good, from the fact that Precipitationmm mean is almost 0.\n",
    "Furthermore, all the labels of Events are related to bad weather, that means that when no precipitation occurs the label is null.\n",
    "We will impute Event by replacing the missing values with \"Not Specified\" (later)."
   ]
  },
  {
   "cell_type": "markdown",
   "metadata": {},
   "source": [
    "Now we impute \"CloudCover\", making a distinction when it misses along with Events and when it misses on its own."
   ]
  },
  {
   "cell_type": "code",
   "execution_count": 7,
   "metadata": {},
   "outputs": [
    {
     "data": {
      "text/plain": [
       "((124098, 36), (124098, 36), (28274, 36))"
      ]
     },
     "execution_count": 7,
     "metadata": {},
     "output_type": "execute_result"
    }
   ],
   "source": [
    "null_Events = sales['Events'].isnull()\n",
    "null_CloudCover = sales['CloudCover'].isnull()\n",
    "cloudcover_missing = sales[(null_Events)]\n",
    "null_Events = sales['Events'].isnull()\n",
    "event_missing = sales[null_Events]\n",
    "event_cc_missing = sales[null_CloudCover & null_Events]\n",
    "cloudcover_missing.shape, event_missing.shape, event_cc_missing.shape \n"
   ]
  },
  {
   "cell_type": "markdown",
   "metadata": {},
   "source": [
    "There are 28k tuples where both \"Events\" and \"CloudCover\" are missing, that means that the weather should be good.\n",
    "for the remaining (41k-28k) (i.e. where \"Events\" is not null!) tuples we impute the CloudCoverage."
   ]
  },
  {
   "cell_type": "code",
   "execution_count": 8,
   "metadata": {},
   "outputs": [],
   "source": [
    "event_notmissing_cc_missing = sales[null_CloudCover & ~null_Events]\n",
    "#computing mean where CloudCover is not null\n",
    "mean_CC = sales[\"CloudCover\"].mean()\n",
    "event_notmissing_cc_missing[\"CloudCover\"] = event_notmissing_cc_missing[\"CloudCover\"].fillna(mean_CC)\n",
    "sales = pd.concat([sales[~null_CloudCover | null_Events], event_notmissing_cc_missing])"
   ]
  },
  {
   "cell_type": "markdown",
   "metadata": {},
   "source": [
    "Then, we impute the remaining rows with CloudCover missing"
   ]
  },
  {
   "cell_type": "code",
   "execution_count": 9,
   "metadata": {},
   "outputs": [],
   "source": [
    "null_Events = sales['Events'].isnull()\n",
    "CloudyButNotEvent = sales[null_Events]\n",
    "#there are some tuples with no Events but with the attribute CloudCover"
   ]
  },
  {
   "cell_type": "code",
   "execution_count": 10,
   "metadata": {},
   "outputs": [],
   "source": [
    "null_cloudCover = sales[sales['CloudCover'].isnull()]\n",
    "mean_cloudCover = sales[\"CloudCover\"].mean()\n",
    "null_cloudCover[\"CloudCover\"] = null_cloudCover[\"CloudCover\"].fillna(mean_cloudCover)\n",
    "\n",
    "sales = pd.concat([sales[~sales['CloudCover'].isnull()], null_cloudCover])"
   ]
  },
  {
   "cell_type": "markdown",
   "metadata": {},
   "source": [
    "Now, we impute min,max,mean_VisibilityKm. "
   ]
  },
  {
   "cell_type": "code",
   "execution_count": 11,
   "metadata": {},
   "outputs": [
    {
     "data": {
      "text/plain": [
       "Max_VisibilityKm     511683\n",
       "Mean_VisibilityKm    511683\n",
       "Min_VisibilitykM     511683\n",
       "dtype: int64"
      ]
     },
     "execution_count": 11,
     "metadata": {},
     "output_type": "execute_result"
    }
   ],
   "source": [
    "# checking if are all the same rows where visibility data are missing => yes, they are\n",
    "sales[[\"Max_VisibilityKm\", \"Mean_VisibilityKm\", \"Min_VisibilitykM\"]].count()"
   ]
  },
  {
   "cell_type": "code",
   "execution_count": 12,
   "metadata": {},
   "outputs": [],
   "source": [
    "null_visibility = sales[sales['Max_VisibilityKm'].isnull()]\n",
    "mean_vis_max = sales[\"Max_VisibilityKm\"].mean()\n",
    "mean_vis_mean = sales[\"Mean_VisibilityKm\"].mean()\n",
    "mean_vis_min = sales[\"Min_VisibilitykM\"].mean()\n",
    "\n",
    "null_visibility[\"Max_VisibilityKm\"] = null_visibility[\"Max_VisibilityKm\"].fillna(mean_vis_max)\n",
    "null_visibility[\"Mean_VisibilityKm\"] = null_visibility[\"Mean_VisibilityKm\"].fillna(mean_vis_mean)\n",
    "null_visibility[\"Min_VisibilitykM\"] = null_visibility[\"Min_VisibilitykM\"].fillna(mean_vis_min)\n",
    "\n",
    "sales = pd.concat([sales[~sales['Max_VisibilityKm'].isnull()], null_visibility])"
   ]
  },
  {
   "cell_type": "markdown",
   "metadata": {},
   "source": [
    "Finally, we impute \"Events\"."
   ]
  },
  {
   "cell_type": "code",
   "execution_count": 13,
   "metadata": {},
   "outputs": [],
   "source": [
    "sales=sales.replace(np.nan,'NotSpecified', regex=True)\n"
   ]
  },
  {
   "cell_type": "markdown",
   "metadata": {},
   "source": [
    "# Normalization of Numerical Variables"
   ]
  },
  {
   "cell_type": "code",
   "execution_count": 14,
   "metadata": {},
   "outputs": [],
   "source": [
    "# mask to normalize, avoiding categorical_varibles and target columns\n",
    "categorical_variables_mask = (sales.dtypes==object) | (sales.columns == \"Day\") | (sales.columns == \"Month\") | (sales.columns == \"Year\") | (sales.columns == \"StoreID\") | (sales.columns == \"IsOpen\") | (sales.columns == \"IsHoliday\") | (sales.columns == \"HasPromotions\") | (sales.columns == \"Region\"  )\n",
    "categorical_variables = categorical_variables_mask.tolist()\n",
    "numerical_variables = sales.columns[~categorical_variables_mask]\n",
    "normalization_mask = ~(categorical_variables | (sales.columns == \"IsOpen\") | (sales.columns == \"IsHoliday\") | (sales.columns == \"HasPromotions\") | (sales.columns == \"Region\"  ) | ( sales.columns == \"Max_Gust_SpeedKm_h\" ) | ( sales.columns == \"NumberOfSales\" ) | ( sales.columns == \"NumberOfCustomers\"))\n",
    "normalization_mask = normalization_mask.tolist()\n",
    "normalization_mask = sales.columns[normalization_mask]"
   ]
  },
  {
   "cell_type": "code",
   "execution_count": 15,
   "metadata": {},
   "outputs": [],
   "source": [
    "from sklearn.preprocessing import StandardScaler\n",
    "\n",
    "scaler = StandardScaler().fit(sales[normalization_mask])\n",
    "df_normalized_values = scaler.transform(sales[normalization_mask])\n",
    "sales_normalized = pd.DataFrame(data = df_normalized_values, columns=normalization_mask)"
   ]
  },
  {
   "cell_type": "markdown",
   "metadata": {},
   "source": [
    "# Correlation Analysis and Feature Selection"
   ]
  },
  {
   "cell_type": "code",
   "execution_count": 16,
   "metadata": {},
   "outputs": [
    {
     "data": {
      "text/plain": [
       "'cov=sales[numerical_variables].corr(method=\\'pearson\\')\\ncm = sns.clustermap(cov, annot=True, center=0, cmap=\"Blues\", figsize=(25, 25))\\ncm.cax.set_visible(False)'"
      ]
     },
     "execution_count": 16,
     "metadata": {},
     "output_type": "execute_result"
    }
   ],
   "source": [
    "'''cov=sales[numerical_variables].corr(method='pearson')\n",
    "cm = sns.clustermap(cov, annot=True, center=0, cmap=\"Blues\", figsize=(25, 25))\n",
    "cm.cax.set_visible(False)'''"
   ]
  },
  {
   "cell_type": "markdown",
   "metadata": {},
   "source": [
    "By analyzing the correlation, we see that the following variables do not add any additional information. \n",
    "Max_Dew_PointC, Min_Dew_PointC, Max_Sea_Level_PressurehPa, Mean_Sea_Level_PressurehPa, Max_Gust_SpeedKm_h\n",
    "Finally, we drop 'NumberOfCustomers' because is not present in the submission dataset."
   ]
  },
  {
   "cell_type": "code",
   "execution_count": 17,
   "metadata": {},
   "outputs": [
    {
     "data": {
      "text/plain": [
       "(523021, 30)"
      ]
     },
     "execution_count": 17,
     "metadata": {},
     "output_type": "execute_result"
    }
   ],
   "source": [
    "sales=sales.drop(columns=['Max_Dew_PointC','Min_Dew_PointC','Max_Sea_Level_PressurehPa','Mean_Sea_Level_PressurehPa','Max_Gust_SpeedKm_h','NumberOfCustomers'])\n",
    "sales.shape"
   ]
  },
  {
   "cell_type": "markdown",
   "metadata": {},
   "source": [
    "# QUI CI VA L'ANALISI STAGIONALE"
   ]
  },
  {
   "cell_type": "markdown",
   "metadata": {},
   "source": [
    "Flavio ci ha detto che non c'è trend stagionale, quindi droppiamo le date e ci teniamo solo i giorni della settimana"
   ]
  },
  {
   "cell_type": "code",
   "execution_count": 18,
   "metadata": {},
   "outputs": [
    {
     "data": {
      "text/plain": [
       "'import datetime as d\\ndef toDate(x):\\n    parts = [int(el) for el in x.split(\"/\")]\\n    return d.date(parts[2], parts[1], parts[0])\\nsales[\"Date\"] = sales[\"Date\"].apply(toDate)\\nsales[\\'Date\\'] = sales[\\'Date\\'].astype(\"datetime64\")\\nsales[\\'Day_Of_Week\\'] = sales[\\'Date\\'].dt.weekday_name\\nsales=sales.drop(columns=[\\'Date\\'])'"
      ]
     },
     "execution_count": 18,
     "metadata": {},
     "output_type": "execute_result"
    }
   ],
   "source": [
    "'''import datetime as d\n",
    "def toDate(x):\n",
    "    parts = [int(el) for el in x.split(\"/\")]\n",
    "    return d.date(parts[2], parts[1], parts[0])\n",
    "sales[\"Date\"] = sales[\"Date\"].apply(toDate)\n",
    "sales['Date'] = sales['Date'].astype(\"datetime64\")\n",
    "sales['Day_Of_Week'] = sales['Date'].dt.weekday_name\n",
    "sales=sales.drop(columns=['Date'])'''"
   ]
  },
  {
   "cell_type": "markdown",
   "metadata": {},
   "source": [
    "# One Hot Encoding"
   ]
  },
  {
   "cell_type": "code",
   "execution_count": 19,
   "metadata": {},
   "outputs": [
    {
     "data": {
      "text/plain": [
       "\"sales = pd.get_dummies(sales, columns=['StoreType','Day_Of_Week','Events','AssortmentType',])\\nsales.head(5)\""
      ]
     },
     "execution_count": 19,
     "metadata": {},
     "output_type": "execute_result"
    }
   ],
   "source": [
    "'''sales = pd.get_dummies(sales, columns=['StoreType','Day_Of_Week','Events','AssortmentType',])\n",
    "sales.head(5)'''"
   ]
  },
  {
   "cell_type": "markdown",
   "metadata": {},
   "source": [
    "# First try: MultipleLinear Regression for Region 7"
   ]
  },
  {
   "cell_type": "code",
   "execution_count": 20,
   "metadata": {},
   "outputs": [
    {
     "data": {
      "text/plain": [
       "\"sales_train = sales.drop(['NumberOfSales'], axis=1)\\ny = sales['NumberOfSales']\""
      ]
     },
     "execution_count": 20,
     "metadata": {},
     "output_type": "execute_result"
    }
   ],
   "source": [
    "'''sales_train = sales.drop(['NumberOfSales'], axis=1)\n",
    "y = sales['NumberOfSales']'''"
   ]
  },
  {
   "cell_type": "code",
   "execution_count": 21,
   "metadata": {},
   "outputs": [
    {
     "data": {
      "text/plain": [
       "\"salesRegion7_train = sales_train.loc[sales_train['Region'] == 7]\\nsalesRegion7_train.drop(columns='Region')\\nsalesRegion7_train.shape\""
      ]
     },
     "execution_count": 21,
     "metadata": {},
     "output_type": "execute_result"
    }
   ],
   "source": [
    "'''salesRegion7_train = sales_train.loc[sales_train['Region'] == 7]\n",
    "salesRegion7_train.drop(columns='Region')\n",
    "salesRegion7_train.shape'''"
   ]
  },
  {
   "cell_type": "code",
   "execution_count": 22,
   "metadata": {},
   "outputs": [
    {
     "data": {
      "text/plain": [
       "\"toGetTarget = sales.loc[sales_train['Region'] == 7]\\ny = toGetTarget['NumberOfSales']\""
      ]
     },
     "execution_count": 22,
     "metadata": {},
     "output_type": "execute_result"
    }
   ],
   "source": [
    "'''toGetTarget = sales.loc[sales_train['Region'] == 7]\n",
    "y = toGetTarget['NumberOfSales']'''"
   ]
  },
  {
   "cell_type": "code",
   "execution_count": 23,
   "metadata": {},
   "outputs": [
    {
     "data": {
      "text/plain": [
       "'from sklearn.linear_model import LinearRegression, Ridge, RidgeCV, ElasticNet, Lasso, LassoCV\\nfrom sklearn.model_selection import cross_val_score\\nfrom sklearn.model_selection import KFold\\nfrom sklearn.metrics import r2_score\\nfrom sklearn.metrics import mean_squared_error\\n\\n\\ndef r2_cv(model, sales_train, y, random_state=12345678):\\n    r2= cross_val_score(model, sales_train, y, scoring=\"r2\", cv =KFold(10, shuffle=True, random_state=random_state)) \\n    return(r2)\\n\\ndef rmse_cv(model, sales_train, y, random_state=12345678):\\n    rmse= np.sqrt(-cross_val_score(model, sales_train, y, scoring=\"neg_mean_squared_error\", cv =KFold(10, shuffle=True, random_state=random_state)))\\n    return(rmse)'"
      ]
     },
     "execution_count": 23,
     "metadata": {},
     "output_type": "execute_result"
    }
   ],
   "source": [
    "'''from sklearn.linear_model import LinearRegression, Ridge, RidgeCV, ElasticNet, Lasso, LassoCV\n",
    "from sklearn.model_selection import cross_val_score\n",
    "from sklearn.model_selection import KFold\n",
    "from sklearn.metrics import r2_score\n",
    "from sklearn.metrics import mean_squared_error\n",
    "\n",
    "\n",
    "def r2_cv(model, sales_train, y, random_state=12345678):\n",
    "    r2= cross_val_score(model, sales_train, y, scoring=\"r2\", cv =KFold(10, shuffle=True, random_state=random_state)) \n",
    "    return(r2)\n",
    "\n",
    "def rmse_cv(model, sales_train, y, random_state=12345678):\n",
    "    rmse= np.sqrt(-cross_val_score(model, sales_train, y, scoring=\"neg_mean_squared_error\", cv =KFold(10, shuffle=True, random_state=random_state)))\n",
    "    return(rmse)'''"
   ]
  },
  {
   "cell_type": "code",
   "execution_count": 24,
   "metadata": {},
   "outputs": [
    {
     "data": {
      "text/plain": [
       "'model_simple = LinearRegression()\\nmodel_simple.fit(salesRegion7_train, y)\\nyp = model_simple.predict(salesRegion7_train)\\n\\n# compute R2 for train and using crossvalidation\\nr2_simple_train = r2_score(y,yp)\\nr2_xval_simple =  r2_cv(model_simple, salesRegion7_train, y)\\n\\n# compute RMSE for train and using crossvalidation\\nrmse_simple_train = mean_squared_error(y,yp,multioutput=\\'raw_values\\')\\nrmse_xval_simple =  rmse_cv(model_simple, salesRegion7_train, y)\\n\\nprint(\"Linear Regression\")\\nprint(\"==================================================\")\\nprint(\"\\t                  Train R2=%.3f\"%(r2_simple_train))\\nprint(\"\\t10-fold Crossvalidation R2=%.3f\"%(r2_xval_simple.mean()))\\nprint(\"\\t                  Train RMSE=%.3f\"%(rmse_simple_train))\\nprint(\"\\t10-fold Crossvalidation RMSE=%.3f\"%(rmse_xval_simple.mean()))'"
      ]
     },
     "execution_count": 24,
     "metadata": {},
     "output_type": "execute_result"
    }
   ],
   "source": [
    "'''model_simple = LinearRegression()\n",
    "model_simple.fit(salesRegion7_train, y)\n",
    "yp = model_simple.predict(salesRegion7_train)\n",
    "\n",
    "# compute R2 for train and using crossvalidation\n",
    "r2_simple_train = r2_score(y,yp)\n",
    "r2_xval_simple =  r2_cv(model_simple, salesRegion7_train, y)\n",
    "\n",
    "# compute RMSE for train and using crossvalidation\n",
    "rmse_simple_train = mean_squared_error(y,yp,multioutput='raw_values')\n",
    "rmse_xval_simple =  rmse_cv(model_simple, salesRegion7_train, y)\n",
    "\n",
    "print(\"Linear Regression\")\n",
    "print(\"==================================================\")\n",
    "print(\"\\t                  Train R2=%.3f\"%(r2_simple_train))\n",
    "print(\"\\t10-fold Crossvalidation R2=%.3f\"%(r2_xval_simple.mean()))\n",
    "print(\"\\t                  Train RMSE=%.3f\"%(rmse_simple_train))\n",
    "print(\"\\t10-fold Crossvalidation RMSE=%.3f\"%(rmse_xval_simple.mean()))'''"
   ]
  },
  {
   "cell_type": "markdown",
   "metadata": {},
   "source": [
    "# Dealing with outliers\n"
   ]
  },
  {
   "cell_type": "code",
   "execution_count": 25,
   "metadata": {},
   "outputs": [
    {
     "data": {
      "image/png": "[encoded data removed]",
      "text/plain": [
       "<matplotlib.figure.Figure at 0x24c909f9748>"
      ]
     },
     "metadata": {},
     "output_type": "display_data"
    }
   ],
   "source": [
    "#Winsorizing of  NearestCompetitor on 95th percentile\n",
    "#Before\n",
    "avgSalesForCompDist=sales\n",
    "avgSalesForCompDist.groupby('NearestCompetitor', as_index=False)['NumberOfSales'].mean()\n",
    "x = avgSalesForCompDist['NearestCompetitor']\n",
    "y = avgSalesForCompDist['NumberOfSales']\n",
    "font = {'family' : 'sans', 'size'   : 16}\n",
    "plt.figure(figsize=(20,10))\n",
    "plt.rc('font', **font)\n",
    "#plt.ylim((1.75,7.25))\n",
    "#plt.xlim((10,80))\n",
    "plt.xlabel(\"NearestCompetitor\")\n",
    "plt.ylabel(\"Average NumberOfSales\")\n",
    "plt.scatter(x, y, color='blue', marker='o', s=5)\n",
    "plt.grid()"
   ]
  },
  {
   "cell_type": "code",
   "execution_count": 26,
   "metadata": {},
   "outputs": [],
   "source": [
    "#index1=np.where(sales['NearestCompetitor']>=NC95p)\n",
    "#sales['NearestCompetitor'][index1]\n",
    "\n",
    "NC95p=sales['NearestCompetitor'].quantile(.95)\n",
    "sales.loc[sales[\"NearestCompetitor\"]>NC95p,\"NearestCompetitor\"]=NC95p"
   ]
  },
  {
   "cell_type": "code",
   "execution_count": 27,
   "metadata": {},
   "outputs": [
    {
     "data": {
      "image/png": "[encoded data removed]",
      "text/plain": [
       "<matplotlib.figure.Figure at 0x24c909f95f8>"
      ]
     },
     "metadata": {},
     "output_type": "display_data"
    }
   ],
   "source": [
    "#Winsorizing of Precipitationmm on 95th percentile\n",
    "#Before\n",
    "avgSalesForCompDist=sales\n",
    "avgSalesForCompDist.groupby('Precipitationmm', as_index=False)['NumberOfSales'].mean()\n",
    "x = avgSalesForCompDist['Precipitationmm']\n",
    "y = avgSalesForCompDist['NumberOfSales']\n",
    "font = {'family' : 'sans', 'size'   : 16}\n",
    "plt.figure(figsize=(20,10))\n",
    "plt.rc('font', **font)\n",
    "#plt.ylim((1.75,7.25))\n",
    "#plt.xlim((10,80))\n",
    "plt.xlabel(\"Precipitationmm\")\n",
    "plt.ylabel(\"Average NumberOfSales\")\n",
    "plt.scatter(x, y, color='blue', marker='o', s=5)\n",
    "plt.grid()"
   ]
  },
  {
   "cell_type": "code",
   "execution_count": 28,
   "metadata": {},
   "outputs": [
    {
     "data": {
      "text/plain": [
       "11.94"
      ]
     },
     "execution_count": 28,
     "metadata": {},
     "output_type": "execute_result"
    }
   ],
   "source": [
    "temp=sales['Precipitationmm'].quantile(.99)\n",
    "sales.loc[sales[\"Precipitationmm\"]>temp,\"Precipitationmm\"]=temp\n",
    "temp"
   ]
  },
  {
   "cell_type": "code",
   "execution_count": 29,
   "metadata": {},
   "outputs": [
    {
     "data": {
      "image/png": "[encoded data removed]",
      "text/plain": [
       "<matplotlib.figure.Figure at 0x24c951bf828>"
      ]
     },
     "metadata": {},
     "output_type": "display_data"
    }
   ],
   "source": [
    "#After\n",
    "avgSalesForCompDist=sales\n",
    "avgSalesForCompDist.groupby('Precipitationmm', as_index=False)['NumberOfSales'].mean()\n",
    "x = avgSalesForCompDist['Precipitationmm']\n",
    "y = avgSalesForCompDist['NumberOfSales']\n",
    "font = {'family' : 'sans', 'size'   : 16}\n",
    "plt.figure(figsize=(20,10))\n",
    "plt.rc('font', **font)\n",
    "#plt.ylim((1.75,7.25))\n",
    "#plt.xlim((10,80))\n",
    "plt.xlabel(\"Precipitationmm\")\n",
    "plt.ylabel(\"Average NumberOfSales\")\n",
    "plt.scatter(x, y, color='blue', marker='o', s=5)\n",
    "plt.grid()"
   ]
  },
  {
   "cell_type": "code",
   "execution_count": 30,
   "metadata": {},
   "outputs": [
    {
     "data": {
      "text/plain": [
       "50.0"
      ]
     },
     "execution_count": 30,
     "metadata": {},
     "output_type": "execute_result"
    }
   ],
   "source": [
    "temp=sales['Max_Wind_SpeedKm_h'].quantile(.99)\n",
    "sales.loc[sales[\"Max_Wind_SpeedKm_h\"]>temp,\"Max_Wind_SpeedKm_h\"]=temp\n",
    "temp"
   ]
  },
  {
   "cell_type": "code",
   "execution_count": 31,
   "metadata": {},
   "outputs": [
    {
     "data": {
      "text/plain": [
       "8.0"
      ]
     },
     "execution_count": 31,
     "metadata": {},
     "output_type": "execute_result"
    }
   ],
   "source": [
    "temp=sales['Max_Wind_SpeedKm_h'].quantile(.01)\n",
    "sales.loc[sales[\"Max_Wind_SpeedKm_h\"]<temp,\"Max_Wind_SpeedKm_h\"]=temp\n",
    "temp"
   ]
  },
  {
   "cell_type": "code",
   "execution_count": 32,
   "metadata": {},
   "outputs": [
    {
     "data": {
      "text/plain": [
       "32.0"
      ]
     },
     "execution_count": 32,
     "metadata": {},
     "output_type": "execute_result"
    }
   ],
   "source": [
    "temp=sales['Max_TemperatureC'].quantile(.99)\n",
    "sales.loc[sales[\"Max_TemperatureC\"]>temp,\"Max_TemperatureC\"]=temp\n",
    "temp"
   ]
  },
  {
   "cell_type": "code",
   "execution_count": 33,
   "metadata": {},
   "outputs": [
    {
     "data": {
      "text/plain": [
       "-2.0"
      ]
     },
     "execution_count": 33,
     "metadata": {},
     "output_type": "execute_result"
    }
   ],
   "source": [
    "temp=sales['Max_TemperatureC'].quantile(.01)\n",
    "sales.loc[sales[\"Max_TemperatureC\"]<temp,\"Max_TemperatureC\"]=temp\n",
    "temp"
   ]
  },
  {
   "cell_type": "code",
   "execution_count": 34,
   "metadata": {},
   "outputs": [],
   "source": [
    "x='Min_TemperatureC'\n",
    "temp=sales[x].quantile(.01)\n",
    "sales.loc[sales[x]<temp,x]=temp\n",
    "temp=sales[x].quantile(.99)\n",
    "sales.loc[sales[x]>temp,x]=temp"
   ]
  },
  {
   "cell_type": "code",
   "execution_count": 35,
   "metadata": {},
   "outputs": [],
   "source": [
    "x='Mean_Dew_PointC'\n",
    "temp=sales[x].quantile(.05)\n",
    "sales.loc[sales[x]<temp,x]=temp\n",
    "temp=sales[x].quantile(.98)\n",
    "sales.loc[sales[x]>temp,x]=temp"
   ]
  },
  {
   "cell_type": "code",
   "execution_count": 36,
   "metadata": {},
   "outputs": [],
   "source": [
    "x='Mean_Humidity'\n",
    "temp=sales[x].quantile(.01)\n",
    "sales.loc[sales[x]<temp,x]=temp\n",
    "temp=sales[x].quantile(.95)\n",
    "sales.loc[sales[x]>temp,x]=temp"
   ]
  },
  {
   "cell_type": "code",
   "execution_count": 37,
   "metadata": {},
   "outputs": [],
   "source": [
    "x='Min_VisibilitykM'\n",
    "temp=sales[x].quantile(.98)\n",
    "sales.loc[sales[x]>temp,x]=temp"
   ]
  },
  {
   "cell_type": "code",
   "execution_count": 38,
   "metadata": {},
   "outputs": [],
   "source": [
    "x='Min_Humidity'\n",
    "temp=sales[x].quantile(.02)\n",
    "sales.loc[sales[x]<temp,x]=temp\n",
    "temp=sales[x].quantile(.98)\n",
    "sales.loc[sales[x]>temp,x]=temp"
   ]
  },
  {
   "cell_type": "code",
   "execution_count": 39,
   "metadata": {},
   "outputs": [],
   "source": [
    "x='Mean_Wind_SpeedKm_h'\n",
    "temp=sales[x].quantile(.99)\n",
    "sales.loc[sales[x]>temp,x]=temp"
   ]
  },
  {
   "cell_type": "code",
   "execution_count": 40,
   "metadata": {},
   "outputs": [],
   "source": [
    "x='Mean_TemperatureC'\n",
    "temp=sales[x].quantile(.01)\n",
    "sales.loc[sales[x]<temp,x]=temp\n",
    "temp=sales[x].quantile(.99)\n",
    "sales.loc[sales[x]>temp,x]=temp"
   ]
  },
  {
   "cell_type": "code",
   "execution_count": 41,
   "metadata": {},
   "outputs": [],
   "source": [
    "x='Mean_VisibilityKm'\n",
    "temp=sales[x].quantile(.01)\n",
    "sales.loc[sales[x]<temp,x]=temp\n",
    "temp=sales[x].quantile(.95)\n",
    "sales.loc[sales[x]>temp,x]=temp"
   ]
  },
  {
   "cell_type": "code",
   "execution_count": 42,
   "metadata": {},
   "outputs": [],
   "source": [
    "#Min_Sea_Level_PressurehPa  ->dropparla\n",
    "#WindDirDegrees             -> inutile secondo me -> o la si categorizza in nord sud est ovest e la si fa con One Hot Encoding\n"
   ]
  },
  {
   "cell_type": "code",
   "execution_count": 43,
   "metadata": {},
   "outputs": [],
   "source": [
    "#x=\"\"\n",
    "#sales[x].describe()"
   ]
  },
  {
   "cell_type": "code",
   "execution_count": 44,
   "metadata": {},
   "outputs": [],
   "source": [
    "#sales[x].quantile(.01)"
   ]
  },
  {
   "cell_type": "code",
   "execution_count": 45,
   "metadata": {},
   "outputs": [],
   "source": [
    "#sales[x].quantile(.95)"
   ]
  },
  {
   "cell_type": "code",
   "execution_count": 48,
   "metadata": {},
   "outputs": [
    {
     "data": {
      "text/html": [
       "<div>\n",
       "<style scoped>\n",
       "    .dataframe tbody tr th:only-of-type {\n",
       "        vertical-align: middle;\n",
       "    }\n",
       "\n",
       "    .dataframe tbody tr th {\n",
       "        vertical-align: top;\n",
       "    }\n",
       "\n",
       "    .dataframe thead th {\n",
       "        text-align: right;\n",
       "    }\n",
       "</style>\n",
       "<table border=\"1\" class=\"dataframe\">\n",
       "  <thead>\n",
       "    <tr style=\"text-align: right;\">\n",
       "      <th></th>\n",
       "      <th>StoreID</th>\n",
       "      <th>IsHoliday</th>\n",
       "      <th>IsOpen</th>\n",
       "      <th>HasPromotions</th>\n",
       "      <th>NearestCompetitor</th>\n",
       "      <th>Region</th>\n",
       "      <th>NumberOfSales</th>\n",
       "      <th>Region_AreaKM2</th>\n",
       "      <th>Region_GDP</th>\n",
       "      <th>Region_PopulationK</th>\n",
       "      <th>...</th>\n",
       "      <th>Mean_Humidity</th>\n",
       "      <th>Mean_TemperatureC</th>\n",
       "      <th>Mean_VisibilityKm</th>\n",
       "      <th>Mean_Wind_SpeedKm_h</th>\n",
       "      <th>Min_Humidity</th>\n",
       "      <th>Min_Sea_Level_PressurehPa</th>\n",
       "      <th>Min_TemperatureC</th>\n",
       "      <th>Min_VisibilitykM</th>\n",
       "      <th>Precipitationmm</th>\n",
       "      <th>WindDirDegrees</th>\n",
       "    </tr>\n",
       "  </thead>\n",
       "  <tbody>\n",
       "    <tr>\n",
       "      <th>count</th>\n",
       "      <td>89063.000000</td>\n",
       "      <td>89063.000000</td>\n",
       "      <td>89063.0</td>\n",
       "      <td>89063.000000</td>\n",
       "      <td>89063.000000</td>\n",
       "      <td>89063.000000</td>\n",
       "      <td>89063.0</td>\n",
       "      <td>89063.000000</td>\n",
       "      <td>89063.000000</td>\n",
       "      <td>89063.000000</td>\n",
       "      <td>...</td>\n",
       "      <td>89063.000000</td>\n",
       "      <td>89063.000000</td>\n",
       "      <td>89063.000000</td>\n",
       "      <td>89063.000000</td>\n",
       "      <td>89063.000000</td>\n",
       "      <td>89063.000000</td>\n",
       "      <td>89063.000000</td>\n",
       "      <td>89063.000000</td>\n",
       "      <td>89063.000000</td>\n",
       "      <td>89063.000000</td>\n",
       "    </tr>\n",
       "    <tr>\n",
       "      <th>mean</th>\n",
       "      <td>1374.028631</td>\n",
       "      <td>0.169913</td>\n",
       "      <td>0.0</td>\n",
       "      <td>0.060665</td>\n",
       "      <td>7171.772711</td>\n",
       "      <td>5.643477</td>\n",
       "      <td>0.0</td>\n",
       "      <td>12712.223325</td>\n",
       "      <td>14074.866465</td>\n",
       "      <td>3938.279555</td>\n",
       "      <td>...</td>\n",
       "      <td>74.818937</td>\n",
       "      <td>9.979127</td>\n",
       "      <td>12.009949</td>\n",
       "      <td>11.961106</td>\n",
       "      <td>51.496974</td>\n",
       "      <td>1012.200600</td>\n",
       "      <td>6.013249</td>\n",
       "      <td>7.014683</td>\n",
       "      <td>0.766716</td>\n",
       "      <td>179.511862</td>\n",
       "    </tr>\n",
       "    <tr>\n",
       "      <th>std</th>\n",
       "      <td>217.128982</td>\n",
       "      <td>0.375559</td>\n",
       "      <td>0.0</td>\n",
       "      <td>0.238716</td>\n",
       "      <td>8710.349801</td>\n",
       "      <td>3.356917</td>\n",
       "      <td>0.0</td>\n",
       "      <td>9262.217115</td>\n",
       "      <td>2730.858346</td>\n",
       "      <td>2817.397752</td>\n",
       "      <td>...</td>\n",
       "      <td>12.593366</td>\n",
       "      <td>6.841593</td>\n",
       "      <td>4.272976</td>\n",
       "      <td>5.655660</td>\n",
       "      <td>18.689708</td>\n",
       "      <td>8.597585</td>\n",
       "      <td>6.190530</td>\n",
       "      <td>4.414798</td>\n",
       "      <td>2.015844</td>\n",
       "      <td>103.753375</td>\n",
       "    </tr>\n",
       "    <tr>\n",
       "      <th>min</th>\n",
       "      <td>1000.000000</td>\n",
       "      <td>0.000000</td>\n",
       "      <td>0.0</td>\n",
       "      <td>0.000000</td>\n",
       "      <td>47.000000</td>\n",
       "      <td>0.000000</td>\n",
       "      <td>0.0</td>\n",
       "      <td>344.000000</td>\n",
       "      <td>9893.000000</td>\n",
       "      <td>816.000000</td>\n",
       "      <td>...</td>\n",
       "      <td>43.000000</td>\n",
       "      <td>-4.000000</td>\n",
       "      <td>3.000000</td>\n",
       "      <td>3.000000</td>\n",
       "      <td>18.000000</td>\n",
       "      <td>984.000000</td>\n",
       "      <td>-8.000000</td>\n",
       "      <td>0.000000</td>\n",
       "      <td>0.000000</td>\n",
       "      <td>-1.000000</td>\n",
       "    </tr>\n",
       "    <tr>\n",
       "      <th>25%</th>\n",
       "      <td>1187.000000</td>\n",
       "      <td>0.000000</td>\n",
       "      <td>0.0</td>\n",
       "      <td>0.000000</td>\n",
       "      <td>1043.000000</td>\n",
       "      <td>2.000000</td>\n",
       "      <td>0.0</td>\n",
       "      <td>7215.000000</td>\n",
       "      <td>11849.000000</td>\n",
       "      <td>1584.000000</td>\n",
       "      <td>...</td>\n",
       "      <td>66.000000</td>\n",
       "      <td>4.000000</td>\n",
       "      <td>10.000000</td>\n",
       "      <td>8.000000</td>\n",
       "      <td>36.000000</td>\n",
       "      <td>1007.000000</td>\n",
       "      <td>1.000000</td>\n",
       "      <td>3.000000</td>\n",
       "      <td>0.000000</td>\n",
       "      <td>85.000000</td>\n",
       "    </tr>\n",
       "    <tr>\n",
       "      <th>50%</th>\n",
       "      <td>1375.000000</td>\n",
       "      <td>0.000000</td>\n",
       "      <td>0.0</td>\n",
       "      <td>0.000000</td>\n",
       "      <td>3351.000000</td>\n",
       "      <td>6.000000</td>\n",
       "      <td>0.0</td>\n",
       "      <td>9643.000000</td>\n",
       "      <td>15017.000000</td>\n",
       "      <td>2770.000000</td>\n",
       "      <td>...</td>\n",
       "      <td>76.000000</td>\n",
       "      <td>10.000000</td>\n",
       "      <td>11.000000</td>\n",
       "      <td>11.000000</td>\n",
       "      <td>52.000000</td>\n",
       "      <td>1013.000000</td>\n",
       "      <td>6.000000</td>\n",
       "      <td>7.223408</td>\n",
       "      <td>0.000000</td>\n",
       "      <td>207.000000</td>\n",
       "    </tr>\n",
       "    <tr>\n",
       "      <th>75%</th>\n",
       "      <td>1562.000000</td>\n",
       "      <td>0.000000</td>\n",
       "      <td>0.0</td>\n",
       "      <td>0.000000</td>\n",
       "      <td>9586.000000</td>\n",
       "      <td>9.000000</td>\n",
       "      <td>0.0</td>\n",
       "      <td>15566.000000</td>\n",
       "      <td>15931.000000</td>\n",
       "      <td>5727.000000</td>\n",
       "      <td>...</td>\n",
       "      <td>85.000000</td>\n",
       "      <td>15.000000</td>\n",
       "      <td>14.000000</td>\n",
       "      <td>14.000000</td>\n",
       "      <td>66.000000</td>\n",
       "      <td>1018.000000</td>\n",
       "      <td>11.000000</td>\n",
       "      <td>10.000000</td>\n",
       "      <td>0.250000</td>\n",
       "      <td>261.000000</td>\n",
       "    </tr>\n",
       "    <tr>\n",
       "      <th>max</th>\n",
       "      <td>1748.000000</td>\n",
       "      <td>1.000000</td>\n",
       "      <td>0.0</td>\n",
       "      <td>1.000000</td>\n",
       "      <td>31210.000000</td>\n",
       "      <td>10.000000</td>\n",
       "      <td>0.0</td>\n",
       "      <td>32221.000000</td>\n",
       "      <td>23931.000000</td>\n",
       "      <td>8146.000000</td>\n",
       "      <td>...</td>\n",
       "      <td>94.000000</td>\n",
       "      <td>24.000000</td>\n",
       "      <td>23.000000</td>\n",
       "      <td>29.000000</td>\n",
       "      <td>90.000000</td>\n",
       "      <td>1035.000000</td>\n",
       "      <td>19.000000</td>\n",
       "      <td>23.000000</td>\n",
       "      <td>11.940000</td>\n",
       "      <td>360.000000</td>\n",
       "    </tr>\n",
       "  </tbody>\n",
       "</table>\n",
       "<p>8 rows × 26 columns</p>\n",
       "</div>"
      ],
      "text/plain": [
       "            StoreID     IsHoliday   IsOpen  HasPromotions  NearestCompetitor  \\\n",
       "count  89063.000000  89063.000000  89063.0   89063.000000       89063.000000   \n",
       "mean    1374.028631      0.169913      0.0       0.060665        7171.772711   \n",
       "std      217.128982      0.375559      0.0       0.238716        8710.349801   \n",
       "min     1000.000000      0.000000      0.0       0.000000          47.000000   \n",
       "25%     1187.000000      0.000000      0.0       0.000000        1043.000000   \n",
       "50%     1375.000000      0.000000      0.0       0.000000        3351.000000   \n",
       "75%     1562.000000      0.000000      0.0       0.000000        9586.000000   \n",
       "max     1748.000000      1.000000      0.0       1.000000       31210.000000   \n",
       "\n",
       "             Region  NumberOfSales  Region_AreaKM2    Region_GDP  \\\n",
       "count  89063.000000        89063.0    89063.000000  89063.000000   \n",
       "mean       5.643477            0.0    12712.223325  14074.866465   \n",
       "std        3.356917            0.0     9262.217115   2730.858346   \n",
       "min        0.000000            0.0      344.000000   9893.000000   \n",
       "25%        2.000000            0.0     7215.000000  11849.000000   \n",
       "50%        6.000000            0.0     9643.000000  15017.000000   \n",
       "75%        9.000000            0.0    15566.000000  15931.000000   \n",
       "max       10.000000            0.0    32221.000000  23931.000000   \n",
       "\n",
       "       Region_PopulationK       ...        Mean_Humidity  Mean_TemperatureC  \\\n",
       "count        89063.000000       ...         89063.000000       89063.000000   \n",
       "mean          3938.279555       ...            74.818937           9.979127   \n",
       "std           2817.397752       ...            12.593366           6.841593   \n",
       "min            816.000000       ...            43.000000          -4.000000   \n",
       "25%           1584.000000       ...            66.000000           4.000000   \n",
       "50%           2770.000000       ...            76.000000          10.000000   \n",
       "75%           5727.000000       ...            85.000000          15.000000   \n",
       "max           8146.000000       ...            94.000000          24.000000   \n",
       "\n",
       "       Mean_VisibilityKm  Mean_Wind_SpeedKm_h  Min_Humidity  \\\n",
       "count       89063.000000         89063.000000  89063.000000   \n",
       "mean           12.009949            11.961106     51.496974   \n",
       "std             4.272976             5.655660     18.689708   \n",
       "min             3.000000             3.000000     18.000000   \n",
       "25%            10.000000             8.000000     36.000000   \n",
       "50%            11.000000            11.000000     52.000000   \n",
       "75%            14.000000            14.000000     66.000000   \n",
       "max            23.000000            29.000000     90.000000   \n",
       "\n",
       "       Min_Sea_Level_PressurehPa  Min_TemperatureC  Min_VisibilitykM  \\\n",
       "count               89063.000000      89063.000000      89063.000000   \n",
       "mean                 1012.200600          6.013249          7.014683   \n",
       "std                     8.597585          6.190530          4.414798   \n",
       "min                   984.000000         -8.000000          0.000000   \n",
       "25%                  1007.000000          1.000000          3.000000   \n",
       "50%                  1013.000000          6.000000          7.223408   \n",
       "75%                  1018.000000         11.000000         10.000000   \n",
       "max                  1035.000000         19.000000         23.000000   \n",
       "\n",
       "       Precipitationmm  WindDirDegrees  \n",
       "count     89063.000000    89063.000000  \n",
       "mean          0.766716      179.511862  \n",
       "std           2.015844      103.753375  \n",
       "min           0.000000       -1.000000  \n",
       "25%           0.000000       85.000000  \n",
       "50%           0.000000      207.000000  \n",
       "75%           0.250000      261.000000  \n",
       "max          11.940000      360.000000  \n",
       "\n",
       "[8 rows x 26 columns]"
      ]
     },
     "execution_count": 48,
     "metadata": {},
     "output_type": "execute_result"
    }
   ],
   "source": [
    "temp1=sales[sales['IsOpen']==0]\n",
    "temp1.describe()"
   ]
  },
  {
   "cell_type": "code",
   "execution_count": 52,
   "metadata": {},
   "outputs": [
    {
     "data": {
      "text/plain": [
       "749"
      ]
     },
     "execution_count": 52,
     "metadata": {},
     "output_type": "execute_result"
    }
   ],
   "source": [
    "stores = [store for store in sales[\"StoreID\"]]\n",
    "stores.sort()\n",
    "stores = list(set(stores))\n",
    "len(stores) #How many distinct stores we have. "
   ]
  },
  {
   "cell_type": "code",
   "execution_count": null,
   "metadata": {},
   "outputs": [],
   "source": []
  }
 ],
 "metadata": {
  "kernelspec": {
   "display_name": "Python 3",
   "language": "python",
   "name": "python3"
  },
  "language_info": {
   "codemirror_mode": {
    "name": "ipython",
    "version": 3
   },
   "file_extension": ".py",
   "mimetype": "text/x-python",
   "name": "python",
   "nbconvert_exporter": "python",
   "pygments_lexer": "ipython3",
   "version": "3.6.4"
  }
 },
 "nbformat": 4,
 "nbformat_minor": 2
}
