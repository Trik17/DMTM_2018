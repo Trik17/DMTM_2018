{
 "cells": [
  {
   "cell_type": "code",
   "execution_count": 1,
   "metadata": {},
   "outputs": [
    {
     "data": {
      "text/html": [
       "\n",
       "    <div class=\"bk-root\">\n",
       "        <a href=\"https://bokeh.pydata.org\" target=\"_blank\" class=\"bk-logo bk-logo-small bk-logo-notebook\"></a>\n",
       "        <span id=\"ad972c35-ff13-4523-9b53-c5602cd83117\">Loading BokehJS ...</span>\n",
       "    </div>"
      ]
     },
     "metadata": {},
     "output_type": "display_data"
    },
    {
     "data": {
      "application/javascript": [
       "\n",
       "(function(root) {\n",
       "  function now() {\n",
       "    return new Date();\n",
       "  }\n",
       "\n",
       "  var force = true;\n",
       "\n",
       "  if (typeof (root._bokeh_onload_callbacks) === \"undefined\" || force === true) {\n",
       "    root._bokeh_onload_callbacks = [];\n",
       "    root._bokeh_is_loading = undefined;\n",
       "  }\n",
       "\n",
       "  var JS_MIME_TYPE = 'application/javascript';\n",
       "  var HTML_MIME_TYPE = 'text/html';\n",
       "  var EXEC_MIME_TYPE = 'application/vnd.bokehjs_exec.v0+json';\n",
       "  var CLASS_NAME = 'output_bokeh rendered_html';\n",
       "\n",
       "  /**\n",
       "   * Render data to the DOM node\n",
       "   */\n",
       "  function render(props, node) {\n",
       "    var script = document.createElement(\"script\");\n",
       "    node.appendChild(script);\n",
       "  }\n",
       "\n",
       "  /**\n",
       "   * Handle when an output is cleared or removed\n",
       "   */\n",
       "  function handleClearOutput(event, handle) {\n",
       "    var cell = handle.cell;\n",
       "\n",
       "    var id = cell.output_area._bokeh_element_id;\n",
       "    var server_id = cell.output_area._bokeh_server_id;\n",
       "    // Clean up Bokeh references\n",
       "    if (id !== undefined) {\n",
       "      Bokeh.index[id].model.document.clear();\n",
       "      delete Bokeh.index[id];\n",
       "    }\n",
       "\n",
       "    if (server_id !== undefined) {\n",
       "      // Clean up Bokeh references\n",
       "      var cmd = \"from bokeh.io.state import curstate; print(curstate().uuid_to_server['\" + server_id + \"'].get_sessions()[0].document.roots[0]._id)\";\n",
       "      cell.notebook.kernel.execute(cmd, {\n",
       "        iopub: {\n",
       "          output: function(msg) {\n",
       "            var element_id = msg.content.text.trim();\n",
       "            Bokeh.index[element_id].model.document.clear();\n",
       "            delete Bokeh.index[element_id];\n",
       "          }\n",
       "        }\n",
       "      });\n",
       "      // Destroy server and session\n",
       "      var cmd = \"import bokeh.io.notebook as ion; ion.destroy_server('\" + server_id + \"')\";\n",
       "      cell.notebook.kernel.execute(cmd);\n",
       "    }\n",
       "  }\n",
       "\n",
       "  /**\n",
       "   * Handle when a new output is added\n",
       "   */\n",
       "  function handleAddOutput(event, handle) {\n",
       "    var output_area = handle.output_area;\n",
       "    var output = handle.output;\n",
       "\n",
       "    // limit handleAddOutput to display_data with EXEC_MIME_TYPE content only\n",
       "    if ((output.output_type != \"display_data\") || (!output.data.hasOwnProperty(EXEC_MIME_TYPE))) {\n",
       "      return\n",
       "    }\n",
       "\n",
       "    var toinsert = output_area.element.find(\".\" + CLASS_NAME.split(' ')[0]);\n",
       "\n",
       "    if (output.metadata[EXEC_MIME_TYPE][\"id\"] !== undefined) {\n",
       "      toinsert[0].firstChild.textContent = output.data[JS_MIME_TYPE];\n",
       "      // store reference to embed id on output_area\n",
       "      output_area._bokeh_element_id = output.metadata[EXEC_MIME_TYPE][\"id\"];\n",
       "    }\n",
       "    if (output.metadata[EXEC_MIME_TYPE][\"server_id\"] !== undefined) {\n",
       "      var bk_div = document.createElement(\"div\");\n",
       "      bk_div.innerHTML = output.data[HTML_MIME_TYPE];\n",
       "      var script_attrs = bk_div.children[0].attributes;\n",
       "      for (var i = 0; i < script_attrs.length; i++) {\n",
       "        toinsert[0].firstChild.setAttribute(script_attrs[i].name, script_attrs[i].value);\n",
       "      }\n",
       "      // store reference to server id on output_area\n",
       "      output_area._bokeh_server_id = output.metadata[EXEC_MIME_TYPE][\"server_id\"];\n",
       "    }\n",
       "  }\n",
       "\n",
       "  function register_renderer(events, OutputArea) {\n",
       "\n",
       "    function append_mime(data, metadata, element) {\n",
       "      // create a DOM node to render to\n",
       "      var toinsert = this.create_output_subarea(\n",
       "        metadata,\n",
       "        CLASS_NAME,\n",
       "        EXEC_MIME_TYPE\n",
       "      );\n",
       "      this.keyboard_manager.register_events(toinsert);\n",
       "      // Render to node\n",
       "      var props = {data: data, metadata: metadata[EXEC_MIME_TYPE]};\n",
       "      render(props, toinsert[0]);\n",
       "      element.append(toinsert);\n",
       "      return toinsert\n",
       "    }\n",
       "\n",
       "    /* Handle when an output is cleared or removed */\n",
       "    events.on('clear_output.CodeCell', handleClearOutput);\n",
       "    events.on('delete.Cell', handleClearOutput);\n",
       "\n",
       "    /* Handle when a new output is added */\n",
       "    events.on('output_added.OutputArea', handleAddOutput);\n",
       "\n",
       "    /**\n",
       "     * Register the mime type and append_mime function with output_area\n",
       "     */\n",
       "    OutputArea.prototype.register_mime_type(EXEC_MIME_TYPE, append_mime, {\n",
       "      /* Is output safe? */\n",
       "      safe: true,\n",
       "      /* Index of renderer in `output_area.display_order` */\n",
       "      index: 0\n",
       "    });\n",
       "  }\n",
       "\n",
       "  // register the mime type if in Jupyter Notebook environment and previously unregistered\n",
       "  if (root.Jupyter !== undefined) {\n",
       "    var events = require('base/js/events');\n",
       "    var OutputArea = require('notebook/js/outputarea').OutputArea;\n",
       "\n",
       "    if (OutputArea.prototype.mime_types().indexOf(EXEC_MIME_TYPE) == -1) {\n",
       "      register_renderer(events, OutputArea);\n",
       "    }\n",
       "  }\n",
       "\n",
       "  \n",
       "  if (typeof (root._bokeh_timeout) === \"undefined\" || force === true) {\n",
       "    root._bokeh_timeout = Date.now() + 5000;\n",
       "    root._bokeh_failed_load = false;\n",
       "  }\n",
       "\n",
       "  var NB_LOAD_WARNING = {'data': {'text/html':\n",
       "     \"<div style='background-color: #fdd'>\\n\"+\n",
       "     \"<p>\\n\"+\n",
       "     \"BokehJS does not appear to have successfully loaded. If loading BokehJS from CDN, this \\n\"+\n",
       "     \"may be due to a slow or bad network connection. Possible fixes:\\n\"+\n",
       "     \"</p>\\n\"+\n",
       "     \"<ul>\\n\"+\n",
       "     \"<li>re-rerun `output_notebook()` to attempt to load from CDN again, or</li>\\n\"+\n",
       "     \"<li>use INLINE resources instead, as so:</li>\\n\"+\n",
       "     \"</ul>\\n\"+\n",
       "     \"<code>\\n\"+\n",
       "     \"from bokeh.resources import INLINE\\n\"+\n",
       "     \"output_notebook(resources=INLINE)\\n\"+\n",
       "     \"</code>\\n\"+\n",
       "     \"</div>\"}};\n",
       "\n",
       "  function display_loaded() {\n",
       "    var el = document.getElementById(\"ad972c35-ff13-4523-9b53-c5602cd83117\");\n",
       "    if (el != null) {\n",
       "      el.textContent = \"BokehJS is loading...\";\n",
       "    }\n",
       "    if (root.Bokeh !== undefined) {\n",
       "      if (el != null) {\n",
       "        el.textContent = \"BokehJS \" + root.Bokeh.version + \" successfully loaded.\";\n",
       "      }\n",
       "    } else if (Date.now() < root._bokeh_timeout) {\n",
       "      setTimeout(display_loaded, 100)\n",
       "    }\n",
       "  }\n",
       "\n",
       "\n",
       "  function run_callbacks() {\n",
       "    try {\n",
       "      root._bokeh_onload_callbacks.forEach(function(callback) { callback() });\n",
       "    }\n",
       "    finally {\n",
       "      delete root._bokeh_onload_callbacks\n",
       "    }\n",
       "    console.info(\"Bokeh: all callbacks have finished\");\n",
       "  }\n",
       "\n",
       "  function load_libs(js_urls, callback) {\n",
       "    root._bokeh_onload_callbacks.push(callback);\n",
       "    if (root._bokeh_is_loading > 0) {\n",
       "      console.log(\"Bokeh: BokehJS is being loaded, scheduling callback at\", now());\n",
       "      return null;\n",
       "    }\n",
       "    if (js_urls == null || js_urls.length === 0) {\n",
       "      run_callbacks();\n",
       "      return null;\n",
       "    }\n",
       "    console.log(\"Bokeh: BokehJS not loaded, scheduling load and callback at\", now());\n",
       "    root._bokeh_is_loading = js_urls.length;\n",
       "    for (var i = 0; i < js_urls.length; i++) {\n",
       "      var url = js_urls[i];\n",
       "      var s = document.createElement('script');\n",
       "      s.src = url;\n",
       "      s.async = false;\n",
       "      s.onreadystatechange = s.onload = function() {\n",
       "        root._bokeh_is_loading--;\n",
       "        if (root._bokeh_is_loading === 0) {\n",
       "          console.log(\"Bokeh: all BokehJS libraries loaded\");\n",
       "          run_callbacks()\n",
       "        }\n",
       "      };\n",
       "      s.onerror = function() {\n",
       "        console.warn(\"failed to load library \" + url);\n",
       "      };\n",
       "      console.log(\"Bokeh: injecting script tag for BokehJS library: \", url);\n",
       "      document.getElementsByTagName(\"head\")[0].appendChild(s);\n",
       "    }\n",
       "  };var element = document.getElementById(\"ad972c35-ff13-4523-9b53-c5602cd83117\");\n",
       "  if (element == null) {\n",
       "    console.log(\"Bokeh: ERROR: autoload.js configured with elementid 'ad972c35-ff13-4523-9b53-c5602cd83117' but no matching script tag was found. \")\n",
       "    return false;\n",
       "  }\n",
       "\n",
       "  var js_urls = [\"https://cdn.pydata.org/bokeh/release/bokeh-0.12.13.min.js\", \"https://cdn.pydata.org/bokeh/release/bokeh-widgets-0.12.13.min.js\", \"https://cdn.pydata.org/bokeh/release/bokeh-tables-0.12.13.min.js\", \"https://cdn.pydata.org/bokeh/release/bokeh-gl-0.12.13.min.js\"];\n",
       "\n",
       "  var inline_js = [\n",
       "    function(Bokeh) {\n",
       "      Bokeh.set_log_level(\"info\");\n",
       "    },\n",
       "    \n",
       "    function(Bokeh) {\n",
       "      \n",
       "    },\n",
       "    function(Bokeh) {\n",
       "      console.log(\"Bokeh: injecting CSS: https://cdn.pydata.org/bokeh/release/bokeh-0.12.13.min.css\");\n",
       "      Bokeh.embed.inject_css(\"https://cdn.pydata.org/bokeh/release/bokeh-0.12.13.min.css\");\n",
       "      console.log(\"Bokeh: injecting CSS: https://cdn.pydata.org/bokeh/release/bokeh-widgets-0.12.13.min.css\");\n",
       "      Bokeh.embed.inject_css(\"https://cdn.pydata.org/bokeh/release/bokeh-widgets-0.12.13.min.css\");\n",
       "      console.log(\"Bokeh: injecting CSS: https://cdn.pydata.org/bokeh/release/bokeh-tables-0.12.13.min.css\");\n",
       "      Bokeh.embed.inject_css(\"https://cdn.pydata.org/bokeh/release/bokeh-tables-0.12.13.min.css\");\n",
       "    }\n",
       "  ];\n",
       "\n",
       "  function run_inline_js() {\n",
       "    \n",
       "    if ((root.Bokeh !== undefined) || (force === true)) {\n",
       "      for (var i = 0; i < inline_js.length; i++) {\n",
       "        inline_js[i].call(root, root.Bokeh);\n",
       "      }if (force === true) {\n",
       "        display_loaded();\n",
       "      }} else if (Date.now() < root._bokeh_timeout) {\n",
       "      setTimeout(run_inline_js, 100);\n",
       "    } else if (!root._bokeh_failed_load) {\n",
       "      console.log(\"Bokeh: BokehJS failed to load within specified timeout.\");\n",
       "      root._bokeh_failed_load = true;\n",
       "    } else if (force !== true) {\n",
       "      var cell = $(document.getElementById(\"ad972c35-ff13-4523-9b53-c5602cd83117\")).parents('.cell').data().cell;\n",
       "      cell.output_area.append_execute_result(NB_LOAD_WARNING)\n",
       "    }\n",
       "\n",
       "  }\n",
       "\n",
       "  if (root._bokeh_is_loading === 0) {\n",
       "    console.log(\"Bokeh: BokehJS loaded, going straight to plotting\");\n",
       "    run_inline_js();\n",
       "  } else {\n",
       "    load_libs(js_urls, function() {\n",
       "      console.log(\"Bokeh: BokehJS plotting callback run at\", now());\n",
       "      run_inline_js();\n",
       "    });\n",
       "  }\n",
       "}(window));"
      ],
      "application/vnd.bokehjs_load.v0+json": "\n(function(root) {\n  function now() {\n    return new Date();\n  }\n\n  var force = true;\n\n  if (typeof (root._bokeh_onload_callbacks) === \"undefined\" || force === true) {\n    root._bokeh_onload_callbacks = [];\n    root._bokeh_is_loading = undefined;\n  }\n\n  \n\n  \n  if (typeof (root._bokeh_timeout) === \"undefined\" || force === true) {\n    root._bokeh_timeout = Date.now() + 5000;\n    root._bokeh_failed_load = false;\n  }\n\n  var NB_LOAD_WARNING = {'data': {'text/html':\n     \"<div style='background-color: #fdd'>\\n\"+\n     \"<p>\\n\"+\n     \"BokehJS does not appear to have successfully loaded. If loading BokehJS from CDN, this \\n\"+\n     \"may be due to a slow or bad network connection. Possible fixes:\\n\"+\n     \"</p>\\n\"+\n     \"<ul>\\n\"+\n     \"<li>re-rerun `output_notebook()` to attempt to load from CDN again, or</li>\\n\"+\n     \"<li>use INLINE resources instead, as so:</li>\\n\"+\n     \"</ul>\\n\"+\n     \"<code>\\n\"+\n     \"from bokeh.resources import INLINE\\n\"+\n     \"output_notebook(resources=INLINE)\\n\"+\n     \"</code>\\n\"+\n     \"</div>\"}};\n\n  function display_loaded() {\n    var el = document.getElementById(\"ad972c35-ff13-4523-9b53-c5602cd83117\");\n    if (el != null) {\n      el.textContent = \"BokehJS is loading...\";\n    }\n    if (root.Bokeh !== undefined) {\n      if (el != null) {\n        el.textContent = \"BokehJS \" + root.Bokeh.version + \" successfully loaded.\";\n      }\n    } else if (Date.now() < root._bokeh_timeout) {\n      setTimeout(display_loaded, 100)\n    }\n  }\n\n\n  function run_callbacks() {\n    try {\n      root._bokeh_onload_callbacks.forEach(function(callback) { callback() });\n    }\n    finally {\n      delete root._bokeh_onload_callbacks\n    }\n    console.info(\"Bokeh: all callbacks have finished\");\n  }\n\n  function load_libs(js_urls, callback) {\n    root._bokeh_onload_callbacks.push(callback);\n    if (root._bokeh_is_loading > 0) {\n      console.log(\"Bokeh: BokehJS is being loaded, scheduling callback at\", now());\n      return null;\n    }\n    if (js_urls == null || js_urls.length === 0) {\n      run_callbacks();\n      return null;\n    }\n    console.log(\"Bokeh: BokehJS not loaded, scheduling load and callback at\", now());\n    root._bokeh_is_loading = js_urls.length;\n    for (var i = 0; i < js_urls.length; i++) {\n      var url = js_urls[i];\n      var s = document.createElement('script');\n      s.src = url;\n      s.async = false;\n      s.onreadystatechange = s.onload = function() {\n        root._bokeh_is_loading--;\n        if (root._bokeh_is_loading === 0) {\n          console.log(\"Bokeh: all BokehJS libraries loaded\");\n          run_callbacks()\n        }\n      };\n      s.onerror = function() {\n        console.warn(\"failed to load library \" + url);\n      };\n      console.log(\"Bokeh: injecting script tag for BokehJS library: \", url);\n      document.getElementsByTagName(\"head\")[0].appendChild(s);\n    }\n  };var element = document.getElementById(\"ad972c35-ff13-4523-9b53-c5602cd83117\");\n  if (element == null) {\n    console.log(\"Bokeh: ERROR: autoload.js configured with elementid 'ad972c35-ff13-4523-9b53-c5602cd83117' but no matching script tag was found. \")\n    return false;\n  }\n\n  var js_urls = [\"https://cdn.pydata.org/bokeh/release/bokeh-0.12.13.min.js\", \"https://cdn.pydata.org/bokeh/release/bokeh-widgets-0.12.13.min.js\", \"https://cdn.pydata.org/bokeh/release/bokeh-tables-0.12.13.min.js\", \"https://cdn.pydata.org/bokeh/release/bokeh-gl-0.12.13.min.js\"];\n\n  var inline_js = [\n    function(Bokeh) {\n      Bokeh.set_log_level(\"info\");\n    },\n    \n    function(Bokeh) {\n      \n    },\n    function(Bokeh) {\n      console.log(\"Bokeh: injecting CSS: https://cdn.pydata.org/bokeh/release/bokeh-0.12.13.min.css\");\n      Bokeh.embed.inject_css(\"https://cdn.pydata.org/bokeh/release/bokeh-0.12.13.min.css\");\n      console.log(\"Bokeh: injecting CSS: https://cdn.pydata.org/bokeh/release/bokeh-widgets-0.12.13.min.css\");\n      Bokeh.embed.inject_css(\"https://cdn.pydata.org/bokeh/release/bokeh-widgets-0.12.13.min.css\");\n      console.log(\"Bokeh: injecting CSS: https://cdn.pydata.org/bokeh/release/bokeh-tables-0.12.13.min.css\");\n      Bokeh.embed.inject_css(\"https://cdn.pydata.org/bokeh/release/bokeh-tables-0.12.13.min.css\");\n    }\n  ];\n\n  function run_inline_js() {\n    \n    if ((root.Bokeh !== undefined) || (force === true)) {\n      for (var i = 0; i < inline_js.length; i++) {\n        inline_js[i].call(root, root.Bokeh);\n      }if (force === true) {\n        display_loaded();\n      }} else if (Date.now() < root._bokeh_timeout) {\n      setTimeout(run_inline_js, 100);\n    } else if (!root._bokeh_failed_load) {\n      console.log(\"Bokeh: BokehJS failed to load within specified timeout.\");\n      root._bokeh_failed_load = true;\n    } else if (force !== true) {\n      var cell = $(document.getElementById(\"ad972c35-ff13-4523-9b53-c5602cd83117\")).parents('.cell').data().cell;\n      cell.output_area.append_execute_result(NB_LOAD_WARNING)\n    }\n\n  }\n\n  if (root._bokeh_is_loading === 0) {\n    console.log(\"Bokeh: BokehJS loaded, going straight to plotting\");\n    run_inline_js();\n  } else {\n    load_libs(js_urls, function() {\n      console.log(\"Bokeh: BokehJS plotting callback run at\", now());\n      run_inline_js();\n    });\n  }\n}(window));"
     },
     "metadata": {},
     "output_type": "display_data"
    }
   ],
   "source": [
    "# dataframe management\n",
    "import pandas as pd             \n",
    "\n",
    "# numerical computation\n",
    "import numpy as np\n",
    "\n",
    "import re\n",
    "\n",
    "# visualization library\n",
    "import seaborn as sns\n",
    "sns.set(style=\"white\", color_codes=True)\n",
    "sns.set_context(rc={\"font.family\":'sans',\"font.size\":24,\"axes.titlesize\":24,\"axes.labelsize\":24})   \n",
    "\n",
    "\n",
    "# import matplotlib and allow it to plot inline\n",
    "import matplotlib.pyplot as plt\n",
    "%matplotlib inline\n",
    "\n",
    "# seaborn can generate several warnings, we ignore them\n",
    "import warnings \n",
    "warnings.filterwarnings(\"ignore\")\n",
    "\n",
    "from bokeh.layouts import gridplot\n",
    "from bokeh.plotting import figure\n",
    "\n",
    "from bokeh.io import output_notebook, show\n",
    "from bokeh.models import ColumnDataSource\n",
    "output_notebook()\n",
    "\n",
    "from datetime import datetime, timedelta, date\n",
    "from scipy.stats import skew\n",
    "from sklearn.linear_model import LinearRegression, Ridge, RidgeCV, ElasticNet, Lasso, LassoCV\n",
    "from sklearn.tree import DecisionTreeRegressor\n",
    "from sklearn.model_selection import cross_val_score, KFold\n",
    "from sklearn.metrics import r2_score, mean_squared_error\n",
    "from sklearn.ensemble import RandomForestRegressor,AdaBoostRegressor\n",
    "from sklearn.datasets import load_boston\n",
    "\n",
    "import statsmodels.api as sm\n",
    "\n",
    "\n",
    "#IMPORTS FOR MODEL PARAMETRIZATION\n",
    "from pprint import pprint\n"
   ]
  },
  {
   "cell_type": "markdown",
   "metadata": {},
   "source": [
    "# Functions definitions"
   ]
  },
  {
   "cell_type": "code",
   "execution_count": 2,
   "metadata": {},
   "outputs": [],
   "source": [
    "def toDate(x):\n",
    "    parts = [int(el) for el in x.split(\"/\")]\n",
    "    return date(parts[2], parts[1], parts[0])\n",
    "\n",
    "def r2_cv(model, sales_train, y, random_state=12345678):\n",
    "    r2= cross_val_score(model, sales_train, y, scoring=\"r2\", cv =KFold(10, shuffle=True, random_state=random_state)) \n",
    "    return(r2)\n",
    "\n",
    "def rmse_cv(model, sales_train, y, random_state=12345678):\n",
    "    rmse= np.sqrt(-cross_val_score(model, sales_train, y, scoring=\"neg_mean_squared_error\", cv =KFold(10, shuffle=True, random_state=random_state)))\n",
    "    return(rmse)\n",
    "\n",
    "def RegionError(region, data):\n",
    "    d = data[data[region] == 1][[\"StoreID\",\"Month\",\"NumberOfSales\",\"NumberOfPredictedSales\"]].groupby([\"StoreID\",\"Month\"]).agg(\"sum\")\n",
    "    res = abs(d[\"NumberOfSales\"]-d[\"NumberOfPredictedSales\"]).agg(\"sum\")\n",
    "    return res / d[\"NumberOfSales\"].agg(\"sum\")\n",
    "\n",
    "def q(col, quant, f):\n",
    "    t = sales[col].quantile(quant)\n",
    "    print(f'col {col} at {quant}-th quantile => {t}')\n",
    "    sales.loc[f(sales[col], t), col] = t\n",
    "    \n",
    "def getFilterRegion(cluster, data):\n",
    "    filterRegion = data[cluster[0]] == 1\n",
    "    for region in cluster[1:]:\n",
    "        filterRegion = ((filterRegion) | (data[region]==1))\n",
    "    return filterRegion\n",
    "\n",
    "def getColsMatching(data, oldCol):\n",
    "    return [col for col in data.columns if re.match(r\"(\"+oldCol+\"_)(\\d)\", col)]\n",
    "\n",
    "def dedummify(data, oldCol):\n",
    "    return data[getColsMatching(data,oldCol)].idxmax(axis=1).apply(lambda x : x.split(\"_\")[-1])\n",
    "\n",
    "def firstStepGetModelTrained(cluster, train):\n",
    "    \n",
    "    #Get only the data for the required cluster in train and test set\n",
    "    train_region_label= train.loc[getFilterRegion(cluster,train)]\n",
    "    print(cluster)\n",
    "    \n",
    "    #removing the region columns in order to force the tree alghoritm to do not split for regions\n",
    "    cols_not_for_step1 = ['Region_PopulationK','Region_AreaKM2','Region_GDP',*cluster]\n",
    "    train_region_columns = train_region_label[cols_not_for_step1]\n",
    "    train_region_label=train_region_label.drop(columns=cols_not_for_step1)\n",
    "    \n",
    "    train_x_region_label_step1 = train_region_label.drop(columns=['NumberOfSales','NumberOfCustomers'])\n",
    "    train_y_region_label_step1 = pd.DataFrame(data = train_region_label['NumberOfCustomers'])\n",
    "    \n",
    "    #First model predicting NumberOfCustomers\n",
    "    model_simple = RandomForestRegressor()\n",
    "    \n",
    "    #finding the best parameters\n",
    "    model_simple = RandomizedSearchCV(estimator=model_simple, param_distributions=random_grid,\n",
    "                              n_iter = 1, scoring='neg_mean_absolute_error', \n",
    "                              cv = 3, verbose=2, n_jobs=-1,\n",
    "                              return_train_score=True)\n",
    "    \n",
    "    model_simple = model_simple.fit(train_x_region_label_step1, train_y_region_label_step1)\n",
    "    \n",
    "    pprint(model_simple.best_params_)\n",
    "    \n",
    "    return (model_simple, cols_not_for_step1)\n",
    "\n",
    "def secondStepGetModelTrained(train):\n",
    "    train_x_step2 = train.drop(columns=['NumberOfSales'])\n",
    "    train_y_step2 = pd.DataFrame(data = train['NumberOfSales']) \n",
    "    cols_for_step2 = [*getColsMatching(train,\"Month\"), *getColsMatching(train,\"Region\"),'NumberOfCustomers','Region_AreaKM2','HasPromotions','IsHoliday','Region_GDP', \"StoreID\"]\n",
    "    train_x_step2 = train_x_step2[cols_for_step2]\n",
    "    \n",
    "    #STEP2\n",
    "    model_simple_step2 = RandomForestRegressor()\n",
    "    \n",
    "    #finding the best parameters\n",
    "    model_simple_step2 = RandomizedSearchCV(estimator=model_simple_step2, param_distributions=random_grid,\n",
    "                              n_iter = 1, scoring='neg_mean_absolute_error', \n",
    "                              cv = 3, verbose=2, n_jobs=-1,\n",
    "                              return_train_score=True)\n",
    "    \n",
    "    model_simple_step2 = model_simple_step2.fit(train_x_step2, train_y_step2)\n",
    "    \n",
    "    pprint(model_simple_step2.best_params_)\n",
    "    \n",
    "    return (model_simple_step2, cols_for_step2)\n",
    "\n",
    "def getModelsTrained(clusters, train_1, train):\n",
    "    models = {}\n",
    "    for cluster in clusters:\n",
    "        models[str(cluster)] = firstStepGetModelTrained(cluster, train_1)\n",
    "    # Prepare data for step2\n",
    "    return models, secondStepGetModelTrained(train)\n"
   ]
  },
  {
   "cell_type": "markdown",
   "metadata": {},
   "source": [
    "# Read input data"
   ]
  },
  {
   "cell_type": "code",
   "execution_count": 3,
   "metadata": {},
   "outputs": [],
   "source": [
    "# Reading the data\n",
    "sales =pd.read_csv('train.csv')\n",
    "sales = sales.append(pd.read_csv('test.csv'))\n",
    "# Removing tuples where stores are closed\n",
    "sales = sales[sales['IsOpen'] == 1]\n",
    "# Converting to category columns that are labels\n",
    "for el in [\"StoreID\", \"Region\"]:\n",
    "    sales[el] = sales[el].astype(\"category\")"
   ]
  },
  {
   "cell_type": "code",
   "execution_count": 4,
   "metadata": {
    "scrolled": true
   },
   "outputs": [
    {
     "data": {
      "text/plain": [
       "[('Max_Gust_SpeedKm_h', 370184),\n",
       " ('Events', 117386),\n",
       " ('CloudCover', 41545),\n",
       " ('NumberOfCustomers', 37586),\n",
       " ('NumberOfSales', 37586),\n",
       " ('Max_VisibilityKm', 11408),\n",
       " ('Mean_VisibilityKm', 11408),\n",
       " ('Min_VisibilitykM', 11408)]"
      ]
     },
     "execution_count": 4,
     "metadata": {},
     "output_type": "execute_result"
    }
   ],
   "source": [
    "nulls = sales.isnull().sum()\n",
    "sorted([(x,y) for (x,y) in zip(nulls.index, nulls) if y>0], key=lambda x: x[1], reverse=True)"
   ]
  },
  {
   "cell_type": "markdown",
   "metadata": {},
   "source": [
    "We see that Max_Gust_SpeedKm_h has 409947 missing values. We decided not to impute it.\n",
    "\n",
    "Let's start with imputation of \"Events\""
   ]
  },
  {
   "cell_type": "code",
   "execution_count": 5,
   "metadata": {
    "scrolled": true
   },
   "outputs": [
    {
     "data": {
      "text/html": [
       "<div>\n",
       "<style scoped>\n",
       "    .dataframe tbody tr th:only-of-type {\n",
       "        vertical-align: middle;\n",
       "    }\n",
       "\n",
       "    .dataframe tbody tr th {\n",
       "        vertical-align: top;\n",
       "    }\n",
       "\n",
       "    .dataframe thead th {\n",
       "        text-align: right;\n",
       "    }\n",
       "</style>\n",
       "<table border=\"1\" class=\"dataframe\">\n",
       "  <thead>\n",
       "    <tr style=\"text-align: right;\">\n",
       "      <th></th>\n",
       "      <th>CloudCover</th>\n",
       "      <th>HasPromotions</th>\n",
       "      <th>IsHoliday</th>\n",
       "      <th>IsOpen</th>\n",
       "      <th>Max_Dew_PointC</th>\n",
       "      <th>Max_Gust_SpeedKm_h</th>\n",
       "      <th>Max_Humidity</th>\n",
       "      <th>Max_Sea_Level_PressurehPa</th>\n",
       "      <th>Max_TemperatureC</th>\n",
       "      <th>Max_VisibilityKm</th>\n",
       "      <th>...</th>\n",
       "      <th>Min_TemperatureC</th>\n",
       "      <th>Min_VisibilitykM</th>\n",
       "      <th>NearestCompetitor</th>\n",
       "      <th>NumberOfCustomers</th>\n",
       "      <th>NumberOfSales</th>\n",
       "      <th>Precipitationmm</th>\n",
       "      <th>Region_AreaKM2</th>\n",
       "      <th>Region_GDP</th>\n",
       "      <th>Region_PopulationK</th>\n",
       "      <th>WindDirDegrees</th>\n",
       "    </tr>\n",
       "  </thead>\n",
       "  <tbody>\n",
       "    <tr>\n",
       "      <th>count</th>\n",
       "      <td>88353.000000</td>\n",
       "      <td>117386.000000</td>\n",
       "      <td>117386.000000</td>\n",
       "      <td>117386.0</td>\n",
       "      <td>117386.000000</td>\n",
       "      <td>16279.000000</td>\n",
       "      <td>117386.000000</td>\n",
       "      <td>117386.000000</td>\n",
       "      <td>117386.000000</td>\n",
       "      <td>106405.000000</td>\n",
       "      <td>...</td>\n",
       "      <td>117386.000000</td>\n",
       "      <td>106405.000000</td>\n",
       "      <td>117386.000000</td>\n",
       "      <td>103661.000000</td>\n",
       "      <td>103661.000000</td>\n",
       "      <td>117386.000000</td>\n",
       "      <td>117386.000000</td>\n",
       "      <td>117386.000000</td>\n",
       "      <td>117386.000000</td>\n",
       "      <td>117386.000000</td>\n",
       "    </tr>\n",
       "    <tr>\n",
       "      <th>mean</th>\n",
       "      <td>4.972587</td>\n",
       "      <td>0.447864</td>\n",
       "      <td>0.000954</td>\n",
       "      <td>1.0</td>\n",
       "      <td>7.170906</td>\n",
       "      <td>41.117329</td>\n",
       "      <td>88.402288</td>\n",
       "      <td>1021.152931</td>\n",
       "      <td>16.380778</td>\n",
       "      <td>23.647357</td>\n",
       "      <td>...</td>\n",
       "      <td>5.941893</td>\n",
       "      <td>10.648541</td>\n",
       "      <td>8573.609102</td>\n",
       "      <td>314.641910</td>\n",
       "      <td>4893.577276</td>\n",
       "      <td>0.003462</td>\n",
       "      <td>11738.380122</td>\n",
       "      <td>13757.148229</td>\n",
       "      <td>3507.508681</td>\n",
       "      <td>138.522490</td>\n",
       "    </tr>\n",
       "    <tr>\n",
       "      <th>std</th>\n",
       "      <td>2.231730</td>\n",
       "      <td>0.497277</td>\n",
       "      <td>0.030874</td>\n",
       "      <td>0.0</td>\n",
       "      <td>6.222045</td>\n",
       "      <td>10.304880</td>\n",
       "      <td>9.065070</td>\n",
       "      <td>7.073287</td>\n",
       "      <td>8.454013</td>\n",
       "      <td>9.066879</td>\n",
       "      <td>...</td>\n",
       "      <td>6.504197</td>\n",
       "      <td>6.116777</td>\n",
       "      <td>12144.683666</td>\n",
       "      <td>159.283348</td>\n",
       "      <td>2238.517426</td>\n",
       "      <td>0.082444</td>\n",
       "      <td>8525.873473</td>\n",
       "      <td>2742.219077</td>\n",
       "      <td>2686.068085</td>\n",
       "      <td>105.897769</td>\n",
       "    </tr>\n",
       "    <tr>\n",
       "      <th>min</th>\n",
       "      <td>0.000000</td>\n",
       "      <td>0.000000</td>\n",
       "      <td>0.000000</td>\n",
       "      <td>1.0</td>\n",
       "      <td>-11.000000</td>\n",
       "      <td>23.000000</td>\n",
       "      <td>44.000000</td>\n",
       "      <td>995.000000</td>\n",
       "      <td>-9.000000</td>\n",
       "      <td>2.000000</td>\n",
       "      <td>...</td>\n",
       "      <td>-12.000000</td>\n",
       "      <td>0.000000</td>\n",
       "      <td>47.000000</td>\n",
       "      <td>0.000000</td>\n",
       "      <td>0.000000</td>\n",
       "      <td>0.000000</td>\n",
       "      <td>344.000000</td>\n",
       "      <td>9893.000000</td>\n",
       "      <td>816.000000</td>\n",
       "      <td>-1.000000</td>\n",
       "    </tr>\n",
       "    <tr>\n",
       "      <th>25%</th>\n",
       "      <td>3.000000</td>\n",
       "      <td>0.000000</td>\n",
       "      <td>0.000000</td>\n",
       "      <td>1.0</td>\n",
       "      <td>2.000000</td>\n",
       "      <td>34.000000</td>\n",
       "      <td>82.000000</td>\n",
       "      <td>1016.000000</td>\n",
       "      <td>10.000000</td>\n",
       "      <td>11.000000</td>\n",
       "      <td>...</td>\n",
       "      <td>1.000000</td>\n",
       "      <td>8.000000</td>\n",
       "      <td>1116.000000</td>\n",
       "      <td>215.000000</td>\n",
       "      <td>3375.000000</td>\n",
       "      <td>0.000000</td>\n",
       "      <td>7215.000000</td>\n",
       "      <td>11849.000000</td>\n",
       "      <td>1293.000000</td>\n",
       "      <td>47.000000</td>\n",
       "    </tr>\n",
       "    <tr>\n",
       "      <th>50%</th>\n",
       "      <td>5.000000</td>\n",
       "      <td>0.000000</td>\n",
       "      <td>0.000000</td>\n",
       "      <td>1.0</td>\n",
       "      <td>7.000000</td>\n",
       "      <td>40.000000</td>\n",
       "      <td>88.000000</td>\n",
       "      <td>1021.000000</td>\n",
       "      <td>17.000000</td>\n",
       "      <td>31.000000</td>\n",
       "      <td>...</td>\n",
       "      <td>6.000000</td>\n",
       "      <td>10.000000</td>\n",
       "      <td>3614.000000</td>\n",
       "      <td>280.000000</td>\n",
       "      <td>4461.000000</td>\n",
       "      <td>0.000000</td>\n",
       "      <td>9337.000000</td>\n",
       "      <td>13155.000000</td>\n",
       "      <td>1892.000000</td>\n",
       "      <td>129.000000</td>\n",
       "    </tr>\n",
       "    <tr>\n",
       "      <th>75%</th>\n",
       "      <td>7.000000</td>\n",
       "      <td>1.000000</td>\n",
       "      <td>0.000000</td>\n",
       "      <td>1.0</td>\n",
       "      <td>12.000000</td>\n",
       "      <td>47.000000</td>\n",
       "      <td>94.000000</td>\n",
       "      <td>1026.000000</td>\n",
       "      <td>23.000000</td>\n",
       "      <td>31.000000</td>\n",
       "      <td>...</td>\n",
       "      <td>11.000000</td>\n",
       "      <td>10.000000</td>\n",
       "      <td>10593.000000</td>\n",
       "      <td>372.000000</td>\n",
       "      <td>5918.000000</td>\n",
       "      <td>0.000000</td>\n",
       "      <td>15566.000000</td>\n",
       "      <td>15931.000000</td>\n",
       "      <td>5727.000000</td>\n",
       "      <td>221.000000</td>\n",
       "    </tr>\n",
       "    <tr>\n",
       "      <th>max</th>\n",
       "      <td>8.000000</td>\n",
       "      <td>1.000000</td>\n",
       "      <td>1.000000</td>\n",
       "      <td>1.0</td>\n",
       "      <td>23.000000</td>\n",
       "      <td>77.000000</td>\n",
       "      <td>100.000000</td>\n",
       "      <td>1042.000000</td>\n",
       "      <td>37.000000</td>\n",
       "      <td>31.000000</td>\n",
       "      <td>...</td>\n",
       "      <td>23.000000</td>\n",
       "      <td>31.000000</td>\n",
       "      <td>85070.000000</td>\n",
       "      <td>2206.000000</td>\n",
       "      <td>26641.000000</td>\n",
       "      <td>4.060000</td>\n",
       "      <td>32221.000000</td>\n",
       "      <td>23931.000000</td>\n",
       "      <td>8146.000000</td>\n",
       "      <td>360.000000</td>\n",
       "    </tr>\n",
       "  </tbody>\n",
       "</table>\n",
       "<p>8 rows × 30 columns</p>\n",
       "</div>"
      ],
      "text/plain": [
       "         CloudCover  HasPromotions      IsHoliday    IsOpen  Max_Dew_PointC  \\\n",
       "count  88353.000000  117386.000000  117386.000000  117386.0   117386.000000   \n",
       "mean       4.972587       0.447864       0.000954       1.0        7.170906   \n",
       "std        2.231730       0.497277       0.030874       0.0        6.222045   \n",
       "min        0.000000       0.000000       0.000000       1.0      -11.000000   \n",
       "25%        3.000000       0.000000       0.000000       1.0        2.000000   \n",
       "50%        5.000000       0.000000       0.000000       1.0        7.000000   \n",
       "75%        7.000000       1.000000       0.000000       1.0       12.000000   \n",
       "max        8.000000       1.000000       1.000000       1.0       23.000000   \n",
       "\n",
       "       Max_Gust_SpeedKm_h   Max_Humidity  Max_Sea_Level_PressurehPa  \\\n",
       "count        16279.000000  117386.000000              117386.000000   \n",
       "mean            41.117329      88.402288                1021.152931   \n",
       "std             10.304880       9.065070                   7.073287   \n",
       "min             23.000000      44.000000                 995.000000   \n",
       "25%             34.000000      82.000000                1016.000000   \n",
       "50%             40.000000      88.000000                1021.000000   \n",
       "75%             47.000000      94.000000                1026.000000   \n",
       "max             77.000000     100.000000                1042.000000   \n",
       "\n",
       "       Max_TemperatureC  Max_VisibilityKm       ...        Min_TemperatureC  \\\n",
       "count     117386.000000     106405.000000       ...           117386.000000   \n",
       "mean          16.380778         23.647357       ...                5.941893   \n",
       "std            8.454013          9.066879       ...                6.504197   \n",
       "min           -9.000000          2.000000       ...              -12.000000   \n",
       "25%           10.000000         11.000000       ...                1.000000   \n",
       "50%           17.000000         31.000000       ...                6.000000   \n",
       "75%           23.000000         31.000000       ...               11.000000   \n",
       "max           37.000000         31.000000       ...               23.000000   \n",
       "\n",
       "       Min_VisibilitykM  NearestCompetitor  NumberOfCustomers  NumberOfSales  \\\n",
       "count     106405.000000      117386.000000      103661.000000  103661.000000   \n",
       "mean          10.648541        8573.609102         314.641910    4893.577276   \n",
       "std            6.116777       12144.683666         159.283348    2238.517426   \n",
       "min            0.000000          47.000000           0.000000       0.000000   \n",
       "25%            8.000000        1116.000000         215.000000    3375.000000   \n",
       "50%           10.000000        3614.000000         280.000000    4461.000000   \n",
       "75%           10.000000       10593.000000         372.000000    5918.000000   \n",
       "max           31.000000       85070.000000        2206.000000   26641.000000   \n",
       "\n",
       "       Precipitationmm  Region_AreaKM2     Region_GDP  Region_PopulationK  \\\n",
       "count    117386.000000   117386.000000  117386.000000       117386.000000   \n",
       "mean          0.003462    11738.380122   13757.148229         3507.508681   \n",
       "std           0.082444     8525.873473    2742.219077         2686.068085   \n",
       "min           0.000000      344.000000    9893.000000          816.000000   \n",
       "25%           0.000000     7215.000000   11849.000000         1293.000000   \n",
       "50%           0.000000     9337.000000   13155.000000         1892.000000   \n",
       "75%           0.000000    15566.000000   15931.000000         5727.000000   \n",
       "max           4.060000    32221.000000   23931.000000         8146.000000   \n",
       "\n",
       "       WindDirDegrees  \n",
       "count   117386.000000  \n",
       "mean       138.522490  \n",
       "std        105.897769  \n",
       "min         -1.000000  \n",
       "25%         47.000000  \n",
       "50%        129.000000  \n",
       "75%        221.000000  \n",
       "max        360.000000  \n",
       "\n",
       "[8 rows x 30 columns]"
      ]
     },
     "execution_count": 5,
     "metadata": {},
     "output_type": "execute_result"
    }
   ],
   "source": [
    "null_Events = sales['Events'].isnull()\n",
    "event_missing = sales[null_Events]\n",
    "event_missing.describe()"
   ]
  },
  {
   "cell_type": "code",
   "execution_count": 6,
   "metadata": {},
   "outputs": [
    {
     "data": {
      "text/plain": [
       "Rain                           183464\n",
       "Fog                             61325\n",
       "Fog-Rain                        43791\n",
       "Rain-Thunderstorm               18794\n",
       "Rain-Snow                       16137\n",
       "Snow                            12789\n",
       "Fog-Rain-Thunderstorm            6546\n",
       "Fog-Rain-Snow                    2696\n",
       "Fog-Snow                         2469\n",
       "Rain-Hail                        1647\n",
       "Thunderstorm                     1298\n",
       "Rain-Snow-Hail                   1133\n",
       "Rain-Hail-Thunderstorm            310\n",
       "Rain-Snow-Thunderstorm            307\n",
       "Fog-Rain-Hail-Thunderstorm        303\n",
       "Rain-Snow-Hail-Thunderstorm       290\n",
       "Fog-Rain-Snow-Hail                231\n",
       "Fog-Snow-Hail                     169\n",
       "Fog-Rain-Hail                     168\n",
       "Fog-Thunderstorm                  157\n",
       "Snow-Hail                         134\n",
       "Name: Events, dtype: int64"
      ]
     },
     "execution_count": 6,
     "metadata": {},
     "output_type": "execute_result"
    }
   ],
   "source": [
    "sales['Events'].value_counts()"
   ]
  },
  {
   "cell_type": "markdown",
   "metadata": {},
   "source": [
    "By this, we discovered that when Event is null the weather is good, from the fact that Precipitationmm mean is almost 0.\n",
    "Furthermore, all the labels of Events are related to bad weather, that means that when no precipitation occurs the label is null.\n",
    "We will impute Event by replacing the missing values with \"Not Specified\" (later)."
   ]
  },
  {
   "cell_type": "markdown",
   "metadata": {},
   "source": [
    "Now we impute \"CloudCover\", making a distinction when it misses along with Events and when it misses on its own."
   ]
  },
  {
   "cell_type": "code",
   "execution_count": 7,
   "metadata": {},
   "outputs": [
    {
     "data": {
      "text/plain": [
       "((117386, 36), (117386, 36), (29033, 36))"
      ]
     },
     "execution_count": 7,
     "metadata": {},
     "output_type": "execute_result"
    }
   ],
   "source": [
    "null_Events = sales['Events'].isnull()\n",
    "null_CloudCover = sales['CloudCover'].isnull()\n",
    "cloudcover_missing = sales[(null_Events)]\n",
    "null_Events = sales['Events'].isnull()\n",
    "event_missing = sales[null_Events]\n",
    "event_cc_missing = sales[null_CloudCover & null_Events]\n",
    "\n",
    "cloudcover_missing.shape, event_missing.shape, event_cc_missing.shape "
   ]
  },
  {
   "cell_type": "markdown",
   "metadata": {},
   "source": [
    "There are 28k tuples where both \"Events\" and \"CloudCover\" are missing, that means that the weather should be good.\n",
    "for the remaining (41k-28k) (i.e. where \"Events\" is not null!) tuples we impute the CloudCoverage."
   ]
  },
  {
   "cell_type": "code",
   "execution_count": 8,
   "metadata": {},
   "outputs": [],
   "source": [
    "event_notmissing_cc_missing = sales[null_CloudCover & ~null_Events]\n",
    "#computing mean where CloudCover is not null\n",
    "mean_CC = sales[\"CloudCover\"].mean()\n",
    "event_notmissing_cc_missing[\"CloudCover\"] = event_notmissing_cc_missing[\"CloudCover\"].fillna(mean_CC)\n",
    "sales = pd.concat([sales[~null_CloudCover | null_Events], event_notmissing_cc_missing])"
   ]
  },
  {
   "cell_type": "markdown",
   "metadata": {},
   "source": [
    "Then, we impute the remaining rows with CloudCover missing"
   ]
  },
  {
   "cell_type": "code",
   "execution_count": 9,
   "metadata": {},
   "outputs": [],
   "source": [
    "null_Events = sales['Events'].isnull()\n",
    "CloudyButNotEvent = sales[null_Events]\n",
    "#there are some tuples with no Events but with the attribute CloudCover"
   ]
  },
  {
   "cell_type": "code",
   "execution_count": 10,
   "metadata": {},
   "outputs": [],
   "source": [
    "null_cloudCover = sales[sales['CloudCover'].isnull()]\n",
    "mean_cloudCover = sales[\"CloudCover\"].mean()\n",
    "null_cloudCover[\"CloudCover\"] = null_cloudCover[\"CloudCover\"].fillna(mean_cloudCover)\n",
    "\n",
    "sales = pd.concat([sales[~sales['CloudCover'].isnull()], null_cloudCover])"
   ]
  },
  {
   "cell_type": "markdown",
   "metadata": {},
   "source": [
    "Now, we impute min,max,mean_VisibilityKm. "
   ]
  },
  {
   "cell_type": "code",
   "execution_count": 11,
   "metadata": {},
   "outputs": [
    {
     "data": {
      "text/plain": [
       "Max_VisibilityKm     460136\n",
       "Mean_VisibilityKm    460136\n",
       "Min_VisibilitykM     460136\n",
       "dtype: int64"
      ]
     },
     "execution_count": 11,
     "metadata": {},
     "output_type": "execute_result"
    }
   ],
   "source": [
    "# checking if are all the same rows where visibility data are missing => yes, they are\n",
    "sales[[\"Max_VisibilityKm\", \"Mean_VisibilityKm\", \"Min_VisibilitykM\"]].count()"
   ]
  },
  {
   "cell_type": "code",
   "execution_count": 12,
   "metadata": {},
   "outputs": [],
   "source": [
    "null_visibility = sales[sales['Max_VisibilityKm'].isnull()]\n",
    "mean_vis_max = sales[\"Max_VisibilityKm\"].mean()\n",
    "mean_vis_mean = sales[\"Mean_VisibilityKm\"].mean()\n",
    "mean_vis_min = sales[\"Min_VisibilitykM\"].mean()\n",
    "\n",
    "null_visibility[\"Max_VisibilityKm\"] = null_visibility[\"Max_VisibilityKm\"].fillna(mean_vis_max)\n",
    "null_visibility[\"Mean_VisibilityKm\"] = null_visibility[\"Mean_VisibilityKm\"].fillna(mean_vis_mean)\n",
    "null_visibility[\"Min_VisibilitykM\"] = null_visibility[\"Min_VisibilitykM\"].fillna(mean_vis_min)\n",
    "\n",
    "sales = pd.concat([sales[~sales['Max_VisibilityKm'].isnull()], null_visibility])"
   ]
  },
  {
   "cell_type": "markdown",
   "metadata": {},
   "source": [
    "Finally, we impute \"Events\"."
   ]
  },
  {
   "cell_type": "code",
   "execution_count": 13,
   "metadata": {},
   "outputs": [],
   "source": [
    "sales = sales.replace(np.nan,'NotSpecified', regex=True)\n"
   ]
  },
  {
   "cell_type": "markdown",
   "metadata": {},
   "source": [
    "# Dealing with outliers"
   ]
  },
  {
   "cell_type": "code",
   "execution_count": 14,
   "metadata": {
    "scrolled": false
   },
   "outputs": [
    {
     "data": {
      "text/plain": [
       "NearestCompetitor             59199.0\n",
       "Region_AreaKM2                32221.0\n",
       "Region_GDP                    23931.0\n",
       "Region_PopulationK             8146.0\n",
       "StoreID                        1741.0\n",
       "Max_Sea_Level_PressurehPa      1037.0\n",
       "Mean_Sea_Level_PressurehPa     1034.0\n",
       "Min_Sea_Level_PressurehPa      1032.0\n",
       "WindDirDegrees                  354.0\n",
       "Max_Humidity                    100.0\n",
       "Mean_Humidity                    99.0\n",
       "Min_Humidity                     93.0\n",
       "Max_Wind_SpeedKm_h               50.0\n",
       "Max_TemperatureC                 32.0\n",
       "Max_VisibilityKm                 31.0\n",
       "Mean_Wind_SpeedKm_h              31.0\n",
       "Mean_VisibilityKm                30.0\n",
       "Min_VisibilitykM                 29.0\n",
       "Mean_TemperatureC                24.0\n",
       "Max_Dew_PointC                   20.0\n",
       "Name: 0.99, dtype: float64"
      ]
     },
     "execution_count": 14,
     "metadata": {},
     "output_type": "execute_result"
    }
   ],
   "source": [
    "sales.quantile(.99).sort_values(ascending=False).head(20)"
   ]
  },
  {
   "cell_type": "code",
   "execution_count": 15,
   "metadata": {
    "scrolled": false
   },
   "outputs": [
    {
     "name": "stdout",
     "output_type": "stream",
     "text": [
      "col NearestCompetitor at 0.95-th quantile => 31706.399999986403\n",
      "col Precipitationmm at 0.95-th quantile => 5.08\n",
      "col Max_Wind_SpeedKm_h at 0.95-th quantile => 39.0\n",
      "col Max_Wind_SpeedKm_h at 0.03-th quantile => 11.0\n",
      "col Max_TemperatureC at 0.95-th quantile => 27.0\n",
      "col Max_TemperatureC at 0.03-th quantile => 1.0\n",
      "col Min_TemperatureC at 0.95-th quantile => 16.0\n",
      "col Min_TemperatureC at 0.03-th quantile => -5.0\n",
      "col Mean_Dew_PointC at 0.95-th quantile => 15.0\n",
      "col Mean_Dew_PointC at 0.05-th quantile => -3.0\n",
      "col Mean_Dew_PointC at 0.95-th quantile => 15.0\n",
      "col Mean_Dew_PointC at 0.05-th quantile => -3.0\n",
      "col Mean_Humidity at 0.95-th quantile => 94.0\n",
      "col Mean_Humidity at 0.03-th quantile => 49.0\n",
      "col Min_VisibilitykM at 0.95-th quantile => 11.0\n",
      "col Min_Humidity at 0.03-th quantile => 19.0\n",
      "col Min_Humidity at 0.95-th quantile => 83.0\n",
      "col Mean_Wind_SpeedKm_h at 0.95-th quantile => 24.0\n",
      "col Mean_TemperatureC at 0.03-th quantile => -2.0\n",
      "col Mean_TemperatureC at 0.95-th quantile => 21.0\n",
      "col Mean_VisibilityKm at 0.05-th quantile => 6.0\n",
      "col Mean_VisibilityKm at 0.95-th quantile => 23.0\n"
     ]
    }
   ],
   "source": [
    "q(\"NearestCompetitor\", .95, lambda x, y: x > y)\n",
    "q(\"Precipitationmm\", .95, lambda x, y: x > y)\n",
    "q(\"Max_Wind_SpeedKm_h\", .95, lambda x,y: x > y)\n",
    "q(\"Max_Wind_SpeedKm_h\", .03, lambda x,y: x < y)\n",
    "q(\"Max_TemperatureC\", .95, lambda x,y: x > y)\n",
    "q(\"Max_TemperatureC\", .03, lambda x,y: x < y)\n",
    "q(\"Min_TemperatureC\", .95, lambda x,y: x > y)\n",
    "q(\"Min_TemperatureC\", .03, lambda x,y: x < y)\n",
    "q(\"Mean_Dew_PointC\", .95, lambda x,y: x > y)\n",
    "q(\"Mean_Dew_PointC\", .05, lambda x,y: x < y)\n",
    "q(\"Mean_Dew_PointC\", .95, lambda x,y: x > y)\n",
    "q(\"Mean_Dew_PointC\", .05, lambda x,y: x < y)\n",
    "q(\"Mean_Humidity\", .95, lambda x,y: x > y)\n",
    "q(\"Mean_Humidity\", .03, lambda x,y: x < y)\n",
    "q(\"Min_VisibilitykM\", .95, lambda x,y: x > y)\n",
    "q(\"Min_Humidity\", .03, lambda x,y: x < y)\n",
    "q(\"Min_Humidity\", .95, lambda x,y: x > y)\n",
    "q(\"Mean_Wind_SpeedKm_h\", .95, lambda x,y: x > y)\n",
    "q(\"Mean_TemperatureC\", .03, lambda x,y: x < y)\n",
    "q(\"Mean_TemperatureC\", .95, lambda x,y: x > y)\n",
    "q(\"Mean_VisibilityKm\", .05, lambda x,y: x < y)\n",
    "q(\"Mean_VisibilityKm\", .95, lambda x,y: x > y)"
   ]
  },
  {
   "cell_type": "markdown",
   "metadata": {},
   "source": [
    "# Normalization of Numerical Variables"
   ]
  },
  {
   "cell_type": "code",
   "execution_count": 16,
   "metadata": {},
   "outputs": [
    {
     "data": {
      "text/plain": [
       "Text(0.5,1,'')"
      ]
     },
     "execution_count": 16,
     "metadata": {},
     "output_type": "execute_result"
    },
    {
     "data": {
      "image/png": "[encoded data removed]",
      "text/plain": [
       "<matplotlib.figure.Figure at 0x1c1f7459b0>"
      ]
     },
     "metadata": {},
     "output_type": "display_data"
    }
   ],
   "source": [
    "# take the numerical features\n",
    "numeric_feats = sales.dtypes[sales.dtypes != \"object\"].index\n",
    "# compute the skewness but only for non missing variables (we already imputed them but just in case ...)\n",
    "skewed_feats = sales[numeric_feats].apply(lambda x: skew(x.dropna()))\n",
    "\n",
    "skewness = pd.DataFrame({\"Variable\":skewed_feats.index, \"Skewness\":skewed_feats.data})\n",
    "# select the variables with a skewness above a certain threshold\n",
    "skewness = skewness.sort_values('Skewness', ascending=[0])\n",
    "f, ax = plt.subplots(figsize=(8,6))\n",
    "plt.xticks(rotation='90')\n",
    "sns.barplot(x=skewness['Variable'], y=skewness['Skewness'])\n",
    "plt.ylim(0,25)\n",
    "plt.xlabel('Numerical Variables', fontsize=15)\n",
    "plt.ylabel('Skewness', fontsize=15)\n",
    "plt.title('', fontsize=15)"
   ]
  },
  {
   "cell_type": "code",
   "execution_count": 17,
   "metadata": {},
   "outputs": [],
   "source": [
    "skewed_feats = skewed_feats[skewed_feats > 0.75]\n",
    "skewed_feats = skewed_feats.drop(['IsHoliday'])#,'NumberOfCustomers', \"NumberOfSales\"])\n",
    "sales[skewed_feats.index] = np.log1p(sales[skewed_feats.index])"
   ]
  },
  {
   "cell_type": "markdown",
   "metadata": {},
   "source": [
    "# Correlation Analysis and Feature Selection"
   ]
  },
  {
   "cell_type": "markdown",
   "metadata": {},
   "source": [
    "By analyzing the correlation, we see that the following variables do not add any additional information. \n",
    "Max_Dew_PointC, Min_Dew_PointC, Max_Sea_Level_PressurehPa, Mean_Sea_Level_PressurehPa, Max_Gust_SpeedKm_h\n",
    "Finally, we drop 'NumberOfCustomers' because is not present in the submission dataset."
   ]
  },
  {
   "cell_type": "code",
   "execution_count": 18,
   "metadata": {},
   "outputs": [
    {
     "data": {
      "text/plain": [
       "(471544, 31)"
      ]
     },
     "execution_count": 18,
     "metadata": {},
     "output_type": "execute_result"
    }
   ],
   "source": [
    "sales=sales.drop(columns=['Max_Dew_PointC','Min_Dew_PointC','Max_Sea_Level_PressurehPa','Mean_Sea_Level_PressurehPa','Max_Gust_SpeedKm_h'])\n",
    "sales.shape"
   ]
  },
  {
   "cell_type": "markdown",
   "metadata": {},
   "source": [
    "Drop of the row where IsOpen==0"
   ]
  },
  {
   "cell_type": "code",
   "execution_count": 19,
   "metadata": {},
   "outputs": [],
   "source": [
    "sales=sales[sales['IsOpen']==1]\n",
    "sales=sales.drop(columns=['IsOpen'])"
   ]
  },
  {
   "cell_type": "markdown",
   "metadata": {},
   "source": [
    "### Convert Date to weekday label"
   ]
  },
  {
   "cell_type": "code",
   "execution_count": 20,
   "metadata": {},
   "outputs": [],
   "source": [
    "sales[\"Date\"] = sales[\"Date\"].apply(toDate)\n",
    "sales[\"Day_Of_Week\"] = sales[\"Date\"].astype(\"datetime64\").dt.weekday_name"
   ]
  },
  {
   "cell_type": "markdown",
   "metadata": {},
   "source": [
    "### Convert Date to month label"
   ]
  },
  {
   "cell_type": "code",
   "execution_count": 21,
   "metadata": {},
   "outputs": [],
   "source": [
    "sales[\"Month\"] = sales[\"Date\"].astype(\"datetime64\").dt.month"
   ]
  },
  {
   "cell_type": "markdown",
   "metadata": {},
   "source": [
    "### Adding info about avgsales per month ecc."
   ]
  },
  {
   "cell_type": "code",
   "execution_count": 22,
   "metadata": {},
   "outputs": [],
   "source": [
    "avgSalesForStoreIDForMonth = sales[sales[\"NumberOfSales\"] != 'NotSpecified']\n",
    "avgSalesForStoreIDForMonth[\"NumberOfSales\"] = avgSalesForStoreIDForMonth[\"NumberOfSales\"].astype(\"int\")\n",
    "avgSalesForStoreIDForMonth = avgSalesForStoreIDForMonth.groupby(['StoreID','Month'], as_index=False)['NumberOfSales'].mean() \n",
    "avgSalesForStoreIDForMonth = avgSalesForStoreIDForMonth.rename(index=str, columns={\"NumberOfSales\": \"AvgSalesForMonth\"})\n",
    "\n",
    "varSalesForStoreIDForMonth = sales[sales[\"NumberOfSales\"] != 'NotSpecified']\n",
    "varSalesForStoreIDForMonth[\"NumberOfSales\"] = varSalesForStoreIDForMonth[\"NumberOfSales\"].astype(\"int\")\n",
    "varSalesForStoreIDForMonth = varSalesForStoreIDForMonth.groupby(['StoreID','Month'], as_index=False)['NumberOfSales'].var() \n",
    "varSalesForStoreIDForMonth = varSalesForStoreIDForMonth.rename(index=str, columns={\"NumberOfSales\": \"VarSalesForMonth\"})\n",
    "\n",
    "avgCustomersForStoreIDForMonth = sales[sales[\"NumberOfCustomers\"] != 'NotSpecified']\n",
    "avgCustomersForStoreIDForMonth[\"NumberOfCustomers\"] = avgCustomersForStoreIDForMonth[\"NumberOfCustomers\"].astype(\"int\")\n",
    "avgCustomersForStoreIDForMonth = avgCustomersForStoreIDForMonth.groupby(['StoreID','Month'], as_index=False)['NumberOfCustomers'].mean() \n",
    "avgCustomersForStoreIDForMonth = avgCustomersForStoreIDForMonth.rename(index=str, columns={\"NumberOfCustomers\": \"AvgCustomersForMonth\"})\n",
    "\n",
    "varCustomersorStoreIDForMonth = sales[sales[\"NumberOfSales\"] != 'NotSpecified']\n",
    "varCustomersorStoreIDForMonth[\"NumberOfCustomers\"] = varCustomersorStoreIDForMonth[\"NumberOfCustomers\"].astype(\"int\")\n",
    "varCustomersorStoreIDForMonth = varCustomersorStoreIDForMonth.groupby(['StoreID','Month'], as_index=False)['NumberOfCustomers'].var() \n",
    "varCustomersorStoreIDForMonth = varCustomersorStoreIDForMonth.rename(index=str, columns={\"NumberOfCustomers\": \"VarCustomersForMonth\"})\n",
    "\n",
    "sales = sales.merge(avgSalesForStoreIDForMonth, left_on=['StoreID','Month'], right_on = ['StoreID','Month']) \n",
    "sales = sales.merge(varSalesForStoreIDForMonth, left_on=['StoreID','Month'], right_on = ['StoreID','Month'])\n",
    "sales = sales.merge(avgCustomersForStoreIDForMonth, left_on=['StoreID','Month'], right_on = ['StoreID','Month']) \n",
    "sales = sales.merge(varCustomersorStoreIDForMonth, left_on=['StoreID','Month'], right_on = ['StoreID','Month'])"
   ]
  },
  {
   "cell_type": "markdown",
   "metadata": {},
   "source": [
    "# Dummify variables"
   ]
  },
  {
   "cell_type": "code",
   "execution_count": 23,
   "metadata": {},
   "outputs": [],
   "source": [
    "sales = pd.get_dummies(sales, columns=['StoreType','Events','AssortmentType', \"Region\", \"Day_Of_Week\",\"Month\"])"
   ]
  },
  {
   "cell_type": "markdown",
   "metadata": {},
   "source": [
    "# Random Search With Crossvalidation"
   ]
  },
  {
   "cell_type": "code",
   "execution_count": 24,
   "metadata": {},
   "outputs": [
    {
     "name": "stdout",
     "output_type": "stream",
     "text": [
      "{'bootstrap': [True, False],\n",
      " 'max_depth': [10, 20, 30, 40, 50, 60, 70, 80, 90, 100, 110, None],\n",
      " 'max_features': ['auto', 'sqrt'],\n",
      " 'min_samples_leaf': [1, 2, 4],\n",
      " 'min_samples_split': [2, 5, 10],\n",
      " 'n_estimators': [200, 400, 600, 800, 1000, 1200, 1400, 1600, 1800, 2000]}\n"
     ]
    }
   ],
   "source": [
    "from sklearn.model_selection import RandomizedSearchCV\n",
    "\n",
    "# Number of trees in random forest\n",
    "n_estimators = [int(x) for x in np.linspace(start = 200, stop = 2000, num = 10)]\n",
    "# Number of features to consider at every split\n",
    "max_features = ['auto', 'sqrt']\n",
    "# Maximum number of levels in tree\n",
    "max_depth = [int(x) for x in np.linspace(10, 110, num = 11)]\n",
    "max_depth.append(None)\n",
    "# Minimum number of samples required to split a node\n",
    "min_samples_split = [2, 5, 10]\n",
    "# Minimum number of samples required at each leaf node\n",
    "min_samples_leaf = [1, 2, 4]\n",
    "# Method of selecting samples for training each tree\n",
    "bootstrap = [True, False]\n",
    "\n",
    "# Create the random grid\n",
    "random_grid = {'n_estimators': n_estimators,\n",
    "               'max_features': max_features,\n",
    "               'max_depth': max_depth,\n",
    "               'min_samples_split': min_samples_split,\n",
    "               'min_samples_leaf': min_samples_leaf,\n",
    "               'bootstrap': bootstrap}\n",
    "\n",
    "pprint(random_grid)"
   ]
  },
  {
   "cell_type": "markdown",
   "metadata": {},
   "source": [
    "# Train and Test Definition\n",
    "Separating the last 2 months, and use those as a test set and comparing the total of the predicted values."
   ]
  },
  {
   "cell_type": "code",
   "execution_count": 25,
   "metadata": {},
   "outputs": [],
   "source": [
    "start_train = date(2018, 3, 1)\n",
    "train = sales[sales[\"Date\"] - start_train < timedelta(0)]\n",
    "test = sales[sales[\"Date\"] - start_train > timedelta(days=1)]\n",
    "train = train.drop(columns=[\"Date\"])\n",
    "test = test.drop(columns=[\"Date\"])\n",
    "test = test.drop(columns=[\"NumberOfCustomers\",\"NumberOfSales\"])"
   ]
  },
  {
   "cell_type": "code",
   "execution_count": 26,
   "metadata": {},
   "outputs": [],
   "source": [
    "train.NumberOfSales = train.NumberOfSales.astype('int')\n",
    "train.NumberOfCustomers = train.NumberOfCustomers.astype('int')"
   ]
  },
  {
   "cell_type": "code",
   "execution_count": 27,
   "metadata": {},
   "outputs": [],
   "source": [
    "cols_not_for_step1 = [\"NumberOfCustomers\",\"NumberOfSales\",'Region_PopulationK','Region_AreaKM2','Region_GDP','Region_0','Region_1','Region_4','Region_5','Region_7','Region_8','Region_10','Region_2','Region_3', 'Region_6', 'Region_9'\n",
    "]\n",
    "train_saved_columns = train[cols_not_for_step1]\n"
   ]
  },
  {
   "cell_type": "code",
   "execution_count": 28,
   "metadata": {},
   "outputs": [],
   "source": [
    "train_x = train.drop(columns=['NumberOfSales','NumberOfCustomers'])\n",
    "train_y = pd.DataFrame(data = train['NumberOfCustomers'])\n",
    "    \n",
    "#First model predicting NumberOfCustomers\n",
    "model_simple = RandomForestRegressor()\n",
    "model_simple = model_simple.fit(train_x, train_y)"
   ]
  },
  {
   "cell_type": "code",
   "execution_count": 29,
   "metadata": {},
   "outputs": [
    {
     "name": "stdout",
     "output_type": "stream",
     "text": [
      "Variable: AvgCustomersForMonth Importance: 0.84\n",
      "Variable: HasPromotions        Importance: 0.04\n",
      "Variable: Min_Sea_Level_PressurehPa Importance: 0.01\n",
      "Variable: VarSalesForMonth     Importance: 0.01\n",
      "Variable: VarCustomersForMonth Importance: 0.01\n",
      "Variable: Day_Of_Week_Monday   Importance: 0.01\n",
      "Variable: Day_Of_Week_Saturday Importance: 0.01\n",
      "Variable: CloudCover           Importance: 0.0\n",
      "Variable: IsHoliday            Importance: 0.0\n",
      "Variable: Max_Humidity         Importance: 0.0\n",
      "Variable: Max_TemperatureC     Importance: 0.0\n",
      "Variable: Max_VisibilityKm     Importance: 0.0\n",
      "Variable: Max_Wind_SpeedKm_h   Importance: 0.0\n",
      "Variable: Mean_Dew_PointC      Importance: 0.0\n",
      "Variable: Mean_Humidity        Importance: 0.0\n",
      "Variable: Mean_TemperatureC    Importance: 0.0\n",
      "Variable: Mean_VisibilityKm    Importance: 0.0\n",
      "Variable: Mean_Wind_SpeedKm_h  Importance: 0.0\n",
      "Variable: Min_Humidity         Importance: 0.0\n",
      "Variable: Min_TemperatureC     Importance: 0.0\n",
      "Variable: Min_VisibilitykM     Importance: 0.0\n",
      "Variable: NearestCompetitor    Importance: 0.0\n",
      "Variable: Precipitationmm      Importance: 0.0\n",
      "Variable: Region_AreaKM2       Importance: 0.0\n",
      "Variable: Region_GDP           Importance: 0.0\n",
      "Variable: Region_PopulationK   Importance: 0.0\n",
      "Variable: StoreID              Importance: 0.0\n",
      "Variable: WindDirDegrees       Importance: 0.0\n",
      "Variable: AvgSalesForMonth     Importance: 0.0\n",
      "Variable: StoreType_Hyper Market Importance: 0.0\n",
      "Variable: StoreType_Shopping Center Importance: 0.0\n",
      "Variable: StoreType_Standard Market Importance: 0.0\n",
      "Variable: StoreType_Super Market Importance: 0.0\n",
      "Variable: Events_Fog           Importance: 0.0\n",
      "Variable: Events_Fog-Rain      Importance: 0.0\n",
      "Variable: Events_Fog-Rain-Hail Importance: 0.0\n",
      "Variable: Events_Fog-Rain-Hail-Thunderstorm Importance: 0.0\n",
      "Variable: Events_Fog-Rain-Snow Importance: 0.0\n",
      "Variable: Events_Fog-Rain-Snow-Hail Importance: 0.0\n",
      "Variable: Events_Fog-Rain-Thunderstorm Importance: 0.0\n",
      "Variable: Events_Fog-Snow      Importance: 0.0\n",
      "Variable: Events_Fog-Snow-Hail Importance: 0.0\n",
      "Variable: Events_Fog-Thunderstorm Importance: 0.0\n",
      "Variable: Events_NotSpecified  Importance: 0.0\n",
      "Variable: Events_Rain          Importance: 0.0\n",
      "Variable: Events_Rain-Hail     Importance: 0.0\n",
      "Variable: Events_Rain-Hail-Thunderstorm Importance: 0.0\n",
      "Variable: Events_Rain-Snow     Importance: 0.0\n",
      "Variable: Events_Rain-Snow-Hail Importance: 0.0\n",
      "Variable: Events_Rain-Snow-Hail-Thunderstorm Importance: 0.0\n",
      "Variable: Events_Rain-Snow-Thunderstorm Importance: 0.0\n",
      "Variable: Events_Rain-Thunderstorm Importance: 0.0\n",
      "Variable: Events_Snow          Importance: 0.0\n",
      "Variable: Events_Snow-Hail     Importance: 0.0\n",
      "Variable: Events_Thunderstorm  Importance: 0.0\n",
      "Variable: AssortmentType_General Importance: 0.0\n",
      "Variable: AssortmentType_With Fish Department Importance: 0.0\n",
      "Variable: AssortmentType_With Non-Food Department Importance: 0.0\n",
      "Variable: Region_0             Importance: 0.0\n",
      "Variable: Region_1             Importance: 0.0\n",
      "Variable: Region_2             Importance: 0.0\n",
      "Variable: Region_3             Importance: 0.0\n",
      "Variable: Region_4             Importance: 0.0\n",
      "Variable: Region_5             Importance: 0.0\n",
      "Variable: Region_6             Importance: 0.0\n",
      "Variable: Region_7             Importance: 0.0\n",
      "Variable: Region_8             Importance: 0.0\n",
      "Variable: Region_9             Importance: 0.0\n",
      "Variable: Region_10            Importance: 0.0\n",
      "Variable: Day_Of_Week_Friday   Importance: 0.0\n",
      "Variable: Day_Of_Week_Sunday   Importance: 0.0\n",
      "Variable: Day_Of_Week_Thursday Importance: 0.0\n",
      "Variable: Day_Of_Week_Tuesday  Importance: 0.0\n",
      "Variable: Day_Of_Week_Wednesday Importance: 0.0\n",
      "Variable: Month_1              Importance: 0.0\n",
      "Variable: Month_2              Importance: 0.0\n",
      "Variable: Month_3              Importance: 0.0\n",
      "Variable: Month_4              Importance: 0.0\n",
      "Variable: Month_5              Importance: 0.0\n",
      "Variable: Month_6              Importance: 0.0\n",
      "Variable: Month_7              Importance: 0.0\n",
      "Variable: Month_8              Importance: 0.0\n",
      "Variable: Month_9              Importance: 0.0\n",
      "Variable: Month_10             Importance: 0.0\n",
      "Variable: Month_11             Importance: 0.0\n",
      "Variable: Month_12             Importance: 0.0\n",
      "Number of features for 92,5% importance: 7\n",
      "Important train features shape: (433958, 6)\n",
      "Important test features shape: (36092, 6)\n"
     ]
    },
    {
     "data": {
      "text/plain": [
       "'# Train the expanded model on only the important features\\nmodel_simple = RandomForestRegressor()\\nmodel_simple = model_simple.fit(important_train_features, train_y);'"
      ]
     },
     "execution_count": 29,
     "metadata": {},
     "output_type": "execute_result"
    },
    {
     "data": {
      "image/png": "[encoded data removed]",
      "text/plain": [
       "<matplotlib.figure.Figure at 0x1c2ff411d0>"
      ]
     },
     "metadata": {},
     "output_type": "display_data"
    }
   ],
   "source": [
    "# Get numerical feature importances\n",
    "importances = list(model_simple.feature_importances_)\n",
    "\n",
    "# List of tuples with variable and importance\n",
    "feature_importances = [(feature, round(importance, 2)) for feature, importance in zip(train_x, importances)]\n",
    "\n",
    "# Sort the feature importances by most important first\n",
    "feature_importances = sorted(feature_importances, key = lambda x: x[1], reverse = True)\n",
    "\n",
    "# Print out the feature and importances \n",
    "[print('Variable: {:20} Importance: {}'.format(*pair)) for pair in feature_importances];\n",
    "    \n",
    "# list of x locations for plotting\n",
    "x_values = list(range(len(importances)))\n",
    "    \n",
    "# List of features sorted from most to least important\n",
    "sorted_importances = [importance[1] for importance in feature_importances]\n",
    "sorted_features = [importance[0] for importance in feature_importances]\n",
    "\n",
    "# Cumulative importances\n",
    "cumulative_importances = np.cumsum(sorted_importances)\n",
    "\n",
    "# Make a line graph\n",
    "plt.plot(x_values, cumulative_importances, 'g-')\n",
    "\n",
    "# Draw line at 92,5% of importance retained\n",
    "plt.hlines(y = 0.925, xmin=0, xmax=len(sorted_importances), color = 'r', linestyles = 'dashed')\n",
    "\n",
    "# Format x ticks and labels\n",
    "plt.xticks(x_values, sorted_features, rotation = 'vertical')\n",
    "\n",
    "# Axis labels and title\n",
    "plt.xlabel('Variable'); plt.ylabel('Cumulative Importance'); plt.title('Cumulative Importances');\n",
    "    \n",
    "# Find number of features for cumulative importance of 92,5%\n",
    "# Add 1 because Python is zero-indexed\n",
    "print('Number of features for 92,5% importance:', np.where(cumulative_importances > 0.925)[0][0] + 1)\n",
    "    \n",
    "# Extract the names of the most important features\n",
    "important_feature_names = [feature[0] for feature in feature_importances[0:6]]\n",
    "    \n",
    "# Find the columns of the most important features\n",
    "important_indices = [list(train.columns).index(feature) for feature in important_feature_names]\n",
    "\n",
    "# Create training and testing sets with only the important features\n",
    "important_train_features = train_x.values[:, important_indices]\n",
    "important_test_features = test.values[:, important_indices]\n",
    "\n",
    "# Sanity check on operations\n",
    "print('Important train features shape:', important_train_features.shape)\n",
    "print('Important test features shape:', important_test_features.shape)\n",
    "        \n",
    "'''# Train the expanded model on only the important features\n",
    "model_simple = RandomForestRegressor()\n",
    "model_simple = model_simple.fit(important_train_features, train_y);'''\n",
    "    "
   ]
  },
  {
   "cell_type": "code",
   "execution_count": 30,
   "metadata": {},
   "outputs": [],
   "source": [
    "important_train_features = pd.DataFrame(data=important_train_features)\n",
    "important_test_features = pd.DataFrame(data=important_test_features)"
   ]
  },
  {
   "cell_type": "code",
   "execution_count": 31,
   "metadata": {},
   "outputs": [],
   "source": [
    "important_train_features[train_saved_columns.columns]=train_saved_columns\n",
    "important_test_features[train_saved_columns.columns]=train_saved_columns\n",
    "\n",
    "important_test_features = important_test_features.drop(columns=[\"NumberOfCustomers\",\"NumberOfSales\"])\n",
    "\n"
   ]
  },
  {
   "cell_type": "markdown",
   "metadata": {},
   "source": [
    "Clusterization of regions which are similar or with too few samples to be fitted on their own.\n",
    "Used t-sne to visualize clusters"
   ]
  },
  {
   "cell_type": "code",
   "execution_count": null,
   "metadata": {},
   "outputs": [],
   "source": [
    "Region_labels = [['Region_0', 'Region_1', 'Region_4','Region_5','Region_7', 'Region_8', 'Region_10' ], ['Region_2'], ['Region_3'], ['Region_6', 'Region_9']]\n",
    "# it can be useful to move also region 6 in the first big cluster"
   ]
  },
  {
   "cell_type": "code",
   "execution_count": null,
   "metadata": {},
   "outputs": [
    {
     "name": "stdout",
     "output_type": "stream",
     "text": [
      "['Region_0', 'Region_1', 'Region_4', 'Region_5', 'Region_7', 'Region_8', 'Region_10']\n",
      "Fitting 3 folds for each of 1 candidates, totalling 3 fits\n",
      "[CV] n_estimators=1000, min_samples_split=5, min_samples_leaf=1, max_features=sqrt, max_depth=10, bootstrap=True \n",
      "[CV] n_estimators=1000, min_samples_split=5, min_samples_leaf=1, max_features=sqrt, max_depth=10, bootstrap=True \n",
      "[CV] n_estimators=1000, min_samples_split=5, min_samples_leaf=1, max_features=sqrt, max_depth=10, bootstrap=True \n",
      "[CV]  n_estimators=1000, min_samples_split=5, min_samples_leaf=1, max_features=sqrt, max_depth=10, bootstrap=True, total=  55.3s\n",
      "[CV]  n_estimators=1000, min_samples_split=5, min_samples_leaf=1, max_features=sqrt, max_depth=10, bootstrap=True, total=  56.7s\n",
      "[CV]  n_estimators=1000, min_samples_split=5, min_samples_leaf=1, max_features=sqrt, max_depth=10, bootstrap=True, total=  57.2s\n"
     ]
    },
    {
     "name": "stderr",
     "output_type": "stream",
     "text": [
      "[Parallel(n_jobs=-1)]: Done   3 out of   3 | elapsed:  1.1min finished\n"
     ]
    },
    {
     "name": "stdout",
     "output_type": "stream",
     "text": [
      "{'bootstrap': True,\n",
      " 'max_depth': 10,\n",
      " 'max_features': 'sqrt',\n",
      " 'min_samples_leaf': 1,\n",
      " 'min_samples_split': 5,\n",
      " 'n_estimators': 1000}\n",
      "['Region_2']\n",
      "Fitting 3 folds for each of 1 candidates, totalling 3 fits\n",
      "[CV] n_estimators=2000, min_samples_split=5, min_samples_leaf=1, max_features=auto, max_depth=70, bootstrap=True \n",
      "[CV] n_estimators=2000, min_samples_split=5, min_samples_leaf=1, max_features=auto, max_depth=70, bootstrap=True \n",
      "[CV] n_estimators=2000, min_samples_split=5, min_samples_leaf=1, max_features=auto, max_depth=70, bootstrap=True \n",
      "[CV]  n_estimators=2000, min_samples_split=5, min_samples_leaf=1, max_features=auto, max_depth=70, bootstrap=True, total= 1.7min\n",
      "[CV]  n_estimators=2000, min_samples_split=5, min_samples_leaf=1, max_features=auto, max_depth=70, bootstrap=True, total= 1.8min\n",
      "[CV]  n_estimators=2000, min_samples_split=5, min_samples_leaf=1, max_features=auto, max_depth=70, bootstrap=True, total= 1.8min\n"
     ]
    },
    {
     "name": "stderr",
     "output_type": "stream",
     "text": [
      "[Parallel(n_jobs=-1)]: Done   3 out of   3 | elapsed:  2.0min finished\n"
     ]
    },
    {
     "name": "stdout",
     "output_type": "stream",
     "text": [
      "{'bootstrap': True,\n",
      " 'max_depth': 70,\n",
      " 'max_features': 'auto',\n",
      " 'min_samples_leaf': 1,\n",
      " 'min_samples_split': 5,\n",
      " 'n_estimators': 2000}\n",
      "['Region_3']\n",
      "Fitting 3 folds for each of 1 candidates, totalling 3 fits\n",
      "[CV] n_estimators=1800, min_samples_split=10, min_samples_leaf=4, max_features=auto, max_depth=30, bootstrap=False \n",
      "[CV] n_estimators=1800, min_samples_split=10, min_samples_leaf=4, max_features=auto, max_depth=30, bootstrap=False \n",
      "[CV] n_estimators=1800, min_samples_split=10, min_samples_leaf=4, max_features=auto, max_depth=30, bootstrap=False \n",
      "[CV]  n_estimators=1800, min_samples_split=10, min_samples_leaf=4, max_features=auto, max_depth=30, bootstrap=False, total= 2.2min\n",
      "[CV]  n_estimators=1800, min_samples_split=10, min_samples_leaf=4, max_features=auto, max_depth=30, bootstrap=False, total= 2.6min\n",
      "[CV]  n_estimators=1800, min_samples_split=10, min_samples_leaf=4, max_features=auto, max_depth=30, bootstrap=False, total= 2.8min\n"
     ]
    },
    {
     "name": "stderr",
     "output_type": "stream",
     "text": [
      "[Parallel(n_jobs=-1)]: Done   3 out of   3 | elapsed:  2.9min finished\n"
     ]
    }
   ],
   "source": [
    "m_step_1, m_step_2 = getModelsTrained(Region_labels, important_train_features, train)"
   ]
  },
  {
   "cell_type": "code",
   "execution_count": null,
   "metadata": {},
   "outputs": [],
   "source": [
    "important_test_features[\"NumberOfCustomers\"]=0\n",
    "for cluster in Region_labels:\n",
    "    cluster_region_only = important_test_features[getFilterRegion(cluster,important_test_features)]\n",
    "    important_test_features.loc[getFilterRegion(cluster,important_test_features), \"NumberOfCustomers\"]= m_step_1[str(cluster)][0].predict(cluster_region_only.drop(columns=[\"NumberOfCustomers\",*m_step_1[str(cluster)][1]]))\n"
   ]
  },
  {
   "cell_type": "code",
   "execution_count": null,
   "metadata": {},
   "outputs": [],
   "source": [
    "test.shape"
   ]
  },
  {
   "cell_type": "code",
   "execution_count": null,
   "metadata": {},
   "outputs": [],
   "source": [
    "test.index = range(36092)"
   ]
  },
  {
   "cell_type": "code",
   "execution_count": null,
   "metadata": {},
   "outputs": [],
   "source": [
    "test[\"NumberOfCustomers\"]= important_test_features[\"NumberOfCustomers\"]"
   ]
  },
  {
   "cell_type": "code",
   "execution_count": null,
   "metadata": {},
   "outputs": [],
   "source": [
    "test[\"NumberOfSales\"] = m_step_2[0].predict(test[m_step_2[1]])"
   ]
  },
  {
   "cell_type": "code",
   "execution_count": null,
   "metadata": {
    "scrolled": true
   },
   "outputs": [],
   "source": [
    "output = test\n",
    "output[\"Month\"] = dedummify(output, \"Month\")\n",
    "output = output[[\"StoreID\", \"Month\",\"NumberOfSales\"]]\n",
    "#output.groupby([\"StoreID\",\"Month\"]).agg(\"sum\").to_csv('OurSubmission.csv',sep=\",\")"
   ]
  },
  {
   "cell_type": "code",
   "execution_count": null,
   "metadata": {},
   "outputs": [],
   "source": [
    "comparison = output.groupby([\"StoreID\",\"Month\"]).agg(\"sum\")"
   ]
  },
  {
   "cell_type": "code",
   "execution_count": null,
   "metadata": {},
   "outputs": [],
   "source": [
    "comparison.to_csv('SantaFS.csv',sep=\",\")"
   ]
  }
 ],
 "metadata": {
  "kernelspec": {
   "display_name": "Python 3",
   "language": "python",
   "name": "python3"
  },
  "language_info": {
   "codemirror_mode": {
    "name": "ipython",
    "version": 3
   },
   "file_extension": ".py",
   "mimetype": "text/x-python",
   "name": "python",
   "nbconvert_exporter": "python",
   "pygments_lexer": "ipython3",
   "version": "3.6.4"
  }
 },
 "nbformat": 4,
 "nbformat_minor": 2
}
