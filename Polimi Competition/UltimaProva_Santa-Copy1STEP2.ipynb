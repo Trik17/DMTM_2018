{
 "cells": [
  {
   "cell_type": "code",
   "execution_count": 2,
   "metadata": {},
   "outputs": [
    {
     "data": {
      "text/html": [
       "\n",
       "    <div class=\"bk-root\">\n",
       "        <a href=\"https://bokeh.pydata.org\" target=\"_blank\" class=\"bk-logo bk-logo-small bk-logo-notebook\"></a>\n",
<<<<<<< HEAD:Polimi Competition/UltimaProva_Santa-Copy1STEP2.ipynb
       "        <span id=\"ec2a050c-a5a4-4519-9ece-a63b2747a0c5\">Loading BokehJS ...</span>\n",
=======
       "        <span id=\"ad972c35-ff13-4523-9b53-c5602cd83117\">Loading BokehJS ...</span>\n",
>>>>>>> master:Polimi Competition/UltimaProva_Santa.ipynb
       "    </div>"
      ]
     },
     "metadata": {},
     "output_type": "display_data"
    },
    {
     "data": {
      "application/javascript": [
       "\n",
       "(function(root) {\n",
       "  function now() {\n",
       "    return new Date();\n",
       "  }\n",
       "\n",
       "  var force = true;\n",
       "\n",
       "  if (typeof (root._bokeh_onload_callbacks) === \"undefined\" || force === true) {\n",
       "    root._bokeh_onload_callbacks = [];\n",
       "    root._bokeh_is_loading = undefined;\n",
       "  }\n",
       "\n",
       "  var JS_MIME_TYPE = 'application/javascript';\n",
       "  var HTML_MIME_TYPE = 'text/html';\n",
       "  var EXEC_MIME_TYPE = 'application/vnd.bokehjs_exec.v0+json';\n",
       "  var CLASS_NAME = 'output_bokeh rendered_html';\n",
       "\n",
       "  /**\n",
       "   * Render data to the DOM node\n",
       "   */\n",
       "  function render(props, node) {\n",
       "    var script = document.createElement(\"script\");\n",
       "    node.appendChild(script);\n",
       "  }\n",
       "\n",
       "  /**\n",
       "   * Handle when an output is cleared or removed\n",
       "   */\n",
       "  function handleClearOutput(event, handle) {\n",
       "    var cell = handle.cell;\n",
       "\n",
       "    var id = cell.output_area._bokeh_element_id;\n",
       "    var server_id = cell.output_area._bokeh_server_id;\n",
       "    // Clean up Bokeh references\n",
       "    if (id !== undefined) {\n",
       "      Bokeh.index[id].model.document.clear();\n",
       "      delete Bokeh.index[id];\n",
       "    }\n",
       "\n",
       "    if (server_id !== undefined) {\n",
       "      // Clean up Bokeh references\n",
       "      var cmd = \"from bokeh.io.state import curstate; print(curstate().uuid_to_server['\" + server_id + \"'].get_sessions()[0].document.roots[0]._id)\";\n",
       "      cell.notebook.kernel.execute(cmd, {\n",
       "        iopub: {\n",
       "          output: function(msg) {\n",
       "            var element_id = msg.content.text.trim();\n",
       "            Bokeh.index[element_id].model.document.clear();\n",
       "            delete Bokeh.index[element_id];\n",
       "          }\n",
       "        }\n",
       "      });\n",
       "      // Destroy server and session\n",
       "      var cmd = \"import bokeh.io.notebook as ion; ion.destroy_server('\" + server_id + \"')\";\n",
       "      cell.notebook.kernel.execute(cmd);\n",
       "    }\n",
       "  }\n",
       "\n",
       "  /**\n",
       "   * Handle when a new output is added\n",
       "   */\n",
       "  function handleAddOutput(event, handle) {\n",
       "    var output_area = handle.output_area;\n",
       "    var output = handle.output;\n",
       "\n",
       "    // limit handleAddOutput to display_data with EXEC_MIME_TYPE content only\n",
       "    if ((output.output_type != \"display_data\") || (!output.data.hasOwnProperty(EXEC_MIME_TYPE))) {\n",
       "      return\n",
       "    }\n",
       "\n",
       "    var toinsert = output_area.element.find(\".\" + CLASS_NAME.split(' ')[0]);\n",
       "\n",
       "    if (output.metadata[EXEC_MIME_TYPE][\"id\"] !== undefined) {\n",
       "      toinsert[0].firstChild.textContent = output.data[JS_MIME_TYPE];\n",
       "      // store reference to embed id on output_area\n",
       "      output_area._bokeh_element_id = output.metadata[EXEC_MIME_TYPE][\"id\"];\n",
       "    }\n",
       "    if (output.metadata[EXEC_MIME_TYPE][\"server_id\"] !== undefined) {\n",
       "      var bk_div = document.createElement(\"div\");\n",
       "      bk_div.innerHTML = output.data[HTML_MIME_TYPE];\n",
       "      var script_attrs = bk_div.children[0].attributes;\n",
       "      for (var i = 0; i < script_attrs.length; i++) {\n",
       "        toinsert[0].firstChild.setAttribute(script_attrs[i].name, script_attrs[i].value);\n",
       "      }\n",
       "      // store reference to server id on output_area\n",
       "      output_area._bokeh_server_id = output.metadata[EXEC_MIME_TYPE][\"server_id\"];\n",
       "    }\n",
       "  }\n",
       "\n",
       "  function register_renderer(events, OutputArea) {\n",
       "\n",
       "    function append_mime(data, metadata, element) {\n",
       "      // create a DOM node to render to\n",
       "      var toinsert = this.create_output_subarea(\n",
       "        metadata,\n",
       "        CLASS_NAME,\n",
       "        EXEC_MIME_TYPE\n",
       "      );\n",
       "      this.keyboard_manager.register_events(toinsert);\n",
       "      // Render to node\n",
       "      var props = {data: data, metadata: metadata[EXEC_MIME_TYPE]};\n",
       "      render(props, toinsert[0]);\n",
       "      element.append(toinsert);\n",
       "      return toinsert\n",
       "    }\n",
       "\n",
       "    /* Handle when an output is cleared or removed */\n",
       "    events.on('clear_output.CodeCell', handleClearOutput);\n",
       "    events.on('delete.Cell', handleClearOutput);\n",
       "\n",
       "    /* Handle when a new output is added */\n",
       "    events.on('output_added.OutputArea', handleAddOutput);\n",
       "\n",
       "    /**\n",
       "     * Register the mime type and append_mime function with output_area\n",
       "     */\n",
       "    OutputArea.prototype.register_mime_type(EXEC_MIME_TYPE, append_mime, {\n",
       "      /* Is output safe? */\n",
       "      safe: true,\n",
       "      /* Index of renderer in `output_area.display_order` */\n",
       "      index: 0\n",
       "    });\n",
       "  }\n",
       "\n",
       "  // register the mime type if in Jupyter Notebook environment and previously unregistered\n",
       "  if (root.Jupyter !== undefined) {\n",
       "    var events = require('base/js/events');\n",
       "    var OutputArea = require('notebook/js/outputarea').OutputArea;\n",
       "\n",
       "    if (OutputArea.prototype.mime_types().indexOf(EXEC_MIME_TYPE) == -1) {\n",
       "      register_renderer(events, OutputArea);\n",
       "    }\n",
       "  }\n",
       "\n",
       "  \n",
       "  if (typeof (root._bokeh_timeout) === \"undefined\" || force === true) {\n",
       "    root._bokeh_timeout = Date.now() + 5000;\n",
       "    root._bokeh_failed_load = false;\n",
       "  }\n",
       "\n",
       "  var NB_LOAD_WARNING = {'data': {'text/html':\n",
       "     \"<div style='background-color: #fdd'>\\n\"+\n",
       "     \"<p>\\n\"+\n",
       "     \"BokehJS does not appear to have successfully loaded. If loading BokehJS from CDN, this \\n\"+\n",
       "     \"may be due to a slow or bad network connection. Possible fixes:\\n\"+\n",
       "     \"</p>\\n\"+\n",
       "     \"<ul>\\n\"+\n",
       "     \"<li>re-rerun `output_notebook()` to attempt to load from CDN again, or</li>\\n\"+\n",
       "     \"<li>use INLINE resources instead, as so:</li>\\n\"+\n",
       "     \"</ul>\\n\"+\n",
       "     \"<code>\\n\"+\n",
       "     \"from bokeh.resources import INLINE\\n\"+\n",
       "     \"output_notebook(resources=INLINE)\\n\"+\n",
       "     \"</code>\\n\"+\n",
       "     \"</div>\"}};\n",
       "\n",
       "  function display_loaded() {\n",
<<<<<<< HEAD:Polimi Competition/UltimaProva_Santa-Copy1STEP2.ipynb
       "    var el = document.getElementById(\"ec2a050c-a5a4-4519-9ece-a63b2747a0c5\");\n",
=======
       "    var el = document.getElementById(\"ad972c35-ff13-4523-9b53-c5602cd83117\");\n",
>>>>>>> master:Polimi Competition/UltimaProva_Santa.ipynb
       "    if (el != null) {\n",
       "      el.textContent = \"BokehJS is loading...\";\n",
       "    }\n",
       "    if (root.Bokeh !== undefined) {\n",
       "      if (el != null) {\n",
       "        el.textContent = \"BokehJS \" + root.Bokeh.version + \" successfully loaded.\";\n",
       "      }\n",
       "    } else if (Date.now() < root._bokeh_timeout) {\n",
       "      setTimeout(display_loaded, 100)\n",
       "    }\n",
       "  }\n",
       "\n",
       "\n",
       "  function run_callbacks() {\n",
       "    try {\n",
       "      root._bokeh_onload_callbacks.forEach(function(callback) { callback() });\n",
       "    }\n",
       "    finally {\n",
       "      delete root._bokeh_onload_callbacks\n",
       "    }\n",
       "    console.info(\"Bokeh: all callbacks have finished\");\n",
       "  }\n",
       "\n",
       "  function load_libs(js_urls, callback) {\n",
       "    root._bokeh_onload_callbacks.push(callback);\n",
       "    if (root._bokeh_is_loading > 0) {\n",
       "      console.log(\"Bokeh: BokehJS is being loaded, scheduling callback at\", now());\n",
       "      return null;\n",
       "    }\n",
       "    if (js_urls == null || js_urls.length === 0) {\n",
       "      run_callbacks();\n",
       "      return null;\n",
       "    }\n",
       "    console.log(\"Bokeh: BokehJS not loaded, scheduling load and callback at\", now());\n",
       "    root._bokeh_is_loading = js_urls.length;\n",
       "    for (var i = 0; i < js_urls.length; i++) {\n",
       "      var url = js_urls[i];\n",
       "      var s = document.createElement('script');\n",
       "      s.src = url;\n",
       "      s.async = false;\n",
       "      s.onreadystatechange = s.onload = function() {\n",
       "        root._bokeh_is_loading--;\n",
       "        if (root._bokeh_is_loading === 0) {\n",
       "          console.log(\"Bokeh: all BokehJS libraries loaded\");\n",
       "          run_callbacks()\n",
       "        }\n",
       "      };\n",
       "      s.onerror = function() {\n",
       "        console.warn(\"failed to load library \" + url);\n",
       "      };\n",
       "      console.log(\"Bokeh: injecting script tag for BokehJS library: \", url);\n",
       "      document.getElementsByTagName(\"head\")[0].appendChild(s);\n",
       "    }\n",
<<<<<<< HEAD:Polimi Competition/UltimaProva_Santa-Copy1STEP2.ipynb
       "  };var element = document.getElementById(\"ec2a050c-a5a4-4519-9ece-a63b2747a0c5\");\n",
       "  if (element == null) {\n",
       "    console.log(\"Bokeh: ERROR: autoload.js configured with elementid 'ec2a050c-a5a4-4519-9ece-a63b2747a0c5' but no matching script tag was found. \")\n",
=======
       "  };var element = document.getElementById(\"ad972c35-ff13-4523-9b53-c5602cd83117\");\n",
       "  if (element == null) {\n",
       "    console.log(\"Bokeh: ERROR: autoload.js configured with elementid 'ad972c35-ff13-4523-9b53-c5602cd83117' but no matching script tag was found. \")\n",
>>>>>>> master:Polimi Competition/UltimaProva_Santa.ipynb
       "    return false;\n",
       "  }\n",
       "\n",
       "  var js_urls = [\"https://cdn.pydata.org/bokeh/release/bokeh-0.12.13.min.js\", \"https://cdn.pydata.org/bokeh/release/bokeh-widgets-0.12.13.min.js\", \"https://cdn.pydata.org/bokeh/release/bokeh-tables-0.12.13.min.js\", \"https://cdn.pydata.org/bokeh/release/bokeh-gl-0.12.13.min.js\"];\n",
       "\n",
       "  var inline_js = [\n",
       "    function(Bokeh) {\n",
       "      Bokeh.set_log_level(\"info\");\n",
       "    },\n",
       "    \n",
       "    function(Bokeh) {\n",
       "      \n",
       "    },\n",
       "    function(Bokeh) {\n",
       "      console.log(\"Bokeh: injecting CSS: https://cdn.pydata.org/bokeh/release/bokeh-0.12.13.min.css\");\n",
       "      Bokeh.embed.inject_css(\"https://cdn.pydata.org/bokeh/release/bokeh-0.12.13.min.css\");\n",
       "      console.log(\"Bokeh: injecting CSS: https://cdn.pydata.org/bokeh/release/bokeh-widgets-0.12.13.min.css\");\n",
       "      Bokeh.embed.inject_css(\"https://cdn.pydata.org/bokeh/release/bokeh-widgets-0.12.13.min.css\");\n",
       "      console.log(\"Bokeh: injecting CSS: https://cdn.pydata.org/bokeh/release/bokeh-tables-0.12.13.min.css\");\n",
       "      Bokeh.embed.inject_css(\"https://cdn.pydata.org/bokeh/release/bokeh-tables-0.12.13.min.css\");\n",
       "    }\n",
       "  ];\n",
       "\n",
       "  function run_inline_js() {\n",
       "    \n",
       "    if ((root.Bokeh !== undefined) || (force === true)) {\n",
       "      for (var i = 0; i < inline_js.length; i++) {\n",
       "        inline_js[i].call(root, root.Bokeh);\n",
       "      }if (force === true) {\n",
       "        display_loaded();\n",
       "      }} else if (Date.now() < root._bokeh_timeout) {\n",
       "      setTimeout(run_inline_js, 100);\n",
       "    } else if (!root._bokeh_failed_load) {\n",
       "      console.log(\"Bokeh: BokehJS failed to load within specified timeout.\");\n",
       "      root._bokeh_failed_load = true;\n",
       "    } else if (force !== true) {\n",
<<<<<<< HEAD:Polimi Competition/UltimaProva_Santa-Copy1STEP2.ipynb
       "      var cell = $(document.getElementById(\"ec2a050c-a5a4-4519-9ece-a63b2747a0c5\")).parents('.cell').data().cell;\n",
=======
       "      var cell = $(document.getElementById(\"ad972c35-ff13-4523-9b53-c5602cd83117\")).parents('.cell').data().cell;\n",
>>>>>>> master:Polimi Competition/UltimaProva_Santa.ipynb
       "      cell.output_area.append_execute_result(NB_LOAD_WARNING)\n",
       "    }\n",
       "\n",
       "  }\n",
       "\n",
       "  if (root._bokeh_is_loading === 0) {\n",
       "    console.log(\"Bokeh: BokehJS loaded, going straight to plotting\");\n",
       "    run_inline_js();\n",
       "  } else {\n",
       "    load_libs(js_urls, function() {\n",
       "      console.log(\"Bokeh: BokehJS plotting callback run at\", now());\n",
       "      run_inline_js();\n",
       "    });\n",
       "  }\n",
       "}(window));"
      ],
<<<<<<< HEAD:Polimi Competition/UltimaProva_Santa-Copy1STEP2.ipynb
      "application/vnd.bokehjs_load.v0+json": "\n(function(root) {\n  function now() {\n    return new Date();\n  }\n\n  var force = true;\n\n  if (typeof (root._bokeh_onload_callbacks) === \"undefined\" || force === true) {\n    root._bokeh_onload_callbacks = [];\n    root._bokeh_is_loading = undefined;\n  }\n\n  \n\n  \n  if (typeof (root._bokeh_timeout) === \"undefined\" || force === true) {\n    root._bokeh_timeout = Date.now() + 5000;\n    root._bokeh_failed_load = false;\n  }\n\n  var NB_LOAD_WARNING = {'data': {'text/html':\n     \"<div style='background-color: #fdd'>\\n\"+\n     \"<p>\\n\"+\n     \"BokehJS does not appear to have successfully loaded. If loading BokehJS from CDN, this \\n\"+\n     \"may be due to a slow or bad network connection. Possible fixes:\\n\"+\n     \"</p>\\n\"+\n     \"<ul>\\n\"+\n     \"<li>re-rerun `output_notebook()` to attempt to load from CDN again, or</li>\\n\"+\n     \"<li>use INLINE resources instead, as so:</li>\\n\"+\n     \"</ul>\\n\"+\n     \"<code>\\n\"+\n     \"from bokeh.resources import INLINE\\n\"+\n     \"output_notebook(resources=INLINE)\\n\"+\n     \"</code>\\n\"+\n     \"</div>\"}};\n\n  function display_loaded() {\n    var el = document.getElementById(\"ec2a050c-a5a4-4519-9ece-a63b2747a0c5\");\n    if (el != null) {\n      el.textContent = \"BokehJS is loading...\";\n    }\n    if (root.Bokeh !== undefined) {\n      if (el != null) {\n        el.textContent = \"BokehJS \" + root.Bokeh.version + \" successfully loaded.\";\n      }\n    } else if (Date.now() < root._bokeh_timeout) {\n      setTimeout(display_loaded, 100)\n    }\n  }\n\n\n  function run_callbacks() {\n    try {\n      root._bokeh_onload_callbacks.forEach(function(callback) { callback() });\n    }\n    finally {\n      delete root._bokeh_onload_callbacks\n    }\n    console.info(\"Bokeh: all callbacks have finished\");\n  }\n\n  function load_libs(js_urls, callback) {\n    root._bokeh_onload_callbacks.push(callback);\n    if (root._bokeh_is_loading > 0) {\n      console.log(\"Bokeh: BokehJS is being loaded, scheduling callback at\", now());\n      return null;\n    }\n    if (js_urls == null || js_urls.length === 0) {\n      run_callbacks();\n      return null;\n    }\n    console.log(\"Bokeh: BokehJS not loaded, scheduling load and callback at\", now());\n    root._bokeh_is_loading = js_urls.length;\n    for (var i = 0; i < js_urls.length; i++) {\n      var url = js_urls[i];\n      var s = document.createElement('script');\n      s.src = url;\n      s.async = false;\n      s.onreadystatechange = s.onload = function() {\n        root._bokeh_is_loading--;\n        if (root._bokeh_is_loading === 0) {\n          console.log(\"Bokeh: all BokehJS libraries loaded\");\n          run_callbacks()\n        }\n      };\n      s.onerror = function() {\n        console.warn(\"failed to load library \" + url);\n      };\n      console.log(\"Bokeh: injecting script tag for BokehJS library: \", url);\n      document.getElementsByTagName(\"head\")[0].appendChild(s);\n    }\n  };var element = document.getElementById(\"ec2a050c-a5a4-4519-9ece-a63b2747a0c5\");\n  if (element == null) {\n    console.log(\"Bokeh: ERROR: autoload.js configured with elementid 'ec2a050c-a5a4-4519-9ece-a63b2747a0c5' but no matching script tag was found. \")\n    return false;\n  }\n\n  var js_urls = [\"https://cdn.pydata.org/bokeh/release/bokeh-0.12.13.min.js\", \"https://cdn.pydata.org/bokeh/release/bokeh-widgets-0.12.13.min.js\", \"https://cdn.pydata.org/bokeh/release/bokeh-tables-0.12.13.min.js\", \"https://cdn.pydata.org/bokeh/release/bokeh-gl-0.12.13.min.js\"];\n\n  var inline_js = [\n    function(Bokeh) {\n      Bokeh.set_log_level(\"info\");\n    },\n    \n    function(Bokeh) {\n      \n    },\n    function(Bokeh) {\n      console.log(\"Bokeh: injecting CSS: https://cdn.pydata.org/bokeh/release/bokeh-0.12.13.min.css\");\n      Bokeh.embed.inject_css(\"https://cdn.pydata.org/bokeh/release/bokeh-0.12.13.min.css\");\n      console.log(\"Bokeh: injecting CSS: https://cdn.pydata.org/bokeh/release/bokeh-widgets-0.12.13.min.css\");\n      Bokeh.embed.inject_css(\"https://cdn.pydata.org/bokeh/release/bokeh-widgets-0.12.13.min.css\");\n      console.log(\"Bokeh: injecting CSS: https://cdn.pydata.org/bokeh/release/bokeh-tables-0.12.13.min.css\");\n      Bokeh.embed.inject_css(\"https://cdn.pydata.org/bokeh/release/bokeh-tables-0.12.13.min.css\");\n    }\n  ];\n\n  function run_inline_js() {\n    \n    if ((root.Bokeh !== undefined) || (force === true)) {\n      for (var i = 0; i < inline_js.length; i++) {\n        inline_js[i].call(root, root.Bokeh);\n      }if (force === true) {\n        display_loaded();\n      }} else if (Date.now() < root._bokeh_timeout) {\n      setTimeout(run_inline_js, 100);\n    } else if (!root._bokeh_failed_load) {\n      console.log(\"Bokeh: BokehJS failed to load within specified timeout.\");\n      root._bokeh_failed_load = true;\n    } else if (force !== true) {\n      var cell = $(document.getElementById(\"ec2a050c-a5a4-4519-9ece-a63b2747a0c5\")).parents('.cell').data().cell;\n      cell.output_area.append_execute_result(NB_LOAD_WARNING)\n    }\n\n  }\n\n  if (root._bokeh_is_loading === 0) {\n    console.log(\"Bokeh: BokehJS loaded, going straight to plotting\");\n    run_inline_js();\n  } else {\n    load_libs(js_urls, function() {\n      console.log(\"Bokeh: BokehJS plotting callback run at\", now());\n      run_inline_js();\n    });\n  }\n}(window));"
=======
      "application/vnd.bokehjs_load.v0+json": "\n(function(root) {\n  function now() {\n    return new Date();\n  }\n\n  var force = true;\n\n  if (typeof (root._bokeh_onload_callbacks) === \"undefined\" || force === true) {\n    root._bokeh_onload_callbacks = [];\n    root._bokeh_is_loading = undefined;\n  }\n\n  \n\n  \n  if (typeof (root._bokeh_timeout) === \"undefined\" || force === true) {\n    root._bokeh_timeout = Date.now() + 5000;\n    root._bokeh_failed_load = false;\n  }\n\n  var NB_LOAD_WARNING = {'data': {'text/html':\n     \"<div style='background-color: #fdd'>\\n\"+\n     \"<p>\\n\"+\n     \"BokehJS does not appear to have successfully loaded. If loading BokehJS from CDN, this \\n\"+\n     \"may be due to a slow or bad network connection. Possible fixes:\\n\"+\n     \"</p>\\n\"+\n     \"<ul>\\n\"+\n     \"<li>re-rerun `output_notebook()` to attempt to load from CDN again, or</li>\\n\"+\n     \"<li>use INLINE resources instead, as so:</li>\\n\"+\n     \"</ul>\\n\"+\n     \"<code>\\n\"+\n     \"from bokeh.resources import INLINE\\n\"+\n     \"output_notebook(resources=INLINE)\\n\"+\n     \"</code>\\n\"+\n     \"</div>\"}};\n\n  function display_loaded() {\n    var el = document.getElementById(\"ad972c35-ff13-4523-9b53-c5602cd83117\");\n    if (el != null) {\n      el.textContent = \"BokehJS is loading...\";\n    }\n    if (root.Bokeh !== undefined) {\n      if (el != null) {\n        el.textContent = \"BokehJS \" + root.Bokeh.version + \" successfully loaded.\";\n      }\n    } else if (Date.now() < root._bokeh_timeout) {\n      setTimeout(display_loaded, 100)\n    }\n  }\n\n\n  function run_callbacks() {\n    try {\n      root._bokeh_onload_callbacks.forEach(function(callback) { callback() });\n    }\n    finally {\n      delete root._bokeh_onload_callbacks\n    }\n    console.info(\"Bokeh: all callbacks have finished\");\n  }\n\n  function load_libs(js_urls, callback) {\n    root._bokeh_onload_callbacks.push(callback);\n    if (root._bokeh_is_loading > 0) {\n      console.log(\"Bokeh: BokehJS is being loaded, scheduling callback at\", now());\n      return null;\n    }\n    if (js_urls == null || js_urls.length === 0) {\n      run_callbacks();\n      return null;\n    }\n    console.log(\"Bokeh: BokehJS not loaded, scheduling load and callback at\", now());\n    root._bokeh_is_loading = js_urls.length;\n    for (var i = 0; i < js_urls.length; i++) {\n      var url = js_urls[i];\n      var s = document.createElement('script');\n      s.src = url;\n      s.async = false;\n      s.onreadystatechange = s.onload = function() {\n        root._bokeh_is_loading--;\n        if (root._bokeh_is_loading === 0) {\n          console.log(\"Bokeh: all BokehJS libraries loaded\");\n          run_callbacks()\n        }\n      };\n      s.onerror = function() {\n        console.warn(\"failed to load library \" + url);\n      };\n      console.log(\"Bokeh: injecting script tag for BokehJS library: \", url);\n      document.getElementsByTagName(\"head\")[0].appendChild(s);\n    }\n  };var element = document.getElementById(\"ad972c35-ff13-4523-9b53-c5602cd83117\");\n  if (element == null) {\n    console.log(\"Bokeh: ERROR: autoload.js configured with elementid 'ad972c35-ff13-4523-9b53-c5602cd83117' but no matching script tag was found. \")\n    return false;\n  }\n\n  var js_urls = [\"https://cdn.pydata.org/bokeh/release/bokeh-0.12.13.min.js\", \"https://cdn.pydata.org/bokeh/release/bokeh-widgets-0.12.13.min.js\", \"https://cdn.pydata.org/bokeh/release/bokeh-tables-0.12.13.min.js\", \"https://cdn.pydata.org/bokeh/release/bokeh-gl-0.12.13.min.js\"];\n\n  var inline_js = [\n    function(Bokeh) {\n      Bokeh.set_log_level(\"info\");\n    },\n    \n    function(Bokeh) {\n      \n    },\n    function(Bokeh) {\n      console.log(\"Bokeh: injecting CSS: https://cdn.pydata.org/bokeh/release/bokeh-0.12.13.min.css\");\n      Bokeh.embed.inject_css(\"https://cdn.pydata.org/bokeh/release/bokeh-0.12.13.min.css\");\n      console.log(\"Bokeh: injecting CSS: https://cdn.pydata.org/bokeh/release/bokeh-widgets-0.12.13.min.css\");\n      Bokeh.embed.inject_css(\"https://cdn.pydata.org/bokeh/release/bokeh-widgets-0.12.13.min.css\");\n      console.log(\"Bokeh: injecting CSS: https://cdn.pydata.org/bokeh/release/bokeh-tables-0.12.13.min.css\");\n      Bokeh.embed.inject_css(\"https://cdn.pydata.org/bokeh/release/bokeh-tables-0.12.13.min.css\");\n    }\n  ];\n\n  function run_inline_js() {\n    \n    if ((root.Bokeh !== undefined) || (force === true)) {\n      for (var i = 0; i < inline_js.length; i++) {\n        inline_js[i].call(root, root.Bokeh);\n      }if (force === true) {\n        display_loaded();\n      }} else if (Date.now() < root._bokeh_timeout) {\n      setTimeout(run_inline_js, 100);\n    } else if (!root._bokeh_failed_load) {\n      console.log(\"Bokeh: BokehJS failed to load within specified timeout.\");\n      root._bokeh_failed_load = true;\n    } else if (force !== true) {\n      var cell = $(document.getElementById(\"ad972c35-ff13-4523-9b53-c5602cd83117\")).parents('.cell').data().cell;\n      cell.output_area.append_execute_result(NB_LOAD_WARNING)\n    }\n\n  }\n\n  if (root._bokeh_is_loading === 0) {\n    console.log(\"Bokeh: BokehJS loaded, going straight to plotting\");\n    run_inline_js();\n  } else {\n    load_libs(js_urls, function() {\n      console.log(\"Bokeh: BokehJS plotting callback run at\", now());\n      run_inline_js();\n    });\n  }\n}(window));"
>>>>>>> master:Polimi Competition/UltimaProva_Santa.ipynb
     },
     "metadata": {},
     "output_type": "display_data"
    }
   ],
   "source": [
    "# dataframe management\n",
    "import pandas as pd             \n",
    "\n",
    "# numerical computation\n",
    "import numpy as np\n",
    "\n",
    "import re\n",
    "\n",
    "# visualization library\n",
    "import seaborn as sns\n",
    "sns.set(style=\"white\", color_codes=True)\n",
    "sns.set_context(rc={\"font.family\":'sans',\"font.size\":24,\"axes.titlesize\":24,\"axes.labelsize\":24})   \n",
    "\n",
    "\n",
    "# import matplotlib and allow it to plot inline\n",
    "import matplotlib.pyplot as plt\n",
    "%matplotlib inline\n",
    "\n",
    "# seaborn can generate several warnings, we ignore them\n",
    "import warnings \n",
    "warnings.filterwarnings(\"ignore\")\n",
    "\n",
    "from bokeh.layouts import gridplot\n",
    "from bokeh.plotting import figure\n",
    "\n",
    "from bokeh.io import output_notebook, show\n",
    "from bokeh.models import ColumnDataSource\n",
    "output_notebook()\n",
    "\n",
    "from datetime import datetime, timedelta, date\n",
    "from scipy.stats import skew\n",
    "from sklearn.linear_model import LinearRegression, Ridge, RidgeCV, ElasticNet, Lasso, LassoCV\n",
    "from sklearn.tree import DecisionTreeRegressor\n",
    "from sklearn.model_selection import cross_val_score, KFold\n",
    "from sklearn.metrics import r2_score, mean_squared_error\n",
    "from sklearn.ensemble import RandomForestRegressor,AdaBoostRegressor\n",
    "from sklearn.datasets import load_boston\n",
    "\n",
    "import statsmodels.api as sm\n",
    "\n",
    "\n",
    "#IMPORTS FOR MODEL PARAMETRIZATION\n",
    "from pprint import pprint\n"
   ]
  },
  {
   "cell_type": "markdown",
   "metadata": {},
   "source": [
    "# Functions definitions"
   ]
  },
  {
   "cell_type": "code",
   "execution_count": 3,
   "metadata": {},
   "outputs": [],
   "source": [
    "def toDate(x):\n",
    "    parts = [int(el) for el in x.split(\"/\")]\n",
    "    return date(parts[2], parts[1], parts[0])\n",
    "\n",
    "def r2_cv(model, sales_train, y, random_state=12345678):\n",
    "    r2= cross_val_score(model, sales_train, y, scoring=\"r2\", cv =KFold(10, shuffle=True, random_state=random_state)) \n",
    "    return(r2)\n",
    "\n",
    "def rmse_cv(model, sales_train, y, random_state=12345678):\n",
    "    rmse= np.sqrt(-cross_val_score(model, sales_train, y, scoring=\"neg_mean_squared_error\", cv =KFold(10, shuffle=True, random_state=random_state)))\n",
    "    return(rmse)\n",
    "\n",
    "def RegionError(region, data):\n",
    "    d = data[data[region] == 1][[\"StoreID\",\"Month\",\"NumberOfSales\",\"NumberOfPredictedSales\"]].groupby([\"StoreID\",\"Month\"]).agg(\"sum\")\n",
    "    res = abs(d[\"NumberOfSales\"]-d[\"NumberOfPredictedSales\"]).agg(\"sum\")\n",
    "    return res / d[\"NumberOfSales\"].agg(\"sum\")\n",
    "\n",
    "def q(col, quant, f):\n",
    "    t = sales[col].quantile(quant)\n",
    "    print(f'col {col} at {quant}-th quantile => {t}')\n",
    "    sales.loc[f(sales[col], t), col] = t\n",
    "    \n",
    "def getFilterRegion(cluster, data):\n",
    "    filterRegion = data[cluster[0]] == 1\n",
    "    for region in cluster[1:]:\n",
    "        filterRegion = ((filterRegion) | (data[region]==1))\n",
    "    return filterRegion\n",
    "\n",
    "def getColsMatching(data, oldCol):\n",
    "    return [col for col in data.columns if re.match(r\"(\"+oldCol+\"_)(\\d)\", col)]\n",
    "\n",
    "def dedummify(data, oldCol):\n",
    "    return data[getColsMatching(data,oldCol)].idxmax(axis=1).apply(lambda x : x.split(\"_\")[-1])\n",
    "\n",
    "def firstStepGetModelTrained(cluster, train):\n",
    "    \n",
    "    #Get only the data for the required cluster in train and test set\n",
    "    train_region_label= train.loc[getFilterRegion(cluster,train)]\n",
    "    print(cluster)\n",
    "    \n",
    "    #removing the region columns in order to force the tree alghoritm to do not split for regions\n",
    "    cols_not_for_step1 = ['Region_PopulationK','Region_AreaKM2','Region_GDP',*cluster]\n",
    "    train_region_columns = train_region_label[cols_not_for_step1]\n",
    "    train_region_label=train_region_label.drop(columns=cols_not_for_step1)\n",
    "    \n",
    "    train_x_region_label_step1 = train_region_label.drop(columns=['NumberOfSales','NumberOfCustomers'])\n",
    "    train_y_region_label_step1 = pd.DataFrame(data = train_region_label['NumberOfCustomers'])\n",
    "    \n",
    "    #First model predicting NumberOfCustomers\n",
    "    model_simple = RandomForestRegressor()\n",
    "    \n",
    "    #finding the best parameters\n",
    "    model_simple = RandomizedSearchCV(estimator=model_simple, param_distributions=random_grid,\n",
    "                              n_iter = 1, scoring='neg_mean_absolute_error', \n",
    "                              cv = 3, verbose=2, n_jobs=-1,\n",
    "                              return_train_score=True)\n",
    "    \n",
    "    model_simple = model_simple.fit(train_x_region_label_step1, train_y_region_label_step1)\n",
    "    \n",
    "    pprint(model_simple.best_params_)\n",
    "    \n",
    "    return (model_simple, cols_not_for_step1)\n",
    "\n",
    "def secondStepGetModelTrained(train):\n",
    "    train_x_step2 = train.drop(columns=['NumberOfSales'])\n",
    "    train_y_step2 = pd.DataFrame(data = train['NumberOfSales']) \n",
    "    cols_for_step2 = [*getColsMatching(train,\"Month\"), *getColsMatching(train,\"Region\"),'NumberOfCustomers','Region_AreaKM2','HasPromotions','IsHoliday','Region_GDP', \"StoreID\"]\n",
    "    train_x_step2 = train_x_step2[cols_for_step2]\n",
    "    \n",
    "    #STEP2\n",
    "    model_simple_step2 = RandomForestRegressor()\n",
    "    \n",
    "    #finding the best parameters\n",
    "    model_simple_step2 = RandomizedSearchCV(estimator=model_simple_step2, param_distributions=random_grid,\n",
    "                              n_iter = 1, scoring='neg_mean_absolute_error', \n",
    "                              cv = 3, verbose=2, n_jobs=-1,\n",
    "                              return_train_score=True)\n",
    "    \n",
    "    model_simple_step2 = model_simple_step2.fit(train_x_step2, train_y_step2)\n",
    "    \n",
    "    pprint(model_simple_step2.best_params_)\n",
    "    \n",
    "    return (model_simple_step2, cols_for_step2)\n",
    "\n",
    "def getModelsTrained(clusters, train_1, train):\n",
    "    models = {}\n",
    "    for cluster in clusters:\n",
    "        models[str(cluster)] = firstStepGetModelTrained(cluster, train_1)\n",
    "    # Prepare data for step2\n",
    "    return models, secondStepGetModelTrained(train)\n"
   ]
  },
  {
   "cell_type": "markdown",
   "metadata": {},
   "source": [
    "# Read input data"
   ]
  },
  {
   "cell_type": "code",
   "execution_count": 4,
   "metadata": {},
   "outputs": [],
   "source": [
    "# Reading the data\n",
    "sales =pd.read_csv('train.csv')\n",
    "sales = sales.append(pd.read_csv('test.csv'))\n",
    "# Removing tuples where stores are closed\n",
    "sales = sales[sales['IsOpen'] == 1]\n",
    "# Converting to category columns that are labels\n",
    "for el in [\"StoreID\", \"Region\"]:\n",
    "    sales[el] = sales[el].astype(\"category\")"
   ]
  },
  {
   "cell_type": "code",
   "execution_count": 5,
   "metadata": {
    "scrolled": true
   },
   "outputs": [
    {
     "data": {
      "text/plain": [
       "[('Max_Gust_SpeedKm_h', 370184),\n",
       " ('Events', 117386),\n",
       " ('CloudCover', 41545),\n",
       " ('NumberOfCustomers', 37586),\n",
       " ('NumberOfSales', 37586),\n",
       " ('Max_VisibilityKm', 11408),\n",
       " ('Mean_VisibilityKm', 11408),\n",
       " ('Min_VisibilitykM', 11408)]"
      ]
     },
     "execution_count": 5,
     "metadata": {},
     "output_type": "execute_result"
    }
   ],
   "source": [
    "nulls = sales.isnull().sum()\n",
    "sorted([(x,y) for (x,y) in zip(nulls.index, nulls) if y>0], key=lambda x: x[1], reverse=True)"
   ]
  },
  {
   "cell_type": "markdown",
   "metadata": {},
   "source": [
    "We see that Max_Gust_SpeedKm_h has 409947 missing values. We decided not to impute it.\n",
    "\n",
    "Let's start with imputation of \"Events\""
   ]
  },
  {
   "cell_type": "code",
   "execution_count": 6,
   "metadata": {
    "scrolled": true
   },
   "outputs": [
    {
     "data": {
      "text/html": [
       "<div>\n",
       "<style scoped>\n",
       "    .dataframe tbody tr th:only-of-type {\n",
       "        vertical-align: middle;\n",
       "    }\n",
       "\n",
       "    .dataframe tbody tr th {\n",
       "        vertical-align: top;\n",
       "    }\n",
       "\n",
       "    .dataframe thead th {\n",
       "        text-align: right;\n",
       "    }\n",
       "</style>\n",
       "<table border=\"1\" class=\"dataframe\">\n",
       "  <thead>\n",
       "    <tr style=\"text-align: right;\">\n",
       "      <th></th>\n",
       "      <th>CloudCover</th>\n",
       "      <th>HasPromotions</th>\n",
       "      <th>IsHoliday</th>\n",
       "      <th>IsOpen</th>\n",
       "      <th>Max_Dew_PointC</th>\n",
       "      <th>Max_Gust_SpeedKm_h</th>\n",
       "      <th>Max_Humidity</th>\n",
       "      <th>Max_Sea_Level_PressurehPa</th>\n",
       "      <th>Max_TemperatureC</th>\n",
       "      <th>Max_VisibilityKm</th>\n",
       "      <th>...</th>\n",
       "      <th>Min_TemperatureC</th>\n",
       "      <th>Min_VisibilitykM</th>\n",
       "      <th>NearestCompetitor</th>\n",
       "      <th>NumberOfCustomers</th>\n",
       "      <th>NumberOfSales</th>\n",
       "      <th>Precipitationmm</th>\n",
       "      <th>Region_AreaKM2</th>\n",
       "      <th>Region_GDP</th>\n",
       "      <th>Region_PopulationK</th>\n",
       "      <th>WindDirDegrees</th>\n",
       "    </tr>\n",
       "  </thead>\n",
       "  <tbody>\n",
       "    <tr>\n",
       "      <th>count</th>\n",
       "      <td>88353.000000</td>\n",
       "      <td>117386.000000</td>\n",
       "      <td>117386.000000</td>\n",
       "      <td>117386.0</td>\n",
       "      <td>117386.000000</td>\n",
       "      <td>16279.000000</td>\n",
       "      <td>117386.000000</td>\n",
       "      <td>117386.000000</td>\n",
       "      <td>117386.000000</td>\n",
       "      <td>106405.000000</td>\n",
       "      <td>...</td>\n",
       "      <td>117386.000000</td>\n",
       "      <td>106405.000000</td>\n",
       "      <td>117386.000000</td>\n",
       "      <td>103661.000000</td>\n",
       "      <td>103661.000000</td>\n",
       "      <td>117386.000000</td>\n",
       "      <td>117386.000000</td>\n",
       "      <td>117386.000000</td>\n",
       "      <td>117386.000000</td>\n",
       "      <td>117386.000000</td>\n",
       "    </tr>\n",
       "    <tr>\n",
       "      <th>mean</th>\n",
       "      <td>4.972587</td>\n",
       "      <td>0.447864</td>\n",
       "      <td>0.000954</td>\n",
       "      <td>1.0</td>\n",
       "      <td>7.170906</td>\n",
       "      <td>41.117329</td>\n",
       "      <td>88.402288</td>\n",
       "      <td>1021.152931</td>\n",
       "      <td>16.380778</td>\n",
       "      <td>23.647357</td>\n",
       "      <td>...</td>\n",
       "      <td>5.941893</td>\n",
       "      <td>10.648541</td>\n",
       "      <td>8573.609102</td>\n",
       "      <td>314.641910</td>\n",
       "      <td>4893.577276</td>\n",
       "      <td>0.003462</td>\n",
       "      <td>11738.380122</td>\n",
       "      <td>13757.148229</td>\n",
       "      <td>3507.508681</td>\n",
       "      <td>138.522490</td>\n",
       "    </tr>\n",
       "    <tr>\n",
       "      <th>std</th>\n",
       "      <td>2.231730</td>\n",
       "      <td>0.497277</td>\n",
       "      <td>0.030874</td>\n",
       "      <td>0.0</td>\n",
       "      <td>6.222045</td>\n",
       "      <td>10.304880</td>\n",
       "      <td>9.065070</td>\n",
       "      <td>7.073287</td>\n",
       "      <td>8.454013</td>\n",
       "      <td>9.066879</td>\n",
       "      <td>...</td>\n",
       "      <td>6.504197</td>\n",
       "      <td>6.116777</td>\n",
       "      <td>12144.683666</td>\n",
       "      <td>159.283348</td>\n",
       "      <td>2238.517426</td>\n",
       "      <td>0.082444</td>\n",
       "      <td>8525.873473</td>\n",
       "      <td>2742.219077</td>\n",
       "      <td>2686.068085</td>\n",
       "      <td>105.897769</td>\n",
       "    </tr>\n",
       "    <tr>\n",
       "      <th>min</th>\n",
       "      <td>0.000000</td>\n",
       "      <td>0.000000</td>\n",
       "      <td>0.000000</td>\n",
       "      <td>1.0</td>\n",
       "      <td>-11.000000</td>\n",
       "      <td>23.000000</td>\n",
       "      <td>44.000000</td>\n",
       "      <td>995.000000</td>\n",
       "      <td>-9.000000</td>\n",
       "      <td>2.000000</td>\n",
       "      <td>...</td>\n",
       "      <td>-12.000000</td>\n",
       "      <td>0.000000</td>\n",
       "      <td>47.000000</td>\n",
       "      <td>0.000000</td>\n",
       "      <td>0.000000</td>\n",
       "      <td>0.000000</td>\n",
       "      <td>344.000000</td>\n",
       "      <td>9893.000000</td>\n",
       "      <td>816.000000</td>\n",
       "      <td>-1.000000</td>\n",
       "    </tr>\n",
       "    <tr>\n",
       "      <th>25%</th>\n",
       "      <td>3.000000</td>\n",
       "      <td>0.000000</td>\n",
       "      <td>0.000000</td>\n",
       "      <td>1.0</td>\n",
       "      <td>2.000000</td>\n",
       "      <td>34.000000</td>\n",
       "      <td>82.000000</td>\n",
       "      <td>1016.000000</td>\n",
       "      <td>10.000000</td>\n",
       "      <td>11.000000</td>\n",
       "      <td>...</td>\n",
       "      <td>1.000000</td>\n",
       "      <td>8.000000</td>\n",
       "      <td>1116.000000</td>\n",
       "      <td>215.000000</td>\n",
       "      <td>3375.000000</td>\n",
       "      <td>0.000000</td>\n",
       "      <td>7215.000000</td>\n",
       "      <td>11849.000000</td>\n",
       "      <td>1293.000000</td>\n",
       "      <td>47.000000</td>\n",
       "    </tr>\n",
       "    <tr>\n",
       "      <th>50%</th>\n",
       "      <td>5.000000</td>\n",
       "      <td>0.000000</td>\n",
       "      <td>0.000000</td>\n",
       "      <td>1.0</td>\n",
       "      <td>7.000000</td>\n",
       "      <td>40.000000</td>\n",
       "      <td>88.000000</td>\n",
       "      <td>1021.000000</td>\n",
       "      <td>17.000000</td>\n",
       "      <td>31.000000</td>\n",
       "      <td>...</td>\n",
       "      <td>6.000000</td>\n",
       "      <td>10.000000</td>\n",
       "      <td>3614.000000</td>\n",
       "      <td>280.000000</td>\n",
       "      <td>4461.000000</td>\n",
       "      <td>0.000000</td>\n",
       "      <td>9337.000000</td>\n",
       "      <td>13155.000000</td>\n",
       "      <td>1892.000000</td>\n",
       "      <td>129.000000</td>\n",
       "    </tr>\n",
       "    <tr>\n",
       "      <th>75%</th>\n",
       "      <td>7.000000</td>\n",
       "      <td>1.000000</td>\n",
       "      <td>0.000000</td>\n",
       "      <td>1.0</td>\n",
       "      <td>12.000000</td>\n",
       "      <td>47.000000</td>\n",
       "      <td>94.000000</td>\n",
       "      <td>1026.000000</td>\n",
       "      <td>23.000000</td>\n",
       "      <td>31.000000</td>\n",
       "      <td>...</td>\n",
       "      <td>11.000000</td>\n",
       "      <td>10.000000</td>\n",
       "      <td>10593.000000</td>\n",
       "      <td>372.000000</td>\n",
       "      <td>5918.000000</td>\n",
       "      <td>0.000000</td>\n",
       "      <td>15566.000000</td>\n",
       "      <td>15931.000000</td>\n",
       "      <td>5727.000000</td>\n",
       "      <td>221.000000</td>\n",
       "    </tr>\n",
       "    <tr>\n",
       "      <th>max</th>\n",
       "      <td>8.000000</td>\n",
       "      <td>1.000000</td>\n",
       "      <td>1.000000</td>\n",
       "      <td>1.0</td>\n",
       "      <td>23.000000</td>\n",
       "      <td>77.000000</td>\n",
       "      <td>100.000000</td>\n",
       "      <td>1042.000000</td>\n",
       "      <td>37.000000</td>\n",
       "      <td>31.000000</td>\n",
       "      <td>...</td>\n",
       "      <td>23.000000</td>\n",
       "      <td>31.000000</td>\n",
       "      <td>85070.000000</td>\n",
       "      <td>2206.000000</td>\n",
       "      <td>26641.000000</td>\n",
       "      <td>4.060000</td>\n",
       "      <td>32221.000000</td>\n",
       "      <td>23931.000000</td>\n",
       "      <td>8146.000000</td>\n",
       "      <td>360.000000</td>\n",
       "    </tr>\n",
       "  </tbody>\n",
       "</table>\n",
       "<p>8 rows × 30 columns</p>\n",
       "</div>"
      ],
      "text/plain": [
       "         CloudCover  HasPromotions      IsHoliday    IsOpen  Max_Dew_PointC  \\\n",
       "count  88353.000000  117386.000000  117386.000000  117386.0   117386.000000   \n",
       "mean       4.972587       0.447864       0.000954       1.0        7.170906   \n",
       "std        2.231730       0.497277       0.030874       0.0        6.222045   \n",
       "min        0.000000       0.000000       0.000000       1.0      -11.000000   \n",
       "25%        3.000000       0.000000       0.000000       1.0        2.000000   \n",
       "50%        5.000000       0.000000       0.000000       1.0        7.000000   \n",
       "75%        7.000000       1.000000       0.000000       1.0       12.000000   \n",
       "max        8.000000       1.000000       1.000000       1.0       23.000000   \n",
       "\n",
       "       Max_Gust_SpeedKm_h   Max_Humidity  Max_Sea_Level_PressurehPa  \\\n",
       "count        16279.000000  117386.000000              117386.000000   \n",
       "mean            41.117329      88.402288                1021.152931   \n",
       "std             10.304880       9.065070                   7.073287   \n",
       "min             23.000000      44.000000                 995.000000   \n",
       "25%             34.000000      82.000000                1016.000000   \n",
       "50%             40.000000      88.000000                1021.000000   \n",
       "75%             47.000000      94.000000                1026.000000   \n",
       "max             77.000000     100.000000                1042.000000   \n",
       "\n",
       "       Max_TemperatureC  Max_VisibilityKm       ...        Min_TemperatureC  \\\n",
       "count     117386.000000     106405.000000       ...           117386.000000   \n",
       "mean          16.380778         23.647357       ...                5.941893   \n",
       "std            8.454013          9.066879       ...                6.504197   \n",
       "min           -9.000000          2.000000       ...              -12.000000   \n",
       "25%           10.000000         11.000000       ...                1.000000   \n",
       "50%           17.000000         31.000000       ...                6.000000   \n",
       "75%           23.000000         31.000000       ...               11.000000   \n",
       "max           37.000000         31.000000       ...               23.000000   \n",
       "\n",
       "       Min_VisibilitykM  NearestCompetitor  NumberOfCustomers  NumberOfSales  \\\n",
       "count     106405.000000      117386.000000      103661.000000  103661.000000   \n",
       "mean          10.648541        8573.609102         314.641910    4893.577276   \n",
       "std            6.116777       12144.683666         159.283348    2238.517426   \n",
       "min            0.000000          47.000000           0.000000       0.000000   \n",
       "25%            8.000000        1116.000000         215.000000    3375.000000   \n",
       "50%           10.000000        3614.000000         280.000000    4461.000000   \n",
       "75%           10.000000       10593.000000         372.000000    5918.000000   \n",
       "max           31.000000       85070.000000        2206.000000   26641.000000   \n",
       "\n",
       "       Precipitationmm  Region_AreaKM2     Region_GDP  Region_PopulationK  \\\n",
       "count    117386.000000   117386.000000  117386.000000       117386.000000   \n",
       "mean          0.003462    11738.380122   13757.148229         3507.508681   \n",
       "std           0.082444     8525.873473    2742.219077         2686.068085   \n",
       "min           0.000000      344.000000    9893.000000          816.000000   \n",
       "25%           0.000000     7215.000000   11849.000000         1293.000000   \n",
       "50%           0.000000     9337.000000   13155.000000         1892.000000   \n",
       "75%           0.000000    15566.000000   15931.000000         5727.000000   \n",
       "max           4.060000    32221.000000   23931.000000         8146.000000   \n",
       "\n",
       "       WindDirDegrees  \n",
       "count   117386.000000  \n",
       "mean       138.522490  \n",
       "std        105.897769  \n",
       "min         -1.000000  \n",
       "25%         47.000000  \n",
       "50%        129.000000  \n",
       "75%        221.000000  \n",
       "max        360.000000  \n",
       "\n",
       "[8 rows x 30 columns]"
      ]
     },
     "execution_count": 6,
     "metadata": {},
     "output_type": "execute_result"
    }
   ],
   "source": [
    "null_Events = sales['Events'].isnull()\n",
    "event_missing = sales[null_Events]\n",
    "event_missing.describe()"
   ]
  },
  {
   "cell_type": "code",
   "execution_count": 7,
   "metadata": {},
   "outputs": [
    {
     "data": {
      "text/plain": [
       "Rain                           183464\n",
       "Fog                             61325\n",
       "Fog-Rain                        43791\n",
       "Rain-Thunderstorm               18794\n",
       "Rain-Snow                       16137\n",
       "Snow                            12789\n",
       "Fog-Rain-Thunderstorm            6546\n",
       "Fog-Rain-Snow                    2696\n",
       "Fog-Snow                         2469\n",
       "Rain-Hail                        1647\n",
       "Thunderstorm                     1298\n",
       "Rain-Snow-Hail                   1133\n",
       "Rain-Hail-Thunderstorm            310\n",
       "Rain-Snow-Thunderstorm            307\n",
       "Fog-Rain-Hail-Thunderstorm        303\n",
       "Rain-Snow-Hail-Thunderstorm       290\n",
       "Fog-Rain-Snow-Hail                231\n",
       "Fog-Snow-Hail                     169\n",
       "Fog-Rain-Hail                     168\n",
       "Fog-Thunderstorm                  157\n",
       "Snow-Hail                         134\n",
       "Name: Events, dtype: int64"
      ]
     },
     "execution_count": 7,
     "metadata": {},
     "output_type": "execute_result"
    }
   ],
   "source": [
    "sales['Events'].value_counts()"
   ]
  },
  {
   "cell_type": "markdown",
   "metadata": {},
   "source": [
    "By this, we discovered that when Event is null the weather is good, from the fact that Precipitationmm mean is almost 0.\n",
    "Furthermore, all the labels of Events are related to bad weather, that means that when no precipitation occurs the label is null.\n",
    "We will impute Event by replacing the missing values with \"Not Specified\" (later)."
   ]
  },
  {
   "cell_type": "markdown",
   "metadata": {},
   "source": [
    "Now we impute \"CloudCover\", making a distinction when it misses along with Events and when it misses on its own."
   ]
  },
  {
   "cell_type": "code",
   "execution_count": 8,
   "metadata": {},
   "outputs": [
    {
     "data": {
      "text/plain": [
       "((117386, 36), (117386, 36), (29033, 36))"
      ]
     },
     "execution_count": 8,
     "metadata": {},
     "output_type": "execute_result"
    }
   ],
   "source": [
    "null_Events = sales['Events'].isnull()\n",
    "null_CloudCover = sales['CloudCover'].isnull()\n",
    "cloudcover_missing = sales[(null_Events)]\n",
    "null_Events = sales['Events'].isnull()\n",
    "event_missing = sales[null_Events]\n",
    "event_cc_missing = sales[null_CloudCover & null_Events]\n",
    "\n",
    "cloudcover_missing.shape, event_missing.shape, event_cc_missing.shape "
   ]
  },
  {
   "cell_type": "markdown",
   "metadata": {},
   "source": [
    "There are 28k tuples where both \"Events\" and \"CloudCover\" are missing, that means that the weather should be good.\n",
    "for the remaining (41k-28k) (i.e. where \"Events\" is not null!) tuples we impute the CloudCoverage."
   ]
  },
  {
   "cell_type": "code",
   "execution_count": 9,
   "metadata": {},
   "outputs": [],
   "source": [
    "event_notmissing_cc_missing = sales[null_CloudCover & ~null_Events]\n",
    "#computing mean where CloudCover is not null\n",
    "mean_CC = sales[\"CloudCover\"].mean()\n",
    "event_notmissing_cc_missing[\"CloudCover\"] = event_notmissing_cc_missing[\"CloudCover\"].fillna(mean_CC)\n",
    "sales = pd.concat([sales[~null_CloudCover | null_Events], event_notmissing_cc_missing])"
   ]
  },
  {
   "cell_type": "markdown",
   "metadata": {},
   "source": [
    "Then, we impute the remaining rows with CloudCover missing"
   ]
  },
  {
   "cell_type": "code",
   "execution_count": 10,
   "metadata": {},
   "outputs": [],
   "source": [
    "null_Events = sales['Events'].isnull()\n",
    "CloudyButNotEvent = sales[null_Events]\n",
    "#there are some tuples with no Events but with the attribute CloudCover"
   ]
  },
  {
   "cell_type": "code",
   "execution_count": 11,
   "metadata": {},
   "outputs": [],
   "source": [
    "null_cloudCover = sales[sales['CloudCover'].isnull()]\n",
    "mean_cloudCover = sales[\"CloudCover\"].mean()\n",
    "null_cloudCover[\"CloudCover\"] = null_cloudCover[\"CloudCover\"].fillna(mean_cloudCover)\n",
    "\n",
    "sales = pd.concat([sales[~sales['CloudCover'].isnull()], null_cloudCover])"
   ]
  },
  {
   "cell_type": "markdown",
   "metadata": {},
   "source": [
    "Now, we impute min,max,mean_VisibilityKm. "
   ]
  },
  {
   "cell_type": "code",
   "execution_count": 12,
   "metadata": {},
   "outputs": [
    {
     "data": {
      "text/plain": [
       "Max_VisibilityKm     460136\n",
       "Mean_VisibilityKm    460136\n",
       "Min_VisibilitykM     460136\n",
       "dtype: int64"
      ]
     },
     "execution_count": 12,
     "metadata": {},
     "output_type": "execute_result"
    }
   ],
   "source": [
    "# checking if are all the same rows where visibility data are missing => yes, they are\n",
    "sales[[\"Max_VisibilityKm\", \"Mean_VisibilityKm\", \"Min_VisibilitykM\"]].count()"
   ]
  },
  {
   "cell_type": "code",
   "execution_count": 13,
   "metadata": {},
   "outputs": [],
   "source": [
    "null_visibility = sales[sales['Max_VisibilityKm'].isnull()]\n",
    "mean_vis_max = sales[\"Max_VisibilityKm\"].mean()\n",
    "mean_vis_mean = sales[\"Mean_VisibilityKm\"].mean()\n",
    "mean_vis_min = sales[\"Min_VisibilitykM\"].mean()\n",
    "\n",
    "null_visibility[\"Max_VisibilityKm\"] = null_visibility[\"Max_VisibilityKm\"].fillna(mean_vis_max)\n",
    "null_visibility[\"Mean_VisibilityKm\"] = null_visibility[\"Mean_VisibilityKm\"].fillna(mean_vis_mean)\n",
    "null_visibility[\"Min_VisibilitykM\"] = null_visibility[\"Min_VisibilitykM\"].fillna(mean_vis_min)\n",
    "\n",
    "sales = pd.concat([sales[~sales['Max_VisibilityKm'].isnull()], null_visibility])"
   ]
  },
  {
   "cell_type": "markdown",
   "metadata": {},
   "source": [
    "Finally, we impute \"Events\"."
   ]
  },
  {
   "cell_type": "code",
   "execution_count": 14,
   "metadata": {},
   "outputs": [],
   "source": [
    "sales = sales.replace(np.nan,'NotSpecified', regex=True)\n"
   ]
  },
  {
   "cell_type": "markdown",
   "metadata": {},
   "source": [
    "# Dealing with outliers"
   ]
  },
  {
   "cell_type": "code",
   "execution_count": 15,
   "metadata": {
    "scrolled": false
   },
   "outputs": [
    {
     "data": {
      "text/plain": [
       "NearestCompetitor             59199.0\n",
       "Region_AreaKM2                32221.0\n",
       "Region_GDP                    23931.0\n",
       "Region_PopulationK             8146.0\n",
       "StoreID                        1741.0\n",
       "Max_Sea_Level_PressurehPa      1037.0\n",
       "Mean_Sea_Level_PressurehPa     1034.0\n",
       "Min_Sea_Level_PressurehPa      1032.0\n",
       "WindDirDegrees                  354.0\n",
       "Max_Humidity                    100.0\n",
       "Mean_Humidity                    99.0\n",
       "Min_Humidity                     93.0\n",
       "Max_Wind_SpeedKm_h               50.0\n",
       "Max_TemperatureC                 32.0\n",
       "Max_VisibilityKm                 31.0\n",
       "Mean_Wind_SpeedKm_h              31.0\n",
       "Mean_VisibilityKm                30.0\n",
       "Min_VisibilitykM                 29.0\n",
       "Mean_TemperatureC                24.0\n",
       "Max_Dew_PointC                   20.0\n",
       "Name: 0.99, dtype: float64"
      ]
     },
     "execution_count": 15,
     "metadata": {},
     "output_type": "execute_result"
    }
   ],
   "source": [
    "sales.quantile(.99).sort_values(ascending=False).head(20)"
   ]
  },
  {
   "cell_type": "code",
   "execution_count": 16,
   "metadata": {
    "scrolled": false
   },
   "outputs": [
    {
     "name": "stdout",
     "output_type": "stream",
     "text": [
      "col NearestCompetitor at 0.95-th quantile => 31706.399999986403\n",
      "col Precipitationmm at 0.95-th quantile => 5.08\n",
      "col Max_Wind_SpeedKm_h at 0.95-th quantile => 39.0\n",
      "col Max_Wind_SpeedKm_h at 0.03-th quantile => 11.0\n",
      "col Max_TemperatureC at 0.95-th quantile => 27.0\n",
      "col Max_TemperatureC at 0.03-th quantile => 1.0\n",
      "col Min_TemperatureC at 0.95-th quantile => 16.0\n",
      "col Min_TemperatureC at 0.03-th quantile => -5.0\n",
      "col Mean_Dew_PointC at 0.95-th quantile => 15.0\n",
      "col Mean_Dew_PointC at 0.05-th quantile => -3.0\n",
      "col Mean_Dew_PointC at 0.95-th quantile => 15.0\n",
      "col Mean_Dew_PointC at 0.05-th quantile => -3.0\n",
      "col Mean_Humidity at 0.95-th quantile => 94.0\n",
      "col Mean_Humidity at 0.03-th quantile => 49.0\n",
      "col Min_VisibilitykM at 0.95-th quantile => 11.0\n",
      "col Min_Humidity at 0.03-th quantile => 19.0\n",
      "col Min_Humidity at 0.95-th quantile => 83.0\n",
      "col Mean_Wind_SpeedKm_h at 0.95-th quantile => 24.0\n",
      "col Mean_TemperatureC at 0.03-th quantile => -2.0\n",
      "col Mean_TemperatureC at 0.95-th quantile => 21.0\n",
      "col Mean_VisibilityKm at 0.05-th quantile => 6.0\n",
      "col Mean_VisibilityKm at 0.95-th quantile => 23.0\n"
     ]
    }
   ],
   "source": [
    "q(\"NearestCompetitor\", .95, lambda x, y: x > y)\n",
    "q(\"Precipitationmm\", .95, lambda x, y: x > y)\n",
    "q(\"Max_Wind_SpeedKm_h\", .95, lambda x,y: x > y)\n",
    "q(\"Max_Wind_SpeedKm_h\", .03, lambda x,y: x < y)\n",
    "q(\"Max_TemperatureC\", .95, lambda x,y: x > y)\n",
    "q(\"Max_TemperatureC\", .03, lambda x,y: x < y)\n",
    "q(\"Min_TemperatureC\", .95, lambda x,y: x > y)\n",
    "q(\"Min_TemperatureC\", .03, lambda x,y: x < y)\n",
    "q(\"Mean_Dew_PointC\", .95, lambda x,y: x > y)\n",
    "q(\"Mean_Dew_PointC\", .05, lambda x,y: x < y)\n",
    "q(\"Mean_Dew_PointC\", .95, lambda x,y: x > y)\n",
    "q(\"Mean_Dew_PointC\", .05, lambda x,y: x < y)\n",
    "q(\"Mean_Humidity\", .95, lambda x,y: x > y)\n",
    "q(\"Mean_Humidity\", .03, lambda x,y: x < y)\n",
    "q(\"Min_VisibilitykM\", .95, lambda x,y: x > y)\n",
    "q(\"Min_Humidity\", .03, lambda x,y: x < y)\n",
    "q(\"Min_Humidity\", .95, lambda x,y: x > y)\n",
    "q(\"Mean_Wind_SpeedKm_h\", .95, lambda x,y: x > y)\n",
    "q(\"Mean_TemperatureC\", .03, lambda x,y: x < y)\n",
    "q(\"Mean_TemperatureC\", .95, lambda x,y: x > y)\n",
    "q(\"Mean_VisibilityKm\", .05, lambda x,y: x < y)\n",
    "q(\"Mean_VisibilityKm\", .95, lambda x,y: x > y)"
   ]
  },
  {
   "cell_type": "markdown",
   "metadata": {},
   "source": [
    "# Normalization of Numerical Variables"
   ]
  },
  {
   "cell_type": "code",
   "execution_count": 17,
   "metadata": {},
   "outputs": [
    {
     "data": {
      "text/plain": [
       "Text(0.5,1,'')"
      ]
     },
     "execution_count": 17,
     "metadata": {},
     "output_type": "execute_result"
    },
    {
     "data": {
      "image/png": "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\n",
      "text/plain": [
<<<<<<< HEAD:Polimi Competition/UltimaProva_Santa-Copy1STEP2.ipynb
       "<matplotlib.figure.Figure at 0x187803c58d0>"
=======
       "<matplotlib.figure.Figure at 0x1c1f7459b0>"
>>>>>>> master:Polimi Competition/UltimaProva_Santa.ipynb
      ]
     },
     "metadata": {},
     "output_type": "display_data"
    }
   ],
   "source": [
    "# take the numerical features\n",
    "numeric_feats = sales.dtypes[sales.dtypes != \"object\"].index\n",
    "# compute the skewness but only for non missing variables (we already imputed them but just in case ...)\n",
    "skewed_feats = sales[numeric_feats].apply(lambda x: skew(x.dropna()))\n",
    "\n",
    "skewness = pd.DataFrame({\"Variable\":skewed_feats.index, \"Skewness\":skewed_feats.data})\n",
    "# select the variables with a skewness above a certain threshold\n",
    "skewness = skewness.sort_values('Skewness', ascending=[0])\n",
    "f, ax = plt.subplots(figsize=(8,6))\n",
    "plt.xticks(rotation='90')\n",
    "sns.barplot(x=skewness['Variable'], y=skewness['Skewness'])\n",
    "plt.ylim(0,25)\n",
    "plt.xlabel('Numerical Variables', fontsize=15)\n",
    "plt.ylabel('Skewness', fontsize=15)\n",
    "plt.title('', fontsize=15)"
   ]
  },
  {
   "cell_type": "code",
   "execution_count": 18,
   "metadata": {},
   "outputs": [],
   "source": [
    "skewed_feats = skewed_feats[skewed_feats > 0.75]\n",
    "skewed_feats = skewed_feats.drop(['IsHoliday'])#,'NumberOfCustomers', \"NumberOfSales\"])\n",
    "sales[skewed_feats.index] = np.log1p(sales[skewed_feats.index])"
   ]
  },
  {
   "cell_type": "markdown",
   "metadata": {},
   "source": [
    "# Correlation Analysis and Feature Selection"
   ]
  },
  {
   "cell_type": "markdown",
   "metadata": {},
   "source": [
    "By analyzing the correlation, we see that the following variables do not add any additional information. \n",
    "Max_Dew_PointC, Min_Dew_PointC, Max_Sea_Level_PressurehPa, Mean_Sea_Level_PressurehPa, Max_Gust_SpeedKm_h\n",
    "Finally, we drop 'NumberOfCustomers' because is not present in the submission dataset."
   ]
  },
  {
   "cell_type": "code",
   "execution_count": 19,
   "metadata": {},
   "outputs": [
    {
     "data": {
      "text/plain": [
       "(471544, 31)"
      ]
     },
     "execution_count": 19,
     "metadata": {},
     "output_type": "execute_result"
    }
   ],
   "source": [
    "sales=sales.drop(columns=['Max_Dew_PointC','Min_Dew_PointC','Max_Sea_Level_PressurehPa','Mean_Sea_Level_PressurehPa','Max_Gust_SpeedKm_h'])\n",
    "sales.shape"
   ]
  },
  {
   "cell_type": "markdown",
   "metadata": {},
   "source": [
    "Drop of the row where IsOpen==0"
   ]
  },
  {
   "cell_type": "code",
   "execution_count": 20,
   "metadata": {},
   "outputs": [],
   "source": [
    "sales=sales[sales['IsOpen']==1]\n",
    "sales=sales.drop(columns=['IsOpen'])"
   ]
  },
  {
   "cell_type": "markdown",
   "metadata": {},
   "source": [
    "### Convert Date to weekday label"
   ]
  },
  {
   "cell_type": "code",
   "execution_count": 21,
   "metadata": {},
   "outputs": [],
   "source": [
    "sales[\"Date\"] = sales[\"Date\"].apply(toDate)\n",
    "sales[\"Day_Of_Week\"] = sales[\"Date\"].astype(\"datetime64\").dt.weekday_name"
   ]
  },
  {
   "cell_type": "markdown",
   "metadata": {},
   "source": [
    "### Convert Date to month label"
   ]
  },
  {
   "cell_type": "code",
   "execution_count": 22,
   "metadata": {},
   "outputs": [],
   "source": [
    "sales[\"Month\"] = sales[\"Date\"].astype(\"datetime64\").dt.month"
   ]
  },
  {
   "cell_type": "markdown",
   "metadata": {},
   "source": [
    "### Adding info about avgsales per month ecc."
   ]
  },
  {
   "cell_type": "code",
   "execution_count": 23,
   "metadata": {},
   "outputs": [],
   "source": [
    "avgSalesForStoreIDForMonth = sales[sales[\"NumberOfSales\"] != 'NotSpecified']\n",
    "avgSalesForStoreIDForMonth[\"NumberOfSales\"] = avgSalesForStoreIDForMonth[\"NumberOfSales\"].astype(\"int\")\n",
    "avgSalesForStoreIDForMonth = avgSalesForStoreIDForMonth.groupby(['StoreID','Month'], as_index=False)['NumberOfSales'].mean() \n",
    "avgSalesForStoreIDForMonth = avgSalesForStoreIDForMonth.rename(index=str, columns={\"NumberOfSales\": \"AvgSalesForMonth\"})\n",
    "\n",
    "varSalesForStoreIDForMonth = sales[sales[\"NumberOfSales\"] != 'NotSpecified']\n",
    "varSalesForStoreIDForMonth[\"NumberOfSales\"] = varSalesForStoreIDForMonth[\"NumberOfSales\"].astype(\"int\")\n",
    "varSalesForStoreIDForMonth = varSalesForStoreIDForMonth.groupby(['StoreID','Month'], as_index=False)['NumberOfSales'].var() \n",
    "varSalesForStoreIDForMonth = varSalesForStoreIDForMonth.rename(index=str, columns={\"NumberOfSales\": \"VarSalesForMonth\"})\n",
    "\n",
    "avgCustomersForStoreIDForMonth = sales[sales[\"NumberOfCustomers\"] != 'NotSpecified']\n",
    "avgCustomersForStoreIDForMonth[\"NumberOfCustomers\"] = avgCustomersForStoreIDForMonth[\"NumberOfCustomers\"].astype(\"int\")\n",
    "avgCustomersForStoreIDForMonth = avgCustomersForStoreIDForMonth.groupby(['StoreID','Month'], as_index=False)['NumberOfCustomers'].mean() \n",
    "avgCustomersForStoreIDForMonth = avgCustomersForStoreIDForMonth.rename(index=str, columns={\"NumberOfCustomers\": \"AvgCustomersForMonth\"})\n",
    "\n",
    "varCustomersorStoreIDForMonth = sales[sales[\"NumberOfSales\"] != 'NotSpecified']\n",
    "varCustomersorStoreIDForMonth[\"NumberOfCustomers\"] = varCustomersorStoreIDForMonth[\"NumberOfCustomers\"].astype(\"int\")\n",
    "varCustomersorStoreIDForMonth = varCustomersorStoreIDForMonth.groupby(['StoreID','Month'], as_index=False)['NumberOfCustomers'].var() \n",
    "varCustomersorStoreIDForMonth = varCustomersorStoreIDForMonth.rename(index=str, columns={\"NumberOfCustomers\": \"VarCustomersForMonth\"})\n",
    "\n",
    "sales = sales.merge(avgSalesForStoreIDForMonth, left_on=['StoreID','Month'], right_on = ['StoreID','Month']) \n",
    "sales = sales.merge(varSalesForStoreIDForMonth, left_on=['StoreID','Month'], right_on = ['StoreID','Month'])\n",
    "sales = sales.merge(avgCustomersForStoreIDForMonth, left_on=['StoreID','Month'], right_on = ['StoreID','Month']) \n",
    "sales = sales.merge(varCustomersorStoreIDForMonth, left_on=['StoreID','Month'], right_on = ['StoreID','Month'])"
   ]
  },
  {
   "cell_type": "markdown",
   "metadata": {},
   "source": [
    "# Dummify variables"
   ]
  },
  {
   "cell_type": "code",
   "execution_count": 24,
   "metadata": {},
   "outputs": [],
   "source": [
    "sales = pd.get_dummies(sales, columns=['StoreType','Events','AssortmentType', \"Region\", \"Day_Of_Week\",\"Month\"])"
   ]
  },
  {
   "cell_type": "markdown",
   "metadata": {},
   "source": [
    "# Random Search With Crossvalidation"
   ]
  },
  {
   "cell_type": "code",
   "execution_count": 24,
   "metadata": {},
   "outputs": [
    {
     "name": "stdout",
     "output_type": "stream",
     "text": [
      "{'bootstrap': [True, False],\n",
      " 'max_depth': [10, 20, 30, 40, 50, 60, 70, 80, 90, 100, 110, None],\n",
      " 'max_features': ['auto', 'sqrt'],\n",
      " 'min_samples_leaf': [1, 2, 4],\n",
      " 'min_samples_split': [2, 5, 10],\n",
      " 'n_estimators': [200, 400, 600, 800, 1000, 1200, 1400, 1600, 1800, 2000]}\n"
     ]
    }
   ],
   "source": [
    "from sklearn.model_selection import RandomizedSearchCV\n",
    "\n",
    "# Number of trees in random forest\n",
    "n_estimators = [int(x) for x in np.linspace(start = 200, stop = 2000, num = 10)]\n",
    "# Number of features to consider at every split\n",
    "max_features = ['auto', 'sqrt']\n",
    "# Maximum number of levels in tree\n",
    "max_depth = [int(x) for x in np.linspace(10, 110, num = 11)]\n",
    "max_depth.append(None)\n",
    "# Minimum number of samples required to split a node\n",
    "min_samples_split = [2, 5, 10]\n",
    "# Minimum number of samples required at each leaf node\n",
    "min_samples_leaf = [1, 2, 4]\n",
    "# Method of selecting samples for training each tree\n",
    "bootstrap = [True, False]\n",
    "\n",
    "# Create the random grid\n",
    "random_grid = {'n_estimators': n_estimators,\n",
    "               'max_features': max_features,\n",
    "               'max_depth': max_depth,\n",
    "               'min_samples_split': min_samples_split,\n",
    "               'min_samples_leaf': min_samples_leaf,\n",
    "               'bootstrap': bootstrap}\n",
    "\n",
    "pprint(random_grid)"
   ]
  },
  {
   "cell_type": "markdown",
   "metadata": {},
   "source": [
    "# Train and Test Definition\n",
    "Separating the last 2 months, and use those as a test set and comparing the total of the predicted values."
   ]
  },
  {
   "cell_type": "code",
   "execution_count": 25,
   "metadata": {},
   "outputs": [],
   "source": [
    "start_train = date(2018, 3, 1)\n",
    "train = sales[sales[\"Date\"] - start_train < timedelta(0)]\n",
    "test = sales[sales[\"Date\"] - start_train > timedelta(days=1)]\n",
    "train = train.drop(columns=[\"Date\"])\n",
    "test = test.drop(columns=[\"Date\"])\n",
    "test = test.drop(columns=[\"NumberOfCustomers\",\"NumberOfSales\"])"
   ]
  },
  {
   "cell_type": "code",
   "execution_count": 26,
   "metadata": {},
   "outputs": [],
   "source": [
    "train.NumberOfSales = train.NumberOfSales.astype('int')\n",
    "train.NumberOfCustomers = train.NumberOfCustomers.astype('int')"
   ]
  },
  {
   "cell_type": "code",
   "execution_count": 27,
   "metadata": {},
   "outputs": [],
   "source": [
    "cols_not_for_step1 = [\"NumberOfCustomers\",\"NumberOfSales\",'Region_PopulationK','Region_AreaKM2','Region_GDP','Region_0','Region_1','Region_4','Region_5','Region_7','Region_8','Region_10','Region_2','Region_3', 'Region_6', 'Region_9'\n",
    "]\n",
    "train_saved_columns = train[cols_not_for_step1]\n"
   ]
  },
  {
   "cell_type": "markdown",
   "metadata": {},
   "source": [
    "# FEATURE SELECTION FOR CUSTOMER "
   ]
  },
  {
   "cell_type": "code",
   "execution_count": 28,
   "metadata": {},
   "outputs": [],
   "source": [
    "train_x = train.drop(columns=['NumberOfSales','NumberOfCustomers'])\n",
    "train_y = pd.DataFrame(data = train['NumberOfCustomers'])\n",
    "    \n",
    "#First model predicting NumberOfCustomers\n",
    "model_simple = RandomForestRegressor()\n",
    "model_simple = model_simple.fit(train_x, train_y)"
   ]
  },
  {
   "cell_type": "code",
   "execution_count": 29,
   "metadata": {},
   "outputs": [
    {
     "name": "stdout",
     "output_type": "stream",
     "text": [
      "Variable: AvgCustomersForMonth Importance: 0.84\n",
      "Variable: HasPromotions        Importance: 0.04\n",
      "Variable: Min_Sea_Level_PressurehPa Importance: 0.01\n",
      "Variable: VarSalesForMonth     Importance: 0.01\n",
      "Variable: VarCustomersForMonth Importance: 0.01\n",
      "Variable: Day_Of_Week_Monday   Importance: 0.01\n",
      "Variable: Day_Of_Week_Saturday Importance: 0.01\n",
      "Variable: CloudCover           Importance: 0.0\n",
      "Variable: IsHoliday            Importance: 0.0\n",
      "Variable: Max_Humidity         Importance: 0.0\n",
      "Variable: Max_TemperatureC     Importance: 0.0\n",
      "Variable: Max_VisibilityKm     Importance: 0.0\n",
      "Variable: Max_Wind_SpeedKm_h   Importance: 0.0\n",
      "Variable: Mean_Dew_PointC      Importance: 0.0\n",
      "Variable: Mean_Humidity        Importance: 0.0\n",
      "Variable: Mean_TemperatureC    Importance: 0.0\n",
      "Variable: Mean_VisibilityKm    Importance: 0.0\n",
      "Variable: Mean_Wind_SpeedKm_h  Importance: 0.0\n",
      "Variable: Min_Humidity         Importance: 0.0\n",
      "Variable: Min_TemperatureC     Importance: 0.0\n",
      "Variable: Min_VisibilitykM     Importance: 0.0\n",
      "Variable: NearestCompetitor    Importance: 0.0\n",
      "Variable: Precipitationmm      Importance: 0.0\n",
      "Variable: Region_AreaKM2       Importance: 0.0\n",
      "Variable: Region_GDP           Importance: 0.0\n",
      "Variable: Region_PopulationK   Importance: 0.0\n",
      "Variable: StoreID              Importance: 0.0\n",
      "Variable: WindDirDegrees       Importance: 0.0\n",
      "Variable: AvgSalesForMonth     Importance: 0.0\n",
      "Variable: StoreType_Hyper Market Importance: 0.0\n",
      "Variable: StoreType_Shopping Center Importance: 0.0\n",
      "Variable: StoreType_Standard Market Importance: 0.0\n",
      "Variable: StoreType_Super Market Importance: 0.0\n",
      "Variable: Events_Fog           Importance: 0.0\n",
      "Variable: Events_Fog-Rain      Importance: 0.0\n",
      "Variable: Events_Fog-Rain-Hail Importance: 0.0\n",
      "Variable: Events_Fog-Rain-Hail-Thunderstorm Importance: 0.0\n",
      "Variable: Events_Fog-Rain-Snow Importance: 0.0\n",
      "Variable: Events_Fog-Rain-Snow-Hail Importance: 0.0\n",
      "Variable: Events_Fog-Rain-Thunderstorm Importance: 0.0\n",
      "Variable: Events_Fog-Snow      Importance: 0.0\n",
      "Variable: Events_Fog-Snow-Hail Importance: 0.0\n",
      "Variable: Events_Fog-Thunderstorm Importance: 0.0\n",
      "Variable: Events_NotSpecified  Importance: 0.0\n",
      "Variable: Events_Rain          Importance: 0.0\n",
      "Variable: Events_Rain-Hail     Importance: 0.0\n",
      "Variable: Events_Rain-Hail-Thunderstorm Importance: 0.0\n",
      "Variable: Events_Rain-Snow     Importance: 0.0\n",
      "Variable: Events_Rain-Snow-Hail Importance: 0.0\n",
      "Variable: Events_Rain-Snow-Hail-Thunderstorm Importance: 0.0\n",
      "Variable: Events_Rain-Snow-Thunderstorm Importance: 0.0\n",
      "Variable: Events_Rain-Thunderstorm Importance: 0.0\n",
      "Variable: Events_Snow          Importance: 0.0\n",
      "Variable: Events_Snow-Hail     Importance: 0.0\n",
      "Variable: Events_Thunderstorm  Importance: 0.0\n",
      "Variable: AssortmentType_General Importance: 0.0\n",
      "Variable: AssortmentType_With Fish Department Importance: 0.0\n",
      "Variable: AssortmentType_With Non-Food Department Importance: 0.0\n",
      "Variable: Region_0             Importance: 0.0\n",
      "Variable: Region_1             Importance: 0.0\n",
      "Variable: Region_2             Importance: 0.0\n",
      "Variable: Region_3             Importance: 0.0\n",
      "Variable: Region_4             Importance: 0.0\n",
      "Variable: Region_5             Importance: 0.0\n",
      "Variable: Region_6             Importance: 0.0\n",
      "Variable: Region_7             Importance: 0.0\n",
      "Variable: Region_8             Importance: 0.0\n",
      "Variable: Region_9             Importance: 0.0\n",
      "Variable: Region_10            Importance: 0.0\n",
      "Variable: Day_Of_Week_Friday   Importance: 0.0\n",
      "Variable: Day_Of_Week_Sunday   Importance: 0.0\n",
      "Variable: Day_Of_Week_Thursday Importance: 0.0\n",
      "Variable: Day_Of_Week_Tuesday  Importance: 0.0\n",
      "Variable: Day_Of_Week_Wednesday Importance: 0.0\n",
      "Variable: Month_1              Importance: 0.0\n",
      "Variable: Month_2              Importance: 0.0\n",
      "Variable: Month_3              Importance: 0.0\n",
      "Variable: Month_4              Importance: 0.0\n",
      "Variable: Month_5              Importance: 0.0\n",
      "Variable: Month_6              Importance: 0.0\n",
      "Variable: Month_7              Importance: 0.0\n",
      "Variable: Month_8              Importance: 0.0\n",
      "Variable: Month_9              Importance: 0.0\n",
      "Variable: Month_10             Importance: 0.0\n",
      "Variable: Month_11             Importance: 0.0\n",
      "Variable: Month_12             Importance: 0.0\n",
      "Number of features for 92,5% importance: 7\n",
      "Important train features shape: (433958, 6)\n",
      "Important test features shape: (36092, 6)\n"
     ]
    },
    {
     "data": {
<<<<<<< HEAD:Polimi Competition/UltimaProva_Santa-Copy1STEP2.ipynb
      "image/png": "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\n",
      "text/plain": [
       "<matplotlib.figure.Figure at 0x187890b84a8>"
=======
      "text/plain": [
       "'# Train the expanded model on only the important features\\nmodel_simple = RandomForestRegressor()\\nmodel_simple = model_simple.fit(important_train_features, train_y);'"
      ]
     },
     "execution_count": 29,
     "metadata": {},
     "output_type": "execute_result"
    },
    {
     "data": {
      "image/png": "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\n",
      "text/plain": [
       "<matplotlib.figure.Figure at 0x1c2ff411d0>"
>>>>>>> master:Polimi Competition/UltimaProva_Santa.ipynb
      ]
     },
     "metadata": {},
     "output_type": "display_data"
    }
   ],
   "source": [
    "# Get numerical feature importances\n",
    "importances = list(model_simple.feature_importances_)\n",
    "\n",
    "# List of tuples with variable and importance\n",
    "feature_importances = [(feature, round(importance, 2)) for feature, importance in zip(train_x, importances)]\n",
    "\n",
    "# Sort the feature importances by most important first\n",
    "feature_importances = sorted(feature_importances, key = lambda x: x[1], reverse = True)\n",
    "\n",
    "# Print out the feature and importances \n",
    "[print('Variable: {:20} Importance: {}'.format(*pair)) for pair in feature_importances];\n",
    "    \n",
    "# list of x locations for plotting\n",
    "x_values = list(range(len(importances)))\n",
    "    \n",
    "# List of features sorted from most to least important\n",
    "sorted_importances = [importance[1] for importance in feature_importances]\n",
    "sorted_features = [importance[0] for importance in feature_importances]\n",
    "\n",
    "# Cumulative importances\n",
    "cumulative_importances = np.cumsum(sorted_importances)\n",
    "\n",
    "# Make a line graph\n",
    "plt.plot(x_values, cumulative_importances, 'g-')\n",
    "\n",
    "# Draw line at 92,5% of importance retained\n",
    "plt.hlines(y = 0.925, xmin=0, xmax=len(sorted_importances), color = 'r', linestyles = 'dashed')\n",
    "\n",
    "# Format x ticks and labels\n",
    "plt.xticks(x_values, sorted_features, rotation = 'vertical')\n",
    "\n",
    "# Axis labels and title\n",
    "plt.xlabel('Variable'); plt.ylabel('Cumulative Importance'); plt.title('Cumulative Importances');\n",
    "    \n",
    "# Find number of features for cumulative importance of 92,5%\n",
    "# Add 1 because Python is zero-indexed\n",
    "print('Number of features for 92,5% importance:', np.where(cumulative_importances > 0.925)[0][0] + 1)\n",
    "    \n",
    "# Extract the names of the most important features\n",
    "important_feature_names = [feature[0] for feature in feature_importances[0:6]]\n",
    "    \n",
    "# Find the columns of the most important features\n",
    "important_indices = [list(train.columns).index(feature) for feature in important_feature_names]\n",
    "\n",
    "# Create training and testing sets with only the important features\n",
    "important_train_features = train_x.values[:, important_indices]\n",
    "important_test_features = test.values[:, important_indices]\n",
    "\n",
    "# Sanity check on operations\n",
    "print('Important train features shape:', important_train_features.shape)\n",
    "print('Important test features shape:', important_test_features.shape)\n",
    "        \n",
    "\n",
    "    "
   ]
  },
  {
   "cell_type": "code",
   "execution_count": 30,
   "metadata": {},
   "outputs": [],
   "source": [
    "important_train_features = pd.DataFrame(data=important_train_features)\n",
    "important_test_features = pd.DataFrame(data=important_test_features)"
   ]
  },
  {
   "cell_type": "code",
   "execution_count": 31,
   "metadata": {},
   "outputs": [],
   "source": [
    "important_train_features[train_saved_columns.columns]=train_saved_columns\n",
    "important_test_features[train_saved_columns.columns]=train_saved_columns\n",
    "\n",
    "important_test_features = important_test_features.drop(columns=[\"NumberOfCustomers\",\"NumberOfSales\"])\n",
    "\n"
   ]
  },
  {
<<<<<<< HEAD:Polimi Competition/UltimaProva_Santa-Copy1STEP2.ipynb
   "cell_type": "markdown",
   "metadata": {},
   "source": [
    "# FEATURE SELECTION FOR SALES"
   ]
  },
  {
   "cell_type": "code",
   "execution_count": 32,
   "metadata": {},
   "outputs": [],
   "source": [
    "train_x = train.drop(columns=['NumberOfSales'])\n",
    "train_y = pd.DataFrame(data = train['NumberOfSales'])\n",
    "    \n",
    "#First model predicting NumberOfCustomers\n",
    "model_simple = RandomForestRegressor()\n",
    "model_simple = model_simple.fit(train_x, train_y)"
   ]
  },
  {
   "cell_type": "code",
   "execution_count": 33,
   "metadata": {
    "scrolled": false
   },
   "outputs": [
    {
     "name": "stdout",
     "output_type": "stream",
     "text": [
      "Variable: NumberOfCustomers    Importance: 0.71\n",
      "Variable: AvgSalesForMonth     Importance: 0.12\n",
      "Variable: HasPromotions        Importance: 0.06\n",
      "Variable: AvgCustomersForMonth Importance: 0.04\n",
      "Variable: Day_Of_Week_Monday   Importance: 0.02\n",
      "Variable: VarSalesForMonth     Importance: 0.01\n",
      "Variable: StoreType_Standard Market Importance: 0.01\n",
      "Variable: CloudCover           Importance: 0.0\n",
      "Variable: IsHoliday            Importance: 0.0\n",
      "Variable: Max_Humidity         Importance: 0.0\n",
      "Variable: Max_TemperatureC     Importance: 0.0\n",
      "Variable: Max_VisibilityKm     Importance: 0.0\n",
      "Variable: Max_Wind_SpeedKm_h   Importance: 0.0\n",
      "Variable: Mean_Dew_PointC      Importance: 0.0\n",
      "Variable: Mean_Humidity        Importance: 0.0\n",
      "Variable: Mean_TemperatureC    Importance: 0.0\n",
      "Variable: Mean_VisibilityKm    Importance: 0.0\n",
      "Variable: Mean_Wind_SpeedKm_h  Importance: 0.0\n",
      "Variable: Min_Humidity         Importance: 0.0\n",
      "Variable: Min_Sea_Level_PressurehPa Importance: 0.0\n",
      "Variable: Min_TemperatureC     Importance: 0.0\n",
      "Variable: Min_VisibilitykM     Importance: 0.0\n",
      "Variable: NearestCompetitor    Importance: 0.0\n",
      "Variable: Precipitationmm      Importance: 0.0\n",
      "Variable: Region_AreaKM2       Importance: 0.0\n",
      "Variable: Region_GDP           Importance: 0.0\n",
      "Variable: Region_PopulationK   Importance: 0.0\n",
      "Variable: StoreID              Importance: 0.0\n",
      "Variable: WindDirDegrees       Importance: 0.0\n",
      "Variable: VarCustomersForMonth Importance: 0.0\n",
      "Variable: StoreType_Hyper Market Importance: 0.0\n",
      "Variable: StoreType_Shopping Center Importance: 0.0\n",
      "Variable: StoreType_Super Market Importance: 0.0\n",
      "Variable: Events_Fog           Importance: 0.0\n",
      "Variable: Events_Fog-Rain      Importance: 0.0\n",
      "Variable: Events_Fog-Rain-Hail Importance: 0.0\n",
      "Variable: Events_Fog-Rain-Hail-Thunderstorm Importance: 0.0\n",
      "Variable: Events_Fog-Rain-Snow Importance: 0.0\n",
      "Variable: Events_Fog-Rain-Snow-Hail Importance: 0.0\n",
      "Variable: Events_Fog-Rain-Thunderstorm Importance: 0.0\n",
      "Variable: Events_Fog-Snow      Importance: 0.0\n",
      "Variable: Events_Fog-Snow-Hail Importance: 0.0\n",
      "Variable: Events_Fog-Thunderstorm Importance: 0.0\n",
      "Variable: Events_NotSpecified  Importance: 0.0\n",
      "Variable: Events_Rain          Importance: 0.0\n",
      "Variable: Events_Rain-Hail     Importance: 0.0\n",
      "Variable: Events_Rain-Hail-Thunderstorm Importance: 0.0\n",
      "Variable: Events_Rain-Snow     Importance: 0.0\n",
      "Variable: Events_Rain-Snow-Hail Importance: 0.0\n",
      "Variable: Events_Rain-Snow-Hail-Thunderstorm Importance: 0.0\n",
      "Variable: Events_Rain-Snow-Thunderstorm Importance: 0.0\n",
      "Variable: Events_Rain-Thunderstorm Importance: 0.0\n",
      "Variable: Events_Snow          Importance: 0.0\n",
      "Variable: Events_Snow-Hail     Importance: 0.0\n",
      "Variable: Events_Thunderstorm  Importance: 0.0\n",
      "Variable: AssortmentType_General Importance: 0.0\n",
      "Variable: AssortmentType_With Fish Department Importance: 0.0\n",
      "Variable: AssortmentType_With Non-Food Department Importance: 0.0\n",
      "Variable: Region_0             Importance: 0.0\n",
      "Variable: Region_1             Importance: 0.0\n",
      "Variable: Region_2             Importance: 0.0\n",
      "Variable: Region_3             Importance: 0.0\n",
      "Variable: Region_4             Importance: 0.0\n",
      "Variable: Region_5             Importance: 0.0\n",
      "Variable: Region_6             Importance: 0.0\n",
      "Variable: Region_7             Importance: 0.0\n",
      "Variable: Region_8             Importance: 0.0\n",
      "Variable: Region_9             Importance: 0.0\n",
      "Variable: Region_10            Importance: 0.0\n",
      "Variable: Day_Of_Week_Friday   Importance: 0.0\n",
      "Variable: Day_Of_Week_Saturday Importance: 0.0\n",
      "Variable: Day_Of_Week_Sunday   Importance: 0.0\n",
      "Variable: Day_Of_Week_Thursday Importance: 0.0\n",
      "Variable: Day_Of_Week_Tuesday  Importance: 0.0\n",
      "Variable: Day_Of_Week_Wednesday Importance: 0.0\n",
      "Variable: Month_1              Importance: 0.0\n",
      "Variable: Month_2              Importance: 0.0\n",
      "Variable: Month_3              Importance: 0.0\n",
      "Variable: Month_4              Importance: 0.0\n",
      "Variable: Month_5              Importance: 0.0\n",
      "Variable: Month_6              Importance: 0.0\n",
      "Variable: Month_7              Importance: 0.0\n",
      "Variable: Month_8              Importance: 0.0\n",
      "Variable: Month_9              Importance: 0.0\n",
      "Variable: Month_10             Importance: 0.0\n",
      "Variable: Month_11             Importance: 0.0\n",
      "Variable: Month_12             Importance: 0.0\n",
      "Number of features for 92,5% importance: 4\n",
      "Important train features shape: (433958, 6)\n",
      "Important test features shape: (36092, 6)\n"
     ]
    },
    {
     "data": {
      "image/png": "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\n",
      "text/plain": [
       "<matplotlib.figure.Figure at 0x18783402390>"
      ]
     },
     "metadata": {},
     "output_type": "display_data"
    }
   ],
   "source": [
    "# Get numerical feature importances\n",
    "importances = list(model_simple.feature_importances_)\n",
    "\n",
    "# List of tuples with variable and importance\n",
    "feature_importances = [(feature, round(importance, 2)) for feature, importance in zip(train_x, importances)]\n",
    "\n",
    "# Sort the feature importances by most important first\n",
    "feature_importances = sorted(feature_importances, key = lambda x: x[1], reverse = True)\n",
    "\n",
    "# Print out the feature and importances \n",
    "[print('Variable: {:20} Importance: {}'.format(*pair)) for pair in feature_importances];\n",
    "    \n",
    "# list of x locations for plotting\n",
    "x_values = list(range(len(importances)))\n",
    "    \n",
    "# List of features sorted from most to least important\n",
    "sorted_importances = [importance[1] for importance in feature_importances]\n",
    "sorted_features = [importance[0] for importance in feature_importances]\n",
    "\n",
    "# Cumulative importances\n",
    "cumulative_importances = np.cumsum(sorted_importances)\n",
    "\n",
    "# Make a line graph\n",
    "plt.plot(x_values, cumulative_importances, 'g-')\n",
    "\n",
    "# Draw line at 95% of importance retained\n",
    "plt.hlines(y = 0.95, xmin=0, xmax=len(sorted_importances), color = 'r', linestyles = 'dashed')\n",
    "\n",
    "# Format x ticks and labels\n",
    "plt.xticks(x_values, sorted_features, rotation = 'vertical')\n",
    "\n",
    "# Axis labels and title\n",
    "plt.xlabel('Variable'); plt.ylabel('Cumulative Importance'); plt.title('Cumulative Importances');\n",
    "    \n",
    "# Find number of features for cumulative importance of 95%\n",
    "# Add 1 because Python is zero-indexed\n",
    "print('Number of features for 95% importance:', np.where(cumulative_importances > 0.95)[0][0] + 1)\n",
    "    \n",
    "# Extract the names of the most important features\n",
    "important_feature_names = [feature[0] for feature in feature_importances[0:6]]\n",
    "    \n",
    "# Find the columns of the most important features\n",
    "important_indices = [list(train.columns).index(feature) for feature in important_feature_names]\n",
    "\n",
    "# Create training and testing sets with only the important features\n",
    "important_train_features_2 = train_x.values[:, important_indices]\n",
    "important_test_features_2 = test.values[:, important_indices]\n",
    "\n",
    "# Sanity check on operations\n",
    "print('Important train features shape:', important_train_features_2.shape)\n",
    "print('Important test features shape:', important_test_features_2.shape)"
   ]
  },
  {
   "cell_type": "code",
   "execution_count": 34,
   "metadata": {},
   "outputs": [],
   "source": [
    "important_train_features_2 = pd.DataFrame(data=important_train_features_2)\n",
    "important_test_features_2 = pd.DataFrame(data=important_test_features_2)"
   ]
  },
  {
   "cell_type": "code",
   "execution_count": 35,
   "metadata": {},
   "outputs": [],
   "source": [
    "important_train_features_2[train_saved_columns.columns]=train_saved_columns\n",
    "important_test_features_2[train_saved_columns.columns]=train_saved_columns\n",
    "\n",
    "important_test_features_2 = important_test_features_2.drop(columns=[\"NumberOfCustomers\",\"NumberOfSales\"])"
   ]
  },
  {
=======
>>>>>>> master:Polimi Competition/UltimaProva_Santa.ipynb
   "cell_type": "markdown",
   "metadata": {},
   "source": [
    "Clusterization of regions which are similar or with too few samples to be fitted on their own.\n",
    "Used t-sne to visualize clusters"
   ]
  },
  {
   "cell_type": "code",
   "execution_count": null,
   "metadata": {},
   "outputs": [],
   "source": [
    "Region_labels = [['Region_0', 'Region_1', 'Region_4','Region_5','Region_7', 'Region_8', 'Region_10' ], ['Region_2'], ['Region_3'], ['Region_6', 'Region_9']]\n",
    "# it can be useful to move also region 6 in the first big cluster"
   ]
  },
  {
   "cell_type": "code",
   "execution_count": null,
   "metadata": {},
   "outputs": [
    {
     "name": "stdout",
     "output_type": "stream",
     "text": [
      "['Region_0', 'Region_1', 'Region_4', 'Region_5', 'Region_7', 'Region_8', 'Region_10']\n",
      "Fitting 3 folds for each of 1 candidates, totalling 3 fits\n",
      "[CV] n_estimators=1000, min_samples_split=5, min_samples_leaf=1, max_features=sqrt, max_depth=10, bootstrap=True \n",
      "[CV] n_estimators=1000, min_samples_split=5, min_samples_leaf=1, max_features=sqrt, max_depth=10, bootstrap=True \n",
      "[CV] n_estimators=1000, min_samples_split=5, min_samples_leaf=1, max_features=sqrt, max_depth=10, bootstrap=True \n",
      "[CV]  n_estimators=1000, min_samples_split=5, min_samples_leaf=1, max_features=sqrt, max_depth=10, bootstrap=True, total=  55.3s\n",
      "[CV]  n_estimators=1000, min_samples_split=5, min_samples_leaf=1, max_features=sqrt, max_depth=10, bootstrap=True, total=  56.7s\n",
      "[CV]  n_estimators=1000, min_samples_split=5, min_samples_leaf=1, max_features=sqrt, max_depth=10, bootstrap=True, total=  57.2s\n"
     ]
    },
    {
     "name": "stderr",
     "output_type": "stream",
     "text": [
      "[Parallel(n_jobs=-1)]: Done   3 out of   3 | elapsed:  1.1min finished\n"
     ]
    },
    {
     "name": "stdout",
     "output_type": "stream",
     "text": [
      "{'bootstrap': True,\n",
      " 'max_depth': 10,\n",
      " 'max_features': 'sqrt',\n",
      " 'min_samples_leaf': 1,\n",
      " 'min_samples_split': 5,\n",
      " 'n_estimators': 1000}\n",
      "['Region_2']\n",
      "Fitting 3 folds for each of 1 candidates, totalling 3 fits\n",
      "[CV] n_estimators=2000, min_samples_split=5, min_samples_leaf=1, max_features=auto, max_depth=70, bootstrap=True \n",
      "[CV] n_estimators=2000, min_samples_split=5, min_samples_leaf=1, max_features=auto, max_depth=70, bootstrap=True \n",
      "[CV] n_estimators=2000, min_samples_split=5, min_samples_leaf=1, max_features=auto, max_depth=70, bootstrap=True \n",
      "[CV]  n_estimators=2000, min_samples_split=5, min_samples_leaf=1, max_features=auto, max_depth=70, bootstrap=True, total= 1.7min\n",
      "[CV]  n_estimators=2000, min_samples_split=5, min_samples_leaf=1, max_features=auto, max_depth=70, bootstrap=True, total= 1.8min\n",
      "[CV]  n_estimators=2000, min_samples_split=5, min_samples_leaf=1, max_features=auto, max_depth=70, bootstrap=True, total= 1.8min\n"
     ]
    },
    {
     "name": "stderr",
     "output_type": "stream",
     "text": [
      "[Parallel(n_jobs=-1)]: Done   3 out of   3 | elapsed:  2.0min finished\n"
     ]
    },
    {
     "name": "stdout",
     "output_type": "stream",
     "text": [
      "{'bootstrap': True,\n",
      " 'max_depth': 70,\n",
      " 'max_features': 'auto',\n",
      " 'min_samples_leaf': 1,\n",
      " 'min_samples_split': 5,\n",
      " 'n_estimators': 2000}\n",
      "['Region_3']\n",
      "Fitting 3 folds for each of 1 candidates, totalling 3 fits\n",
      "[CV] n_estimators=1800, min_samples_split=10, min_samples_leaf=4, max_features=auto, max_depth=30, bootstrap=False \n",
      "[CV] n_estimators=1800, min_samples_split=10, min_samples_leaf=4, max_features=auto, max_depth=30, bootstrap=False \n",
      "[CV] n_estimators=1800, min_samples_split=10, min_samples_leaf=4, max_features=auto, max_depth=30, bootstrap=False \n",
      "[CV]  n_estimators=1800, min_samples_split=10, min_samples_leaf=4, max_features=auto, max_depth=30, bootstrap=False, total= 2.2min\n",
      "[CV]  n_estimators=1800, min_samples_split=10, min_samples_leaf=4, max_features=auto, max_depth=30, bootstrap=False, total= 2.6min\n",
      "[CV]  n_estimators=1800, min_samples_split=10, min_samples_leaf=4, max_features=auto, max_depth=30, bootstrap=False, total= 2.8min\n"
     ]
    },
    {
     "name": "stderr",
     "output_type": "stream",
     "text": [
      "[Parallel(n_jobs=-1)]: Done   3 out of   3 | elapsed:  2.9min finished\n"
     ]
    }
   ],
   "source": [
    "m_step_1, m_step_2 = getModelsTrained(Region_labels, important_train_features, train)"
   ]
  },
  {
   "cell_type": "code",
   "execution_count": null,
   "metadata": {},
   "outputs": [],
   "source": [
    "important_test_features[\"NumberOfCustomers\"]=0\n",
    "for cluster in Region_labels:\n",
    "    cluster_region_only = important_test_features[getFilterRegion(cluster,important_test_features)]\n",
    "    important_test_features.loc[getFilterRegion(cluster,important_test_features), \"NumberOfCustomers\"]= m_step_1[str(cluster)][0].predict(cluster_region_only.drop(columns=[\"NumberOfCustomers\",*m_step_1[str(cluster)][1]]))\n"
   ]
  },
  {
   "cell_type": "code",
   "execution_count": null,
   "metadata": {},
   "outputs": [],
   "source": [
    "test.shape"
   ]
  },
  {
   "cell_type": "code",
   "execution_count": null,
   "metadata": {},
   "outputs": [],
   "source": [
    "test.index = range(36092)"
   ]
  },
  {
   "cell_type": "code",
   "execution_count": null,
   "metadata": {},
   "outputs": [],
   "source": [
    "test[\"NumberOfCustomers\"]= important_test_features[\"NumberOfCustomers\"]"
   ]
  },
  {
   "cell_type": "code",
   "execution_count": null,
   "metadata": {},
   "outputs": [],
   "source": [
    "test[\"NumberOfSales\"] = m_step_2[0].predict(test[m_step_2[1]])"
   ]
  },
  {
   "cell_type": "code",
   "execution_count": null,
   "metadata": {
    "scrolled": true
   },
   "outputs": [],
   "source": [
    "output = test\n",
    "output[\"Month\"] = dedummify(output, \"Month\")\n",
    "output = output[[\"StoreID\", \"Month\",\"NumberOfSales\"]]\n",
    "#output.groupby([\"StoreID\",\"Month\"]).agg(\"sum\").to_csv('OurSubmission.csv',sep=\",\")"
   ]
  },
  {
   "cell_type": "code",
   "execution_count": null,
   "metadata": {},
   "outputs": [],
   "source": [
    "comparison = output.groupby([\"StoreID\",\"Month\"]).agg(\"sum\")"
   ]
  },
  {
   "cell_type": "code",
   "execution_count": null,
   "metadata": {},
   "outputs": [],
   "source": [
    "comparison.to_csv('SantaFS.csv',sep=\",\")"
   ]
  }
 ],
 "metadata": {
  "kernelspec": {
   "display_name": "Python 3",
   "language": "python",
   "name": "python3"
  },
  "language_info": {
   "codemirror_mode": {
    "name": "ipython",
    "version": 3
   },
   "file_extension": ".py",
   "mimetype": "text/x-python",
   "name": "python",
   "nbconvert_exporter": "python",
   "pygments_lexer": "ipython3",
   "version": "3.6.4"
  }
 },
 "nbformat": 4,
 "nbformat_minor": 2
}
