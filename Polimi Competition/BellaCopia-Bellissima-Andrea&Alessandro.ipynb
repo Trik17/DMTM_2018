{
 "cells": [
  {
   "cell_type": "code",
   "execution_count": 1,
   "metadata": {},
   "outputs": [
    {
     "data": {
      "text/html": [
       "\n",
       "    <div class=\"bk-root\">\n",
       "        <a href=\"https://bokeh.pydata.org\" target=\"_blank\" class=\"bk-logo bk-logo-small bk-logo-notebook\"></a>\n",
       "        <span id=\"4ae1df21-9d82-4eef-9456-c60937f60c79\">Loading BokehJS ...</span>\n",
       "    </div>"
      ]
     },
     "metadata": {},
     "output_type": "display_data"
    },
    {
     "data": {
      "application/javascript": [
       "\n",
       "(function(root) {\n",
       "  function now() {\n",
       "    return new Date();\n",
       "  }\n",
       "\n",
       "  var force = true;\n",
       "\n",
       "  if (typeof (root._bokeh_onload_callbacks) === \"undefined\" || force === true) {\n",
       "    root._bokeh_onload_callbacks = [];\n",
       "    root._bokeh_is_loading = undefined;\n",
       "  }\n",
       "\n",
       "  var JS_MIME_TYPE = 'application/javascript';\n",
       "  var HTML_MIME_TYPE = 'text/html';\n",
       "  var EXEC_MIME_TYPE = 'application/vnd.bokehjs_exec.v0+json';\n",
       "  var CLASS_NAME = 'output_bokeh rendered_html';\n",
       "\n",
       "  /**\n",
       "   * Render data to the DOM node\n",
       "   */\n",
       "  function render(props, node) {\n",
       "    var script = document.createElement(\"script\");\n",
       "    node.appendChild(script);\n",
       "  }\n",
       "\n",
       "  /**\n",
       "   * Handle when an output is cleared or removed\n",
       "   */\n",
       "  function handleClearOutput(event, handle) {\n",
       "    var cell = handle.cell;\n",
       "\n",
       "    var id = cell.output_area._bokeh_element_id;\n",
       "    var server_id = cell.output_area._bokeh_server_id;\n",
       "    // Clean up Bokeh references\n",
       "    if (id !== undefined) {\n",
       "      Bokeh.index[id].model.document.clear();\n",
       "      delete Bokeh.index[id];\n",
       "    }\n",
       "\n",
       "    if (server_id !== undefined) {\n",
       "      // Clean up Bokeh references\n",
       "      var cmd = \"from bokeh.io.state import curstate; print(curstate().uuid_to_server['\" + server_id + \"'].get_sessions()[0].document.roots[0]._id)\";\n",
       "      cell.notebook.kernel.execute(cmd, {\n",
       "        iopub: {\n",
       "          output: function(msg) {\n",
       "            var element_id = msg.content.text.trim();\n",
       "            Bokeh.index[element_id].model.document.clear();\n",
       "            delete Bokeh.index[element_id];\n",
       "          }\n",
       "        }\n",
       "      });\n",
       "      // Destroy server and session\n",
       "      var cmd = \"import bokeh.io.notebook as ion; ion.destroy_server('\" + server_id + \"')\";\n",
       "      cell.notebook.kernel.execute(cmd);\n",
       "    }\n",
       "  }\n",
       "\n",
       "  /**\n",
       "   * Handle when a new output is added\n",
       "   */\n",
       "  function handleAddOutput(event, handle) {\n",
       "    var output_area = handle.output_area;\n",
       "    var output = handle.output;\n",
       "\n",
       "    // limit handleAddOutput to display_data with EXEC_MIME_TYPE content only\n",
       "    if ((output.output_type != \"display_data\") || (!output.data.hasOwnProperty(EXEC_MIME_TYPE))) {\n",
       "      return\n",
       "    }\n",
       "\n",
       "    var toinsert = output_area.element.find(\".\" + CLASS_NAME.split(' ')[0]);\n",
       "\n",
       "    if (output.metadata[EXEC_MIME_TYPE][\"id\"] !== undefined) {\n",
       "      toinsert[0].firstChild.textContent = output.data[JS_MIME_TYPE];\n",
       "      // store reference to embed id on output_area\n",
       "      output_area._bokeh_element_id = output.metadata[EXEC_MIME_TYPE][\"id\"];\n",
       "    }\n",
       "    if (output.metadata[EXEC_MIME_TYPE][\"server_id\"] !== undefined) {\n",
       "      var bk_div = document.createElement(\"div\");\n",
       "      bk_div.innerHTML = output.data[HTML_MIME_TYPE];\n",
       "      var script_attrs = bk_div.children[0].attributes;\n",
       "      for (var i = 0; i < script_attrs.length; i++) {\n",
       "        toinsert[0].firstChild.setAttribute(script_attrs[i].name, script_attrs[i].value);\n",
       "      }\n",
       "      // store reference to server id on output_area\n",
       "      output_area._bokeh_server_id = output.metadata[EXEC_MIME_TYPE][\"server_id\"];\n",
       "    }\n",
       "  }\n",
       "\n",
       "  function register_renderer(events, OutputArea) {\n",
       "\n",
       "    function append_mime(data, metadata, element) {\n",
       "      // create a DOM node to render to\n",
       "      var toinsert = this.create_output_subarea(\n",
       "        metadata,\n",
       "        CLASS_NAME,\n",
       "        EXEC_MIME_TYPE\n",
       "      );\n",
       "      this.keyboard_manager.register_events(toinsert);\n",
       "      // Render to node\n",
       "      var props = {data: data, metadata: metadata[EXEC_MIME_TYPE]};\n",
       "      render(props, toinsert[0]);\n",
       "      element.append(toinsert);\n",
       "      return toinsert\n",
       "    }\n",
       "\n",
       "    /* Handle when an output is cleared or removed */\n",
       "    events.on('clear_output.CodeCell', handleClearOutput);\n",
       "    events.on('delete.Cell', handleClearOutput);\n",
       "\n",
       "    /* Handle when a new output is added */\n",
       "    events.on('output_added.OutputArea', handleAddOutput);\n",
       "\n",
       "    /**\n",
       "     * Register the mime type and append_mime function with output_area\n",
       "     */\n",
       "    OutputArea.prototype.register_mime_type(EXEC_MIME_TYPE, append_mime, {\n",
       "      /* Is output safe? */\n",
       "      safe: true,\n",
       "      /* Index of renderer in `output_area.display_order` */\n",
       "      index: 0\n",
       "    });\n",
       "  }\n",
       "\n",
       "  // register the mime type if in Jupyter Notebook environment and previously unregistered\n",
       "  if (root.Jupyter !== undefined) {\n",
       "    var events = require('base/js/events');\n",
       "    var OutputArea = require('notebook/js/outputarea').OutputArea;\n",
       "\n",
       "    if (OutputArea.prototype.mime_types().indexOf(EXEC_MIME_TYPE) == -1) {\n",
       "      register_renderer(events, OutputArea);\n",
       "    }\n",
       "  }\n",
       "\n",
       "  \n",
       "  if (typeof (root._bokeh_timeout) === \"undefined\" || force === true) {\n",
       "    root._bokeh_timeout = Date.now() + 5000;\n",
       "    root._bokeh_failed_load = false;\n",
       "  }\n",
       "\n",
       "  var NB_LOAD_WARNING = {'data': {'text/html':\n",
       "     \"<div style='background-color: #fdd'>\\n\"+\n",
       "     \"<p>\\n\"+\n",
       "     \"BokehJS does not appear to have successfully loaded. If loading BokehJS from CDN, this \\n\"+\n",
       "     \"may be due to a slow or bad network connection. Possible fixes:\\n\"+\n",
       "     \"</p>\\n\"+\n",
       "     \"<ul>\\n\"+\n",
       "     \"<li>re-rerun `output_notebook()` to attempt to load from CDN again, or</li>\\n\"+\n",
       "     \"<li>use INLINE resources instead, as so:</li>\\n\"+\n",
       "     \"</ul>\\n\"+\n",
       "     \"<code>\\n\"+\n",
       "     \"from bokeh.resources import INLINE\\n\"+\n",
       "     \"output_notebook(resources=INLINE)\\n\"+\n",
       "     \"</code>\\n\"+\n",
       "     \"</div>\"}};\n",
       "\n",
       "  function display_loaded() {\n",
       "    var el = document.getElementById(\"4ae1df21-9d82-4eef-9456-c60937f60c79\");\n",
       "    if (el != null) {\n",
       "      el.textContent = \"BokehJS is loading...\";\n",
       "    }\n",
       "    if (root.Bokeh !== undefined) {\n",
       "      if (el != null) {\n",
       "        el.textContent = \"BokehJS \" + root.Bokeh.version + \" successfully loaded.\";\n",
       "      }\n",
       "    } else if (Date.now() < root._bokeh_timeout) {\n",
       "      setTimeout(display_loaded, 100)\n",
       "    }\n",
       "  }\n",
       "\n",
       "\n",
       "  function run_callbacks() {\n",
       "    try {\n",
       "      root._bokeh_onload_callbacks.forEach(function(callback) { callback() });\n",
       "    }\n",
       "    finally {\n",
       "      delete root._bokeh_onload_callbacks\n",
       "    }\n",
       "    console.info(\"Bokeh: all callbacks have finished\");\n",
       "  }\n",
       "\n",
       "  function load_libs(js_urls, callback) {\n",
       "    root._bokeh_onload_callbacks.push(callback);\n",
       "    if (root._bokeh_is_loading > 0) {\n",
       "      console.log(\"Bokeh: BokehJS is being loaded, scheduling callback at\", now());\n",
       "      return null;\n",
       "    }\n",
       "    if (js_urls == null || js_urls.length === 0) {\n",
       "      run_callbacks();\n",
       "      return null;\n",
       "    }\n",
       "    console.log(\"Bokeh: BokehJS not loaded, scheduling load and callback at\", now());\n",
       "    root._bokeh_is_loading = js_urls.length;\n",
       "    for (var i = 0; i < js_urls.length; i++) {\n",
       "      var url = js_urls[i];\n",
       "      var s = document.createElement('script');\n",
       "      s.src = url;\n",
       "      s.async = false;\n",
       "      s.onreadystatechange = s.onload = function() {\n",
       "        root._bokeh_is_loading--;\n",
       "        if (root._bokeh_is_loading === 0) {\n",
       "          console.log(\"Bokeh: all BokehJS libraries loaded\");\n",
       "          run_callbacks()\n",
       "        }\n",
       "      };\n",
       "      s.onerror = function() {\n",
       "        console.warn(\"failed to load library \" + url);\n",
       "      };\n",
       "      console.log(\"Bokeh: injecting script tag for BokehJS library: \", url);\n",
       "      document.getElementsByTagName(\"head\")[0].appendChild(s);\n",
       "    }\n",
       "  };var element = document.getElementById(\"4ae1df21-9d82-4eef-9456-c60937f60c79\");\n",
       "  if (element == null) {\n",
       "    console.log(\"Bokeh: ERROR: autoload.js configured with elementid '4ae1df21-9d82-4eef-9456-c60937f60c79' but no matching script tag was found. \")\n",
       "    return false;\n",
       "  }\n",
       "\n",
       "  var js_urls = [\"https://cdn.pydata.org/bokeh/release/bokeh-0.12.13.min.js\", \"https://cdn.pydata.org/bokeh/release/bokeh-widgets-0.12.13.min.js\", \"https://cdn.pydata.org/bokeh/release/bokeh-tables-0.12.13.min.js\", \"https://cdn.pydata.org/bokeh/release/bokeh-gl-0.12.13.min.js\"];\n",
       "\n",
       "  var inline_js = [\n",
       "    function(Bokeh) {\n",
       "      Bokeh.set_log_level(\"info\");\n",
       "    },\n",
       "    \n",
       "    function(Bokeh) {\n",
       "      \n",
       "    },\n",
       "    function(Bokeh) {\n",
       "      console.log(\"Bokeh: injecting CSS: https://cdn.pydata.org/bokeh/release/bokeh-0.12.13.min.css\");\n",
       "      Bokeh.embed.inject_css(\"https://cdn.pydata.org/bokeh/release/bokeh-0.12.13.min.css\");\n",
       "      console.log(\"Bokeh: injecting CSS: https://cdn.pydata.org/bokeh/release/bokeh-widgets-0.12.13.min.css\");\n",
       "      Bokeh.embed.inject_css(\"https://cdn.pydata.org/bokeh/release/bokeh-widgets-0.12.13.min.css\");\n",
       "      console.log(\"Bokeh: injecting CSS: https://cdn.pydata.org/bokeh/release/bokeh-tables-0.12.13.min.css\");\n",
       "      Bokeh.embed.inject_css(\"https://cdn.pydata.org/bokeh/release/bokeh-tables-0.12.13.min.css\");\n",
       "    }\n",
       "  ];\n",
       "\n",
       "  function run_inline_js() {\n",
       "    \n",
       "    if ((root.Bokeh !== undefined) || (force === true)) {\n",
       "      for (var i = 0; i < inline_js.length; i++) {\n",
       "        inline_js[i].call(root, root.Bokeh);\n",
       "      }if (force === true) {\n",
       "        display_loaded();\n",
       "      }} else if (Date.now() < root._bokeh_timeout) {\n",
       "      setTimeout(run_inline_js, 100);\n",
       "    } else if (!root._bokeh_failed_load) {\n",
       "      console.log(\"Bokeh: BokehJS failed to load within specified timeout.\");\n",
       "      root._bokeh_failed_load = true;\n",
       "    } else if (force !== true) {\n",
       "      var cell = $(document.getElementById(\"4ae1df21-9d82-4eef-9456-c60937f60c79\")).parents('.cell').data().cell;\n",
       "      cell.output_area.append_execute_result(NB_LOAD_WARNING)\n",
       "    }\n",
       "\n",
       "  }\n",
       "\n",
       "  if (root._bokeh_is_loading === 0) {\n",
       "    console.log(\"Bokeh: BokehJS loaded, going straight to plotting\");\n",
       "    run_inline_js();\n",
       "  } else {\n",
       "    load_libs(js_urls, function() {\n",
       "      console.log(\"Bokeh: BokehJS plotting callback run at\", now());\n",
       "      run_inline_js();\n",
       "    });\n",
       "  }\n",
       "}(window));"
      ],
      "application/vnd.bokehjs_load.v0+json": "\n(function(root) {\n  function now() {\n    return new Date();\n  }\n\n  var force = true;\n\n  if (typeof (root._bokeh_onload_callbacks) === \"undefined\" || force === true) {\n    root._bokeh_onload_callbacks = [];\n    root._bokeh_is_loading = undefined;\n  }\n\n  \n\n  \n  if (typeof (root._bokeh_timeout) === \"undefined\" || force === true) {\n    root._bokeh_timeout = Date.now() + 5000;\n    root._bokeh_failed_load = false;\n  }\n\n  var NB_LOAD_WARNING = {'data': {'text/html':\n     \"<div style='background-color: #fdd'>\\n\"+\n     \"<p>\\n\"+\n     \"BokehJS does not appear to have successfully loaded. If loading BokehJS from CDN, this \\n\"+\n     \"may be due to a slow or bad network connection. Possible fixes:\\n\"+\n     \"</p>\\n\"+\n     \"<ul>\\n\"+\n     \"<li>re-rerun `output_notebook()` to attempt to load from CDN again, or</li>\\n\"+\n     \"<li>use INLINE resources instead, as so:</li>\\n\"+\n     \"</ul>\\n\"+\n     \"<code>\\n\"+\n     \"from bokeh.resources import INLINE\\n\"+\n     \"output_notebook(resources=INLINE)\\n\"+\n     \"</code>\\n\"+\n     \"</div>\"}};\n\n  function display_loaded() {\n    var el = document.getElementById(\"4ae1df21-9d82-4eef-9456-c60937f60c79\");\n    if (el != null) {\n      el.textContent = \"BokehJS is loading...\";\n    }\n    if (root.Bokeh !== undefined) {\n      if (el != null) {\n        el.textContent = \"BokehJS \" + root.Bokeh.version + \" successfully loaded.\";\n      }\n    } else if (Date.now() < root._bokeh_timeout) {\n      setTimeout(display_loaded, 100)\n    }\n  }\n\n\n  function run_callbacks() {\n    try {\n      root._bokeh_onload_callbacks.forEach(function(callback) { callback() });\n    }\n    finally {\n      delete root._bokeh_onload_callbacks\n    }\n    console.info(\"Bokeh: all callbacks have finished\");\n  }\n\n  function load_libs(js_urls, callback) {\n    root._bokeh_onload_callbacks.push(callback);\n    if (root._bokeh_is_loading > 0) {\n      console.log(\"Bokeh: BokehJS is being loaded, scheduling callback at\", now());\n      return null;\n    }\n    if (js_urls == null || js_urls.length === 0) {\n      run_callbacks();\n      return null;\n    }\n    console.log(\"Bokeh: BokehJS not loaded, scheduling load and callback at\", now());\n    root._bokeh_is_loading = js_urls.length;\n    for (var i = 0; i < js_urls.length; i++) {\n      var url = js_urls[i];\n      var s = document.createElement('script');\n      s.src = url;\n      s.async = false;\n      s.onreadystatechange = s.onload = function() {\n        root._bokeh_is_loading--;\n        if (root._bokeh_is_loading === 0) {\n          console.log(\"Bokeh: all BokehJS libraries loaded\");\n          run_callbacks()\n        }\n      };\n      s.onerror = function() {\n        console.warn(\"failed to load library \" + url);\n      };\n      console.log(\"Bokeh: injecting script tag for BokehJS library: \", url);\n      document.getElementsByTagName(\"head\")[0].appendChild(s);\n    }\n  };var element = document.getElementById(\"4ae1df21-9d82-4eef-9456-c60937f60c79\");\n  if (element == null) {\n    console.log(\"Bokeh: ERROR: autoload.js configured with elementid '4ae1df21-9d82-4eef-9456-c60937f60c79' but no matching script tag was found. \")\n    return false;\n  }\n\n  var js_urls = [\"https://cdn.pydata.org/bokeh/release/bokeh-0.12.13.min.js\", \"https://cdn.pydata.org/bokeh/release/bokeh-widgets-0.12.13.min.js\", \"https://cdn.pydata.org/bokeh/release/bokeh-tables-0.12.13.min.js\", \"https://cdn.pydata.org/bokeh/release/bokeh-gl-0.12.13.min.js\"];\n\n  var inline_js = [\n    function(Bokeh) {\n      Bokeh.set_log_level(\"info\");\n    },\n    \n    function(Bokeh) {\n      \n    },\n    function(Bokeh) {\n      console.log(\"Bokeh: injecting CSS: https://cdn.pydata.org/bokeh/release/bokeh-0.12.13.min.css\");\n      Bokeh.embed.inject_css(\"https://cdn.pydata.org/bokeh/release/bokeh-0.12.13.min.css\");\n      console.log(\"Bokeh: injecting CSS: https://cdn.pydata.org/bokeh/release/bokeh-widgets-0.12.13.min.css\");\n      Bokeh.embed.inject_css(\"https://cdn.pydata.org/bokeh/release/bokeh-widgets-0.12.13.min.css\");\n      console.log(\"Bokeh: injecting CSS: https://cdn.pydata.org/bokeh/release/bokeh-tables-0.12.13.min.css\");\n      Bokeh.embed.inject_css(\"https://cdn.pydata.org/bokeh/release/bokeh-tables-0.12.13.min.css\");\n    }\n  ];\n\n  function run_inline_js() {\n    \n    if ((root.Bokeh !== undefined) || (force === true)) {\n      for (var i = 0; i < inline_js.length; i++) {\n        inline_js[i].call(root, root.Bokeh);\n      }if (force === true) {\n        display_loaded();\n      }} else if (Date.now() < root._bokeh_timeout) {\n      setTimeout(run_inline_js, 100);\n    } else if (!root._bokeh_failed_load) {\n      console.log(\"Bokeh: BokehJS failed to load within specified timeout.\");\n      root._bokeh_failed_load = true;\n    } else if (force !== true) {\n      var cell = $(document.getElementById(\"4ae1df21-9d82-4eef-9456-c60937f60c79\")).parents('.cell').data().cell;\n      cell.output_area.append_execute_result(NB_LOAD_WARNING)\n    }\n\n  }\n\n  if (root._bokeh_is_loading === 0) {\n    console.log(\"Bokeh: BokehJS loaded, going straight to plotting\");\n    run_inline_js();\n  } else {\n    load_libs(js_urls, function() {\n      console.log(\"Bokeh: BokehJS plotting callback run at\", now());\n      run_inline_js();\n    });\n  }\n}(window));"
     },
     "metadata": {},
     "output_type": "display_data"
    }
   ],
   "source": [
    "# dataframe management\n",
    "import pandas as pd             \n",
    "\n",
    "# numerical computation\n",
    "import numpy as np\n",
    "\n",
    "# visualization library\n",
    "import seaborn as sns\n",
    "sns.set(style=\"white\", color_codes=True)\n",
    "sns.set_context(rc={\"font.family\":'sans',\"font.size\":24,\"axes.titlesize\":24,\"axes.labelsize\":24})   \n",
    "\n",
    "\n",
    "# import matplotlib and allow it to plot inline\n",
    "import matplotlib.pyplot as plt\n",
    "%matplotlib inline\n",
    "\n",
    "#---------------------------------------------------------------------------------------------------------\n",
    "# seaborn can generate several warnings, we ignore them\n",
    "import warnings \n",
    "warnings.filterwarnings(\"ignore\")\n",
    "\n",
    "from bokeh.layouts import gridplot\n",
    "from bokeh.plotting import figure\n",
    "\n",
    "from bokeh.io import output_notebook, show\n",
    "from bokeh.models import ColumnDataSource\n",
    "output_notebook()\n",
    "#----------------------------------------------------------------------------------------------------\n",
    "from datetime import date\n",
    "#---------------------------------------------------------------------------------------------------------\n"
   ]
  },
  {
   "cell_type": "code",
   "execution_count": 2,
   "metadata": {},
   "outputs": [],
   "source": [
    "#reading the notebook\n",
    "sales = sales_string_date=pd.read_csv('train.csv')\n",
    "\n",
    "#Removing tuples where stores are closed\n",
    "sales = sales[sales['IsOpen'] == 1]\n",
    "\n",
    "sales['StoreID'] = sales['StoreID'].apply(lambda x : str(x))"
   ]
  },
  {
   "cell_type": "code",
   "execution_count": 3,
   "metadata": {},
   "outputs": [],
   "source": [
    "sales=sales[sales['IsOpen']==1]\n",
    "sales=sales.drop(columns=['IsOpen'])"
   ]
  },
  {
   "cell_type": "code",
   "execution_count": 4,
   "metadata": {},
   "outputs": [
    {
     "data": {
      "text/html": [
       "<div>\n",
       "<style scoped>\n",
       "    .dataframe tbody tr th:only-of-type {\n",
       "        vertical-align: middle;\n",
       "    }\n",
       "\n",
       "    .dataframe tbody tr th {\n",
       "        vertical-align: top;\n",
       "    }\n",
       "\n",
       "    .dataframe thead th {\n",
       "        text-align: right;\n",
       "    }\n",
       "</style>\n",
       "<table border=\"1\" class=\"dataframe\">\n",
       "  <thead>\n",
       "    <tr style=\"text-align: right;\">\n",
       "      <th></th>\n",
       "      <th>IsHoliday</th>\n",
       "      <th>HasPromotions</th>\n",
       "      <th>NearestCompetitor</th>\n",
       "      <th>Region</th>\n",
       "      <th>NumberOfCustomers</th>\n",
       "      <th>NumberOfSales</th>\n",
       "      <th>Region_AreaKM2</th>\n",
       "      <th>Region_GDP</th>\n",
       "      <th>Region_PopulationK</th>\n",
       "      <th>CloudCover</th>\n",
       "      <th>...</th>\n",
       "      <th>Mean_TemperatureC</th>\n",
       "      <th>Mean_VisibilityKm</th>\n",
       "      <th>Mean_Wind_SpeedKm_h</th>\n",
       "      <th>Min_Dew_PointC</th>\n",
       "      <th>Min_Humidity</th>\n",
       "      <th>Min_Sea_Level_PressurehPa</th>\n",
       "      <th>Min_TemperatureC</th>\n",
       "      <th>Min_VisibilitykM</th>\n",
       "      <th>Precipitationmm</th>\n",
       "      <th>WindDirDegrees</th>\n",
       "    </tr>\n",
       "  </thead>\n",
       "  <tbody>\n",
       "    <tr>\n",
       "      <th>count</th>\n",
       "      <td>433958.000000</td>\n",
       "      <td>433958.000000</td>\n",
       "      <td>433958.000000</td>\n",
       "      <td>433958.000000</td>\n",
       "      <td>433958.000000</td>\n",
       "      <td>433958.000000</td>\n",
       "      <td>433958.000000</td>\n",
       "      <td>433958.000000</td>\n",
       "      <td>433958.000000</td>\n",
       "      <td>399901.000000</td>\n",
       "      <td>...</td>\n",
       "      <td>433958.00000</td>\n",
       "      <td>424700.000000</td>\n",
       "      <td>433958.000000</td>\n",
       "      <td>433958.000000</td>\n",
       "      <td>433958.000000</td>\n",
       "      <td>433958.000000</td>\n",
       "      <td>433958.000000</td>\n",
       "      <td>424700.000000</td>\n",
       "      <td>433958.000000</td>\n",
       "      <td>433958.000000</td>\n",
       "    </tr>\n",
       "    <tr>\n",
       "      <th>mean</th>\n",
       "      <td>0.000945</td>\n",
       "      <td>0.449507</td>\n",
       "      <td>8042.993882</td>\n",
       "      <td>5.727451</td>\n",
       "      <td>312.547433</td>\n",
       "      <td>4890.089953</td>\n",
       "      <td>12313.341916</td>\n",
       "      <td>14045.556837</td>\n",
       "      <td>3845.765475</td>\n",
       "      <td>5.580104</td>\n",
       "      <td>...</td>\n",
       "      <td>10.33585</td>\n",
       "      <td>12.146459</td>\n",
       "      <td>11.671759</td>\n",
       "      <td>3.799020</td>\n",
       "      <td>51.349308</td>\n",
       "      <td>1012.053362</td>\n",
       "      <td>6.245035</td>\n",
       "      <td>7.251959</td>\n",
       "      <td>0.801154</td>\n",
       "      <td>168.599954</td>\n",
       "    </tr>\n",
       "    <tr>\n",
       "      <th>std</th>\n",
       "      <td>0.030723</td>\n",
       "      <td>0.497444</td>\n",
       "      <td>11640.203554</td>\n",
       "      <td>3.357071</td>\n",
       "      <td>158.106619</td>\n",
       "      <td>2215.403562</td>\n",
       "      <td>9114.075588</td>\n",
       "      <td>2760.416990</td>\n",
       "      <td>2816.324768</td>\n",
       "      <td>1.725515</td>\n",
       "      <td>...</td>\n",
       "      <td>7.04847</td>\n",
       "      <td>5.002097</td>\n",
       "      <td>5.801541</td>\n",
       "      <td>5.871627</td>\n",
       "      <td>19.342648</td>\n",
       "      <td>8.719750</td>\n",
       "      <td>6.312597</td>\n",
       "      <td>4.924885</td>\n",
       "      <td>2.647859</td>\n",
       "      <td>101.207551</td>\n",
       "    </tr>\n",
       "    <tr>\n",
       "      <th>min</th>\n",
       "      <td>0.000000</td>\n",
       "      <td>0.000000</td>\n",
       "      <td>47.000000</td>\n",
       "      <td>0.000000</td>\n",
       "      <td>0.000000</td>\n",
       "      <td>0.000000</td>\n",
       "      <td>344.000000</td>\n",
       "      <td>9893.000000</td>\n",
       "      <td>816.000000</td>\n",
       "      <td>0.000000</td>\n",
       "      <td>...</td>\n",
       "      <td>-13.00000</td>\n",
       "      <td>0.000000</td>\n",
       "      <td>2.000000</td>\n",
       "      <td>-18.000000</td>\n",
       "      <td>10.000000</td>\n",
       "      <td>970.000000</td>\n",
       "      <td>-14.000000</td>\n",
       "      <td>0.000000</td>\n",
       "      <td>0.000000</td>\n",
       "      <td>-1.000000</td>\n",
       "    </tr>\n",
       "    <tr>\n",
       "      <th>25%</th>\n",
       "      <td>0.000000</td>\n",
       "      <td>0.000000</td>\n",
       "      <td>1057.000000</td>\n",
       "      <td>3.000000</td>\n",
       "      <td>214.000000</td>\n",
       "      <td>3386.000000</td>\n",
       "      <td>7215.000000</td>\n",
       "      <td>11849.000000</td>\n",
       "      <td>1293.000000</td>\n",
       "      <td>5.000000</td>\n",
       "      <td>...</td>\n",
       "      <td>4.00000</td>\n",
       "      <td>10.000000</td>\n",
       "      <td>8.000000</td>\n",
       "      <td>-1.000000</td>\n",
       "      <td>36.000000</td>\n",
       "      <td>1007.000000</td>\n",
       "      <td>1.000000</td>\n",
       "      <td>3.000000</td>\n",
       "      <td>0.000000</td>\n",
       "      <td>74.000000</td>\n",
       "    </tr>\n",
       "    <tr>\n",
       "      <th>50%</th>\n",
       "      <td>0.000000</td>\n",
       "      <td>0.000000</td>\n",
       "      <td>3307.000000</td>\n",
       "      <td>6.000000</td>\n",
       "      <td>278.000000</td>\n",
       "      <td>4469.500000</td>\n",
       "      <td>9337.000000</td>\n",
       "      <td>15017.000000</td>\n",
       "      <td>1892.000000</td>\n",
       "      <td>6.000000</td>\n",
       "      <td>...</td>\n",
       "      <td>11.00000</td>\n",
       "      <td>11.000000</td>\n",
       "      <td>11.000000</td>\n",
       "      <td>4.000000</td>\n",
       "      <td>51.000000</td>\n",
       "      <td>1012.000000</td>\n",
       "      <td>7.000000</td>\n",
       "      <td>8.000000</td>\n",
       "      <td>0.000000</td>\n",
       "      <td>188.000000</td>\n",
       "    </tr>\n",
       "    <tr>\n",
       "      <th>75%</th>\n",
       "      <td>0.000000</td>\n",
       "      <td>1.000000</td>\n",
       "      <td>9761.000000</td>\n",
       "      <td>9.000000</td>\n",
       "      <td>369.000000</td>\n",
       "      <td>5911.000000</td>\n",
       "      <td>15566.000000</td>\n",
       "      <td>15931.000000</td>\n",
       "      <td>5727.000000</td>\n",
       "      <td>7.000000</td>\n",
       "      <td>...</td>\n",
       "      <td>16.00000</td>\n",
       "      <td>14.000000</td>\n",
       "      <td>14.000000</td>\n",
       "      <td>8.000000</td>\n",
       "      <td>66.000000</td>\n",
       "      <td>1018.000000</td>\n",
       "      <td>11.000000</td>\n",
       "      <td>10.000000</td>\n",
       "      <td>0.250000</td>\n",
       "      <td>248.000000</td>\n",
       "    </tr>\n",
       "    <tr>\n",
       "      <th>max</th>\n",
       "      <td>1.000000</td>\n",
       "      <td>1.000000</td>\n",
       "      <td>85070.000000</td>\n",
       "      <td>10.000000</td>\n",
       "      <td>2206.000000</td>\n",
       "      <td>26641.000000</td>\n",
       "      <td>32221.000000</td>\n",
       "      <td>23931.000000</td>\n",
       "      <td>8146.000000</td>\n",
       "      <td>8.000000</td>\n",
       "      <td>...</td>\n",
       "      <td>30.00000</td>\n",
       "      <td>31.000000</td>\n",
       "      <td>53.000000</td>\n",
       "      <td>18.000000</td>\n",
       "      <td>100.000000</td>\n",
       "      <td>1038.000000</td>\n",
       "      <td>24.000000</td>\n",
       "      <td>31.000000</td>\n",
       "      <td>58.930000</td>\n",
       "      <td>360.000000</td>\n",
       "    </tr>\n",
       "  </tbody>\n",
       "</table>\n",
       "<p>8 rows × 30 columns</p>\n",
       "</div>"
      ],
      "text/plain": [
       "           IsHoliday  HasPromotions  NearestCompetitor         Region  \\\n",
       "count  433958.000000  433958.000000      433958.000000  433958.000000   \n",
       "mean        0.000945       0.449507        8042.993882       5.727451   \n",
       "std         0.030723       0.497444       11640.203554       3.357071   \n",
       "min         0.000000       0.000000          47.000000       0.000000   \n",
       "25%         0.000000       0.000000        1057.000000       3.000000   \n",
       "50%         0.000000       0.000000        3307.000000       6.000000   \n",
       "75%         0.000000       1.000000        9761.000000       9.000000   \n",
       "max         1.000000       1.000000       85070.000000      10.000000   \n",
       "\n",
       "       NumberOfCustomers  NumberOfSales  Region_AreaKM2     Region_GDP  \\\n",
       "count      433958.000000  433958.000000   433958.000000  433958.000000   \n",
       "mean          312.547433    4890.089953    12313.341916   14045.556837   \n",
       "std           158.106619    2215.403562     9114.075588    2760.416990   \n",
       "min             0.000000       0.000000      344.000000    9893.000000   \n",
       "25%           214.000000    3386.000000     7215.000000   11849.000000   \n",
       "50%           278.000000    4469.500000     9337.000000   15017.000000   \n",
       "75%           369.000000    5911.000000    15566.000000   15931.000000   \n",
       "max          2206.000000   26641.000000    32221.000000   23931.000000   \n",
       "\n",
       "       Region_PopulationK     CloudCover       ...        Mean_TemperatureC  \\\n",
       "count       433958.000000  399901.000000       ...             433958.00000   \n",
       "mean          3845.765475       5.580104       ...                 10.33585   \n",
       "std           2816.324768       1.725515       ...                  7.04847   \n",
       "min            816.000000       0.000000       ...                -13.00000   \n",
       "25%           1293.000000       5.000000       ...                  4.00000   \n",
       "50%           1892.000000       6.000000       ...                 11.00000   \n",
       "75%           5727.000000       7.000000       ...                 16.00000   \n",
       "max           8146.000000       8.000000       ...                 30.00000   \n",
       "\n",
       "       Mean_VisibilityKm  Mean_Wind_SpeedKm_h  Min_Dew_PointC   Min_Humidity  \\\n",
       "count      424700.000000        433958.000000   433958.000000  433958.000000   \n",
       "mean           12.146459            11.671759        3.799020      51.349308   \n",
       "std             5.002097             5.801541        5.871627      19.342648   \n",
       "min             0.000000             2.000000      -18.000000      10.000000   \n",
       "25%            10.000000             8.000000       -1.000000      36.000000   \n",
       "50%            11.000000            11.000000        4.000000      51.000000   \n",
       "75%            14.000000            14.000000        8.000000      66.000000   \n",
       "max            31.000000            53.000000       18.000000     100.000000   \n",
       "\n",
       "       Min_Sea_Level_PressurehPa  Min_TemperatureC  Min_VisibilitykM  \\\n",
       "count              433958.000000     433958.000000     424700.000000   \n",
       "mean                 1012.053362          6.245035          7.251959   \n",
       "std                     8.719750          6.312597          4.924885   \n",
       "min                   970.000000        -14.000000          0.000000   \n",
       "25%                  1007.000000          1.000000          3.000000   \n",
       "50%                  1012.000000          7.000000          8.000000   \n",
       "75%                  1018.000000         11.000000         10.000000   \n",
       "max                  1038.000000         24.000000         31.000000   \n",
       "\n",
       "       Precipitationmm  WindDirDegrees  \n",
       "count    433958.000000   433958.000000  \n",
       "mean          0.801154      168.599954  \n",
       "std           2.647859      101.207551  \n",
       "min           0.000000       -1.000000  \n",
       "25%           0.000000       74.000000  \n",
       "50%           0.000000      188.000000  \n",
       "75%           0.250000      248.000000  \n",
       "max          58.930000      360.000000  \n",
       "\n",
       "[8 rows x 30 columns]"
      ]
     },
     "execution_count": 4,
     "metadata": {},
     "output_type": "execute_result"
    }
   ],
   "source": [
    "sales.describe()"
   ]
  },
  {
   "cell_type": "markdown",
   "metadata": {},
   "source": [
    "# Imputation of Missing Values"
   ]
  },
  {
   "cell_type": "code",
   "execution_count": 5,
   "metadata": {},
   "outputs": [
    {
     "data": {
      "text/plain": [
       "StoreID                            0\n",
       "Date                               0\n",
       "IsHoliday                          0\n",
       "HasPromotions                      0\n",
       "StoreType                          0\n",
       "AssortmentType                     0\n",
       "NearestCompetitor                  0\n",
       "Region                             0\n",
       "NumberOfCustomers                  0\n",
       "NumberOfSales                      0\n",
       "Region_AreaKM2                     0\n",
       "Region_GDP                         0\n",
       "Region_PopulationK                 0\n",
       "CloudCover                     34057\n",
       "Events                        103661\n",
       "Max_Dew_PointC                     0\n",
       "Max_Gust_SpeedKm_h            341404\n",
       "Max_Humidity                       0\n",
       "Max_Sea_Level_PressurehPa          0\n",
       "Max_TemperatureC                   0\n",
       "Max_VisibilityKm                9258\n",
       "Max_Wind_SpeedKm_h                 0\n",
       "Mean_Dew_PointC                    0\n",
       "Mean_Humidity                      0\n",
       "Mean_Sea_Level_PressurehPa         0\n",
       "Mean_TemperatureC                  0\n",
       "Mean_VisibilityKm               9258\n",
       "Mean_Wind_SpeedKm_h                0\n",
       "Min_Dew_PointC                     0\n",
       "Min_Humidity                       0\n",
       "Min_Sea_Level_PressurehPa          0\n",
       "Min_TemperatureC                   0\n",
       "Min_VisibilitykM                9258\n",
       "Precipitationmm                    0\n",
       "WindDirDegrees                     0\n",
       "dtype: int64"
      ]
     },
     "execution_count": 5,
     "metadata": {},
     "output_type": "execute_result"
    }
   ],
   "source": [
    "unknown_per_columns = sales.isnull().sum()\n",
    "unknown_per_columns"
   ]
  },
  {
   "cell_type": "markdown",
   "metadata": {},
   "source": [
    "We see that Max_Gust_SpeedKm_h has 409947 missing values. We decided not to impute it.\n",
    "Let's start with imputation of \"Events\""
   ]
  },
  {
   "cell_type": "code",
   "execution_count": 6,
   "metadata": {},
   "outputs": [
    {
     "data": {
      "text/html": [
       "<div>\n",
       "<style scoped>\n",
       "    .dataframe tbody tr th:only-of-type {\n",
       "        vertical-align: middle;\n",
       "    }\n",
       "\n",
       "    .dataframe tbody tr th {\n",
       "        vertical-align: top;\n",
       "    }\n",
       "\n",
       "    .dataframe thead th {\n",
       "        text-align: right;\n",
       "    }\n",
       "</style>\n",
       "<table border=\"1\" class=\"dataframe\">\n",
       "  <thead>\n",
       "    <tr style=\"text-align: right;\">\n",
       "      <th></th>\n",
       "      <th>IsHoliday</th>\n",
       "      <th>HasPromotions</th>\n",
       "      <th>NearestCompetitor</th>\n",
       "      <th>Region</th>\n",
       "      <th>NumberOfCustomers</th>\n",
       "      <th>NumberOfSales</th>\n",
       "      <th>Region_AreaKM2</th>\n",
       "      <th>Region_GDP</th>\n",
       "      <th>Region_PopulationK</th>\n",
       "      <th>CloudCover</th>\n",
       "      <th>...</th>\n",
       "      <th>Mean_TemperatureC</th>\n",
       "      <th>Mean_VisibilityKm</th>\n",
       "      <th>Mean_Wind_SpeedKm_h</th>\n",
       "      <th>Min_Dew_PointC</th>\n",
       "      <th>Min_Humidity</th>\n",
       "      <th>Min_Sea_Level_PressurehPa</th>\n",
       "      <th>Min_TemperatureC</th>\n",
       "      <th>Min_VisibilitykM</th>\n",
       "      <th>Precipitationmm</th>\n",
       "      <th>WindDirDegrees</th>\n",
       "    </tr>\n",
       "  </thead>\n",
       "  <tbody>\n",
       "    <tr>\n",
       "      <th>count</th>\n",
       "      <td>103661.000000</td>\n",
       "      <td>103661.000000</td>\n",
       "      <td>103661.000000</td>\n",
       "      <td>103661.000000</td>\n",
       "      <td>103661.000000</td>\n",
       "      <td>103661.000000</td>\n",
       "      <td>103661.000000</td>\n",
       "      <td>103661.000000</td>\n",
       "      <td>103661.000000</td>\n",
       "      <td>80397.000000</td>\n",
       "      <td>...</td>\n",
       "      <td>103661.000000</td>\n",
       "      <td>94779.000000</td>\n",
       "      <td>103661.000000</td>\n",
       "      <td>103661.000000</td>\n",
       "      <td>103661.000000</td>\n",
       "      <td>103661.000000</td>\n",
       "      <td>103661.000000</td>\n",
       "      <td>94779.000000</td>\n",
       "      <td>103661.000000</td>\n",
       "      <td>103661.000000</td>\n",
       "    </tr>\n",
       "    <tr>\n",
       "      <th>mean</th>\n",
       "      <td>0.001042</td>\n",
       "      <td>0.459179</td>\n",
       "      <td>8601.390619</td>\n",
       "      <td>5.719142</td>\n",
       "      <td>314.641910</td>\n",
       "      <td>4893.577276</td>\n",
       "      <td>11435.271770</td>\n",
       "      <td>13711.770926</td>\n",
       "      <td>3467.389500</td>\n",
       "      <td>4.989340</td>\n",
       "      <td>...</td>\n",
       "      <td>11.545769</td>\n",
       "      <td>15.176421</td>\n",
       "      <td>11.082558</td>\n",
       "      <td>3.092774</td>\n",
       "      <td>40.196747</td>\n",
       "      <td>1015.171096</td>\n",
       "      <td>6.551538</td>\n",
       "      <td>10.586121</td>\n",
       "      <td>0.003920</td>\n",
       "      <td>134.812292</td>\n",
       "    </tr>\n",
       "    <tr>\n",
       "      <th>std</th>\n",
       "      <td>0.032261</td>\n",
       "      <td>0.498333</td>\n",
       "      <td>12222.596970</td>\n",
       "      <td>3.319136</td>\n",
       "      <td>159.283348</td>\n",
       "      <td>2238.517426</td>\n",
       "      <td>8284.862826</td>\n",
       "      <td>2736.202628</td>\n",
       "      <td>2694.401824</td>\n",
       "      <td>2.233223</td>\n",
       "      <td>...</td>\n",
       "      <td>7.492758</td>\n",
       "      <td>6.648346</td>\n",
       "      <td>5.112519</td>\n",
       "      <td>6.093297</td>\n",
       "      <td>18.033663</td>\n",
       "      <td>7.151478</td>\n",
       "      <td>6.591203</td>\n",
       "      <td>6.138289</td>\n",
       "      <td>0.087722</td>\n",
       "      <td>103.812782</td>\n",
       "    </tr>\n",
       "    <tr>\n",
       "      <th>min</th>\n",
       "      <td>0.000000</td>\n",
       "      <td>0.000000</td>\n",
       "      <td>47.000000</td>\n",
       "      <td>0.000000</td>\n",
       "      <td>0.000000</td>\n",
       "      <td>0.000000</td>\n",
       "      <td>344.000000</td>\n",
       "      <td>9893.000000</td>\n",
       "      <td>816.000000</td>\n",
       "      <td>0.000000</td>\n",
       "      <td>...</td>\n",
       "      <td>-11.000000</td>\n",
       "      <td>2.000000</td>\n",
       "      <td>3.000000</td>\n",
       "      <td>-17.000000</td>\n",
       "      <td>10.000000</td>\n",
       "      <td>991.000000</td>\n",
       "      <td>-12.000000</td>\n",
       "      <td>0.000000</td>\n",
       "      <td>0.000000</td>\n",
       "      <td>-1.000000</td>\n",
       "    </tr>\n",
       "    <tr>\n",
       "      <th>25%</th>\n",
       "      <td>0.000000</td>\n",
       "      <td>0.000000</td>\n",
       "      <td>1116.000000</td>\n",
       "      <td>3.000000</td>\n",
       "      <td>215.000000</td>\n",
       "      <td>3375.000000</td>\n",
       "      <td>7215.000000</td>\n",
       "      <td>11849.000000</td>\n",
       "      <td>1293.000000</td>\n",
       "      <td>3.000000</td>\n",
       "      <td>...</td>\n",
       "      <td>6.000000</td>\n",
       "      <td>10.000000</td>\n",
       "      <td>6.000000</td>\n",
       "      <td>-2.000000</td>\n",
       "      <td>25.000000</td>\n",
       "      <td>1011.000000</td>\n",
       "      <td>1.000000</td>\n",
       "      <td>8.000000</td>\n",
       "      <td>0.000000</td>\n",
       "      <td>46.000000</td>\n",
       "    </tr>\n",
       "    <tr>\n",
       "      <th>50%</th>\n",
       "      <td>0.000000</td>\n",
       "      <td>0.000000</td>\n",
       "      <td>3614.000000</td>\n",
       "      <td>6.000000</td>\n",
       "      <td>280.000000</td>\n",
       "      <td>4461.000000</td>\n",
       "      <td>9337.000000</td>\n",
       "      <td>13155.000000</td>\n",
       "      <td>1892.000000</td>\n",
       "      <td>5.000000</td>\n",
       "      <td>...</td>\n",
       "      <td>12.000000</td>\n",
       "      <td>13.000000</td>\n",
       "      <td>10.000000</td>\n",
       "      <td>3.000000</td>\n",
       "      <td>37.000000</td>\n",
       "      <td>1015.000000</td>\n",
       "      <td>7.000000</td>\n",
       "      <td>10.000000</td>\n",
       "      <td>0.000000</td>\n",
       "      <td>124.000000</td>\n",
       "    </tr>\n",
       "    <tr>\n",
       "      <th>75%</th>\n",
       "      <td>0.000000</td>\n",
       "      <td>1.000000</td>\n",
       "      <td>10593.000000</td>\n",
       "      <td>9.000000</td>\n",
       "      <td>372.000000</td>\n",
       "      <td>5918.000000</td>\n",
       "      <td>15566.000000</td>\n",
       "      <td>15931.000000</td>\n",
       "      <td>5727.000000</td>\n",
       "      <td>7.000000</td>\n",
       "      <td>...</td>\n",
       "      <td>18.000000</td>\n",
       "      <td>19.000000</td>\n",
       "      <td>13.000000</td>\n",
       "      <td>8.000000</td>\n",
       "      <td>52.000000</td>\n",
       "      <td>1020.000000</td>\n",
       "      <td>12.000000</td>\n",
       "      <td>10.000000</td>\n",
       "      <td>0.000000</td>\n",
       "      <td>216.000000</td>\n",
       "    </tr>\n",
       "    <tr>\n",
       "      <th>max</th>\n",
       "      <td>1.000000</td>\n",
       "      <td>1.000000</td>\n",
       "      <td>85070.000000</td>\n",
       "      <td>10.000000</td>\n",
       "      <td>2206.000000</td>\n",
       "      <td>26641.000000</td>\n",
       "      <td>32221.000000</td>\n",
       "      <td>23931.000000</td>\n",
       "      <td>8146.000000</td>\n",
       "      <td>8.000000</td>\n",
       "      <td>...</td>\n",
       "      <td>30.000000</td>\n",
       "      <td>31.000000</td>\n",
       "      <td>34.000000</td>\n",
       "      <td>18.000000</td>\n",
       "      <td>100.000000</td>\n",
       "      <td>1038.000000</td>\n",
       "      <td>23.000000</td>\n",
       "      <td>31.000000</td>\n",
       "      <td>4.060000</td>\n",
       "      <td>360.000000</td>\n",
       "    </tr>\n",
       "  </tbody>\n",
       "</table>\n",
       "<p>8 rows × 30 columns</p>\n",
       "</div>"
      ],
      "text/plain": [
       "           IsHoliday  HasPromotions  NearestCompetitor         Region  \\\n",
       "count  103661.000000  103661.000000      103661.000000  103661.000000   \n",
       "mean        0.001042       0.459179        8601.390619       5.719142   \n",
       "std         0.032261       0.498333       12222.596970       3.319136   \n",
       "min         0.000000       0.000000          47.000000       0.000000   \n",
       "25%         0.000000       0.000000        1116.000000       3.000000   \n",
       "50%         0.000000       0.000000        3614.000000       6.000000   \n",
       "75%         0.000000       1.000000       10593.000000       9.000000   \n",
       "max         1.000000       1.000000       85070.000000      10.000000   \n",
       "\n",
       "       NumberOfCustomers  NumberOfSales  Region_AreaKM2     Region_GDP  \\\n",
       "count      103661.000000  103661.000000   103661.000000  103661.000000   \n",
       "mean          314.641910    4893.577276    11435.271770   13711.770926   \n",
       "std           159.283348    2238.517426     8284.862826    2736.202628   \n",
       "min             0.000000       0.000000      344.000000    9893.000000   \n",
       "25%           215.000000    3375.000000     7215.000000   11849.000000   \n",
       "50%           280.000000    4461.000000     9337.000000   13155.000000   \n",
       "75%           372.000000    5918.000000    15566.000000   15931.000000   \n",
       "max          2206.000000   26641.000000    32221.000000   23931.000000   \n",
       "\n",
       "       Region_PopulationK    CloudCover       ...        Mean_TemperatureC  \\\n",
       "count       103661.000000  80397.000000       ...            103661.000000   \n",
       "mean          3467.389500      4.989340       ...                11.545769   \n",
       "std           2694.401824      2.233223       ...                 7.492758   \n",
       "min            816.000000      0.000000       ...               -11.000000   \n",
       "25%           1293.000000      3.000000       ...                 6.000000   \n",
       "50%           1892.000000      5.000000       ...                12.000000   \n",
       "75%           5727.000000      7.000000       ...                18.000000   \n",
       "max           8146.000000      8.000000       ...                30.000000   \n",
       "\n",
       "       Mean_VisibilityKm  Mean_Wind_SpeedKm_h  Min_Dew_PointC   Min_Humidity  \\\n",
       "count       94779.000000        103661.000000   103661.000000  103661.000000   \n",
       "mean           15.176421            11.082558        3.092774      40.196747   \n",
       "std             6.648346             5.112519        6.093297      18.033663   \n",
       "min             2.000000             3.000000      -17.000000      10.000000   \n",
       "25%            10.000000             6.000000       -2.000000      25.000000   \n",
       "50%            13.000000            10.000000        3.000000      37.000000   \n",
       "75%            19.000000            13.000000        8.000000      52.000000   \n",
       "max            31.000000            34.000000       18.000000     100.000000   \n",
       "\n",
       "       Min_Sea_Level_PressurehPa  Min_TemperatureC  Min_VisibilitykM  \\\n",
       "count              103661.000000     103661.000000      94779.000000   \n",
       "mean                 1015.171096          6.551538         10.586121   \n",
       "std                     7.151478          6.591203          6.138289   \n",
       "min                   991.000000        -12.000000          0.000000   \n",
       "25%                  1011.000000          1.000000          8.000000   \n",
       "50%                  1015.000000          7.000000         10.000000   \n",
       "75%                  1020.000000         12.000000         10.000000   \n",
       "max                  1038.000000         23.000000         31.000000   \n",
       "\n",
       "       Precipitationmm  WindDirDegrees  \n",
       "count    103661.000000   103661.000000  \n",
       "mean          0.003920      134.812292  \n",
       "std           0.087722      103.812782  \n",
       "min           0.000000       -1.000000  \n",
       "25%           0.000000       46.000000  \n",
       "50%           0.000000      124.000000  \n",
       "75%           0.000000      216.000000  \n",
       "max           4.060000      360.000000  \n",
       "\n",
       "[8 rows x 30 columns]"
      ]
     },
     "execution_count": 6,
     "metadata": {},
     "output_type": "execute_result"
    }
   ],
   "source": [
    "null_Events = sales['Events'].isnull()\n",
    "event_missing = sales[null_Events]\n",
    "event_missing.describe()\n"
   ]
  },
  {
   "cell_type": "code",
   "execution_count": 7,
   "metadata": {},
   "outputs": [
    {
     "data": {
      "text/plain": [
       "Rain                           171189\n",
       "Fog                             56323\n",
       "Fog-Rain                        41804\n",
       "Rain-Thunderstorm               18116\n",
       "Rain-Snow                       14576\n",
       "Snow                            12541\n",
       "Fog-Rain-Thunderstorm            6545\n",
       "Fog-Snow                         2469\n",
       "Fog-Rain-Snow                    2364\n",
       "Thunderstorm                     1298\n",
       "Rain-Hail                        1148\n",
       "Rain-Snow-Hail                    513\n",
       "Fog-Rain-Snow-Hail                231\n",
       "Rain-Snow-Hail-Thunderstorm       193\n",
       "Fog-Rain-Hail-Thunderstorm        178\n",
       "Fog-Snow-Hail                     169\n",
       "Fog-Rain-Hail                     168\n",
       "Fog-Thunderstorm                  157\n",
       "Snow-Hail                         134\n",
       "Rain-Snow-Thunderstorm            131\n",
       "Rain-Hail-Thunderstorm             50\n",
       "Name: Events, dtype: int64"
      ]
     },
     "execution_count": 7,
     "metadata": {},
     "output_type": "execute_result"
    }
   ],
   "source": [
    "sales['Events'].value_counts()"
   ]
  },
  {
   "cell_type": "markdown",
   "metadata": {},
   "source": [
    "By this, we discover that when Event is null the weather is good, from the fact that Precipitationmm mean is almost 0.\n",
    "Furthermore, all the labels of Events are related to bad weather, that means that when no precipitation occurs the label is null.\n",
    "We will impute Event by replacing the missing values with \"Not Specified\" (later)."
   ]
  },
  {
   "cell_type": "markdown",
   "metadata": {},
   "source": [
    "Now we impute \"CloudCover\", making a distinction when it misses along with Events and when it misses on its own."
   ]
  },
  {
   "cell_type": "code",
   "execution_count": 8,
   "metadata": {},
   "outputs": [
    {
     "data": {
      "text/plain": [
       "((103661, 35), (103661, 35), (23264, 35))"
      ]
     },
     "execution_count": 8,
     "metadata": {},
     "output_type": "execute_result"
    }
   ],
   "source": [
    "null_Events = sales['Events'].isnull()\n",
    "null_CloudCover = sales['CloudCover'].isnull()\n",
    "cloudcover_missing = sales[(null_Events)]\n",
    "null_Events = sales['Events'].isnull()\n",
    "event_missing = sales[null_Events]\n",
    "event_cc_missing = sales[null_CloudCover & null_Events]\n",
    "cloudcover_missing.shape, event_missing.shape, event_cc_missing.shape \n"
   ]
  },
  {
   "cell_type": "markdown",
   "metadata": {},
   "source": [
    "There are 28k tuples where both \"Events\" and \"CloudCover\" are missing, that means that the weather should be good.\n",
    "for the remaining (41k-28k) (i.e. where \"Events\" is not null!) tuples we impute the CloudCoverage."
   ]
  },
  {
   "cell_type": "code",
   "execution_count": 9,
   "metadata": {},
   "outputs": [],
   "source": [
    "event_notmissing_cc_missing = sales[null_CloudCover & ~null_Events]\n",
    "#computing mean where CloudCover is not null\n",
    "mean_CC = sales[\"CloudCover\"].mean()\n",
    "event_notmissing_cc_missing[\"CloudCover\"] = event_notmissing_cc_missing[\"CloudCover\"].fillna(mean_CC)\n",
    "sales = pd.concat([sales[~null_CloudCover | null_Events], event_notmissing_cc_missing])"
   ]
  },
  {
   "cell_type": "markdown",
   "metadata": {},
   "source": [
    "Then, we impute the remaining rows with CloudCover missing"
   ]
  },
  {
   "cell_type": "code",
   "execution_count": 10,
   "metadata": {},
   "outputs": [],
   "source": [
    "null_Events = sales['Events'].isnull()\n",
    "CloudyButNotEvent = sales[null_Events]\n",
    "#there are some tuples with no Events but with the attribute CloudCover"
   ]
  },
  {
   "cell_type": "code",
   "execution_count": 11,
   "metadata": {},
   "outputs": [],
   "source": [
    "null_cloudCover = sales[sales['CloudCover'].isnull()]\n",
    "mean_cloudCover = sales[\"CloudCover\"].mean()\n",
    "null_cloudCover[\"CloudCover\"] = null_cloudCover[\"CloudCover\"].fillna(mean_cloudCover)\n",
    "\n",
    "sales = pd.concat([sales[~sales['CloudCover'].isnull()], null_cloudCover])"
   ]
  },
  {
   "cell_type": "markdown",
   "metadata": {},
   "source": [
    "Now, we impute min,max,mean_VisibilityKm. "
   ]
  },
  {
   "cell_type": "code",
   "execution_count": 12,
   "metadata": {},
   "outputs": [
    {
     "data": {
      "text/plain": [
       "Max_VisibilityKm     424700\n",
       "Mean_VisibilityKm    424700\n",
       "Min_VisibilitykM     424700\n",
       "dtype: int64"
      ]
     },
     "execution_count": 12,
     "metadata": {},
     "output_type": "execute_result"
    }
   ],
   "source": [
    "# checking if are all the same rows where visibility data are missing => yes, they are\n",
    "sales[[\"Max_VisibilityKm\", \"Mean_VisibilityKm\", \"Min_VisibilitykM\"]].count()"
   ]
  },
  {
   "cell_type": "code",
   "execution_count": 13,
   "metadata": {},
   "outputs": [],
   "source": [
    "null_visibility = sales[sales['Max_VisibilityKm'].isnull()]\n",
    "mean_vis_max = sales[\"Max_VisibilityKm\"].mean()\n",
    "mean_vis_mean = sales[\"Mean_VisibilityKm\"].mean()\n",
    "mean_vis_min = sales[\"Min_VisibilitykM\"].mean()\n",
    "\n",
    "null_visibility[\"Max_VisibilityKm\"] = null_visibility[\"Max_VisibilityKm\"].fillna(mean_vis_max)\n",
    "null_visibility[\"Mean_VisibilityKm\"] = null_visibility[\"Mean_VisibilityKm\"].fillna(mean_vis_mean)\n",
    "null_visibility[\"Min_VisibilitykM\"] = null_visibility[\"Min_VisibilitykM\"].fillna(mean_vis_min)\n",
    "\n",
    "sales = pd.concat([sales[~sales['Max_VisibilityKm'].isnull()], null_visibility])"
   ]
  },
  {
   "cell_type": "markdown",
   "metadata": {},
   "source": [
    "Finally, we impute \"Events\"."
   ]
  },
  {
   "cell_type": "code",
   "execution_count": 14,
   "metadata": {},
   "outputs": [],
   "source": [
    "sales=sales.replace(np.nan,'NotSpecified', regex=True)\n"
   ]
  },
  {
   "cell_type": "markdown",
   "metadata": {},
   "source": [
    "# Dealing with outliers"
   ]
  },
  {
   "cell_type": "code",
   "execution_count": 15,
   "metadata": {},
   "outputs": [
    {
     "data": {
      "text/plain": [
       "'#Winsorizing of  NearestCompetitor on 95th percentile\\n#Before\\navgSalesForCompDist=sales\\navgSalesForCompDist.groupby(\\'NearestCompetitor\\', as_index=False)[\\'NumberOfSales\\'].mean()\\nx = avgSalesForCompDist[\\'NearestCompetitor\\']\\ny = avgSalesForCompDist[\\'NumberOfSales\\']\\nfont = {\\'family\\' : \\'sans\\', \\'size\\'   : 16}\\nplt.figure(figsize=(20,10))\\nplt.rc(\\'font\\', **font)\\n#plt.ylim((1.75,7.25))\\n#plt.xlim((10,80))\\nplt.xlabel(\"NearestCompetitor\")\\nplt.ylabel(\"Average NumberOfSales\")\\nplt.scatter(x, y, color=\\'blue\\', marker=\\'o\\', s=5)\\nplt.grid()'"
      ]
     },
     "execution_count": 15,
     "metadata": {},
     "output_type": "execute_result"
    }
   ],
   "source": [
    "'''#Winsorizing of  NearestCompetitor on 95th percentile\n",
    "#Before\n",
    "avgSalesForCompDist=sales\n",
    "avgSalesForCompDist.groupby('NearestCompetitor', as_index=False)['NumberOfSales'].mean()\n",
    "x = avgSalesForCompDist['NearestCompetitor']\n",
    "y = avgSalesForCompDist['NumberOfSales']\n",
    "font = {'family' : 'sans', 'size'   : 16}\n",
    "plt.figure(figsize=(20,10))\n",
    "plt.rc('font', **font)\n",
    "#plt.ylim((1.75,7.25))\n",
    "#plt.xlim((10,80))\n",
    "plt.xlabel(\"NearestCompetitor\")\n",
    "plt.ylabel(\"Average NumberOfSales\")\n",
    "plt.scatter(x, y, color='blue', marker='o', s=5)\n",
    "plt.grid()'''"
   ]
  },
  {
   "cell_type": "code",
   "execution_count": 16,
   "metadata": {},
   "outputs": [],
   "source": [
    "#index1=np.where(sales['NearestCompetitor']>=NC95p)\n",
    "#sales['NearestCompetitor'][index1]\n",
    "\n",
    "NC95p=sales['NearestCompetitor'].quantile(.95)\n",
    "sales.loc[sales[\"NearestCompetitor\"]>NC95p,\"NearestCompetitor\"]=NC95p"
   ]
  },
  {
   "cell_type": "code",
   "execution_count": 17,
   "metadata": {},
   "outputs": [
    {
     "data": {
      "text/plain": [
       "'#Winsorizing of Precipitationmm on 95th percentile\\n#Before\\navgSalesForCompDist=sales\\navgSalesForCompDist.groupby(\\'Precipitationmm\\', as_index=False)[\\'NumberOfSales\\'].mean()\\nx = avgSalesForCompDist[\\'Precipitationmm\\']\\ny = avgSalesForCompDist[\\'NumberOfSales\\']\\nfont = {\\'family\\' : \\'sans\\', \\'size\\'   : 16}\\nplt.figure(figsize=(20,10))\\nplt.rc(\\'font\\', **font)\\n#plt.ylim((1.75,7.25))\\n#plt.xlim((10,80))\\nplt.xlabel(\"Precipitationmm\")\\nplt.ylabel(\"Average NumberOfSales\")\\nplt.scatter(x, y, color=\\'blue\\', marker=\\'o\\', s=5)\\nplt.grid()'"
      ]
     },
     "execution_count": 17,
     "metadata": {},
     "output_type": "execute_result"
    }
   ],
   "source": [
    "'''#Winsorizing of Precipitationmm on 95th percentile\n",
    "#Before\n",
    "avgSalesForCompDist=sales\n",
    "avgSalesForCompDist.groupby('Precipitationmm', as_index=False)['NumberOfSales'].mean()\n",
    "x = avgSalesForCompDist['Precipitationmm']\n",
    "y = avgSalesForCompDist['NumberOfSales']\n",
    "font = {'family' : 'sans', 'size'   : 16}\n",
    "plt.figure(figsize=(20,10))\n",
    "plt.rc('font', **font)\n",
    "#plt.ylim((1.75,7.25))\n",
    "#plt.xlim((10,80))\n",
    "plt.xlabel(\"Precipitationmm\")\n",
    "plt.ylabel(\"Average NumberOfSales\")\n",
    "plt.scatter(x, y, color='blue', marker='o', s=5)\n",
    "plt.grid()'''"
   ]
  },
  {
   "cell_type": "code",
   "execution_count": 18,
   "metadata": {},
   "outputs": [
    {
     "data": {
      "text/plain": [
       "11.94"
      ]
     },
     "execution_count": 18,
     "metadata": {},
     "output_type": "execute_result"
    }
   ],
   "source": [
    "temp=sales['Precipitationmm'].quantile(.99)\n",
    "sales.loc[sales[\"Precipitationmm\"]>temp,\"Precipitationmm\"]=temp\n",
    "temp"
   ]
  },
  {
   "cell_type": "code",
   "execution_count": 19,
   "metadata": {},
   "outputs": [
    {
     "data": {
      "text/plain": [
       "'#After\\navgSalesForCompDist=sales\\navgSalesForCompDist.groupby(\\'Precipitationmm\\', as_index=False)[\\'NumberOfSales\\'].mean()\\nx = avgSalesForCompDist[\\'Precipitationmm\\']\\ny = avgSalesForCompDist[\\'NumberOfSales\\']\\nfont = {\\'family\\' : \\'sans\\', \\'size\\'   : 16}\\nplt.figure(figsize=(20,10))\\nplt.rc(\\'font\\', **font)\\n#plt.ylim((1.75,7.25))\\n#plt.xlim((10,80))\\nplt.xlabel(\"Precipitationmm\")\\nplt.ylabel(\"Average NumberOfSales\")\\nplt.scatter(x, y, color=\\'blue\\', marker=\\'o\\', s=5)\\nplt.grid()'"
      ]
     },
     "execution_count": 19,
     "metadata": {},
     "output_type": "execute_result"
    }
   ],
   "source": [
    "'''#After\n",
    "avgSalesForCompDist=sales\n",
    "avgSalesForCompDist.groupby('Precipitationmm', as_index=False)['NumberOfSales'].mean()\n",
    "x = avgSalesForCompDist['Precipitationmm']\n",
    "y = avgSalesForCompDist['NumberOfSales']\n",
    "font = {'family' : 'sans', 'size'   : 16}\n",
    "plt.figure(figsize=(20,10))\n",
    "plt.rc('font', **font)\n",
    "#plt.ylim((1.75,7.25))\n",
    "#plt.xlim((10,80))\n",
    "plt.xlabel(\"Precipitationmm\")\n",
    "plt.ylabel(\"Average NumberOfSales\")\n",
    "plt.scatter(x, y, color='blue', marker='o', s=5)\n",
    "plt.grid()'''"
   ]
  },
  {
   "cell_type": "code",
   "execution_count": 20,
   "metadata": {},
   "outputs": [
    {
     "data": {
      "text/plain": [
       "50.0"
      ]
     },
     "execution_count": 20,
     "metadata": {},
     "output_type": "execute_result"
    }
   ],
   "source": [
    "temp=sales['Max_Wind_SpeedKm_h'].quantile(.99)\n",
    "sales.loc[sales[\"Max_Wind_SpeedKm_h\"]>temp,\"Max_Wind_SpeedKm_h\"]=temp\n",
    "temp"
   ]
  },
  {
   "cell_type": "code",
   "execution_count": 21,
   "metadata": {},
   "outputs": [
    {
     "data": {
      "text/plain": [
       "8.0"
      ]
     },
     "execution_count": 21,
     "metadata": {},
     "output_type": "execute_result"
    }
   ],
   "source": [
    "temp=sales['Max_Wind_SpeedKm_h'].quantile(.01)\n",
    "sales.loc[sales[\"Max_Wind_SpeedKm_h\"]<temp,\"Max_Wind_SpeedKm_h\"]=temp\n",
    "temp"
   ]
  },
  {
   "cell_type": "code",
   "execution_count": 22,
   "metadata": {},
   "outputs": [
    {
     "data": {
      "text/plain": [
       "32.0"
      ]
     },
     "execution_count": 22,
     "metadata": {},
     "output_type": "execute_result"
    }
   ],
   "source": [
    "temp=sales['Max_TemperatureC'].quantile(.99)\n",
    "sales.loc[sales[\"Max_TemperatureC\"]>temp,\"Max_TemperatureC\"]=temp\n",
    "temp"
   ]
  },
  {
   "cell_type": "code",
   "execution_count": 23,
   "metadata": {},
   "outputs": [
    {
     "data": {
      "text/plain": [
       "-2.0"
      ]
     },
     "execution_count": 23,
     "metadata": {},
     "output_type": "execute_result"
    }
   ],
   "source": [
    "temp=sales['Max_TemperatureC'].quantile(.01)\n",
    "sales.loc[sales[\"Max_TemperatureC\"]<temp,\"Max_TemperatureC\"]=temp\n",
    "temp"
   ]
  },
  {
   "cell_type": "code",
   "execution_count": 24,
   "metadata": {},
   "outputs": [],
   "source": [
    "x='Min_TemperatureC'\n",
    "temp=sales[x].quantile(.01)\n",
    "sales.loc[sales[x]<temp,x]=temp\n",
    "temp=sales[x].quantile(.99)\n",
    "sales.loc[sales[x]>temp,x]=temp"
   ]
  },
  {
   "cell_type": "code",
   "execution_count": 25,
   "metadata": {},
   "outputs": [],
   "source": [
    "x='Mean_Dew_PointC'\n",
    "temp=sales[x].quantile(.05)\n",
    "sales.loc[sales[x]<temp,x]=temp\n",
    "temp=sales[x].quantile(.98)\n",
    "sales.loc[sales[x]>temp,x]=temp"
   ]
  },
  {
   "cell_type": "code",
   "execution_count": 26,
   "metadata": {},
   "outputs": [],
   "source": [
    "x='Mean_Humidity'\n",
    "temp=sales[x].quantile(.01)\n",
    "sales.loc[sales[x]<temp,x]=temp\n",
    "temp=sales[x].quantile(.95)\n",
    "sales.loc[sales[x]>temp,x]=temp"
   ]
  },
  {
   "cell_type": "code",
   "execution_count": 27,
   "metadata": {},
   "outputs": [],
   "source": [
    "x='Min_VisibilitykM'\n",
    "temp=sales[x].quantile(.98)\n",
    "sales.loc[sales[x]>temp,x]=temp"
   ]
  },
  {
   "cell_type": "code",
   "execution_count": 28,
   "metadata": {},
   "outputs": [],
   "source": [
    "x='Min_Humidity'\n",
    "temp=sales[x].quantile(.02)\n",
    "sales.loc[sales[x]<temp,x]=temp\n",
    "temp=sales[x].quantile(.98)\n",
    "sales.loc[sales[x]>temp,x]=temp"
   ]
  },
  {
   "cell_type": "code",
   "execution_count": 29,
   "metadata": {},
   "outputs": [],
   "source": [
    "x='Mean_Wind_SpeedKm_h'\n",
    "temp=sales[x].quantile(.99)\n",
    "sales.loc[sales[x]>temp,x]=temp"
   ]
  },
  {
   "cell_type": "code",
   "execution_count": 30,
   "metadata": {},
   "outputs": [],
   "source": [
    "x='Mean_TemperatureC'\n",
    "temp=sales[x].quantile(.01)\n",
    "sales.loc[sales[x]<temp,x]=temp\n",
    "temp=sales[x].quantile(.99)\n",
    "sales.loc[sales[x]>temp,x]=temp"
   ]
  },
  {
   "cell_type": "code",
   "execution_count": 31,
   "metadata": {},
   "outputs": [],
   "source": [
    "x='Mean_VisibilityKm'\n",
    "temp=sales[x].quantile(.01)\n",
    "sales.loc[sales[x]<temp,x]=temp\n",
    "temp=sales[x].quantile(.95)\n",
    "sales.loc[sales[x]>temp,x]=temp"
   ]
  },
  {
   "cell_type": "code",
   "execution_count": 32,
   "metadata": {},
   "outputs": [],
   "source": [
    "#Min_Sea_Level_PressurehPa  ->dropparla\n",
    "#WindDirDegrees             -> inutile secondo me -> o la si categorizza in nord sud est ovest e la si fa con One Hot Encoding\n",
    "#x=\"\"\n",
    "#sales[x].describe()\n",
    "#sales[x].quantile(.01)\n",
    "#sales[x].quantile(.95)"
   ]
  },
  {
   "cell_type": "markdown",
   "metadata": {},
   "source": [
    "# Normalization of Numerical Variables"
   ]
  },
  {
   "cell_type": "code",
   "execution_count": 33,
   "metadata": {},
   "outputs": [],
   "source": [
    "from scipy.stats import skew\n",
    "\n",
    "# take the numerical features\n",
    "numeric_feats = sales.dtypes[sales.dtypes != \"object\"].index\n",
    "\n",
    "# compute the skewness but only for non missing variables (we already imputed them but just in case ...)\n",
    "skewed_feats = sales[numeric_feats].apply(lambda x: skew(x.dropna()))\n",
    "\n",
    "skewness = pd.DataFrame({\"Variable\":skewed_feats.index, \"Skewness\":skewed_feats.data})\n",
    "# select the variables with a skewness above a certain threshold"
   ]
  },
  {
   "cell_type": "code",
   "execution_count": 34,
   "metadata": {},
   "outputs": [
    {
     "data": {
      "text/plain": [
       "Text(0.5,1,'')"
      ]
     },
     "execution_count": 34,
     "metadata": {},
     "output_type": "execute_result"
    },
    {
     "data": {
      "image/png": "[encoded data removed]",
      "text/plain": [
       "<matplotlib.figure.Figure at 0x1a1be8ce48>"
      ]
     },
     "metadata": {},
     "output_type": "display_data"
    }
   ],
   "source": [
    "skewness = skewness.sort_values('Skewness', ascending=[0])\n",
    "\n",
    "f, ax = plt.subplots(figsize=(8,6))\n",
    "plt.xticks(rotation='90')\n",
    "sns.barplot(x=skewness['Variable'], y=skewness['Skewness'])\n",
    "plt.ylim(0,25)\n",
    "plt.xlabel('Numerical Variables', fontsize=15)\n",
    "plt.ylabel('Skewness', fontsize=15)\n",
    "plt.title('', fontsize=15)"
   ]
  },
  {
   "cell_type": "code",
   "execution_count": 35,
   "metadata": {},
   "outputs": [],
   "source": [
    "skewed_feats = skewed_feats[skewed_feats > 0.75]\n",
    "skewed_feats = skewed_feats.drop(['IsHoliday','NumberOfCustomers', 'NumberOfSales'])\n",
    "sales[skewed_feats.index] = np.log1p(sales[skewed_feats.index])"
   ]
  },
  {
   "cell_type": "markdown",
   "metadata": {},
   "source": [
    "We change the datatype of the 'StoreID' column into object."
   ]
  },
  {
   "cell_type": "code",
   "execution_count": 36,
   "metadata": {},
   "outputs": [],
   "source": [
    "sales['StoreID'] = sales['StoreID'].astype(object)"
   ]
  },
  {
   "cell_type": "markdown",
   "metadata": {},
   "source": [
    "# Correlation Analysis and Feature Selection"
   ]
  },
  {
   "cell_type": "code",
   "execution_count": 36,
   "metadata": {},
   "outputs": [
    {
     "data": {
      "text/plain": [
       "'categorical_variables_mask = (sales.dtypes==object) | (sales.columns == \"Day\") | (sales.columns == \"Month\") | (sales.columns == \"Year\") | (sales.columns == \"StoreID\") | (sales.columns == \"IsOpen\") | (sales.columns == \"IsHoliday\") | (sales.columns == \"HasPromotions\") | (sales.columns == \"Region\"  )\\ncategorical_variables = categorical_variables_mask.tolist()\\nnumerical_variables = sales.columns[~categorical_variables_mask]\\ncov=sales[numerical_variables].corr(method=\\'pearson\\')\\ncm = sns.clustermap(cov, annot=True, center=0, cmap=\"Blues\", figsize=(25, 25))\\ncm.cax.set_visible(False)'"
      ]
     },
     "execution_count": 36,
     "metadata": {},
     "output_type": "execute_result"
    }
   ],
   "source": [
    "'''categorical_variables_mask = (sales.dtypes==object) | (sales.columns == \"Day\") | (sales.columns == \"Month\") | (sales.columns == \"Year\") | (sales.columns == \"StoreID\") | (sales.columns == \"IsOpen\") | (sales.columns == \"IsHoliday\") | (sales.columns == \"HasPromotions\") | (sales.columns == \"Region\"  )\n",
    "categorical_variables = categorical_variables_mask.tolist()\n",
    "numerical_variables = sales.columns[~categorical_variables_mask]\n",
    "cov=sales[numerical_variables].corr(method='pearson')\n",
    "cm = sns.clustermap(cov, annot=True, center=0, cmap=\"Blues\", figsize=(25, 25))\n",
    "cm.cax.set_visible(False)'''"
   ]
  },
  {
   "cell_type": "markdown",
   "metadata": {},
   "source": [
    "By analyzing the correlation, we see that the following variables do not add any additional information. \n",
    "Max_Dew_PointC, Min_Dew_PointC, Max_Sea_Level_PressurehPa, Mean_Sea_Level_PressurehPa, Max_Gust_SpeedKm_h\n",
    "Finally, we drop 'NumberOfCustomers' because is not present in the submission dataset."
   ]
  },
  {
   "cell_type": "code",
   "execution_count": 37,
   "metadata": {},
   "outputs": [
    {
     "data": {
      "text/plain": [
       "(433958, 30)"
      ]
     },
     "execution_count": 37,
     "metadata": {},
     "output_type": "execute_result"
    }
   ],
   "source": [
    "sales=sales.drop(columns=['Max_Dew_PointC','Min_Dew_PointC','Max_Sea_Level_PressurehPa','Mean_Sea_Level_PressurehPa','Max_Gust_SpeedKm_h'])\n",
    "sales.shape"
   ]
  },
  {
   "cell_type": "markdown",
   "metadata": {},
   "source": [
    "Drop of the row where IsOpen==0"
   ]
  },
  {
   "cell_type": "markdown",
   "metadata": {},
   "source": [
    "Separating the last 2 months, and use those as a test set and comparing the total of the predicted values."
   ]
  },
  {
   "cell_type": "code",
   "execution_count": 39,
   "metadata": {},
   "outputs": [],
   "source": [
    "def AddMonthYearColumn(d):\n",
    "    d[\"MonthYear\"] = d[[\"Date\"]].applymap(lambda x : \"/\".join(x.split(\"/\")[1:])) # get the month\n",
    "    return d\n",
    "\n",
    "# return only the data in the months and years specified, passed as a list (e.g. [\"01/2017\",\"02/2017\"])\n",
    "def FilterMonthsYears(data, monthsYears):\n",
    "    d = AddMonthYearColumn(data)\n",
    "    mask =(d.columns==\"MonthYear\")\n",
    "    d = d[d[\"MonthYear\"].isin(monthsYears)]\n",
    "    return d[d.columns[~mask]]\n",
    "\n",
    "# return all the data except the ones in the months and years specified, passed as a list (e.g. [\"01/2017\",\"02/2017\"])\n",
    "def NegativeFilterMonthsYears(data, monthsYears):\n",
    "    d = AddMonthYearColumn(data)\n",
    "    mask =(d.columns==\"MonthYear\")\n",
    "    d = d[~d[\"MonthYear\"].isin(monthsYears)]\n",
    "    return d[d.columns[~mask]]"
   ]
  },
  {
   "cell_type": "code",
   "execution_count": 40,
   "metadata": {},
   "outputs": [],
   "source": [
    "sales = pd.get_dummies(sales, columns=['StoreType','Events','AssortmentType'])"
   ]
  },
  {
   "cell_type": "code",
   "execution_count": 41,
   "metadata": {},
   "outputs": [],
   "source": [
    "months_test = [\"01/2017\",\"02/2017\",\"01/2018\",\"02/2018\"]\n",
    "train = NegativeFilterMonthsYears(sales,months_test)\n",
    "test = FilterMonthsYears(sales,months_test)"
   ]
  },
  {
   "cell_type": "code",
   "execution_count": 42,
   "metadata": {},
   "outputs": [],
   "source": [
    "import datetime as d\n",
    "def toDate(x):\n",
    "    parts = [int(el) for el in x.split(\"/\")]\n",
    "    return d.date(parts[2], parts[1], parts[0])\n",
    "#sales[\"Date\"] = sales[\"Date\"].apply(toDate)\n",
    "#sales['Date'] = sales['Date'].astype(\"datetime64\")\n",
    "#sales['Day_Of_Week'] = sales['Date'].dt.weekday_name\n",
    "#sales=sales.drop(columns=['Date'])\n",
    "\n",
    "train[\"Date\"] = train[\"Date\"].apply(toDate)\n",
    "train['Date'] = train['Date'].astype(\"datetime64\")\n",
    "train['Day_Of_Week'] = train['Date'].dt.weekday_name\n",
    "train=train.drop(columns=['Date'])\n",
    "\n",
    "test[\"Date\"] = test[\"Date\"].apply(toDate)\n",
    "test['Date'] = test['Date'].astype(\"datetime64\")\n",
    "test['Day_Of_Week'] = test['Date'].dt.weekday_name\n",
    "test=test.drop(columns=['Date'])\n"
   ]
  },
  {
   "cell_type": "markdown",
   "metadata": {},
   "source": [
    "# One Hot Encoding of train and set"
   ]
  },
  {
   "cell_type": "code",
   "execution_count": 43,
   "metadata": {
    "scrolled": false
   },
   "outputs": [],
   "source": [
    "train = pd.get_dummies(train, columns=['Day_Of_Week'])\n",
    "test = pd.get_dummies(test, columns=['Day_Of_Week'])\n"
   ]
  },
  {
   "cell_type": "markdown",
   "metadata": {},
   "source": [
    "# First try: MultipleLinear Regression for Region 3"
   ]
  },
  {
   "cell_type": "markdown",
   "metadata": {},
   "source": [
    "We start by predicting the number of customers for Region 3"
   ]
  },
  {
   "cell_type": "code",
   "execution_count": 44,
   "metadata": {},
   "outputs": [
    {
     "data": {
      "text/plain": [
       "((46912, 62), (9190, 62))"
      ]
     },
     "execution_count": 44,
     "metadata": {},
     "output_type": "execute_result"
    }
   ],
   "source": [
    "train_region3= train.loc[train['Region'] == 3]\n",
    "test_region3= test.loc[test['Region'] == 3] \n",
    "train_region3.shape , test_region3.shape"
   ]
  },
  {
   "cell_type": "markdown",
   "metadata": {},
   "source": [
    "# STEP 1 : PREDICT THE NUMBER OF CUSTOMERS"
   ]
  },
  {
   "cell_type": "code",
   "execution_count": 45,
   "metadata": {},
   "outputs": [],
   "source": [
    "train_x_region3_step1 = train_region3.drop(columns=['NumberOfSales','NumberOfCustomers'])\n",
    "train_y_region3_step1 = pd.DataFrame(data = train_region3['NumberOfCustomers'])\n",
    "\n",
    "test_x_region3_step1 = test_region3.drop(columns=['NumberOfSales','NumberOfCustomers'])\n",
    "test_y_region3_step1 = pd.DataFrame(data = test_region3['NumberOfCustomers']) "
   ]
  },
  {
   "cell_type": "code",
   "execution_count": 46,
   "metadata": {},
   "outputs": [],
   "source": [
    "from sklearn.linear_model import LinearRegression, Ridge, RidgeCV, ElasticNet, Lasso, LassoCV\n",
    "from sklearn.model_selection import cross_val_score\n",
    "from sklearn.model_selection import KFold\n",
    "from sklearn.metrics import r2_score\n",
    "from sklearn.metrics import mean_squared_error\n",
    "\n",
    "\n",
    "def r2_cv(model, sales_train, y, random_state=12345678):\n",
    "    r2= cross_val_score(model, sales_train, y, scoring=\"r2\", cv =KFold(10, shuffle=True, random_state=random_state)) \n",
    "    return(r2)\n",
    "\n",
    "def rmse_cv(model, sales_train, y, random_state=12345678):\n",
    "    rmse= np.sqrt(-cross_val_score(model, sales_train, y, scoring=\"neg_mean_squared_error\", cv =KFold(10, shuffle=True, random_state=random_state)))\n",
    "    return(rmse)"
   ]
  },
  {
   "cell_type": "code",
   "execution_count": 47,
   "metadata": {},
   "outputs": [
    {
     "name": "stdout",
     "output_type": "stream",
     "text": [
      "Linear Regression\n",
      "==================================================\n",
      "\t                  Train R2=0.758\n",
      "\t10-fold Crossvalidation R2=0.872\n",
      "\t                  Train RMSE=7693.767\n",
      "\t10-fold Crossvalidation RMSE=63.377\n"
     ]
    }
   ],
   "source": [
    "from sklearn.tree import DecisionTreeRegressor\n",
    "model_simple = DecisionTreeRegressor()\n",
    "model_simple.fit(train_x_region3_step1, train_y_region3_step1)\n",
    "yp = model_simple.predict(test_x_region3_step1) #yp=predicted customers del test\n",
    "\n",
    "# compute R2 for train and using crossvalidation\n",
    "r2_simple_train = r2_score(test_y_region3_step1,yp)\n",
    "r2_xval_simple =  r2_cv(model_simple, test_x_region3_step1, test_y_region3_step1)\n",
    "\n",
    "# compute RMSE for train and using crossvalidation\n",
    "rmse_simple_train = mean_squared_error(test_y_region3_step1,yp,multioutput='raw_values')\n",
    "rmse_xval_simple =  rmse_cv(model_simple, test_x_region3_step1,test_y_region3_step1)\n",
    "\n",
    "print(\"Linear Regression\")\n",
    "print(\"==================================================\")\n",
    "print(\"\\t                  Train R2=%.3f\"%(r2_simple_train))\n",
    "print(\"\\t10-fold Crossvalidation R2=%.3f\"%(r2_xval_simple.mean()))\n",
    "print(\"\\t                  Train RMSE=%.3f\"%(rmse_simple_train))\n",
    "print(\"\\t10-fold Crossvalidation RMSE=%.3f\"%(rmse_xval_simple.mean()))"
   ]
  },
  {
   "cell_type": "markdown",
   "metadata": {},
   "source": [
    "# STEP 2 : PREDICT THE NUMBER OF SALES"
   ]
  },
  {
   "cell_type": "code",
   "execution_count": 61,
   "metadata": {},
   "outputs": [],
   "source": [
    "training_fed = NegativeFilterMonthsYears(sales, months_test)\n",
    "train_x_step2 = training_fed.drop(columns=['NumberOfSales'])\n",
    "train_y_step2 = pd.DataFrame(data = training_fed['NumberOfSales'])\n",
    "\n",
    "\n",
    "test_x_region3_step2 = test_region3.drop(columns=['NumberOfSales','NumberOfCustomers'])\n",
    "test_x_region3_step2['NumberOfCustomers']= yp\n",
    "\n",
    "test_y_region3_step2 = pd.DataFrame(data = test_region3['NumberOfSales']) "
   ]
  },
  {
   "cell_type": "markdown",
   "metadata": {},
   "source": [
    "We keep only the most correlated features with the sales."
   ]
  },
  {
   "cell_type": "code",
   "execution_count": 62,
   "metadata": {},
   "outputs": [],
   "source": [
    "train_x_step2 = train_x_step2[['NumberOfCustomers','Region_AreaKM2','HasPromotions','IsHoliday','Region_GDP']]\n",
    "test_x_region3_step2 = test_x_region3_step2[['NumberOfCustomers','Region_AreaKM2','HasPromotions','IsHoliday','Region_GDP']]"
   ]
  },
  {
   "cell_type": "code",
   "execution_count": 63,
   "metadata": {},
   "outputs": [],
   "source": [
    "from sklearn.ensemble import GradientBoostingRegressor\n",
    "model_simple_step2 = GradientBoostingRegressor()\n",
    "model_simple_step2.fit(train_x_step2, train_y_step2)\n",
    "yp2 = model_simple_step2.predict(test_x_region3_step2) #yp2= le sales predette alla fine"
   ]
  },
  {
   "cell_type": "markdown",
   "metadata": {},
   "source": [
    "Thumb-metric: compare the error over the sum of sales."
   ]
  },
  {
   "cell_type": "code",
   "execution_count": 64,
   "metadata": {},
   "outputs": [
    {
     "data": {
      "text/plain": [
       "NumberOfSales    0.055117\n",
       "dtype: float64"
      ]
     },
     "execution_count": 64,
     "metadata": {},
     "output_type": "execute_result"
    }
   ],
   "source": [
    "np.abs((test_y_region3_step2.sum() - np.sum(yp2))/test_y_region3_step2.sum())"
   ]
  },
  {
   "cell_type": "code",
   "execution_count": 65,
   "metadata": {},
   "outputs": [],
   "source": [
    "#test_y_region3_step2.sum(),np.sum(yp2)"
   ]
  },
  {
   "cell_type": "code",
   "execution_count": 67,
   "metadata": {},
   "outputs": [
    {
     "name": "stdout",
     "output_type": "stream",
     "text": [
      "Linear Regression\n",
      "==================================================\n",
      "\t                  Train R2=0.135\n",
      "\t10-fold Crossvalidation R2=0.160\n",
      "\t                  Train RMSE=5733080.841\n",
      "\t10-fold Crossvalidation RMSE=2356.987\n"
     ]
    }
   ],
   "source": [
    "# compute R2 for train and using crossvalidation\n",
    "r2_simple_train = r2_score(test_y_region3_step2,yp2)\n",
    "r2_xval_simple =  r2_cv(model_simple_step2, test_x_region3_step2, test_y_region3_step2)\n",
    "\n",
    "# compute RMSE for train and using crossvalidation\n",
    "rmse_simple_train = mean_squared_error(test_y_region3_step2, yp2, multioutput='raw_values')\n",
    "rmse_xval_simple =  rmse_cv(model_simple_step2, test_x_region3_step2, test_y_region3_step2)\n",
    "\n",
    "print(\"Linear Regression\")\n",
    "print(\"==================================================\")\n",
    "print(\"\\t                  Train R2=%.3f\"%(r2_simple_train))\n",
    "print(\"\\t10-fold Crossvalidation R2=%.3f\"%(r2_xval_simple.mean()))\n",
    "print(\"\\t                  Train RMSE=%.3f\"%(rmse_simple_train))\n",
    "print(\"\\t10-fold Crossvalidation RMSE=%.3f\"%(rmse_xval_simple.mean()))"
   ]
  },
  {
   "cell_type": "code",
   "execution_count": 53,
   "metadata": {},
   "outputs": [
    {
     "data": {
      "text/plain": [
       "0.33044997020876793"
      ]
     },
     "execution_count": 53,
     "metadata": {},
     "output_type": "execute_result"
    }
   ],
   "source": [
    "def RegionError(region, data):\n",
    "    d = data[data[\"Region\"] == region][[\"NumberOfActualSales\", \"NumberOfSales\"]]\n",
    "    res = abs(d[\"NumberOfActualSales\"]-d[\"NumberOfSales\"]).agg(\"sum\")\n",
    "    return res / d[\"NumberOfActualSales\"].agg(\"sum\")\n",
    "check = pd.DataFrame(test_y_region3_step2)\n",
    "check[\"Region\"] = 3\n",
    "check[\"NumberOfActualSales\"] = test_y_region3_step2[[\"NumberOfSales\"]]\n",
    "check[\"NumberOfSales\"] = yp2\n",
    "\n",
    "RegionError(3, check)"
   ]
  }
 ],
 "metadata": {
  "kernelspec": {
   "display_name": "Python 3",
   "language": "python",
   "name": "python3"
  },
  "language_info": {
   "codemirror_mode": {
    "name": "ipython",
    "version": 3
   },
   "file_extension": ".py",
   "mimetype": "text/x-python",
   "name": "python",
   "nbconvert_exporter": "python",
   "pygments_lexer": "ipython3",
   "version": "3.6.4"
  }
 },
 "nbformat": 4,
 "nbformat_minor": 2
}
