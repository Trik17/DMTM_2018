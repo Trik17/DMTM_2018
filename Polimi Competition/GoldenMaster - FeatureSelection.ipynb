{
 "cells": [
  {
   "cell_type": "code",
   "execution_count": 1,
   "metadata": {},
   "outputs": [
    {
     "data": {
      "text/html": [
       "\n",
       "    <div class=\"bk-root\">\n",
       "        <a href=\"https://bokeh.pydata.org\" target=\"_blank\" class=\"bk-logo bk-logo-small bk-logo-notebook\"></a>\n",
       "        <span id=\"190bc86d-2a0c-43a4-b57b-562d26f61a80\">Loading BokehJS ...</span>\n",
       "    </div>"
      ]
     },
     "metadata": {},
     "output_type": "display_data"
    },
    {
     "data": {
      "application/javascript": [
       "\n",
       "(function(root) {\n",
       "  function now() {\n",
       "    return new Date();\n",
       "  }\n",
       "\n",
       "  var force = true;\n",
       "\n",
       "  if (typeof (root._bokeh_onload_callbacks) === \"undefined\" || force === true) {\n",
       "    root._bokeh_onload_callbacks = [];\n",
       "    root._bokeh_is_loading = undefined;\n",
       "  }\n",
       "\n",
       "  var JS_MIME_TYPE = 'application/javascript';\n",
       "  var HTML_MIME_TYPE = 'text/html';\n",
       "  var EXEC_MIME_TYPE = 'application/vnd.bokehjs_exec.v0+json';\n",
       "  var CLASS_NAME = 'output_bokeh rendered_html';\n",
       "\n",
       "  /**\n",
       "   * Render data to the DOM node\n",
       "   */\n",
       "  function render(props, node) {\n",
       "    var script = document.createElement(\"script\");\n",
       "    node.appendChild(script);\n",
       "  }\n",
       "\n",
       "  /**\n",
       "   * Handle when an output is cleared or removed\n",
       "   */\n",
       "  function handleClearOutput(event, handle) {\n",
       "    var cell = handle.cell;\n",
       "\n",
       "    var id = cell.output_area._bokeh_element_id;\n",
       "    var server_id = cell.output_area._bokeh_server_id;\n",
       "    // Clean up Bokeh references\n",
       "    if (id !== undefined) {\n",
       "      Bokeh.index[id].model.document.clear();\n",
       "      delete Bokeh.index[id];\n",
       "    }\n",
       "\n",
       "    if (server_id !== undefined) {\n",
       "      // Clean up Bokeh references\n",
       "      var cmd = \"from bokeh.io.state import curstate; print(curstate().uuid_to_server['\" + server_id + \"'].get_sessions()[0].document.roots[0]._id)\";\n",
       "      cell.notebook.kernel.execute(cmd, {\n",
       "        iopub: {\n",
       "          output: function(msg) {\n",
       "            var element_id = msg.content.text.trim();\n",
       "            Bokeh.index[element_id].model.document.clear();\n",
       "            delete Bokeh.index[element_id];\n",
       "          }\n",
       "        }\n",
       "      });\n",
       "      // Destroy server and session\n",
       "      var cmd = \"import bokeh.io.notebook as ion; ion.destroy_server('\" + server_id + \"')\";\n",
       "      cell.notebook.kernel.execute(cmd);\n",
       "    }\n",
       "  }\n",
       "\n",
       "  /**\n",
       "   * Handle when a new output is added\n",
       "   */\n",
       "  function handleAddOutput(event, handle) {\n",
       "    var output_area = handle.output_area;\n",
       "    var output = handle.output;\n",
       "\n",
       "    // limit handleAddOutput to display_data with EXEC_MIME_TYPE content only\n",
       "    if ((output.output_type != \"display_data\") || (!output.data.hasOwnProperty(EXEC_MIME_TYPE))) {\n",
       "      return\n",
       "    }\n",
       "\n",
       "    var toinsert = output_area.element.find(\".\" + CLASS_NAME.split(' ')[0]);\n",
       "\n",
       "    if (output.metadata[EXEC_MIME_TYPE][\"id\"] !== undefined) {\n",
       "      toinsert[0].firstChild.textContent = output.data[JS_MIME_TYPE];\n",
       "      // store reference to embed id on output_area\n",
       "      output_area._bokeh_element_id = output.metadata[EXEC_MIME_TYPE][\"id\"];\n",
       "    }\n",
       "    if (output.metadata[EXEC_MIME_TYPE][\"server_id\"] !== undefined) {\n",
       "      var bk_div = document.createElement(\"div\");\n",
       "      bk_div.innerHTML = output.data[HTML_MIME_TYPE];\n",
       "      var script_attrs = bk_div.children[0].attributes;\n",
       "      for (var i = 0; i < script_attrs.length; i++) {\n",
       "        toinsert[0].firstChild.setAttribute(script_attrs[i].name, script_attrs[i].value);\n",
       "      }\n",
       "      // store reference to server id on output_area\n",
       "      output_area._bokeh_server_id = output.metadata[EXEC_MIME_TYPE][\"server_id\"];\n",
       "    }\n",
       "  }\n",
       "\n",
       "  function register_renderer(events, OutputArea) {\n",
       "\n",
       "    function append_mime(data, metadata, element) {\n",
       "      // create a DOM node to render to\n",
       "      var toinsert = this.create_output_subarea(\n",
       "        metadata,\n",
       "        CLASS_NAME,\n",
       "        EXEC_MIME_TYPE\n",
       "      );\n",
       "      this.keyboard_manager.register_events(toinsert);\n",
       "      // Render to node\n",
       "      var props = {data: data, metadata: metadata[EXEC_MIME_TYPE]};\n",
       "      render(props, toinsert[0]);\n",
       "      element.append(toinsert);\n",
       "      return toinsert\n",
       "    }\n",
       "\n",
       "    /* Handle when an output is cleared or removed */\n",
       "    events.on('clear_output.CodeCell', handleClearOutput);\n",
       "    events.on('delete.Cell', handleClearOutput);\n",
       "\n",
       "    /* Handle when a new output is added */\n",
       "    events.on('output_added.OutputArea', handleAddOutput);\n",
       "\n",
       "    /**\n",
       "     * Register the mime type and append_mime function with output_area\n",
       "     */\n",
       "    OutputArea.prototype.register_mime_type(EXEC_MIME_TYPE, append_mime, {\n",
       "      /* Is output safe? */\n",
       "      safe: true,\n",
       "      /* Index of renderer in `output_area.display_order` */\n",
       "      index: 0\n",
       "    });\n",
       "  }\n",
       "\n",
       "  // register the mime type if in Jupyter Notebook environment and previously unregistered\n",
       "  if (root.Jupyter !== undefined) {\n",
       "    var events = require('base/js/events');\n",
       "    var OutputArea = require('notebook/js/outputarea').OutputArea;\n",
       "\n",
       "    if (OutputArea.prototype.mime_types().indexOf(EXEC_MIME_TYPE) == -1) {\n",
       "      register_renderer(events, OutputArea);\n",
       "    }\n",
       "  }\n",
       "\n",
       "  \n",
       "  if (typeof (root._bokeh_timeout) === \"undefined\" || force === true) {\n",
       "    root._bokeh_timeout = Date.now() + 5000;\n",
       "    root._bokeh_failed_load = false;\n",
       "  }\n",
       "\n",
       "  var NB_LOAD_WARNING = {'data': {'text/html':\n",
       "     \"<div style='background-color: #fdd'>\\n\"+\n",
       "     \"<p>\\n\"+\n",
       "     \"BokehJS does not appear to have successfully loaded. If loading BokehJS from CDN, this \\n\"+\n",
       "     \"may be due to a slow or bad network connection. Possible fixes:\\n\"+\n",
       "     \"</p>\\n\"+\n",
       "     \"<ul>\\n\"+\n",
       "     \"<li>re-rerun `output_notebook()` to attempt to load from CDN again, or</li>\\n\"+\n",
       "     \"<li>use INLINE resources instead, as so:</li>\\n\"+\n",
       "     \"</ul>\\n\"+\n",
       "     \"<code>\\n\"+\n",
       "     \"from bokeh.resources import INLINE\\n\"+\n",
       "     \"output_notebook(resources=INLINE)\\n\"+\n",
       "     \"</code>\\n\"+\n",
       "     \"</div>\"}};\n",
       "\n",
       "  function display_loaded() {\n",
       "    var el = document.getElementById(\"190bc86d-2a0c-43a4-b57b-562d26f61a80\");\n",
       "    if (el != null) {\n",
       "      el.textContent = \"BokehJS is loading...\";\n",
       "    }\n",
       "    if (root.Bokeh !== undefined) {\n",
       "      if (el != null) {\n",
       "        el.textContent = \"BokehJS \" + root.Bokeh.version + \" successfully loaded.\";\n",
       "      }\n",
       "    } else if (Date.now() < root._bokeh_timeout) {\n",
       "      setTimeout(display_loaded, 100)\n",
       "    }\n",
       "  }\n",
       "\n",
       "\n",
       "  function run_callbacks() {\n",
       "    try {\n",
       "      root._bokeh_onload_callbacks.forEach(function(callback) { callback() });\n",
       "    }\n",
       "    finally {\n",
       "      delete root._bokeh_onload_callbacks\n",
       "    }\n",
       "    console.info(\"Bokeh: all callbacks have finished\");\n",
       "  }\n",
       "\n",
       "  function load_libs(js_urls, callback) {\n",
       "    root._bokeh_onload_callbacks.push(callback);\n",
       "    if (root._bokeh_is_loading > 0) {\n",
       "      console.log(\"Bokeh: BokehJS is being loaded, scheduling callback at\", now());\n",
       "      return null;\n",
       "    }\n",
       "    if (js_urls == null || js_urls.length === 0) {\n",
       "      run_callbacks();\n",
       "      return null;\n",
       "    }\n",
       "    console.log(\"Bokeh: BokehJS not loaded, scheduling load and callback at\", now());\n",
       "    root._bokeh_is_loading = js_urls.length;\n",
       "    for (var i = 0; i < js_urls.length; i++) {\n",
       "      var url = js_urls[i];\n",
       "      var s = document.createElement('script');\n",
       "      s.src = url;\n",
       "      s.async = false;\n",
       "      s.onreadystatechange = s.onload = function() {\n",
       "        root._bokeh_is_loading--;\n",
       "        if (root._bokeh_is_loading === 0) {\n",
       "          console.log(\"Bokeh: all BokehJS libraries loaded\");\n",
       "          run_callbacks()\n",
       "        }\n",
       "      };\n",
       "      s.onerror = function() {\n",
       "        console.warn(\"failed to load library \" + url);\n",
       "      };\n",
       "      console.log(\"Bokeh: injecting script tag for BokehJS library: \", url);\n",
       "      document.getElementsByTagName(\"head\")[0].appendChild(s);\n",
       "    }\n",
       "  };var element = document.getElementById(\"190bc86d-2a0c-43a4-b57b-562d26f61a80\");\n",
       "  if (element == null) {\n",
       "    console.log(\"Bokeh: ERROR: autoload.js configured with elementid '190bc86d-2a0c-43a4-b57b-562d26f61a80' but no matching script tag was found. \")\n",
       "    return false;\n",
       "  }\n",
       "\n",
       "  var js_urls = [\"https://cdn.pydata.org/bokeh/release/bokeh-0.12.13.min.js\", \"https://cdn.pydata.org/bokeh/release/bokeh-widgets-0.12.13.min.js\", \"https://cdn.pydata.org/bokeh/release/bokeh-tables-0.12.13.min.js\", \"https://cdn.pydata.org/bokeh/release/bokeh-gl-0.12.13.min.js\"];\n",
       "\n",
       "  var inline_js = [\n",
       "    function(Bokeh) {\n",
       "      Bokeh.set_log_level(\"info\");\n",
       "    },\n",
       "    \n",
       "    function(Bokeh) {\n",
       "      \n",
       "    },\n",
       "    function(Bokeh) {\n",
       "      console.log(\"Bokeh: injecting CSS: https://cdn.pydata.org/bokeh/release/bokeh-0.12.13.min.css\");\n",
       "      Bokeh.embed.inject_css(\"https://cdn.pydata.org/bokeh/release/bokeh-0.12.13.min.css\");\n",
       "      console.log(\"Bokeh: injecting CSS: https://cdn.pydata.org/bokeh/release/bokeh-widgets-0.12.13.min.css\");\n",
       "      Bokeh.embed.inject_css(\"https://cdn.pydata.org/bokeh/release/bokeh-widgets-0.12.13.min.css\");\n",
       "      console.log(\"Bokeh: injecting CSS: https://cdn.pydata.org/bokeh/release/bokeh-tables-0.12.13.min.css\");\n",
       "      Bokeh.embed.inject_css(\"https://cdn.pydata.org/bokeh/release/bokeh-tables-0.12.13.min.css\");\n",
       "    }\n",
       "  ];\n",
       "\n",
       "  function run_inline_js() {\n",
       "    \n",
       "    if ((root.Bokeh !== undefined) || (force === true)) {\n",
       "      for (var i = 0; i < inline_js.length; i++) {\n",
       "        inline_js[i].call(root, root.Bokeh);\n",
       "      }if (force === true) {\n",
       "        display_loaded();\n",
       "      }} else if (Date.now() < root._bokeh_timeout) {\n",
       "      setTimeout(run_inline_js, 100);\n",
       "    } else if (!root._bokeh_failed_load) {\n",
       "      console.log(\"Bokeh: BokehJS failed to load within specified timeout.\");\n",
       "      root._bokeh_failed_load = true;\n",
       "    } else if (force !== true) {\n",
       "      var cell = $(document.getElementById(\"190bc86d-2a0c-43a4-b57b-562d26f61a80\")).parents('.cell').data().cell;\n",
       "      cell.output_area.append_execute_result(NB_LOAD_WARNING)\n",
       "    }\n",
       "\n",
       "  }\n",
       "\n",
       "  if (root._bokeh_is_loading === 0) {\n",
       "    console.log(\"Bokeh: BokehJS loaded, going straight to plotting\");\n",
       "    run_inline_js();\n",
       "  } else {\n",
       "    load_libs(js_urls, function() {\n",
       "      console.log(\"Bokeh: BokehJS plotting callback run at\", now());\n",
       "      run_inline_js();\n",
       "    });\n",
       "  }\n",
       "}(window));"
      ],
      "application/vnd.bokehjs_load.v0+json": "\n(function(root) {\n  function now() {\n    return new Date();\n  }\n\n  var force = true;\n\n  if (typeof (root._bokeh_onload_callbacks) === \"undefined\" || force === true) {\n    root._bokeh_onload_callbacks = [];\n    root._bokeh_is_loading = undefined;\n  }\n\n  \n\n  \n  if (typeof (root._bokeh_timeout) === \"undefined\" || force === true) {\n    root._bokeh_timeout = Date.now() + 5000;\n    root._bokeh_failed_load = false;\n  }\n\n  var NB_LOAD_WARNING = {'data': {'text/html':\n     \"<div style='background-color: #fdd'>\\n\"+\n     \"<p>\\n\"+\n     \"BokehJS does not appear to have successfully loaded. If loading BokehJS from CDN, this \\n\"+\n     \"may be due to a slow or bad network connection. Possible fixes:\\n\"+\n     \"</p>\\n\"+\n     \"<ul>\\n\"+\n     \"<li>re-rerun `output_notebook()` to attempt to load from CDN again, or</li>\\n\"+\n     \"<li>use INLINE resources instead, as so:</li>\\n\"+\n     \"</ul>\\n\"+\n     \"<code>\\n\"+\n     \"from bokeh.resources import INLINE\\n\"+\n     \"output_notebook(resources=INLINE)\\n\"+\n     \"</code>\\n\"+\n     \"</div>\"}};\n\n  function display_loaded() {\n    var el = document.getElementById(\"190bc86d-2a0c-43a4-b57b-562d26f61a80\");\n    if (el != null) {\n      el.textContent = \"BokehJS is loading...\";\n    }\n    if (root.Bokeh !== undefined) {\n      if (el != null) {\n        el.textContent = \"BokehJS \" + root.Bokeh.version + \" successfully loaded.\";\n      }\n    } else if (Date.now() < root._bokeh_timeout) {\n      setTimeout(display_loaded, 100)\n    }\n  }\n\n\n  function run_callbacks() {\n    try {\n      root._bokeh_onload_callbacks.forEach(function(callback) { callback() });\n    }\n    finally {\n      delete root._bokeh_onload_callbacks\n    }\n    console.info(\"Bokeh: all callbacks have finished\");\n  }\n\n  function load_libs(js_urls, callback) {\n    root._bokeh_onload_callbacks.push(callback);\n    if (root._bokeh_is_loading > 0) {\n      console.log(\"Bokeh: BokehJS is being loaded, scheduling callback at\", now());\n      return null;\n    }\n    if (js_urls == null || js_urls.length === 0) {\n      run_callbacks();\n      return null;\n    }\n    console.log(\"Bokeh: BokehJS not loaded, scheduling load and callback at\", now());\n    root._bokeh_is_loading = js_urls.length;\n    for (var i = 0; i < js_urls.length; i++) {\n      var url = js_urls[i];\n      var s = document.createElement('script');\n      s.src = url;\n      s.async = false;\n      s.onreadystatechange = s.onload = function() {\n        root._bokeh_is_loading--;\n        if (root._bokeh_is_loading === 0) {\n          console.log(\"Bokeh: all BokehJS libraries loaded\");\n          run_callbacks()\n        }\n      };\n      s.onerror = function() {\n        console.warn(\"failed to load library \" + url);\n      };\n      console.log(\"Bokeh: injecting script tag for BokehJS library: \", url);\n      document.getElementsByTagName(\"head\")[0].appendChild(s);\n    }\n  };var element = document.getElementById(\"190bc86d-2a0c-43a4-b57b-562d26f61a80\");\n  if (element == null) {\n    console.log(\"Bokeh: ERROR: autoload.js configured with elementid '190bc86d-2a0c-43a4-b57b-562d26f61a80' but no matching script tag was found. \")\n    return false;\n  }\n\n  var js_urls = [\"https://cdn.pydata.org/bokeh/release/bokeh-0.12.13.min.js\", \"https://cdn.pydata.org/bokeh/release/bokeh-widgets-0.12.13.min.js\", \"https://cdn.pydata.org/bokeh/release/bokeh-tables-0.12.13.min.js\", \"https://cdn.pydata.org/bokeh/release/bokeh-gl-0.12.13.min.js\"];\n\n  var inline_js = [\n    function(Bokeh) {\n      Bokeh.set_log_level(\"info\");\n    },\n    \n    function(Bokeh) {\n      \n    },\n    function(Bokeh) {\n      console.log(\"Bokeh: injecting CSS: https://cdn.pydata.org/bokeh/release/bokeh-0.12.13.min.css\");\n      Bokeh.embed.inject_css(\"https://cdn.pydata.org/bokeh/release/bokeh-0.12.13.min.css\");\n      console.log(\"Bokeh: injecting CSS: https://cdn.pydata.org/bokeh/release/bokeh-widgets-0.12.13.min.css\");\n      Bokeh.embed.inject_css(\"https://cdn.pydata.org/bokeh/release/bokeh-widgets-0.12.13.min.css\");\n      console.log(\"Bokeh: injecting CSS: https://cdn.pydata.org/bokeh/release/bokeh-tables-0.12.13.min.css\");\n      Bokeh.embed.inject_css(\"https://cdn.pydata.org/bokeh/release/bokeh-tables-0.12.13.min.css\");\n    }\n  ];\n\n  function run_inline_js() {\n    \n    if ((root.Bokeh !== undefined) || (force === true)) {\n      for (var i = 0; i < inline_js.length; i++) {\n        inline_js[i].call(root, root.Bokeh);\n      }if (force === true) {\n        display_loaded();\n      }} else if (Date.now() < root._bokeh_timeout) {\n      setTimeout(run_inline_js, 100);\n    } else if (!root._bokeh_failed_load) {\n      console.log(\"Bokeh: BokehJS failed to load within specified timeout.\");\n      root._bokeh_failed_load = true;\n    } else if (force !== true) {\n      var cell = $(document.getElementById(\"190bc86d-2a0c-43a4-b57b-562d26f61a80\")).parents('.cell').data().cell;\n      cell.output_area.append_execute_result(NB_LOAD_WARNING)\n    }\n\n  }\n\n  if (root._bokeh_is_loading === 0) {\n    console.log(\"Bokeh: BokehJS loaded, going straight to plotting\");\n    run_inline_js();\n  } else {\n    load_libs(js_urls, function() {\n      console.log(\"Bokeh: BokehJS plotting callback run at\", now());\n      run_inline_js();\n    });\n  }\n}(window));"
     },
     "metadata": {},
     "output_type": "display_data"
    }
   ],
   "source": [
    "# dataframe management\n",
    "import pandas as pd             \n",
    "\n",
    "# numerical computation\n",
    "import numpy as np\n",
    "\n",
    "# visualization library\n",
    "import seaborn as sns\n",
    "sns.set(style=\"white\", color_codes=True)\n",
    "sns.set_context(rc={\"font.family\":'sans',\"font.size\":24,\"axes.titlesize\":24,\"axes.labelsize\":24})   \n",
    "\n",
    "\n",
    "# import matplotlib and allow it to plot inline\n",
    "import matplotlib.pyplot as plt\n",
    "%matplotlib inline\n",
    "\n",
    "# seaborn can generate several warnings, we ignore them\n",
    "import warnings \n",
    "warnings.filterwarnings(\"ignore\")\n",
    "\n",
    "from bokeh.layouts import gridplot\n",
    "from bokeh.plotting import figure\n",
    "\n",
    "from bokeh.io import output_notebook, show\n",
    "from bokeh.models import ColumnDataSource\n",
    "output_notebook()\n",
    "from datetime import datetime, timedelta\n",
    "from datetime import date\n",
    "from scipy.stats import skew\n",
    "\n",
    "from sklearn.linear_model import LinearRegression, Ridge, RidgeCV, ElasticNet, Lasso, LassoCV\n",
    "from sklearn.tree import DecisionTreeRegressor\n",
    "from sklearn.model_selection import cross_val_score\n",
    "from sklearn.model_selection import KFold\n",
    "from sklearn.metrics import r2_score\n",
    "from sklearn.metrics import mean_squared_error\n",
    "from sklearn.ensemble import RandomForestRegressor,AdaBoostRegressor\n",
    "\n",
    "from sklearn.datasets import load_boston\n",
    "import pandas as pd\n",
    "import numpy as np\n",
    "import statsmodels.api as sm\n"
   ]
  },
  {
   "cell_type": "markdown",
   "metadata": {},
   "source": [
    "# Functions definitions"
   ]
  },
  {
   "cell_type": "code",
   "execution_count": 2,
   "metadata": {},
   "outputs": [],
   "source": [
    "def toDate(x):\n",
    "    parts = [int(el) for el in x.split(\"/\")]\n",
    "    return date(parts[2], parts[1], parts[0])\n",
    "\n",
    "def r2_cv(model, sales_train, y, random_state=12345678):\n",
    "    r2= cross_val_score(model, sales_train, y, scoring=\"r2\", cv =KFold(10, shuffle=True, random_state=random_state)) \n",
    "    return(r2)\n",
    "\n",
    "def rmse_cv(model, sales_train, y, random_state=12345678):\n",
    "    rmse= np.sqrt(-cross_val_score(model, sales_train, y, scoring=\"neg_mean_squared_error\", cv =KFold(10, shuffle=True, random_state=random_state)))\n",
    "    return(rmse)\n",
    "\n",
    "def RegionError(region, data):\n",
    "    d = data[data[region] == 1][[\"StoreID\",\"NumberOfActualSales\",\"NumberOfSales\"]].groupby([\"StoreID\"]).agg(\"sum\")\n",
    "    res = abs(d[\"NumberOfActualSales\"]-d[\"NumberOfSales\"]).agg(\"sum\")\n",
    "    return res / d[\"NumberOfActualSales\"].agg(\"sum\")\n",
    "\n",
    "def q(col, quant, f):\n",
    "    t = sales[col].quantile(quant)\n",
    "    print(f'col {col} at {quant}-th quantile => {t}')\n",
    "    sales.loc[f(sales[col], t), col] = t\n",
    "    \n",
    "def getFilterRegion(cluster, data):\n",
    "    filterRegion = data[cluster[0]] == 1\n",
    "    for region in cluster[1:]:\n",
    "        filterRegion = ((filterRegion) | (data[region]==1))\n",
    "    return filterRegion\n",
    "\n",
    "def Fit(cluster, train, test):\n",
    "    train_region_label= train.loc[getFilterRegion(cluster,train)]\n",
    "    test_region_label= test.loc[getFilterRegion(cluster,test)] \n",
    "    train_region_label.shape , test_region_label.shape\n",
    "    train_x_region_label_step1 = train_region_label.drop(columns=['NumberOfSales','NumberOfCustomers'])\n",
    "    test_x_region_label_step1 = test_region_label.drop(columns=['NumberOfSales','NumberOfCustomers'])\n",
    "    train_y_region_label_step1 = pd.DataFrame(data = train_region_label['NumberOfCustomers'])\n",
    "    test_y_region_label_step1 = pd.DataFrame(data = test_region_label['NumberOfCustomers']) \n",
    "    \n",
    "    '''result = stepwise_selection(train_x_region_label_step1, train_y_region_label_step1)\n",
    "    print('resulting features:')\n",
    "    print(result)\n",
    "    \n",
    "    train_x_region_label_step1 = train_x_region_label_step1[result]\n",
    "    test_x_region_label_step1 = test_x_region_label_step1[result]\n",
    "    train_x_region_label_step1'''\n",
    "    \n",
    "    train_x_region_label_step1 = PolynomialFeatures(interaction_only=True).fit_transform(train_x_region_label_step1).astype(int)\n",
    "    test_x_region_label_step1 = PolynomialFeatures(interaction_only=True).fit_transform(test_x_region_label_step1).astype(int)\n",
    "    train_x_region_label_step1 = pd.DataFrame(train_x_region_label_step1)\n",
    "    test_x_region_label_step1 = pd.DataFrame(test_x_region_label_step1)\n",
    "        \n",
    "    model_simple = RandomForestRegressor()\n",
    "    model_simple.fit(train_x_region_label_step1, train_y_region_label_step1)\n",
    "    yp = model_simple.predict(test_x_region_label_step1) #yp=predicted customers del test\n",
    "\n",
    "    # compute R2 for train and using crossvalidation\n",
    "    r2_simple_train = r2_score(test_y_region_label_step1,yp)\n",
    "    r2_xval_simple =  r2_cv(model_simple, test_x_region_label_step1, test_y_region_label_step1)\n",
    "\n",
    "    # compute RMSE for train and using crossvalidation\n",
    "    rmse_simple_train = mean_squared_error(test_y_region_label_step1,yp,multioutput='raw_values')\n",
    "    rmse_xval_simple =  rmse_cv(model_simple, test_x_region_label_step1,test_y_region_label_step1)\n",
    "    \n",
    "    train_x_step2 = train.drop(columns=['NumberOfSales'])\n",
    "    train_y_step2 = pd.DataFrame(data = train['NumberOfSales'])\n",
    "    test_x_region_label_step2 = test_region_label.drop(columns=['NumberOfSales','NumberOfCustomers'])\n",
    "    test_x_region_label_step2['NumberOfCustomers']= yp\n",
    "    test_y_region_label_step2 = pd.DataFrame(data = test_region_label['NumberOfSales']) \n",
    "    train_x_step2 = train_x_step2[['NumberOfCustomers','Region_AreaKM2','HasPromotions','IsHoliday','Region_GDP',*cluster,\"StoreID\"]]\n",
    "    test_x_region_label_step2 = test_x_region_label_step2[['NumberOfCustomers','Region_AreaKM2','HasPromotions','IsHoliday','Region_GDP', *cluster, \"StoreID\"]]\n",
    "    model_simple_step2 = RandomForestRegressor()\n",
    "    model_simple_step2.fit(train_x_step2, train_y_step2)\n",
    "    yp2 = model_simple_step2.predict(test_x_region_label_step2) #yp2= le sales predette alla fine\n",
    "    # compute R2 for train and using crossvalidation\n",
    "    r2_simple_train = r2_score(test_y_region_label_step2,yp2)\n",
    "    r2_xval_simple =  r2_cv(model_simple, test_x_region_label_step2, test_y_region_label_step2)\n",
    "\n",
    "    # compute RMSE for train and using crossvalidation\n",
    "    rmse_simple_train = mean_squared_error(test_y_region_label_step2, yp2, multioutput='raw_values')\n",
    "    rmse_xval_simple =  rmse_cv(model_simple, test_x_region_label_step2, test_y_region_label_step2)\n",
    "    print(\"Linear Regression\")\n",
    "    print(\"==================================================\")\n",
    "    print(\"\\t                  Train R2=%.3f\"%(r2_simple_train))\n",
    "    print(\"\\t10-fold Crossvalidation R2=%.3f\"%(r2_xval_simple.mean()))\n",
    "    print(\"\\t                  Train RMSE=%.3f\"%(rmse_simple_train))\n",
    "    print(\"\\t10-fold Crossvalidation RMSE=%.3f\"%(rmse_xval_simple.mean()))\n",
    "    check = pd.DataFrame(test_y_region_label_step2)\n",
    "    check[\"NumberOfActualSales\"] = test_y_region_label_step2[[\"NumberOfSales\"]]\n",
    "    check[\"NumberOfSales\"] = yp2\n",
    "    check[\"StoreID\"] = test_x_region_label_step2[[\"StoreID\"]]\n",
    "    for region_label in cluster:\n",
    "        index = (test_x_region_label_step2[region_label]==1).tolist()\n",
    "        print(index[0:5])\n",
    "        print(check[0:5])\n",
    "        check2 = check[index]\n",
    "        check2[region_label]=1\n",
    "        print(RegionError(region_label, check2))\n",
    "\n",
    "def stepwise_selection(X, y, \n",
    "                       initial_list=[], \n",
    "                       threshold_in=0.01, \n",
    "                       threshold_out = 0.05, \n",
    "                       verbose=True):\n",
    "    \"\"\" Perform a forward-backward feature selection \n",
    "    based on p-value from statsmodels.api.OLS\n",
    "    Arguments:\n",
    "        X - pandas.DataFrame with candidate features\n",
    "        y - list-like with the target\n",
    "        initial_list - list of features to start with (column names of X)\n",
    "        threshold_in - include a feature if its p-value < threshold_in\n",
    "        threshold_out - exclude a feature if its p-value > threshold_out\n",
    "        verbose - whether to print the sequence of inclusions and exclusions\n",
    "    Returns: list of selected features \n",
    "    Always set threshold_in < threshold_out to avoid infinite looping.\n",
    "    See https://en.wikipedia.org/wiki/Stepwise_regression for the details\n",
    "    \"\"\"\n",
    "    included = list(initial_list)\n",
    "    while True:\n",
    "        changed=False\n",
    "        # forward step\n",
    "        excluded = list(set(X.columns)-set(included))\n",
    "        new_pval = pd.Series(index=excluded)\n",
    "        for new_column in excluded:\n",
    "            model = sm.OLS(y, sm.add_constant(pd.DataFrame( X.astype(float)[included+[new_column]]))).fit()\n",
    "            new_pval[new_column] = model.pvalues[new_column]\n",
    "        best_pval = new_pval.min()\n",
    "        if best_pval < threshold_in:\n",
    "            best_feature = new_pval.argmin()\n",
    "            included.append(best_feature)\n",
    "            changed=True\n",
    "            if verbose:\n",
    "                print('Add  {:30} with p-value {:.6}'.format(best_feature, best_pval))\n",
    "\n",
    "        # backward step\n",
    "        model = sm.OLS(y, sm.add_constant(pd.DataFrame( X.astype(float)[included]))).fit()\n",
    "        # use all coefs except intercept\n",
    "        pvalues = model.pvalues.iloc[1:]\n",
    "        worst_pval = pvalues.max() # null if pvalues is empty\n",
    "        if worst_pval > threshold_out:\n",
    "            changed=True\n",
    "            worst_feature = pvalues.argmax()\n",
    "            included.remove(worst_feature)\n",
    "            if verbose:\n",
    "                print('Drop {:30} with p-value {:.6}'.format(worst_feature, worst_pval))\n",
    "        if not changed:\n",
    "            break\n",
    "    return included"
   ]
  },
  {
   "cell_type": "code",
   "execution_count": null,
   "metadata": {},
   "outputs": [],
   "source": []
  },
  {
   "cell_type": "markdown",
   "metadata": {},
   "source": [
    "# Read input data"
   ]
  },
  {
   "cell_type": "code",
   "execution_count": 3,
   "metadata": {},
   "outputs": [],
   "source": [
    "#reading the notebook\n",
    "sales = sales_string_date=pd.read_csv('train.csv')\n",
    "\n",
    "#Removing tuples where stores are closed\n",
    "sales = sales[sales['IsOpen'] == 1]\n",
    "\n",
    "#converting to string columns that are labels\n",
    "for el in [\"StoreID\", \"Region\"]:\n",
    "    sales[el] = sales[el].apply(lambda x : str(x))"
   ]
  },
  {
   "cell_type": "code",
   "execution_count": 4,
   "metadata": {},
   "outputs": [],
   "source": [
    "avgSalesForStoreID = sales\n",
    "avgSalesForStoreID = avgSalesForStoreID.groupby('StoreID', as_index=False)['NumberOfSales'].mean()\n",
    "avgSalesForStoreID = avgSalesForStoreID.rename(index=str, columns={\"NumberOfSales\": \"AvgSales\"})\n",
    "avgCustomersForStoreID = sales\n",
    "avgCustomersForStoreID = avgCustomersForStoreID.groupby('StoreID', as_index=False)['NumberOfCustomers'].mean()\n",
    "avgCustomersForStoreID = avgCustomersForStoreID.rename(index=str, columns={\"NumberOfCustomers\": \"AvgCustomers\"})\n",
    "\n",
    "varSalesForStoreID = sales\n",
    "varSalesForStoreID = varSalesForStoreID.groupby('StoreID', as_index=False)['NumberOfSales'].var()\n",
    "varSalesForStoreID = varSalesForStoreID.rename(index=str, columns={\"NumberOfSales\": \"VarSales\"})\n",
    "varCustomersForStoreID = sales\n",
    "varCustomersForStoreID = varCustomersForStoreID.groupby('StoreID', as_index=False)['NumberOfCustomers'].var()\n",
    "varCustomersForStoreID = varCustomersForStoreID.rename(index=str, columns={\"NumberOfCustomers\": \"VarCustomers\"})"
   ]
  },
  {
   "cell_type": "markdown",
   "metadata": {},
   "source": [
    "varSalesForStoreID.head(5)"
   ]
  },
  {
   "cell_type": "markdown",
   "metadata": {},
   "source": [
    "avgCustomersForStoreID.head(5)"
   ]
  },
  {
   "cell_type": "code",
   "execution_count": 5,
   "metadata": {},
   "outputs": [],
   "source": [
    "sales = sales.merge(avgSalesForStoreID, left_on='StoreID', right_on='StoreID')\n",
    "sales = sales.merge(avgCustomersForStoreID, left_on='StoreID', right_on='StoreID')\n",
    "sales = sales.merge(varSalesForStoreID, left_on='StoreID', right_on='StoreID')\n",
    "sales = sales.merge(varCustomersForStoreID, left_on='StoreID', right_on='StoreID')"
   ]
  },
  {
   "cell_type": "code",
   "execution_count": null,
   "metadata": {},
   "outputs": [],
   "source": []
  },
  {
   "cell_type": "markdown",
   "metadata": {},
   "source": [
    "# Imputation of Missing Values"
   ]
  },
  {
   "cell_type": "code",
   "execution_count": 6,
   "metadata": {
    "scrolled": true
   },
   "outputs": [],
   "source": [
    "unknown_per_columns = sales.isnull().sum()"
   ]
  },
  {
   "cell_type": "markdown",
   "metadata": {},
   "source": [
    "We see that Max_Gust_SpeedKm_h has 409947 missing values. We decided not to impute it.\n",
    "Let's start with imputation of \"Events\""
   ]
  },
  {
   "cell_type": "code",
   "execution_count": 7,
   "metadata": {
    "scrolled": true
   },
   "outputs": [
    {
     "data": {
      "text/html": [
       "<div>\n",
       "<style scoped>\n",
       "    .dataframe tbody tr th:only-of-type {\n",
       "        vertical-align: middle;\n",
       "    }\n",
       "\n",
       "    .dataframe tbody tr th {\n",
       "        vertical-align: top;\n",
       "    }\n",
       "\n",
       "    .dataframe thead th {\n",
       "        text-align: right;\n",
       "    }\n",
       "</style>\n",
       "<table border=\"1\" class=\"dataframe\">\n",
       "  <thead>\n",
       "    <tr style=\"text-align: right;\">\n",
       "      <th></th>\n",
       "      <th>IsHoliday</th>\n",
       "      <th>IsOpen</th>\n",
       "      <th>HasPromotions</th>\n",
       "      <th>NearestCompetitor</th>\n",
       "      <th>NumberOfCustomers</th>\n",
       "      <th>NumberOfSales</th>\n",
       "      <th>Region_AreaKM2</th>\n",
       "      <th>Region_GDP</th>\n",
       "      <th>Region_PopulationK</th>\n",
       "      <th>CloudCover</th>\n",
       "      <th>...</th>\n",
       "      <th>Min_Humidity</th>\n",
       "      <th>Min_Sea_Level_PressurehPa</th>\n",
       "      <th>Min_TemperatureC</th>\n",
       "      <th>Min_VisibilitykM</th>\n",
       "      <th>Precipitationmm</th>\n",
       "      <th>WindDirDegrees</th>\n",
       "      <th>AvgSales</th>\n",
       "      <th>AvgCustomers</th>\n",
       "      <th>VarSales</th>\n",
       "      <th>VarCustomers</th>\n",
       "    </tr>\n",
       "  </thead>\n",
       "  <tbody>\n",
       "    <tr>\n",
       "      <th>count</th>\n",
       "      <td>103661.000000</td>\n",
       "      <td>103661.0</td>\n",
       "      <td>103661.000000</td>\n",
       "      <td>103661.000000</td>\n",
       "      <td>103661.000000</td>\n",
       "      <td>103661.000000</td>\n",
       "      <td>103661.000000</td>\n",
       "      <td>103661.000000</td>\n",
       "      <td>103661.000000</td>\n",
       "      <td>80397.000000</td>\n",
       "      <td>...</td>\n",
       "      <td>103661.000000</td>\n",
       "      <td>103661.000000</td>\n",
       "      <td>103661.000000</td>\n",
       "      <td>94779.000000</td>\n",
       "      <td>103661.000000</td>\n",
       "      <td>103661.000000</td>\n",
       "      <td>103661.000000</td>\n",
       "      <td>103661.000000</td>\n",
       "      <td>1.036610e+05</td>\n",
       "      <td>103661.000000</td>\n",
       "    </tr>\n",
       "    <tr>\n",
       "      <th>mean</th>\n",
       "      <td>0.001042</td>\n",
       "      <td>1.0</td>\n",
       "      <td>0.459179</td>\n",
       "      <td>8601.390619</td>\n",
       "      <td>314.641910</td>\n",
       "      <td>4893.577276</td>\n",
       "      <td>11435.271770</td>\n",
       "      <td>13711.770926</td>\n",
       "      <td>3467.389500</td>\n",
       "      <td>4.989340</td>\n",
       "      <td>...</td>\n",
       "      <td>40.196747</td>\n",
       "      <td>1015.171096</td>\n",
       "      <td>6.551538</td>\n",
       "      <td>10.586121</td>\n",
       "      <td>0.003920</td>\n",
       "      <td>134.812292</td>\n",
       "      <td>4851.216067</td>\n",
       "      <td>310.100579</td>\n",
       "      <td>1.979150e+06</td>\n",
       "      <td>4694.211696</td>\n",
       "    </tr>\n",
       "    <tr>\n",
       "      <th>std</th>\n",
       "      <td>0.032261</td>\n",
       "      <td>0.0</td>\n",
       "      <td>0.498333</td>\n",
       "      <td>12222.596970</td>\n",
       "      <td>159.283348</td>\n",
       "      <td>2238.517426</td>\n",
       "      <td>8284.862826</td>\n",
       "      <td>2736.202628</td>\n",
       "      <td>2694.401824</td>\n",
       "      <td>2.233223</td>\n",
       "      <td>...</td>\n",
       "      <td>18.033663</td>\n",
       "      <td>7.151478</td>\n",
       "      <td>6.591203</td>\n",
       "      <td>6.138289</td>\n",
       "      <td>0.087722</td>\n",
       "      <td>103.812782</td>\n",
       "      <td>1693.353086</td>\n",
       "      <td>140.462058</td>\n",
       "      <td>1.491872e+06</td>\n",
       "      <td>4934.423950</td>\n",
       "    </tr>\n",
       "    <tr>\n",
       "      <th>min</th>\n",
       "      <td>0.000000</td>\n",
       "      <td>1.0</td>\n",
       "      <td>0.000000</td>\n",
       "      <td>47.000000</td>\n",
       "      <td>0.000000</td>\n",
       "      <td>0.000000</td>\n",
       "      <td>344.000000</td>\n",
       "      <td>9893.000000</td>\n",
       "      <td>816.000000</td>\n",
       "      <td>0.000000</td>\n",
       "      <td>...</td>\n",
       "      <td>10.000000</td>\n",
       "      <td>991.000000</td>\n",
       "      <td>-12.000000</td>\n",
       "      <td>0.000000</td>\n",
       "      <td>0.000000</td>\n",
       "      <td>-1.000000</td>\n",
       "      <td>1912.614876</td>\n",
       "      <td>101.323967</td>\n",
       "      <td>1.523182e+05</td>\n",
       "      <td>444.811707</td>\n",
       "    </tr>\n",
       "    <tr>\n",
       "      <th>25%</th>\n",
       "      <td>0.000000</td>\n",
       "      <td>1.0</td>\n",
       "      <td>0.000000</td>\n",
       "      <td>1116.000000</td>\n",
       "      <td>215.000000</td>\n",
       "      <td>3375.000000</td>\n",
       "      <td>7215.000000</td>\n",
       "      <td>11849.000000</td>\n",
       "      <td>1293.000000</td>\n",
       "      <td>3.000000</td>\n",
       "      <td>...</td>\n",
       "      <td>25.000000</td>\n",
       "      <td>1011.000000</td>\n",
       "      <td>1.000000</td>\n",
       "      <td>8.000000</td>\n",
       "      <td>0.000000</td>\n",
       "      <td>46.000000</td>\n",
       "      <td>3700.220758</td>\n",
       "      <td>223.575456</td>\n",
       "      <td>1.001561e+06</td>\n",
       "      <td>1884.743134</td>\n",
       "    </tr>\n",
       "    <tr>\n",
       "      <th>50%</th>\n",
       "      <td>0.000000</td>\n",
       "      <td>1.0</td>\n",
       "      <td>0.000000</td>\n",
       "      <td>3614.000000</td>\n",
       "      <td>280.000000</td>\n",
       "      <td>4461.000000</td>\n",
       "      <td>9337.000000</td>\n",
       "      <td>13155.000000</td>\n",
       "      <td>1892.000000</td>\n",
       "      <td>5.000000</td>\n",
       "      <td>...</td>\n",
       "      <td>37.000000</td>\n",
       "      <td>1015.000000</td>\n",
       "      <td>7.000000</td>\n",
       "      <td>10.000000</td>\n",
       "      <td>0.000000</td>\n",
       "      <td>124.000000</td>\n",
       "      <td>4590.642504</td>\n",
       "      <td>277.903814</td>\n",
       "      <td>1.584087e+06</td>\n",
       "      <td>3163.854664</td>\n",
       "    </tr>\n",
       "    <tr>\n",
       "      <th>75%</th>\n",
       "      <td>0.000000</td>\n",
       "      <td>1.0</td>\n",
       "      <td>1.000000</td>\n",
       "      <td>10593.000000</td>\n",
       "      <td>372.000000</td>\n",
       "      <td>5918.000000</td>\n",
       "      <td>15566.000000</td>\n",
       "      <td>15931.000000</td>\n",
       "      <td>5727.000000</td>\n",
       "      <td>7.000000</td>\n",
       "      <td>...</td>\n",
       "      <td>52.000000</td>\n",
       "      <td>1020.000000</td>\n",
       "      <td>12.000000</td>\n",
       "      <td>10.000000</td>\n",
       "      <td>0.000000</td>\n",
       "      <td>216.000000</td>\n",
       "      <td>5633.943615</td>\n",
       "      <td>356.488449</td>\n",
       "      <td>2.440508e+06</td>\n",
       "      <td>5723.645218</td>\n",
       "    </tr>\n",
       "    <tr>\n",
       "      <th>max</th>\n",
       "      <td>1.000000</td>\n",
       "      <td>1.0</td>\n",
       "      <td>1.000000</td>\n",
       "      <td>85070.000000</td>\n",
       "      <td>2206.000000</td>\n",
       "      <td>26641.000000</td>\n",
       "      <td>32221.000000</td>\n",
       "      <td>23931.000000</td>\n",
       "      <td>8146.000000</td>\n",
       "      <td>8.000000</td>\n",
       "      <td>...</td>\n",
       "      <td>100.000000</td>\n",
       "      <td>1038.000000</td>\n",
       "      <td>23.000000</td>\n",
       "      <td>31.000000</td>\n",
       "      <td>4.060000</td>\n",
       "      <td>360.000000</td>\n",
       "      <td>15312.660626</td>\n",
       "      <td>1376.987654</td>\n",
       "      <td>1.224990e+07</td>\n",
       "      <td>55404.978192</td>\n",
       "    </tr>\n",
       "  </tbody>\n",
       "</table>\n",
       "<p>8 rows × 34 columns</p>\n",
       "</div>"
      ],
      "text/plain": [
       "           IsHoliday    IsOpen  HasPromotions  NearestCompetitor  \\\n",
       "count  103661.000000  103661.0  103661.000000      103661.000000   \n",
       "mean        0.001042       1.0       0.459179        8601.390619   \n",
       "std         0.032261       0.0       0.498333       12222.596970   \n",
       "min         0.000000       1.0       0.000000          47.000000   \n",
       "25%         0.000000       1.0       0.000000        1116.000000   \n",
       "50%         0.000000       1.0       0.000000        3614.000000   \n",
       "75%         0.000000       1.0       1.000000       10593.000000   \n",
       "max         1.000000       1.0       1.000000       85070.000000   \n",
       "\n",
       "       NumberOfCustomers  NumberOfSales  Region_AreaKM2     Region_GDP  \\\n",
       "count      103661.000000  103661.000000   103661.000000  103661.000000   \n",
       "mean          314.641910    4893.577276    11435.271770   13711.770926   \n",
       "std           159.283348    2238.517426     8284.862826    2736.202628   \n",
       "min             0.000000       0.000000      344.000000    9893.000000   \n",
       "25%           215.000000    3375.000000     7215.000000   11849.000000   \n",
       "50%           280.000000    4461.000000     9337.000000   13155.000000   \n",
       "75%           372.000000    5918.000000    15566.000000   15931.000000   \n",
       "max          2206.000000   26641.000000    32221.000000   23931.000000   \n",
       "\n",
       "       Region_PopulationK    CloudCover      ...         Min_Humidity  \\\n",
       "count       103661.000000  80397.000000      ...        103661.000000   \n",
       "mean          3467.389500      4.989340      ...            40.196747   \n",
       "std           2694.401824      2.233223      ...            18.033663   \n",
       "min            816.000000      0.000000      ...            10.000000   \n",
       "25%           1293.000000      3.000000      ...            25.000000   \n",
       "50%           1892.000000      5.000000      ...            37.000000   \n",
       "75%           5727.000000      7.000000      ...            52.000000   \n",
       "max           8146.000000      8.000000      ...           100.000000   \n",
       "\n",
       "       Min_Sea_Level_PressurehPa  Min_TemperatureC  Min_VisibilitykM  \\\n",
       "count              103661.000000     103661.000000      94779.000000   \n",
       "mean                 1015.171096          6.551538         10.586121   \n",
       "std                     7.151478          6.591203          6.138289   \n",
       "min                   991.000000        -12.000000          0.000000   \n",
       "25%                  1011.000000          1.000000          8.000000   \n",
       "50%                  1015.000000          7.000000         10.000000   \n",
       "75%                  1020.000000         12.000000         10.000000   \n",
       "max                  1038.000000         23.000000         31.000000   \n",
       "\n",
       "       Precipitationmm  WindDirDegrees       AvgSales   AvgCustomers  \\\n",
       "count    103661.000000   103661.000000  103661.000000  103661.000000   \n",
       "mean          0.003920      134.812292    4851.216067     310.100579   \n",
       "std           0.087722      103.812782    1693.353086     140.462058   \n",
       "min           0.000000       -1.000000    1912.614876     101.323967   \n",
       "25%           0.000000       46.000000    3700.220758     223.575456   \n",
       "50%           0.000000      124.000000    4590.642504     277.903814   \n",
       "75%           0.000000      216.000000    5633.943615     356.488449   \n",
       "max           4.060000      360.000000   15312.660626    1376.987654   \n",
       "\n",
       "           VarSales   VarCustomers  \n",
       "count  1.036610e+05  103661.000000  \n",
       "mean   1.979150e+06    4694.211696  \n",
       "std    1.491872e+06    4934.423950  \n",
       "min    1.523182e+05     444.811707  \n",
       "25%    1.001561e+06    1884.743134  \n",
       "50%    1.584087e+06    3163.854664  \n",
       "75%    2.440508e+06    5723.645218  \n",
       "max    1.224990e+07   55404.978192  \n",
       "\n",
       "[8 rows x 34 columns]"
      ]
     },
     "execution_count": 7,
     "metadata": {},
     "output_type": "execute_result"
    }
   ],
   "source": [
    "null_Events = sales['Events'].isnull()\n",
    "event_missing = sales[null_Events]\n",
    "event_missing.describe()"
   ]
  },
  {
   "cell_type": "code",
   "execution_count": 8,
   "metadata": {},
   "outputs": [
    {
     "data": {
      "text/plain": [
       "Rain                           171189\n",
       "Fog                             56323\n",
       "Fog-Rain                        41804\n",
       "Rain-Thunderstorm               18116\n",
       "Rain-Snow                       14576\n",
       "Snow                            12541\n",
       "Fog-Rain-Thunderstorm            6545\n",
       "Fog-Snow                         2469\n",
       "Fog-Rain-Snow                    2364\n",
       "Thunderstorm                     1298\n",
       "Rain-Hail                        1148\n",
       "Rain-Snow-Hail                    513\n",
       "Fog-Rain-Snow-Hail                231\n",
       "Rain-Snow-Hail-Thunderstorm       193\n",
       "Fog-Rain-Hail-Thunderstorm        178\n",
       "Fog-Snow-Hail                     169\n",
       "Fog-Rain-Hail                     168\n",
       "Fog-Thunderstorm                  157\n",
       "Snow-Hail                         134\n",
       "Rain-Snow-Thunderstorm            131\n",
       "Rain-Hail-Thunderstorm             50\n",
       "Name: Events, dtype: int64"
      ]
     },
     "execution_count": 8,
     "metadata": {},
     "output_type": "execute_result"
    }
   ],
   "source": [
    "sales['Events'].value_counts()"
   ]
  },
  {
   "cell_type": "markdown",
   "metadata": {},
   "source": [
    "By this, we discovered that when Event is null the weather is good, from the fact that Precipitationmm mean is almost 0.\n",
    "Furthermore, all the labels of Events are related to bad weather, that means that when no precipitation occurs the label is null.\n",
    "We will impute Event by replacing the missing values with \"Not Specified\" (later)."
   ]
  },
  {
   "cell_type": "markdown",
   "metadata": {},
   "source": [
    "Now we impute \"CloudCover\", making a distinction when it misses along with Events and when it misses on its own."
   ]
  },
  {
   "cell_type": "code",
   "execution_count": 9,
   "metadata": {},
   "outputs": [
    {
     "data": {
      "text/plain": [
       "((103661, 40), (103661, 40), (23264, 40))"
      ]
     },
     "execution_count": 9,
     "metadata": {},
     "output_type": "execute_result"
    }
   ],
   "source": [
    "null_Events = sales['Events'].isnull()\n",
    "null_CloudCover = sales['CloudCover'].isnull()\n",
    "cloudcover_missing = sales[(null_Events)]\n",
    "null_Events = sales['Events'].isnull()\n",
    "event_missing = sales[null_Events]\n",
    "event_cc_missing = sales[null_CloudCover & null_Events]\n",
    "cloudcover_missing.shape, event_missing.shape, event_cc_missing.shape "
   ]
  },
  {
   "cell_type": "markdown",
   "metadata": {},
   "source": [
    "There are 28k tuples where both \"Events\" and \"CloudCover\" are missing, that means that the weather should be good.\n",
    "for the remaining (41k-28k) (i.e. where \"Events\" is not null!) tuples we impute the CloudCoverage."
   ]
  },
  {
   "cell_type": "code",
   "execution_count": 10,
   "metadata": {},
   "outputs": [],
   "source": [
    "event_notmissing_cc_missing = sales[null_CloudCover & ~null_Events]\n",
    "#computing mean where CloudCover is not null\n",
    "mean_CC = sales[\"CloudCover\"].mean()\n",
    "event_notmissing_cc_missing[\"CloudCover\"] = event_notmissing_cc_missing[\"CloudCover\"].fillna(mean_CC)\n",
    "sales = pd.concat([sales[~null_CloudCover | null_Events], event_notmissing_cc_missing])"
   ]
  },
  {
   "cell_type": "markdown",
   "metadata": {},
   "source": [
    "Then, we impute the remaining rows with CloudCover missing"
   ]
  },
  {
   "cell_type": "code",
   "execution_count": 11,
   "metadata": {},
   "outputs": [],
   "source": [
    "null_Events = sales['Events'].isnull()\n",
    "CloudyButNotEvent = sales[null_Events]\n",
    "#there are some tuples with no Events but with the attribute CloudCover"
   ]
  },
  {
   "cell_type": "code",
   "execution_count": 12,
   "metadata": {},
   "outputs": [],
   "source": [
    "null_cloudCover = sales[sales['CloudCover'].isnull()]\n",
    "mean_cloudCover = sales[\"CloudCover\"].mean()\n",
    "null_cloudCover[\"CloudCover\"] = null_cloudCover[\"CloudCover\"].fillna(mean_cloudCover)\n",
    "\n",
    "sales = pd.concat([sales[~sales['CloudCover'].isnull()], null_cloudCover])"
   ]
  },
  {
   "cell_type": "markdown",
   "metadata": {},
   "source": [
    "Now, we impute min,max,mean_VisibilityKm. "
   ]
  },
  {
   "cell_type": "code",
   "execution_count": 13,
   "metadata": {},
   "outputs": [
    {
     "data": {
      "text/plain": [
       "Max_VisibilityKm     424700\n",
       "Mean_VisibilityKm    424700\n",
       "Min_VisibilitykM     424700\n",
       "dtype: int64"
      ]
     },
     "execution_count": 13,
     "metadata": {},
     "output_type": "execute_result"
    }
   ],
   "source": [
    "# checking if are all the same rows where visibility data are missing => yes, they are\n",
    "sales[[\"Max_VisibilityKm\", \"Mean_VisibilityKm\", \"Min_VisibilitykM\"]].count()"
   ]
  },
  {
   "cell_type": "code",
   "execution_count": 14,
   "metadata": {},
   "outputs": [],
   "source": [
    "null_visibility = sales[sales['Max_VisibilityKm'].isnull()]\n",
    "mean_vis_max = sales[\"Max_VisibilityKm\"].mean()\n",
    "mean_vis_mean = sales[\"Mean_VisibilityKm\"].mean()\n",
    "mean_vis_min = sales[\"Min_VisibilitykM\"].mean()\n",
    "\n",
    "null_visibility[\"Max_VisibilityKm\"] = null_visibility[\"Max_VisibilityKm\"].fillna(mean_vis_max)\n",
    "null_visibility[\"Mean_VisibilityKm\"] = null_visibility[\"Mean_VisibilityKm\"].fillna(mean_vis_mean)\n",
    "null_visibility[\"Min_VisibilitykM\"] = null_visibility[\"Min_VisibilitykM\"].fillna(mean_vis_min)\n",
    "\n",
    "sales = pd.concat([sales[~sales['Max_VisibilityKm'].isnull()], null_visibility])"
   ]
  },
  {
   "cell_type": "markdown",
   "metadata": {},
   "source": [
    "Finally, we impute \"Events\"."
   ]
  },
  {
   "cell_type": "code",
   "execution_count": 15,
   "metadata": {},
   "outputs": [],
   "source": [
    "sales=sales.replace(np.nan,'NotSpecified', regex=True)\n"
   ]
  },
  {
   "cell_type": "markdown",
   "metadata": {},
   "source": [
    "# Dealing with outliers"
   ]
  },
  {
   "cell_type": "code",
   "execution_count": 16,
   "metadata": {
    "scrolled": false
   },
   "outputs": [
    {
     "data": {
      "text/plain": [
       "VarSales                      7.918360e+06\n",
       "NearestCompetitor             5.919900e+04\n",
       "Region_AreaKM2                3.222100e+04\n",
       "Region_GDP                    2.393100e+04\n",
       "VarCustomers                  2.173057e+04\n",
       "NumberOfSales                 1.246000e+04\n",
       "AvgSales                      1.064338e+04\n",
       "Region_PopulationK            8.146000e+03\n",
       "Max_Sea_Level_PressurehPa     1.036000e+03\n",
       "Mean_Sea_Level_PressurehPa    1.033000e+03\n",
       "Min_Sea_Level_PressurehPa     1.031000e+03\n",
       "NumberOfCustomers             8.860000e+02\n",
       "AvgCustomers                  8.367792e+02\n",
       "WindDirDegrees                3.530000e+02\n",
       "Max_Humidity                  1.000000e+02\n",
       "Mean_Humidity                 9.900000e+01\n",
       "Min_Humidity                  9.300000e+01\n",
       "Max_Wind_SpeedKm_h            5.000000e+01\n",
       "Max_TemperatureC              3.200000e+01\n",
       "Max_VisibilityKm              3.100000e+01\n",
       "Name: 0.99, dtype: float64"
      ]
     },
     "execution_count": 16,
     "metadata": {},
     "output_type": "execute_result"
    }
   ],
   "source": [
    "sales.quantile(.99).sort_values(ascending=False).head(20)"
   ]
  },
  {
   "cell_type": "code",
   "execution_count": 17,
   "metadata": {
    "scrolled": false
   },
   "outputs": [
    {
     "name": "stdout",
     "output_type": "stream",
     "text": [
      "col NearestCompetitor at 0.95-th quantile => 31794.0\n",
      "col Precipitationmm at 0.95-th quantile => 5.08\n",
      "col Max_Wind_SpeedKm_h at 0.95-th quantile => 37.0\n",
      "col Max_Wind_SpeedKm_h at 0.03-th quantile => 11.0\n",
      "col Max_TemperatureC at 0.95-th quantile => 28.0\n",
      "col Max_TemperatureC at 0.03-th quantile => 0.0\n",
      "col Min_TemperatureC at 0.95-th quantile => 16.0\n",
      "col Min_TemperatureC at 0.03-th quantile => -5.0\n",
      "col Mean_Dew_PointC at 0.95-th quantile => 15.0\n",
      "col Mean_Dew_PointC at 0.05-th quantile => -3.0\n",
      "col Mean_Dew_PointC at 0.95-th quantile => 15.0\n",
      "col Mean_Dew_PointC at 0.05-th quantile => -3.0\n",
      "col Mean_Humidity at 0.95-th quantile => 94.0\n",
      "col Mean_Humidity at 0.03-th quantile => 49.0\n",
      "col Min_VisibilitykM at 0.95-th quantile => 11.0\n",
      "col Min_Humidity at 0.03-th quantile => 19.0\n",
      "col Min_Humidity at 0.95-th quantile => 84.0\n",
      "col Mean_Wind_SpeedKm_h at 0.95-th quantile => 23.0\n",
      "col Mean_TemperatureC at 0.03-th quantile => -2.0\n",
      "col Mean_TemperatureC at 0.95-th quantile => 21.0\n",
      "col Mean_VisibilityKm at 0.05-th quantile => 5.0\n",
      "col Mean_VisibilityKm at 0.95-th quantile => 23.0\n"
     ]
    }
   ],
   "source": [
    "q(\"NearestCompetitor\", .95, lambda x, y: x > y)\n",
    "q(\"Precipitationmm\", .95, lambda x, y: x > y)\n",
    "q(\"Max_Wind_SpeedKm_h\", .95, lambda x,y: x > y)\n",
    "q(\"Max_Wind_SpeedKm_h\", .03, lambda x,y: x < y)\n",
    "q(\"Max_TemperatureC\", .95, lambda x,y: x > y)\n",
    "q(\"Max_TemperatureC\", .03, lambda x,y: x < y)\n",
    "q(\"Min_TemperatureC\", .95, lambda x,y: x > y)\n",
    "q(\"Min_TemperatureC\", .03, lambda x,y: x < y)\n",
    "q(\"Mean_Dew_PointC\", .95, lambda x,y: x > y)\n",
    "q(\"Mean_Dew_PointC\", .05, lambda x,y: x < y)\n",
    "q(\"Mean_Dew_PointC\", .95, lambda x,y: x > y)\n",
    "q(\"Mean_Dew_PointC\", .05, lambda x,y: x < y)\n",
    "q(\"Mean_Humidity\", .95, lambda x,y: x > y)\n",
    "q(\"Mean_Humidity\", .03, lambda x,y: x < y)\n",
    "q(\"Min_VisibilitykM\", .95, lambda x,y: x > y)\n",
    "q(\"Min_Humidity\", .03, lambda x,y: x < y)\n",
    "q(\"Min_Humidity\", .95, lambda x,y: x > y)\n",
    "q(\"Mean_Wind_SpeedKm_h\", .95, lambda x,y: x > y)\n",
    "q(\"Mean_TemperatureC\", .03, lambda x,y: x < y)\n",
    "q(\"Mean_TemperatureC\", .95, lambda x,y: x > y)\n",
    "q(\"Mean_VisibilityKm\", .05, lambda x,y: x < y)\n",
    "q(\"Mean_VisibilityKm\", .95, lambda x,y: x > y)"
   ]
  },
  {
   "cell_type": "code",
   "execution_count": 18,
   "metadata": {},
   "outputs": [],
   "source": [
    "#Min_Sea_Level_PressurehPa  ->dropparla\n",
    "#WindDirDegrees             -> inutile secondo me -> o la si categorizza in nord sud est ovest e la si fa con One Hot Encoding\n",
    "#x=\"\"\n",
    "#sales[x].describe()\n",
    "#sales[x].quantile(.01)\n",
    "#sales[x].quantile(.95)"
   ]
  },
  {
   "cell_type": "markdown",
   "metadata": {},
   "source": [
    "# Normalization of Numerical Variables"
   ]
  },
  {
   "cell_type": "code",
   "execution_count": 19,
   "metadata": {},
   "outputs": [
    {
     "data": {
      "text/plain": [
       "Text(0.5,1,'')"
      ]
     },
     "execution_count": 19,
     "metadata": {},
     "output_type": "execute_result"
    },
    {
     "data": {
      "image/png": "[encoded data removed]",
      "text/plain": [
       "<matplotlib.figure.Figure at 0x24b37ceac18>"
      ]
     },
     "metadata": {},
     "output_type": "display_data"
    }
   ],
   "source": [
    "# take the numerical features\n",
    "numeric_feats = sales.dtypes[sales.dtypes != \"object\"].index\n",
    "# compute the skewness but only for non missing variables (we already imputed them but just in case ...)\n",
    "skewed_feats = sales[numeric_feats].apply(lambda x: skew(x.dropna()))\n",
    "\n",
    "skewness = pd.DataFrame({\"Variable\":skewed_feats.index, \"Skewness\":skewed_feats.data})\n",
    "# select the variables with a skewness above a certain threshold\n",
    "skewness = skewness.sort_values('Skewness', ascending=[0])\n",
    "f, ax = plt.subplots(figsize=(8,6))\n",
    "plt.xticks(rotation='90')\n",
    "sns.barplot(x=skewness['Variable'], y=skewness['Skewness'])\n",
    "plt.ylim(0,25)\n",
    "plt.xlabel('Numerical Variables', fontsize=15)\n",
    "plt.ylabel('Skewness', fontsize=15)\n",
    "plt.title('', fontsize=15)"
   ]
  },
  {
   "cell_type": "markdown",
   "metadata": {},
   "source": [
    "# NORMALIZATION HERE"
   ]
  },
  {
   "cell_type": "code",
   "execution_count": 20,
   "metadata": {},
   "outputs": [],
   "source": [
    "skewed_feats = skewed_feats[skewed_feats > 0.75]\n",
    "skewed_feats = skewed_feats.drop(['IsHoliday','NumberOfCustomers', \"NumberOfSales\"])\n",
    "sales[skewed_feats.index] = np.log1p(sales[skewed_feats.index])"
   ]
  },
  {
   "cell_type": "code",
   "execution_count": null,
   "metadata": {},
   "outputs": [],
   "source": []
  },
  {
   "cell_type": "markdown",
   "metadata": {},
   "source": [
    "# Correlation Analysis and Feature Selection"
   ]
  },
  {
   "cell_type": "markdown",
   "metadata": {},
   "source": [
    "By analyzing the correlation, we see that the following variables do not add any additional information. \n",
    "Max_Dew_PointC, Min_Dew_PointC, Max_Sea_Level_PressurehPa, Mean_Sea_Level_PressurehPa, Max_Gust_SpeedKm_h\n",
    "Finally, we drop 'NumberOfCustomers' because is not present in the submission dataset."
   ]
  },
  {
   "cell_type": "code",
   "execution_count": 21,
   "metadata": {},
   "outputs": [
    {
     "data": {
      "text/plain": [
       "(433958, 35)"
      ]
     },
     "execution_count": 21,
     "metadata": {},
     "output_type": "execute_result"
    }
   ],
   "source": [
    "sales=sales.drop(columns=['Max_Dew_PointC','Min_Dew_PointC','Max_Sea_Level_PressurehPa','Mean_Sea_Level_PressurehPa','Max_Gust_SpeedKm_h'])\n",
    "sales.shape"
   ]
  },
  {
   "cell_type": "markdown",
   "metadata": {},
   "source": [
    "Drop of the row where IsOpen==0"
   ]
  },
  {
   "cell_type": "code",
   "execution_count": 22,
   "metadata": {},
   "outputs": [],
   "source": [
    "sales=sales[sales['IsOpen']==1]\n",
    "sales=sales.drop(columns=['IsOpen'])"
   ]
  },
  {
   "cell_type": "code",
   "execution_count": 23,
   "metadata": {},
   "outputs": [
    {
     "data": {
      "text/plain": [
       "dtype('float64')"
      ]
     },
     "execution_count": 23,
     "metadata": {},
     "output_type": "execute_result"
    }
   ],
   "source": [
    "sales['VarCustomers'].dtype"
   ]
  },
  {
   "cell_type": "code",
   "execution_count": null,
   "metadata": {},
   "outputs": [],
   "source": []
  },
  {
   "cell_type": "markdown",
   "metadata": {},
   "source": [
    "### Convert Date to weekday label"
   ]
  },
  {
   "cell_type": "code",
   "execution_count": 24,
   "metadata": {},
   "outputs": [],
   "source": [
    "sales[\"Date\"] = sales[\"Date\"].apply(toDate)\n",
    "sales[\"Day_Of_Week\"] = sales[\"Date\"].astype(\"datetime64\").dt.weekday_name"
   ]
  },
  {
   "cell_type": "markdown",
   "metadata": {},
   "source": [
    "avgSalesForStoreIDForDayOfWeek = sales\n",
    "avgSalesForStoreIDForDayOfWeek = avgSalesForStoreIDForDayOfWeek.groupby(['StoreID','Day_Of_Week'], as_index=False)['NumberOfSales'].mean()\n",
    "avgSalesForStoreIDForDayOfWeek = avgSalesForStoreIDForDayOfWeek.rename(index=str, columns={\"NumberOfSales\": \"AvgSalesForDayOfWeek\"})\n",
    "\n",
    "varSalesForStoreIDForDayOfWeek = sales\n",
    "varSalesForStoreIDForDayOfWeek = varSalesForStoreIDForDayOfWeek.groupby(['StoreID','Day_Of_Week'], as_index=False)['NumberOfSales'].var()\n",
    "varSalesForStoreIDForDayOfWeek = varSalesForStoreIDForDayOfWeek.rename(index=str, columns={\"NumberOfSales\": \"VarSalesForDayOfWeek\"})\n",
    "\n",
    "avgCustomersForStoreIDForDayOfWeek = sales\n",
    "avgCustomersForStoreIDForDayOfWeek = avgCustomersForStoreIDForDayOfWeek.groupby(['StoreID','Day_Of_Week'], as_index=False)['NumberOfCustomers'].mean()\n",
    "avgCustomersForStoreIDForDayOfWeek = avgCustomersForStoreIDForDayOfWeek.rename(index=str, columns={\"NumberOfCustomers\": \"AvgCustomersForDayOfWeek\"})\n",
    "\n",
    "varCustomersorStoreIDForDayOfWeek = sales\n",
    "varCustomersorStoreIDForDayOfWeek = varCustomersorStoreIDForDayOfWeek.groupby(['StoreID','Day_Of_Week'], as_index=False)['NumberOfCustomers'].var()\n",
    "varCustomersorStoreIDForDayOfWeek = varCustomersorStoreIDForDayOfWeek.rename(index=str, columns={\"NumberOfCustomers\": \"VarCustomersForDayOfWeek\"})"
   ]
  },
  {
   "cell_type": "markdown",
   "metadata": {},
   "source": [
    "sales = sales.merge(avgSalesForStoreIDForDayOfWeek, left_on=['StoreID','Day_Of_Week'], right_on = ['StoreID','Day_Of_Week'])\n",
    "sales = sales.merge(varSalesForStoreIDForDayOfWeek, left_on=['StoreID','Day_Of_Week'], right_on = ['StoreID','Day_Of_Week'])\n"
   ]
  },
  {
   "cell_type": "code",
   "execution_count": 25,
   "metadata": {},
   "outputs": [
    {
     "data": {
      "text/html": [
       "<div>\n",
       "<style scoped>\n",
       "    .dataframe tbody tr th:only-of-type {\n",
       "        vertical-align: middle;\n",
       "    }\n",
       "\n",
       "    .dataframe tbody tr th {\n",
       "        vertical-align: top;\n",
       "    }\n",
       "\n",
       "    .dataframe thead th {\n",
       "        text-align: right;\n",
       "    }\n",
       "</style>\n",
       "<table border=\"1\" class=\"dataframe\">\n",
       "  <thead>\n",
       "    <tr style=\"text-align: right;\">\n",
       "      <th></th>\n",
       "      <th>StoreID</th>\n",
       "      <th>Date</th>\n",
       "      <th>IsHoliday</th>\n",
       "      <th>HasPromotions</th>\n",
       "      <th>StoreType</th>\n",
       "      <th>AssortmentType</th>\n",
       "      <th>NearestCompetitor</th>\n",
       "      <th>Region</th>\n",
       "      <th>NumberOfCustomers</th>\n",
       "      <th>NumberOfSales</th>\n",
       "      <th>...</th>\n",
       "      <th>Min_Sea_Level_PressurehPa</th>\n",
       "      <th>Min_TemperatureC</th>\n",
       "      <th>Min_VisibilitykM</th>\n",
       "      <th>Precipitationmm</th>\n",
       "      <th>WindDirDegrees</th>\n",
       "      <th>AvgSales</th>\n",
       "      <th>AvgCustomers</th>\n",
       "      <th>VarSales</th>\n",
       "      <th>VarCustomers</th>\n",
       "      <th>Day_Of_Week</th>\n",
       "    </tr>\n",
       "  </thead>\n",
       "  <tbody>\n",
       "    <tr>\n",
       "      <th>0</th>\n",
       "      <td>1000</td>\n",
       "      <td>2016-03-01</td>\n",
       "      <td>0</td>\n",
       "      <td>0</td>\n",
       "      <td>Hyper Market</td>\n",
       "      <td>General</td>\n",
       "      <td>5.78996</td>\n",
       "      <td>7</td>\n",
       "      <td>495</td>\n",
       "      <td>5676</td>\n",
       "      <td>...</td>\n",
       "      <td>1029</td>\n",
       "      <td>1.0</td>\n",
       "      <td>6.0</td>\n",
       "      <td>0.0</td>\n",
       "      <td>23</td>\n",
       "      <td>8.945912</td>\n",
       "      <td>6.43578</td>\n",
       "      <td>15.089256</td>\n",
       "      <td>9.24852</td>\n",
       "      <td>Tuesday</td>\n",
       "    </tr>\n",
       "    <tr>\n",
       "      <th>1</th>\n",
       "      <td>1000</td>\n",
       "      <td>2016-03-02</td>\n",
       "      <td>0</td>\n",
       "      <td>0</td>\n",
       "      <td>Hyper Market</td>\n",
       "      <td>General</td>\n",
       "      <td>5.78996</td>\n",
       "      <td>7</td>\n",
       "      <td>608</td>\n",
       "      <td>8111</td>\n",
       "      <td>...</td>\n",
       "      <td>1025</td>\n",
       "      <td>1.0</td>\n",
       "      <td>10.0</td>\n",
       "      <td>0.0</td>\n",
       "      <td>56</td>\n",
       "      <td>8.945912</td>\n",
       "      <td>6.43578</td>\n",
       "      <td>15.089256</td>\n",
       "      <td>9.24852</td>\n",
       "      <td>Wednesday</td>\n",
       "    </tr>\n",
       "    <tr>\n",
       "      <th>2</th>\n",
       "      <td>1000</td>\n",
       "      <td>2016-03-04</td>\n",
       "      <td>0</td>\n",
       "      <td>0</td>\n",
       "      <td>Hyper Market</td>\n",
       "      <td>General</td>\n",
       "      <td>5.78996</td>\n",
       "      <td>7</td>\n",
       "      <td>665</td>\n",
       "      <td>8300</td>\n",
       "      <td>...</td>\n",
       "      <td>1023</td>\n",
       "      <td>2.0</td>\n",
       "      <td>8.0</td>\n",
       "      <td>0.0</td>\n",
       "      <td>22</td>\n",
       "      <td>8.945912</td>\n",
       "      <td>6.43578</td>\n",
       "      <td>15.089256</td>\n",
       "      <td>9.24852</td>\n",
       "      <td>Friday</td>\n",
       "    </tr>\n",
       "    <tr>\n",
       "      <th>3</th>\n",
       "      <td>1000</td>\n",
       "      <td>2016-03-05</td>\n",
       "      <td>0</td>\n",
       "      <td>0</td>\n",
       "      <td>Hyper Market</td>\n",
       "      <td>General</td>\n",
       "      <td>5.78996</td>\n",
       "      <td>7</td>\n",
       "      <td>630</td>\n",
       "      <td>7154</td>\n",
       "      <td>...</td>\n",
       "      <td>1022</td>\n",
       "      <td>-1.0</td>\n",
       "      <td>10.0</td>\n",
       "      <td>0.0</td>\n",
       "      <td>108</td>\n",
       "      <td>8.945912</td>\n",
       "      <td>6.43578</td>\n",
       "      <td>15.089256</td>\n",
       "      <td>9.24852</td>\n",
       "      <td>Saturday</td>\n",
       "    </tr>\n",
       "    <tr>\n",
       "      <th>7</th>\n",
       "      <td>1000</td>\n",
       "      <td>2016-03-10</td>\n",
       "      <td>0</td>\n",
       "      <td>1</td>\n",
       "      <td>Hyper Market</td>\n",
       "      <td>General</td>\n",
       "      <td>5.78996</td>\n",
       "      <td>7</td>\n",
       "      <td>617</td>\n",
       "      <td>7823</td>\n",
       "      <td>...</td>\n",
       "      <td>999</td>\n",
       "      <td>6.0</td>\n",
       "      <td>7.0</td>\n",
       "      <td>0.0</td>\n",
       "      <td>54</td>\n",
       "      <td>8.945912</td>\n",
       "      <td>6.43578</td>\n",
       "      <td>15.089256</td>\n",
       "      <td>9.24852</td>\n",
       "      <td>Thursday</td>\n",
       "    </tr>\n",
       "  </tbody>\n",
       "</table>\n",
       "<p>5 rows × 35 columns</p>\n",
       "</div>"
      ],
      "text/plain": [
       "  StoreID        Date  IsHoliday  HasPromotions     StoreType AssortmentType  \\\n",
       "0    1000  2016-03-01          0              0  Hyper Market        General   \n",
       "1    1000  2016-03-02          0              0  Hyper Market        General   \n",
       "2    1000  2016-03-04          0              0  Hyper Market        General   \n",
       "3    1000  2016-03-05          0              0  Hyper Market        General   \n",
       "7    1000  2016-03-10          0              1  Hyper Market        General   \n",
       "\n",
       "   NearestCompetitor Region  NumberOfCustomers  NumberOfSales     ...       \\\n",
       "0            5.78996      7                495           5676     ...        \n",
       "1            5.78996      7                608           8111     ...        \n",
       "2            5.78996      7                665           8300     ...        \n",
       "3            5.78996      7                630           7154     ...        \n",
       "7            5.78996      7                617           7823     ...        \n",
       "\n",
       "   Min_Sea_Level_PressurehPa  Min_TemperatureC  Min_VisibilitykM  \\\n",
       "0                       1029               1.0               6.0   \n",
       "1                       1025               1.0              10.0   \n",
       "2                       1023               2.0               8.0   \n",
       "3                       1022              -1.0              10.0   \n",
       "7                        999               6.0               7.0   \n",
       "\n",
       "   Precipitationmm WindDirDegrees  AvgSales  AvgCustomers   VarSales  \\\n",
       "0              0.0             23  8.945912       6.43578  15.089256   \n",
       "1              0.0             56  8.945912       6.43578  15.089256   \n",
       "2              0.0             22  8.945912       6.43578  15.089256   \n",
       "3              0.0            108  8.945912       6.43578  15.089256   \n",
       "7              0.0             54  8.945912       6.43578  15.089256   \n",
       "\n",
       "   VarCustomers  Day_Of_Week  \n",
       "0       9.24852      Tuesday  \n",
       "1       9.24852    Wednesday  \n",
       "2       9.24852       Friday  \n",
       "3       9.24852     Saturday  \n",
       "7       9.24852     Thursday  \n",
       "\n",
       "[5 rows x 35 columns]"
      ]
     },
     "execution_count": 25,
     "metadata": {},
     "output_type": "execute_result"
    }
   ],
   "source": [
    "sales.head(5)"
   ]
  },
  {
   "cell_type": "markdown",
   "metadata": {},
   "source": [
    "# Dummify variables"
   ]
  },
  {
   "cell_type": "code",
   "execution_count": 26,
   "metadata": {},
   "outputs": [],
   "source": [
    "sales = pd.get_dummies(sales, columns=['StoreType','Events','AssortmentType', \"Region\", \"Day_Of_Week\"])"
   ]
  },
  {
   "cell_type": "markdown",
   "metadata": {},
   "source": [
    "# Train and Test Definition\n",
    "Separating the last 2 months, and use those as a test set and comparing the total of the predicted values."
   ]
  },
  {
   "cell_type": "code",
   "execution_count": null,
   "metadata": {},
   "outputs": [],
   "source": [
    "\n"
   ]
  },
  {
   "cell_type": "code",
   "execution_count": 27,
   "metadata": {},
   "outputs": [],
   "source": [
    "start_train = date(2018, 1, 1)\n",
    "train = sales[sales[\"Date\"] - start_train < timedelta(0)]\n",
    "test = sales[sales[\"Date\"] - start_train > timedelta(days=1)]\n",
    "train = train.drop(columns=[\"Date\"])\n",
    "test = test.drop(columns=[\"Date\"])"
   ]
  },
  {
   "cell_type": "markdown",
   "metadata": {},
   "source": [
    "# First try: MultipleLinear Regression for Region 3"
   ]
  },
  {
   "cell_type": "code",
   "execution_count": 28,
   "metadata": {},
   "outputs": [],
   "source": [
    "Region_labels = [['Region_0', 'Region_1', 'Region_5', 'Region_8', 'Region_10' ], ['Region_2'], ['Region_3'], ['Region_6', 'Region_9']]\n",
    "# dubbio 4,7"
   ]
  },
  {
   "cell_type": "code",
   "execution_count": 29,
   "metadata": {},
   "outputs": [],
   "source": [
    "from sklearn.linear_model import Perceptron\n",
    "from sklearn.preprocessing import PolynomialFeatures\n",
    "import numpy as np\n",
    "\n"
   ]
  },
  {
   "cell_type": "markdown",
   "metadata": {},
   "source": [
    "We start by predicting the number of customers for Region 3"
   ]
  },
  {
   "cell_type": "markdown",
   "metadata": {},
   "source": [
    "Region_label = \"Region_3\"\n",
    "train_region3= train.loc[train[Region_label] == 1]\n",
    "test_region3= test.loc[test[Region_label] == 1] \n",
    "train_region3.shape , test_region3.shape"
   ]
  },
  {
   "cell_type": "code",
   "execution_count": 30,
   "metadata": {
    "scrolled": false
   },
   "outputs": [
    {
     "name": "stdout",
     "output_type": "stream",
     "text": [
      "['Region_0', 'Region_1', 'Region_5', 'Region_8', 'Region_10']\n",
      "Linear Regression\n",
      "==================================================\n",
      "\t                  Train R2=0.604\n",
      "\t10-fold Crossvalidation R2=0.787\n",
      "\t                  Train RMSE=1337853.907\n",
      "\t10-fold Crossvalidation RMSE=842.178\n",
      "[True, True, True, True, True]\n",
      "      NumberOfSales  NumberOfActualSales StoreID\n",
      "1061    2078.914286                 1822    1001\n",
      "1062    3277.009524                 4083    1001\n",
      "1063    2857.016667                 3769    1001\n",
      "1064    4527.500000                 4500    1001\n",
      "1065    4434.030000                 4210    1001\n",
      "0.1536897969431262\n",
      "[False, False, False, False, False]\n",
      "      NumberOfSales  NumberOfActualSales StoreID\n",
      "1061    2078.914286                 1822    1001\n",
      "1062    3277.009524                 4083    1001\n",
      "1063    2857.016667                 3769    1001\n",
      "1064    4527.500000                 4500    1001\n",
      "1065    4434.030000                 4210    1001\n",
      "0.13027161845628255\n",
      "[False, False, False, False, False]\n",
      "      NumberOfSales  NumberOfActualSales StoreID\n",
      "1061    2078.914286                 1822    1001\n",
      "1062    3277.009524                 4083    1001\n",
      "1063    2857.016667                 3769    1001\n",
      "1064    4527.500000                 4500    1001\n",
      "1065    4434.030000                 4210    1001\n",
      "0.13163140869245613\n",
      "[False, False, False, False, False]\n",
      "      NumberOfSales  NumberOfActualSales StoreID\n",
      "1061    2078.914286                 1822    1001\n",
      "1062    3277.009524                 4083    1001\n",
      "1063    2857.016667                 3769    1001\n",
      "1064    4527.500000                 4500    1001\n",
      "1065    4434.030000                 4210    1001\n",
      "0.1349912934791856\n",
      "[False, False, False, False, False]\n",
      "      NumberOfSales  NumberOfActualSales StoreID\n",
      "1061    2078.914286                 1822    1001\n",
      "1062    3277.009524                 4083    1001\n",
      "1063    2857.016667                 3769    1001\n",
      "1064    4527.500000                 4500    1001\n",
      "1065    4434.030000                 4210    1001\n",
      "0.14963168941466942\n",
      "['Region_2']\n",
      "Linear Regression\n",
      "==================================================\n",
      "\t                  Train R2=0.699\n",
      "\t10-fold Crossvalidation R2=0.752\n",
      "\t                  Train RMSE=1098943.999\n",
      "\t10-fold Crossvalidation RMSE=945.266\n",
      "[True, True, True, True, True]\n",
      "      NumberOfSales  NumberOfActualSales StoreID\n",
      "2721    4166.370000                 3597    1004\n",
      "2722    4348.000000                 3653    1004\n",
      "2723    5719.150000                 6278    1004\n",
      "2724    5295.566667                 5318    1004\n",
      "2725    3894.835714                 4861    1004\n",
      "0.09303051471903331\n",
      "['Region_3']\n",
      "Linear Regression\n",
      "==================================================\n",
      "\t                  Train R2=0.798\n",
      "\t10-fold Crossvalidation R2=0.884\n",
      "\t                  Train RMSE=1275245.933\n",
      "\t10-fold Crossvalidation RMSE=845.532\n",
      "[True, True, True, True, True]\n",
      "      NumberOfSales  NumberOfActualSales StoreID\n",
      "1668    4157.723333                 2498    1002\n",
      "1669    4139.112222                 5054    1002\n",
      "1670    4112.238571                 4517    1002\n",
      "1671    6553.840000                 6224    1002\n",
      "1672    5824.950000                 5619    1002\n",
      "0.10211626675460524\n",
      "['Region_6', 'Region_9']\n",
      "Linear Regression\n",
      "==================================================\n",
      "\t                  Train R2=0.621\n",
      "\t10-fold Crossvalidation R2=0.735\n",
      "\t                  Train RMSE=1342517.436\n",
      "\t10-fold Crossvalidation RMSE=974.010\n",
      "[False, False, False, False, False]\n",
      "      NumberOfSales  NumberOfActualSales StoreID\n",
      "3322       4237.685                 3221    1005\n",
      "3323       5603.900                 4923    1005\n",
      "3324       3051.200                 2867    1005\n",
      "3325       8479.480                 8043    1005\n",
      "3326       6074.250                 6964    1005\n",
      "0.08395788419417818\n",
      "[True, True, True, True, True]\n",
      "      NumberOfSales  NumberOfActualSales StoreID\n",
      "3322       4237.685                 3221    1005\n",
      "3323       5603.900                 4923    1005\n",
      "3324       3051.200                 2867    1005\n",
      "3325       8479.480                 8043    1005\n",
      "3326       6074.250                 6964    1005\n",
      "0.12695095437699896\n"
     ]
    }
   ],
   "source": [
    "for cluster in Region_labels:\n",
    "    print(cluster)\n",
    "    Fit(cluster,train,test)"
   ]
  },
  {
   "cell_type": "code",
   "execution_count": 31,
   "metadata": {},
   "outputs": [
    {
     "data": {
      "text/plain": [
       "array([['1000', 0, 0, ..., 0, 0, 1],\n",
       "       ['1000', 0, 0, ..., 0, 0, 0],\n",
       "       ['1000', 0, 0, ..., 0, 0, 0],\n",
       "       ...,\n",
       "       ['1737', 0, 1, ..., 0, 1, 0],\n",
       "       ['1738', 0, 1, ..., 0, 1, 0],\n",
       "       ['1746', 0, 1, ..., 1, 0, 0]], dtype=object)"
      ]
     },
     "execution_count": 31,
     "metadata": {},
     "output_type": "execute_result"
    }
   ],
   "source": [
    "np.asarray(test)"
   ]
  },
  {
   "cell_type": "markdown",
   "metadata": {},
   "source": [
    "# STEP 1 : PREDICT THE NUMBER OF CUSTOMERS"
   ]
  },
  {
   "cell_type": "code",
   "execution_count": 32,
   "metadata": {},
   "outputs": [
    {
     "ename": "NameError",
     "evalue": "name 'train_region3' is not defined",
     "output_type": "error",
     "traceback": [
      "\u001b[1;31m---------------------------------------------------------------------------\u001b[0m",
      "\u001b[1;31mNameError\u001b[0m                                 Traceback (most recent call last)",
      "\u001b[1;32m<ipython-input-32-5309574a7a30>\u001b[0m in \u001b[0;36m<module>\u001b[1;34m()\u001b[0m\n\u001b[1;32m----> 1\u001b[1;33m \u001b[0mtrain_x_region3_step1\u001b[0m \u001b[1;33m=\u001b[0m \u001b[0mtrain_region3\u001b[0m\u001b[1;33m.\u001b[0m\u001b[0mdrop\u001b[0m\u001b[1;33m(\u001b[0m\u001b[0mcolumns\u001b[0m\u001b[1;33m=\u001b[0m\u001b[1;33m[\u001b[0m\u001b[1;34m'NumberOfSales'\u001b[0m\u001b[1;33m,\u001b[0m\u001b[1;34m'NumberOfCustomers'\u001b[0m\u001b[1;33m]\u001b[0m\u001b[1;33m)\u001b[0m\u001b[1;33m\u001b[0m\u001b[0m\n\u001b[0m\u001b[0;32m      2\u001b[0m \u001b[0mtest_x_region3_step1\u001b[0m \u001b[1;33m=\u001b[0m \u001b[0mtest_region3\u001b[0m\u001b[1;33m.\u001b[0m\u001b[0mdrop\u001b[0m\u001b[1;33m(\u001b[0m\u001b[0mcolumns\u001b[0m\u001b[1;33m=\u001b[0m\u001b[1;33m[\u001b[0m\u001b[1;34m'NumberOfSales'\u001b[0m\u001b[1;33m,\u001b[0m\u001b[1;34m'NumberOfCustomers'\u001b[0m\u001b[1;33m]\u001b[0m\u001b[1;33m)\u001b[0m\u001b[1;33m\u001b[0m\u001b[0m\n\u001b[0;32m      3\u001b[0m \u001b[1;33m\u001b[0m\u001b[0m\n\u001b[0;32m      4\u001b[0m \u001b[0mtrain_y_region3_step1\u001b[0m \u001b[1;33m=\u001b[0m \u001b[0mpd\u001b[0m\u001b[1;33m.\u001b[0m\u001b[0mDataFrame\u001b[0m\u001b[1;33m(\u001b[0m\u001b[0mdata\u001b[0m \u001b[1;33m=\u001b[0m \u001b[0mtrain_region3\u001b[0m\u001b[1;33m[\u001b[0m\u001b[1;34m'NumberOfCustomers'\u001b[0m\u001b[1;33m]\u001b[0m\u001b[1;33m)\u001b[0m\u001b[1;33m\u001b[0m\u001b[0m\n\u001b[0;32m      5\u001b[0m \u001b[0mtest_y_region3_step1\u001b[0m \u001b[1;33m=\u001b[0m \u001b[0mpd\u001b[0m\u001b[1;33m.\u001b[0m\u001b[0mDataFrame\u001b[0m\u001b[1;33m(\u001b[0m\u001b[0mdata\u001b[0m \u001b[1;33m=\u001b[0m \u001b[0mtest_region3\u001b[0m\u001b[1;33m[\u001b[0m\u001b[1;34m'NumberOfCustomers'\u001b[0m\u001b[1;33m]\u001b[0m\u001b[1;33m)\u001b[0m\u001b[1;33m\u001b[0m\u001b[0m\n",
      "\u001b[1;31mNameError\u001b[0m: name 'train_region3' is not defined"
     ]
    }
   ],
   "source": [
    "train_x_region3_step1 = train_region3.drop(columns=['NumberOfSales','NumberOfCustomers'])\n",
    "test_x_region3_step1 = test_region3.drop(columns=['NumberOfSales','NumberOfCustomers'])\n",
    "\n",
    "train_y_region3_step1 = pd.DataFrame(data = train_region3['NumberOfCustomers'])\n",
    "test_y_region3_step1 = pd.DataFrame(data = test_region3['NumberOfCustomers']) "
   ]
  },
  {
   "cell_type": "markdown",
   "metadata": {},
   "source": [
    "### DecisionTreeRegressor"
   ]
  },
  {
   "cell_type": "code",
   "execution_count": null,
   "metadata": {},
   "outputs": [],
   "source": [
    "model_simple = RandomForestRegressor()\n",
    "model_simple.fit(train_x_region3_step1, train_y_region3_step1)\n",
    "yp = model_simple.predict(test_x_region3_step1) #yp=predicted customers del test\n",
    "\n",
    "# compute R2 for train and using crossvalidation\n",
    "r2_simple_train = r2_score(test_y_region3_step1,yp)\n",
    "r2_xval_simple =  r2_cv(model_simple, test_x_region3_step1, test_y_region3_step1)\n",
    "\n",
    "# compute RMSE for train and using crossvalidation\n",
    "rmse_simple_train = mean_squared_error(test_y_region3_step1,yp,multioutput='raw_values')\n",
    "rmse_xval_simple =  rmse_cv(model_simple, test_x_region3_step1,test_y_region3_step1)\n",
    "\n",
    "print(\"Linear Regression\")\n",
    "print(\"==================================================\")\n",
    "print(\"\\t                  Train R2=%.3f\"%(r2_simple_train))\n",
    "print(\"\\t10-fold Crossvalidation R2=%.3f\"%(r2_xval_simple.mean()))\n",
    "print(\"\\t                  Train RMSE=%.3f\"%(rmse_simple_train))\n",
    "print(\"\\t10-fold Crossvalidation RMSE=%.3f\"%(rmse_xval_simple.mean()))"
   ]
  },
  {
   "cell_type": "code",
   "execution_count": null,
   "metadata": {},
   "outputs": [],
   "source": [
    "check = pd.DataFrame(test_y_region3_step1)\n",
    "check[Region_label] = 1\n",
    "check[\"NumberOfActualSales\"] = test_y_region3_step1[[\"NumberOfCustomers\"]]\n",
    "check[\"NumberOfSales\"] = yp\n",
    "check[\"StoreID\"] = test_x_region3_step1[[\"StoreID\"]]\n",
    "RegionError(Region_label, check)"
   ]
  },
  {
   "cell_type": "markdown",
   "metadata": {},
   "source": [
    "# STEP 2 : PREDICT THE NUMBER OF SALES"
   ]
  },
  {
   "cell_type": "markdown",
   "metadata": {},
   "source": [
    "Train over all the regions"
   ]
  },
  {
   "cell_type": "code",
   "execution_count": null,
   "metadata": {},
   "outputs": [],
   "source": [
    "train_x_step2 = train.drop(columns=['NumberOfSales'])\n",
    "train_y_step2 = pd.DataFrame(data = train['NumberOfSales'])"
   ]
  },
  {
   "cell_type": "markdown",
   "metadata": {},
   "source": [
    "Test still over region 3"
   ]
  },
  {
   "cell_type": "code",
   "execution_count": null,
   "metadata": {},
   "outputs": [],
   "source": [
    "test_x_region3_step2 = test_region3.drop(columns=['NumberOfSales','NumberOfCustomers'])\n",
    "test_x_region3_step2['NumberOfCustomers']= yp\n",
    "test_y_region3_step2 = pd.DataFrame(data = test_region3['NumberOfSales']) "
   ]
  },
  {
   "cell_type": "code",
   "execution_count": null,
   "metadata": {},
   "outputs": [],
   "source": [
    "cols = [\"NumberOfCustomers\"]\n",
    "for n in range(1,32):\n",
    "    break\n",
    "    col = \"PrevDayCustomers_\" + str(n)\n",
    "    test_x_region3_step2[col] = test_x_region3_step2[cols[-1]][1:]\n",
    "    train_x_step2[col] = train_x_step2[cols[-1]][1:]\n",
    "    test_x_region3_step2[col] = test_x_region3_step2[col].shift(-1)\n",
    "    train_x_step2[col] = train_x_step2[col].shift(-1)\n",
    "    train_x_step2 = train_x_step2[:-1]\n",
    "    train_y_step2 = train_y_step2[:-1]\n",
    "    test_x_region3_step2 = test_x_region3_step2[:-1]\n",
    "    test_y_region3_step2 = test_y_region3_step2[:-1]\n",
    "    cols.append(col)\n",
    "\n"
   ]
  },
  {
   "cell_type": "code",
   "execution_count": null,
   "metadata": {},
   "outputs": [],
   "source": [
    "cols"
   ]
  },
  {
   "cell_type": "code",
   "execution_count": null,
   "metadata": {},
   "outputs": [],
   "source": [
    "train_x_step2.shape, train_y_step2.shape, test_x_region3_step2.shape, test_y_region3_step2.shape"
   ]
  },
  {
   "cell_type": "markdown",
   "metadata": {},
   "source": [
    "We keep only the most correlated features with the sales."
   ]
  },
  {
   "cell_type": "code",
   "execution_count": null,
   "metadata": {},
   "outputs": [],
   "source": [
    "selected_features = [*cols,'Region_AreaKM2','HasPromotions','IsHoliday','Region_GDP',Region_label,\"StoreID\"]\n",
    "train_x_step2 = train_x_step2[selected_features]\n",
    "test_x_region3_step2 = test_x_region3_step2[selected_features]"
   ]
  },
  {
   "cell_type": "code",
   "execution_count": null,
   "metadata": {},
   "outputs": [],
   "source": [
    "from sklearn.ensemble import BaggingRegressor, ExtraTreesRegressor\n",
    "model_simple_step2 = ExtraTreesRegressor()\n",
    "model_simple_step2.fit(train_x_step2, train_y_step2)\n",
    "yp2 = model_simple_step2.predict(test_x_region3_step2) #yp2= le sales predette alla fine"
   ]
  },
  {
   "cell_type": "code",
   "execution_count": null,
   "metadata": {},
   "outputs": [],
   "source": [
    "# compute R2 for train and using crossvalidation\n",
    "r2_simple_train = r2_score(test_y_region3_step2,yp2)\n",
    "r2_xval_simple =  r2_cv(model_simple, test_x_region3_step2, test_y_region3_step2)\n",
    "\n",
    "# compute RMSE for train and using crossvalidation\n",
    "rmse_simple_train = mean_squared_error(test_y_region3_step2, yp2, multioutput='raw_values')\n",
    "rmse_xval_simple =  rmse_cv(model_simple, test_x_region3_step2, test_y_region3_step2)\n",
    "\n",
    "print(\"Linear Regression\")\n",
    "print(\"==================================================\")\n",
    "print(\"\\t                  Train R2=%.3f\"%(r2_simple_train))\n",
    "print(\"\\t10-fold Crossvalidation R2=%.3f\"%(r2_xval_simple.mean()))\n",
    "print(\"\\t                  Train RMSE=%.3f\"%(rmse_simple_train))\n",
    "print(\"\\t10-fold Crossvalidation RMSE=%.3f\"%(rmse_xval_simple.mean()))"
   ]
  },
  {
   "cell_type": "code",
   "execution_count": null,
   "metadata": {
    "scrolled": false
   },
   "outputs": [],
   "source": [
    "check = pd.DataFrame(test_y_region3_step2)\n",
    "check[Region_label] = 1\n",
    "check[\"NumberOfActualSales\"] = test_y_region3_step2[[\"NumberOfSales\"]]\n",
    "check[\"NumberOfSales\"] = yp2\n",
    "check[\"StoreID\"] = test_x_region3_step2[[\"StoreID\"]]\n",
    "RegionError(Region_label, check)"
   ]
  },
  {
   "cell_type": "code",
   "execution_count": null,
   "metadata": {
    "scrolled": true
   },
   "outputs": [],
   "source": [
    "sorted(list(zip(train_x_step2.columns.tolist(),model_simple_step2.feature_importances_.tolist())), key= lambda x: x[1], reverse = True)"
   ]
  },
  {
   "cell_type": "code",
   "execution_count": null,
   "metadata": {
    "scrolled": true
   },
   "outputs": [],
   "source": [
    "sorted(list(zip(train_x_region3_step1.columns.tolist(),model_simple.feature_importances_.tolist())), key= lambda x: x[1], reverse = True)"
   ]
  },
  {
   "cell_type": "code",
   "execution_count": null,
   "metadata": {},
   "outputs": [],
   "source": []
  }
 ],
 "metadata": {
  "kernelspec": {
   "display_name": "Python 3",
   "language": "python",
   "name": "python3"
  },
  "language_info": {
   "codemirror_mode": {
    "name": "ipython",
    "version": 3
   },
   "file_extension": ".py",
   "mimetype": "text/x-python",
   "name": "python",
   "nbconvert_exporter": "python",
   "pygments_lexer": "ipython3",
   "version": "3.6.4"
  }
 },
 "nbformat": 4,
 "nbformat_minor": 2
}
